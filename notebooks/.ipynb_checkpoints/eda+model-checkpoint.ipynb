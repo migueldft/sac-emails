{
 "cells": [
  {
   "cell_type": "code",
   "execution_count": null,
   "metadata": {
    "id": "HLDHk2n6rAKV"
   },
   "outputs": [],
   "source": [
    "import pandas as pd\n",
    "import seaborn as sns\n",
    "import numpy as np\n",
    "import matplotlib.pyplot as plt\n",
    "\n",
    "path = '/home/miguel.filho/Documents/rnd-sac-emails/'\n",
    "\n",
    "# path = '/content/gdrive/MyDrive/DataScience/Sac Emails/'\n",
    "# from google.colab import drive\n",
    "# drive.mount('/content/gdrive')"
   ]
  },
  {
   "cell_type": "code",
   "execution_count": null,
   "metadata": {
    "id": "7fTgdoHkrRzK"
   },
   "outputs": [],
   "source": [
    "df = pd.read_parquet(f'{path}/data/poc_sac.parquet')"
   ]
  },
  {
   "cell_type": "code",
   "execution_count": null,
   "metadata": {
    "colab": {
     "base_uri": "https://localhost:8080/",
     "height": 380
    },
    "id": "p2GspqBStYuh",
    "outputId": "ed07f84a-3047-4e9b-b856-5dc2eaeb1626"
   },
   "outputs": [],
   "source": [
    "df.head(3)"
   ]
  },
  {
   "cell_type": "code",
   "execution_count": null,
   "metadata": {
    "colab": {
     "base_uri": "https://localhost:8080/"
    },
    "id": "gxxmhIcEtbPo",
    "outputId": "7aba1b5b-2774-4165-eb2c-9d9627e1ac88"
   },
   "outputs": [],
   "source": [
    "df.info()"
   ]
  },
  {
   "cell_type": "code",
   "execution_count": null,
   "metadata": {
    "id": "MXUjTGJ01xS2"
   },
   "outputs": [],
   "source": [
    "df.created_date = pd.to_datetime(df.created_date)"
   ]
  },
  {
   "cell_type": "code",
   "execution_count": null,
   "metadata": {
    "colab": {
     "base_uri": "https://localhost:8080/"
    },
    "id": "3a0tVRkk1xS3",
    "outputId": "970f8d13-92a6-4dce-d4be-3ccbcacdddbb"
   },
   "outputs": [],
   "source": [
    "df.shape"
   ]
  },
  {
   "cell_type": "markdown",
   "metadata": {
    "heading_collapsed": true,
    "id": "7qEDG7a-8prz"
   },
   "source": [
    "## EDA"
   ]
  },
  {
   "cell_type": "markdown",
   "metadata": {
    "heading_collapsed": true,
    "hidden": true
   },
   "source": [
    "### Message"
   ]
  },
  {
   "cell_type": "code",
   "execution_count": null,
   "metadata": {
    "hidden": true
   },
   "outputs": [],
   "source": [
    "##Remover emails sem mensagem definida\n",
    "df = df[~df['message'].isnull()]\n",
    "df = df.reset_index(drop=True)"
   ]
  },
  {
   "cell_type": "code",
   "execution_count": null,
   "metadata": {
    "hidden": true
   },
   "outputs": [],
   "source": [
    "df['message_size'] = df.message.apply(len)"
   ]
  },
  {
   "cell_type": "code",
   "execution_count": null,
   "metadata": {
    "hidden": true
   },
   "outputs": [],
   "source": [
    "df['message_size'].hist(bins=200)\n",
    "plt.grid(alpha=0)\n",
    "plt.ylabel('Número de frases')\n",
    "plt.xlabel('Número de caracteres')"
   ]
  },
  {
   "cell_type": "code",
   "execution_count": null,
   "metadata": {
    "hidden": true
   },
   "outputs": [],
   "source": [
    "df[df.message_size < 3 * df.message_size.std()]['message_size'].hist(bins=200)"
   ]
  },
  {
   "cell_type": "code",
   "execution_count": null,
   "metadata": {
    "hidden": true
   },
   "outputs": [],
   "source": [
    "df = df[df.message_size < 3 * df.message_size.std()]"
   ]
  },
  {
   "cell_type": "markdown",
   "metadata": {
    "heading_collapsed": true,
    "hidden": true,
    "id": "Gx9rlAQ01xTB"
   },
   "source": [
    "### Customer Voice"
   ]
  },
  {
   "cell_type": "code",
   "execution_count": null,
   "metadata": {
    "colab": {
     "base_uri": "https://localhost:8080/"
    },
    "hidden": true,
    "id": "GT5gHB_G1xTB",
    "outputId": "383fec5c-19ee-4a82-e771-0d5256f7e755"
   },
   "outputs": [],
   "source": [
    "df.sac_customer_voice.value_counts().head(30)"
   ]
  },
  {
   "cell_type": "code",
   "execution_count": null,
   "metadata": {
    "hidden": true
   },
   "outputs": [],
   "source": [
    "group_cv = [\n",
    "    'Ainda não devolvi meu produto e quero saber sobre processo de troca / devolução',\n",
    "    'Estou arrependido, quero cancelar/trocar o produto',\n",
    "    'Ainda não recebi meu produto e quero saber sobre processo de cancelamento'\n",
    "]\n",
    "df['customer_voice_grouped'] = df['sac_customer_voice'].apply(lambda x: 'Arrependimento' if x in group_cv else x)\n"
   ]
  },
  {
   "cell_type": "markdown",
   "metadata": {
    "heading_collapsed": true,
    "hidden": true,
    "id": "3cQQecCsVaRY"
   },
   "source": [
    "### Problem"
   ]
  },
  {
   "cell_type": "code",
   "execution_count": null,
   "metadata": {
    "colab": {
     "base_uri": "https://localhost:8080/"
    },
    "hidden": true,
    "id": "zDxfPB2rVZh-",
    "outputId": "2396005f-947f-46db-9d45-36a63d17469d"
   },
   "outputs": [],
   "source": [
    "print('{:.1%} dos emails criados tem o problema definido'.format(df.count()['problem']/df.shape[0]))"
   ]
  },
  {
   "cell_type": "code",
   "execution_count": null,
   "metadata": {
    "hidden": true
   },
   "outputs": [],
   "source": [
    "df['problem'].value_counts()[:30]"
   ]
  },
  {
   "cell_type": "code",
   "execution_count": null,
   "metadata": {
    "hidden": true
   },
   "outputs": [],
   "source": [
    "problems_list = [\n",
    "  'Problemas com a entrega',\n",
    "  'Outros',\n",
    "  'Trocar, cancelar ou devolver',\n",
    "  'Andamento da minha troca',\n",
    "  'Vales e Reembolso',\n",
    "  'Dúvida sobre o andamento do meu pedido',\n",
    "  'Vales e reembolsos',\n",
    "  'Pagamento',\n",
    "  'Cadastro',\n",
    "  'Nota Fiscal',\n",
    "  'Promoções'\n",
    "]\n",
    "df['problem'] = df['problem'].apply(lambda x: x if x in problems_list else np.nan)\n",
    "df['problem'].replace('Vales e reembolsos', 'Vales e Reembolso', inplace=True)"
   ]
  },
  {
   "cell_type": "code",
   "execution_count": null,
   "metadata": {
    "colab": {
     "base_uri": "https://localhost:8080/",
     "height": 391
    },
    "hidden": true,
    "id": "91UbO0iGyO_z",
    "outputId": "c95c6f9b-b748-4f98-c11e-4284761b6c59"
   },
   "outputs": [],
   "source": [
    "df['problem'].value_counts().plot(kind='barh', figsize=(14,6))"
   ]
  },
  {
   "cell_type": "code",
   "execution_count": null,
   "metadata": {
    "colab": {
     "base_uri": "https://localhost:8080/",
     "height": 380
    },
    "hidden": true,
    "id": "ssI8ns7jQtyG",
    "outputId": "63515a8d-1a50-44ff-a91c-e74dffa9cb36"
   },
   "outputs": [],
   "source": [
    "pv1 = df.pivot_table(values='sac_subject', index='sac_category', columns='problem', aggfunc='count')\n",
    "pv1.div(pv1.sum())"
   ]
  },
  {
   "cell_type": "code",
   "execution_count": null,
   "metadata": {
    "colab": {
     "base_uri": "https://localhost:8080/",
     "height": 863
    },
    "hidden": true,
    "id": "f377RP1ZUIJ4",
    "outputId": "583a64f5-5d26-49d4-f09d-f9c296ad9d95"
   },
   "outputs": [],
   "source": [
    "pv2 = df.pivot_table(values='sac_subject', index='sac_customer_voice', columns='problem', aggfunc='count', margins=True).sort_values(by='All', ascending=False).iloc[1:, :-1]\n",
    "# pv2\n",
    "pv2.div(pv2.sum(axis=1),axis=0)[:20]"
   ]
  },
  {
   "cell_type": "code",
   "execution_count": null,
   "metadata": {
    "colab": {
     "base_uri": "https://localhost:8080/",
     "height": 990
    },
    "hidden": true,
    "id": "0j0AbCb9pXgH",
    "outputId": "b8d02d1b-652f-472e-85a4-ef7a2a5c6061"
   },
   "outputs": [],
   "source": [
    "df.pivot_table(values='sac_subject', index=['problem', 'sac_customer_voice'], aggfunc='count').reset_index()\\\n",
    ".sort_values('sac_subject', ascending = False).groupby('problem').head(3).sort_values(by=['problem', 'sac_subject'], ascending=[True, False])"
   ]
  },
  {
   "cell_type": "markdown",
   "metadata": {
    "heading_collapsed": true,
    "hidden": true,
    "id": "EXSsFuqOXCEc"
   },
   "source": [
    "### Detail"
   ]
  },
  {
   "cell_type": "code",
   "execution_count": null,
   "metadata": {
    "colab": {
     "base_uri": "https://localhost:8080/"
    },
    "hidden": true,
    "id": "mOS3WwU8XG0x",
    "outputId": "1a82f897-dfea-4f55-9a17-20e5a2c6f92b"
   },
   "outputs": [],
   "source": [
    "print('{:.1%} dos emails criados tem o Detalhe definido'.format(df.count()['detail']/df.shape[0]))"
   ]
  },
  {
   "cell_type": "markdown",
   "metadata": {
    "heading_collapsed": true,
    "hidden": true,
    "id": "SlgTNq-c1xTF"
   },
   "source": [
    "### Created Date"
   ]
  },
  {
   "cell_type": "code",
   "execution_count": null,
   "metadata": {
    "hidden": true
   },
   "outputs": [],
   "source": [
    "df.groupby(['created_date']).count()['message'].plot()"
   ]
  },
  {
   "cell_type": "markdown",
   "metadata": {
    "heading_collapsed": true,
    "id": "RCy7zzbH8d8n"
   },
   "source": [
    "## Model"
   ]
  },
  {
   "cell_type": "markdown",
   "metadata": {
    "heading_collapsed": true,
    "hidden": true,
    "id": "kM1pvqCp6FP4"
   },
   "source": [
    "### Imports"
   ]
  },
  {
   "cell_type": "code",
   "execution_count": null,
   "metadata": {
    "hidden": true,
    "id": "MSA0J_wK1xTG"
   },
   "outputs": [],
   "source": [
    "# !pip install unidecode\n",
    "# # !pip install imblearn\n",
    "# # !pip install scikit-learn\n",
    "# !pip install catboost\n",
    "# # !pip install spacy\n",
    "# # nltk.download('rslp')\n",
    "\n",
    "# !pip install spacy -U\n",
    "# !python -m spacy download pt_core_news_md"
   ]
  },
  {
   "cell_type": "code",
   "execution_count": null,
   "metadata": {
    "colab": {
     "base_uri": "https://localhost:8080/"
    },
    "hidden": true,
    "id": "EWHzyZnMUHwY",
    "outputId": "769b1854-466b-410b-de8d-84d1097b3494"
   },
   "outputs": [],
   "source": [
    "import re\n",
    "import nltk\n",
    "nltk.download('stopwords')\n",
    "from nltk.corpus import stopwords\n",
    "from unidecode import unidecode\n",
    "import pickle\n",
    "import spacy\n",
    "\n",
    "from collections import Counter\n",
    "from sklearn.preprocessing import LabelEncoder\n",
    "from sklearn.feature_extraction.text import TfidfVectorizer\n",
    "from sklearn.model_selection import train_test_split\n",
    "from sklearn.metrics import confusion_matrix, classification_report, f1_score\n",
    "from sklearn.ensemble import RandomForestClassifier\n",
    "from catboost import CatBoostClassifier, Pool"
   ]
  },
  {
   "cell_type": "markdown",
   "metadata": {
    "heading_collapsed": true,
    "hidden": true,
    "id": "hGMA2jjf4r7I"
   },
   "source": [
    "### Definindo as Classes"
   ]
  },
  {
   "cell_type": "code",
   "execution_count": null,
   "metadata": {
    "hidden": true,
    "id": "EW3frHuu4y5e"
   },
   "outputs": [],
   "source": [
    "# vozes que queremos responder\n",
    "cv_list = [\n",
    "  'Ainda não devolvi meu produto e quero saber sobre processo de troca / devolução',\n",
    "  'Estou arrependido, quero cancelar/trocar o produto',\n",
    "  'Como utilizar o cupom/vale',\n",
    "  'Qual o prazo para devolução do valor que paguei?',\n",
    "  # 'Como me cadastrar/como comprar?',\n",
    "  'Como recupero meu login e senha de acesso'\n",
    "]"
   ]
  },
  {
   "cell_type": "code",
   "execution_count": null,
   "metadata": {
    "hidden": true,
    "id": "yTIYxxjt9TwN"
   },
   "outputs": [],
   "source": [
    "df['cv'] = df.apply(lambda x: x['sac_customer_voice'] if x['sac_customer_voice'] in (cv_list) else 'Outro', axis=1)"
   ]
  },
  {
   "cell_type": "code",
   "execution_count": null,
   "metadata": {
    "colab": {
     "base_uri": "https://localhost:8080/"
    },
    "hidden": true,
    "id": "dTlW1M0CllL2",
    "outputId": "3f997738-4a07-41b5-99e8-b2c67704bd39"
   },
   "outputs": [],
   "source": [
    "df['cv'].value_counts(normalize=True)"
   ]
  },
  {
   "cell_type": "code",
   "execution_count": null,
   "metadata": {
    "hidden": true,
    "id": "WAv5nOobzgFa"
   },
   "outputs": [],
   "source": [
    "# problemas que estao bem relacionados as vozes que queremos classificar \n",
    "filter_problems = [\n",
    "  'Andamento da minha troca',\n",
    "  # 'Outros',\n",
    "  'Cadastro',\n",
    "  'Promoções',\n",
    "  'Trocar, cancelar ou devolver',\n",
    "  'Vales e Reembolso'\n",
    "]"
   ]
  },
  {
   "cell_type": "code",
   "execution_count": null,
   "metadata": {
    "colab": {
     "base_uri": "https://localhost:8080/"
    },
    "hidden": true,
    "id": "t35aBNGYRZRT",
    "outputId": "5bb1b964-6a2e-48b7-9d9b-23780b00b800"
   },
   "outputs": [],
   "source": [
    "df[df['problem'].isin(filter_problems)].cv.value_counts(normalize=True)"
   ]
  },
  {
   "cell_type": "code",
   "execution_count": null,
   "metadata": {
    "colab": {
     "base_uri": "https://localhost:8080/"
    },
    "hidden": true,
    "id": "v6orToHXSBaq",
    "outputId": "2caf8aab-86a1-40e3-c2e6-d3fc6e8b5252"
   },
   "outputs": [],
   "source": [
    "# Porcentagem de mensagem restantes em cada classe pós filtro\n",
    "df[df['problem'].isin(filter_problems)].cv.value_counts(normalize=False).div(df['cv'].value_counts(normalize=False))"
   ]
  },
  {
   "cell_type": "code",
   "execution_count": null,
   "metadata": {
    "hidden": true,
    "id": "HAuVnAldxkKN"
   },
   "outputs": [],
   "source": [
    "df = df[df['problem'].isin(filter_problems)]"
   ]
  },
  {
   "cell_type": "code",
   "execution_count": null,
   "metadata": {
    "hidden": true,
    "id": "3suJme-9YI5j"
   },
   "outputs": [],
   "source": [
    "# Encode da coluna de target\n",
    "\n",
    "map_cv= {\n",
    "    'Ainda não devolvi meu produto e quero saber sobre processo de troca / devolução': 0,\n",
    "    'Estou arrependido, quero cancelar/trocar o produto': 1,\n",
    "    'Como utilizar o cupom/vale': 2,\n",
    "    'Qual o prazo para devolução do valor que paguei?': 3,\n",
    "    'Como recupero meu login e senha de acesso': 4,\n",
    "    'Outro': 5\n",
    "}\n",
    "\n",
    "inv_map = {v: k for k, v in map_cv.items()}\n",
    "\n",
    "df['cv_encoded'] = df['cv'].map(map_cv)"
   ]
  },
  {
   "cell_type": "markdown",
   "metadata": {
    "heading_collapsed": true,
    "hidden": true,
    "id": "vLBYS5c4qd8w"
   },
   "source": [
    "### Manipulação do Texto"
   ]
  },
  {
   "cell_type": "code",
   "execution_count": null,
   "metadata": {
    "hidden": true,
    "id": "Njb1CM0O1xTI"
   },
   "outputs": [],
   "source": [
    "df_backup = df.copy()"
   ]
  },
  {
   "cell_type": "markdown",
   "metadata": {
    "hidden": true,
    "id": "H5KDmo0AOI0G"
   },
   "source": [
    "#### Lower Case"
   ]
  },
  {
   "cell_type": "code",
   "execution_count": null,
   "metadata": {
    "hidden": true,
    "id": "DBQAqgGtqofS"
   },
   "outputs": [],
   "source": [
    "df = df_backup\n",
    "df['original_message'] = df.message\n",
    "# Lower case\n",
    "df.message = df.message.apply(str.lower)"
   ]
  },
  {
   "cell_type": "markdown",
   "metadata": {
    "hidden": true,
    "id": "KIWG5mYbOK-i"
   },
   "source": [
    "#### Stop Words"
   ]
  },
  {
   "cell_type": "code",
   "execution_count": null,
   "metadata": {
    "hidden": true,
    "id": "DeByW7oNDD-Q"
   },
   "outputs": [],
   "source": [
    "def stopword_remover(text):\n",
    "  remove_from_stopword_list = ['não', 'mais', 'foi', 'será', 'quando', 'tive', 'mas', 'até'] # são stopwords, mas contribuem para o sentido do texto\n",
    "  add_to_stopword_list = ['pois']\n",
    "  stop_words = nltk.corpus.stopwords.words('portuguese')\n",
    "  stop_words.extend(add_to_stopword_list)\n",
    "  \n",
    "  for i in remove_from_stopword_list:\n",
    "      stop_words.remove(i)\n",
    "\n",
    "  words = [w for w in text.split() if not w in stop_words]\n",
    "  text = ' '.join(words)\n",
    "\n",
    "  return text"
   ]
  },
  {
   "cell_type": "code",
   "execution_count": null,
   "metadata": {
    "hidden": true,
    "id": "lSHiFOisDpa6"
   },
   "outputs": [],
   "source": [
    "df.message = df.message.apply(stopword_remover)"
   ]
  },
  {
   "cell_type": "markdown",
   "metadata": {
    "hidden": true,
    "id": "pzWfdWqZOOGV"
   },
   "source": [
    "#### Duplicated spaces and special characters"
   ]
  },
  {
   "cell_type": "code",
   "execution_count": null,
   "metadata": {
    "hidden": true,
    "id": "Rs1tDKBUFvmN"
   },
   "outputs": [],
   "source": [
    "df.message =  df.message.str.replace(r'\\n', ' ', regex=True)\n",
    "df.message =  df.message.str.replace(r'\\t', ' ', regex=True)\n",
    "df.message =  df.message.str.replace(r' +', ' ', regex=True)\n",
    "df.message =  df.message.str.replace('r$', '', regex=False)\n",
    "df.message =  df.message.str.replace(r'[^a-zÀ-ÿ ]+', '', regex=True) # only allow letters and whitespaces"
   ]
  },
  {
   "cell_type": "markdown",
   "metadata": {
    "hidden": true,
    "id": "GLqVBSxOOR8X"
   },
   "source": [
    "#### Termos inúteis"
   ]
  },
  {
   "cell_type": "code",
   "execution_count": null,
   "metadata": {
    "hidden": true,
    "id": "_JjWDg1KFwlF"
   },
   "outputs": [],
   "source": [
    "def useless_terms_remover(text):\n",
    "  '''\n",
    "  Usar após stopword_remover\n",
    "  '''\n",
    "  useless_terms = ['bom dia', 'boa tarde', 'boa noite', 'tudo bem', 'olá', 'td bem']\n",
    "\n",
    "  for term in useless_terms:\n",
    "    text = re.sub(term, '', text)\n",
    "\n",
    "  return text"
   ]
  },
  {
   "cell_type": "code",
   "execution_count": null,
   "metadata": {
    "hidden": true,
    "id": "F97DcdDNFy38"
   },
   "outputs": [],
   "source": [
    "df.message = df.message.apply(useless_terms_remover)"
   ]
  },
  {
   "cell_type": "markdown",
   "metadata": {
    "hidden": true,
    "id": "dSon854V1xTK"
   },
   "source": [
    "#### Substituições extras\n",
    "\n",
    "Para evitar clusters desnecessários"
   ]
  },
  {
   "cell_type": "code",
   "execution_count": null,
   "metadata": {
    "hidden": true,
    "id": "YR3gk2at1xTK"
   },
   "outputs": [],
   "source": [
    "dictionary = {\n",
    "  ' n ': ' não ',\n",
    "  ' q ': ' que ', \n",
    "  'ngm': 'ninguém',\n",
    "  'mto': 'muito',\n",
    "  'vcs': 'vocês',\n",
    "  'certinho': 'certo',\n",
    "  ' pro ': ' para o ',\n",
    "  ' mail ': ' email ',\n",
    "  'emails': 'email',\n",
    "  'markt': 'market',\n",
    "  'nesse site': 'dafiti',\n",
    "  'nessa loja': 'dafiti',\n",
    "  'informar que': 'dizer que',\n",
    "  'https www reclameaqui br': 'reclame aqui',\n",
    "  'vcs': 'voces',\n",
    "  ' pra ': ' para ',\n",
    "  'mercadoria': 'pedido',\n",
    "  'mais deu': 'mas deu',\n",
    "  'saber do': 'saber sobre',\n",
    "  'empresa ': 'dafiti ',\n",
    "  ' ver comentarios': ' ler comentarios',\n",
    "  'produto': 'pedido',\n",
    "  ' compra ': ' pedido ',\n",
    "  'fazer compra': 'fazer pedido',\n",
    "  'mudar': 'trocar',\n",
    "  'receber': 'chegar',\n",
    "  'entregar': 'chegar',          \n",
    "  'até hoje': 'até agora',\n",
    "  'mandar': 'enviar',\n",
    "  'obg': 'obrigado',\n",
    "  'obrigada': 'obrigado'\n",
    "}"
   ]
  },
  {
   "cell_type": "code",
   "execution_count": null,
   "metadata": {
    "hidden": true,
    "id": "fxJIJJDg1xTK"
   },
   "outputs": [],
   "source": [
    "def subs(text):\n",
    "  for key in dictionary.keys():\n",
    "    text = text.replace(key, dictionary[key])\n",
    "  return text"
   ]
  },
  {
   "cell_type": "code",
   "execution_count": null,
   "metadata": {
    "hidden": true,
    "id": "DVuY0-tp1xTL"
   },
   "outputs": [],
   "source": [
    "df.message = df.message.apply(subs)"
   ]
  },
  {
   "cell_type": "markdown",
   "metadata": {
    "hidden": true,
    "id": "BBv1QI3rNjRr"
   },
   "source": [
    "#### Lematizacao"
   ]
  },
  {
   "cell_type": "code",
   "execution_count": null,
   "metadata": {
    "hidden": true,
    "id": "8xFKGgYfOovl"
   },
   "outputs": [],
   "source": [
    "# df = df.reset_index(drop=True) # obrigatório para os índices se manterem corretos na criação da Series ao final\n",
    "\n",
    "# nlp = spacy.load('pt_core_news_md')\n",
    "# nlp.max_length = 5000000\n",
    "\n",
    "# docs = df.message.to_list()\n",
    "\n",
    "# lemmatized_docs = []\n",
    "# print('Starting Pipe')\n",
    "# for doc in nlp.pipe(docs, batch_size=8, n_process=8, disable=[\"parser\", \"ner\"]):\n",
    "#   sentece = []\n",
    "#   for word in doc:\n",
    "#     if ((word.pos_ == 'VERB') or (word.pos_ == 'ADJ')):\n",
    "#       sentece.append(word.lemma_) # lemma\n",
    "#     else:\n",
    "#       sentece.append(word.orth_) # original\n",
    "#   sent = ' '.join(sentece)    \n",
    "#   lemmatized_docs.append(sent)\n",
    "\n",
    "# df['message'] = pd.Series(lemmatized_docs) # back to series"
   ]
  },
  {
   "cell_type": "code",
   "execution_count": null,
   "metadata": {
    "hidden": true,
    "id": "XuZGYe0Q1xTL"
   },
   "outputs": [],
   "source": [
    "# # Stemming\n",
    "# print('Stemming')\n",
    "# stemmer = nltk.stem.RSLPStemmer() \n",
    "# stemmed_docs = []\n",
    "# for sentence in lemmatized_docs:\n",
    "#   new_sentence = []\n",
    "#   for word in sentence.split():\n",
    "#     new_sentence.append(stemmer.stem(word))\n",
    "#   stemmed_docs.append(' '.join(new_sentence))\n",
    "\n",
    "# df['message_lemma'] = pd.Series(stemmed_docs) # back to series"
   ]
  },
  {
   "cell_type": "markdown",
   "metadata": {
    "hidden": true,
    "id": "26svF7WBeb4z"
   },
   "source": [
    "#### Unidecode"
   ]
  },
  {
   "cell_type": "code",
   "execution_count": null,
   "metadata": {
    "hidden": true,
    "id": "yHsKHp9oedb9"
   },
   "outputs": [],
   "source": [
    "df.message = df.message.apply(unidecode)"
   ]
  },
  {
   "cell_type": "markdown",
   "metadata": {
    "heading_collapsed": true,
    "hidden": true,
    "id": "Y3d5Qa-X1xTM"
   },
   "source": [
    "### Save/Load Dataframe"
   ]
  },
  {
   "cell_type": "code",
   "execution_count": null,
   "metadata": {
    "hidden": true,
    "id": "4l4vULtN1xTM"
   },
   "outputs": [],
   "source": [
    "pickle.dump(df, open(f'{path}/data/nltk_data.pkl', \"wb\"))"
   ]
  },
  {
   "cell_type": "code",
   "execution_count": null,
   "metadata": {
    "hidden": true,
    "id": "uf_j6Fcv1xTM"
   },
   "outputs": [],
   "source": [
    "#nltk_data - sem lemma\n",
    "#nltk_data_2 - com lemma\n",
    "df = pickle.load(open(f'{path}/data/nltk_data_2.pkl', \"rb\"))"
   ]
  },
  {
   "cell_type": "markdown",
   "metadata": {
    "hidden": true,
    "id": "MzzuQr_vCAwW"
   },
   "source": [
    "### Modelagem"
   ]
  },
  {
   "cell_type": "code",
   "execution_count": null,
   "metadata": {
    "hidden": true,
    "id": "7q8Yv9rd1xTN"
   },
   "outputs": [],
   "source": [
    "# df = pd.read_parquet('data/poc_sac_nltk2.parquet')"
   ]
  },
  {
   "cell_type": "code",
   "execution_count": null,
   "metadata": {
    "colab": {
     "base_uri": "https://localhost:8080/"
    },
    "hidden": true,
    "id": "1S6l4EvKVbjC",
    "outputId": "c197e8d2-8684-4b45-b9fd-61f67c8aa09a"
   },
   "outputs": [],
   "source": [
    "df2 = df.copy()\n",
    "# df2 = df2[df2['problem'].isin(['Trocar, cancelar ou devolver', 'Vales e Reembolso'])]\n",
    "# df2 = df2[df2.created_date >= '2021-01-01']\n",
    "df2 = df2.sample(frac=0.3).reset_index()\n",
    "print(df.shape[0], df2.shape[0])\n",
    "\n",
    "X = df2['message']\n",
    "y = df2[['cv_encoded', 'sac_customer_voice']]\n",
    "X_train, X_test, y_train, y_test = train_test_split(X, y, train_size=0.7, random_state=42 , stratify=y.cv_encoded)\n",
    "\n",
    "print('train size :', len(X_train) )\n",
    "print('test size :', len(X_test) )"
   ]
  },
  {
   "cell_type": "code",
   "execution_count": null,
   "metadata": {
    "colab": {
     "base_uri": "https://localhost:8080/"
    },
    "hidden": true,
    "id": "IPwM4YBPb8GB",
    "outputId": "212f90a1-9735-49cb-9470-347814005ae4"
   },
   "outputs": [],
   "source": [
    "df2.cv_encoded.value_counts()"
   ]
  },
  {
   "cell_type": "markdown",
   "metadata": {
    "hidden": true,
    "id": "6oaoT8PB7RsM"
   },
   "source": [
    "#### TF-IDF"
   ]
  },
  {
   "cell_type": "code",
   "execution_count": null,
   "metadata": {
    "hidden": true,
    "id": "32oj99c7bZTQ"
   },
   "outputs": [],
   "source": [
    "tfidf=TfidfVectorizer(\n",
    "  max_features=1000,\n",
    "  max_df=0.95,\n",
    "  min_df=10,\n",
    "  ngram_range=(1, 4)\n",
    ")\n",
    "\n",
    "X_train_vector = tfidf.fit_transform(X_train)\n",
    "X_test_vector = tfidf.transform(X_test)"
   ]
  },
  {
   "cell_type": "markdown",
   "metadata": {
    "hidden": true,
    "id": "WNDNjy8WViEW"
   },
   "source": [
    "#### Treino"
   ]
  },
  {
   "cell_type": "code",
   "execution_count": null,
   "metadata": {
    "hidden": true,
    "id": "04Tv3mprdpf1"
   },
   "outputs": [],
   "source": [
    "def evaluate(model, X_train, y_train, X_test, y_test):\n",
    "  model = model.fit(X_train, y_train)\n",
    "  y_pred = model.predict(X_test)\n",
    "  print(classification_report(y_test, y_pred))\n",
    "  print( \"F1 Score:\" , f1_score(y_test, y_pred, average='macro' ) )\n",
    "  return model"
   ]
  },
  {
   "cell_type": "markdown",
   "metadata": {
    "hidden": true,
    "id": "OpuAf7a4O2Fb"
   },
   "source": [
    "##### Catboost"
   ]
  },
  {
   "cell_type": "code",
   "execution_count": null,
   "metadata": {
    "colab": {
     "base_uri": "https://localhost:8080/"
    },
    "hidden": true,
    "id": "ZHnYMHGxn5PQ",
    "outputId": "3c0a9dd9-a3f3-45ad-99b7-92112a6b254b"
   },
   "outputs": [],
   "source": [
    "# CatBoost\n",
    "train_dataset = Pool(X_train_vector, y_train.cv_encoded)\n",
    "test_dataset = Pool(X_test_vector, y_test.cv_encoded)\n",
    "\n",
    "cb = CatBoostClassifier(\n",
    "    # task_type='GPU',\n",
    "    iterations=500,\n",
    "    eval_metric='TotalF1',\n",
    "    loss_function='MultiClass',\n",
    "    early_stopping_rounds=50\n",
    "    #Learner parameters\n",
    "    # learning_rate=0.1,\n",
    "    # depth=10,\n",
    "    # l2_leaf_reg=1\n",
    "\n",
    ")\n",
    "\n",
    "# #Declare parameters to tune and values to try\n",
    "# grid = {\n",
    "#     'learning_rate': [0.03, 0.1],\n",
    "#     'depth': [4, 6, 10],\n",
    "#     'l2_leaf_reg': [1, 3, 5,]\n",
    "# }\n",
    "\n",
    "# #Find optimum parameters\n",
    "# grid_search_result = cb.grid_search(grid, train_dataset, plot=True)\n",
    "\n",
    "#Fit model with early stopping if improvement hasn't been made within 50 iterations\n",
    "cb.fit(\n",
    "    train_dataset, \n",
    "    eval_set=test_dataset\n",
    ")"
   ]
  },
  {
   "cell_type": "code",
   "execution_count": null,
   "metadata": {
    "colab": {
     "base_uri": "https://localhost:8080/",
     "height": 282
    },
    "hidden": true,
    "id": "5MqDlLud1xTP",
    "outputId": "215e883a-17c7-4065-92b2-dae8600c487a"
   },
   "outputs": [],
   "source": [
    "results = cb.get_evals_result()\n",
    "\n",
    "fig, axes = plt.subplots(figsize=(8,4))\n",
    "plt.plot(results['learn']['TotalF1'], c='b', label='learn')\n",
    "plt.plot(results['validation']['TotalF1'], c='r', label='validation')\n",
    "axes.legend()"
   ]
  },
  {
   "cell_type": "code",
   "execution_count": null,
   "metadata": {
    "colab": {
     "base_uri": "https://localhost:8080/"
    },
    "hidden": true,
    "id": "xx7ZIdbXj6WJ",
    "outputId": "5a380e4a-7e90-40cc-b6e0-182ce347f8d1"
   },
   "outputs": [],
   "source": [
    "y_pred_cb = cb.predict(X_test_vector)\n",
    "print(classification_report(y_test.cv_encoded, y_pred_cb))\n",
    "conf_matrix = confusion_matrix(y_test.cv_encoded, y_pred_cb)\n",
    "print(conf_matrix)\n",
    "print( \"\\nF1 Score:\" , f1_score(y_test.cv_encoded, y_pred_cb, average='macro' ) )\n",
    "\n",
    "conf_matrix = confusion_matrix(y_test.cv_encoded, y_pred_cb)\n",
    "\n",
    "print('{0:.2%} dos emails foram respondidos \\n --------------------'.format(conf_matrix[:-1, :-1].sum() / conf_matrix[:-1, :].sum()))\n",
    "print('{0:.2%} dos emails enviados como Classe 0 foram classificados corretamente'.format(conf_matrix[0, 0].sum() / conf_matrix[:, 0].sum()))\n",
    "print('{0:.2%} dos emails enviados como Classe 1 foram classificados corretamente'.format(conf_matrix[1, 1].sum() / conf_matrix[:, 1].sum()))\n",
    "print('{0:.2%} dos emails enviados como Classe 2 foram classificados corretamente'.format(conf_matrix[2, 2].sum() / conf_matrix[:, 2].sum()))\n",
    "print('{0:.2%} dos emails enviados como Classe 3 foram classificados corretamente'.format(conf_matrix[3, 3].sum() / conf_matrix[:, 3].sum()))\n",
    "print('{0:.2%} dos emails enviados como Classe 4 foram classificados corretamente'.format(conf_matrix[4, 4].sum() / conf_matrix[:, 4].sum()))\n",
    "print('{0:.2%} dos emails enviados como Classe 5 foram classificados corretamente'.format(conf_matrix[5, 5].sum() / conf_matrix[:, 5].sum()))"
   ]
  },
  {
   "cell_type": "code",
   "execution_count": null,
   "metadata": {
    "hidden": true,
    "id": "4aWMlC0DOzwI"
   },
   "outputs": [],
   "source": [
    "  "
   ]
  },
  {
   "cell_type": "markdown",
   "metadata": {
    "hidden": true,
    "id": "wa4O4u__O_d1"
   },
   "source": [
    "##### RandomForest"
   ]
  },
  {
   "cell_type": "code",
   "execution_count": null,
   "metadata": {
    "colab": {
     "base_uri": "https://localhost:8080/"
    },
    "hidden": true,
    "id": "nVk5WnSVPEO4",
    "outputId": "d24ddd22-f09a-4692-e12b-266f17177154"
   },
   "outputs": [],
   "source": [
    "rf = RandomForestClassifier(random_state=42)\n",
    "rf.fit(X_train_vector, y_train.cv_encoded)"
   ]
  },
  {
   "cell_type": "code",
   "execution_count": null,
   "metadata": {
    "colab": {
     "base_uri": "https://localhost:8080/"
    },
    "hidden": true,
    "id": "EpzBIyULOzYo",
    "outputId": "c2e2486f-0b22-4a43-d11a-b74128f985f3"
   },
   "outputs": [],
   "source": [
    "y_pred_rf = rf.predict(X_test_vector)\n",
    "print(classification_report(y_test.cv_encoded, y_pred_rf))\n",
    "conf_matrix = confusion_matrix(y_test.cv_encoded, y_pred_rf)\n",
    "print(conf_matrix)\n",
    "print( \"\\nF1 Score:\" , f1_score(y_test.cv_encoded, y_pred_rf, average='macro' ) )\n",
    "\n",
    "print('{0:.2%} dos emails foram respondidos \\n --------------------'.format(conf_matrix[:-1, :-1].sum() / conf_matrix[:-1, :].sum()))\n",
    "print('{0:.2%} dos emails enviados como Classe 0 foram classificados corretamente'.format(conf_matrix[0, 0].sum() / conf_matrix[:, 0].sum()))\n",
    "print('{0:.2%} dos emails enviados como Classe 1 foram classificados corretamente'.format(conf_matrix[1, 1].sum() / conf_matrix[:, 1].sum()))\n",
    "print('{0:.2%} dos emails enviados como Classe 2 foram classificados corretamente'.format(conf_matrix[2, 2].sum() / conf_matrix[:, 2].sum()))\n",
    "print('{0:.2%} dos emails enviados como Classe 3 foram classificados corretamente'.format(conf_matrix[3, 3].sum() / conf_matrix[:, 3].sum()))\n",
    "print('{0:.2%} dos emails enviados como Classe 4 foram classificados corretamente'.format(conf_matrix[4, 4].sum() / conf_matrix[:, 4].sum()))\n",
    "print('{0:.2%} dos emails enviados como Classe 5 foram classificados corretamente'.format(conf_matrix[5, 5].sum() / conf_matrix[:, 5].sum()))"
   ]
  },
  {
   "cell_type": "code",
   "execution_count": null,
   "metadata": {
    "hidden": true,
    "id": "RwReskUFNLlj"
   },
   "outputs": [],
   "source": []
  },
  {
   "cell_type": "code",
   "execution_count": null,
   "metadata": {
    "hidden": true,
    "id": "-IrFR9ceNNmY"
   },
   "outputs": [],
   "source": []
  },
  {
   "cell_type": "markdown",
   "metadata": {
    "hidden": true,
    "id": "v_-f9NXDNOKW"
   },
   "source": [
    "#### Validando Resultados"
   ]
  },
  {
   "cell_type": "code",
   "execution_count": null,
   "metadata": {
    "hidden": true,
    "id": "KIvmOQkZNi-4"
   },
   "outputs": [],
   "source": [
    "predict_cb=[i[0] for i in y_pred_cb]\n",
    "# predict_rf=[i[0] for i in y_pred_rf]\n",
    "df_result = pd.DataFrame({'message':X_test.values, 'predict_cb':predict_cb, 'predict_rf':y_pred_rf, 'true':y_test.cv_encoded.values, 'original':y_test.sac_customer_voice.values})\n",
    "df_result.predict_cb = df_result.predict_cb.map(inv_map)\n",
    "df_result.predict_rf = df_result.predict_rf.map(inv_map)\n",
    "df_result.true = df_result.true.map(inv_map)\n",
    "\n",
    "df_result\n",
    "df_result.to_csv(f'{path}/data/validar2.csv')"
   ]
  },
  {
   "cell_type": "markdown",
   "metadata": {
    "hidden": true,
    "id": "eYZh7yOeyB8w"
   },
   "source": [
    "Uma analise no dataset acima mostrou que os resultados gerados pelo RandomForest estão um pouco melhores que o Catboost. Usaremos daqui pra frente apenas o primeiro modelo"
   ]
  },
  {
   "cell_type": "code",
   "execution_count": null,
   "metadata": {
    "colab": {
     "base_uri": "https://localhost:8080/"
    },
    "hidden": true,
    "id": "cXTVHTrEu_Xe",
    "outputId": "375c7862-66a5-448e-f844-805c6f5b72f5"
   },
   "outputs": [],
   "source": [
    "wrong_pred_df = df_result[(df_result.true == 'Outro') & (df_result.predict_rf != 'Outro')]\n",
    "wrong_class_list = wrong_pred_df.groupby('original')['message'].count().sort_values(ascending=False)[:10]\n",
    "wrong_class_list"
   ]
  },
  {
   "cell_type": "code",
   "execution_count": null,
   "metadata": {
    "colab": {
     "base_uri": "https://localhost:8080/",
     "height": 675
    },
    "hidden": true,
    "id": "TBJOW9Xwx_ab",
    "outputId": "0a48d170-902c-45fa-b40a-e67a59bba3db"
   },
   "outputs": [],
   "source": [
    "aux_df = []\n",
    "for cv in wrong_class_list.index.to_list():\n",
    "  words = ' '.join(wrong_pred_df[wrong_pred_df.original == cv].message).split()\n",
    "  ngram = [_ for _ in zip(words, words[1:], words[2:])]\n",
    "\n",
    "  c = Counter(ngram).most_common(10)\n",
    "\n",
    "  words = []\n",
    "  for i in c:\n",
    "    words.append(f'{i[0][0]} {i[0][1]} {i[0][2]}')\n",
    "\n",
    "  aux_df.append(pd.DataFrame(words, columns=[cv]))\n",
    "\n",
    "pd.concat(aux_df, axis=1)"
   ]
  },
  {
   "cell_type": "code",
   "execution_count": null,
   "metadata": {
    "hidden": true,
    "id": "a6h4Uytsx-_l"
   },
   "outputs": [],
   "source": []
  },
  {
   "cell_type": "markdown",
   "metadata": {
    "hidden": true,
    "id": "ITdG7X86-Ws2"
   },
   "source": [
    "#### Dicionario\n",
    "\n",
    "Emails com essas palavras não fazem parte da lista de classes que queremos predizer"
   ]
  },
  {
   "cell_type": "code",
   "execution_count": null,
   "metadata": {
    "hidden": true,
    "id": "uptsaHw4hxQG"
   },
   "outputs": [],
   "source": [
    "remove_grams = [\n",
    "  'nao recebi codigo',\n",
    "  'nao recebi email',\n",
    "  'recebi codigo postagem',\n",
    "  'codigo autorizacao postagem'\n",
    "]"
   ]
  },
  {
   "cell_type": "markdown",
   "metadata": {
    "hidden": true,
    "id": "4NlkUm3dkB8c"
   },
   "source": [
    "#### Aplicando Remocao usando o Dicionario"
   ]
  },
  {
   "cell_type": "code",
   "execution_count": null,
   "metadata": {
    "hidden": true,
    "id": "tgnhf3O1W_So"
   },
   "outputs": [],
   "source": [
    "df_result.loc[df_result.message.str.contains('|'.join(remove_grams)), 'predict_cb'] = 'Outro'"
   ]
  },
  {
   "cell_type": "code",
   "execution_count": null,
   "metadata": {
    "hidden": true,
    "id": "NY7Lnt5ver-6"
   },
   "outputs": [],
   "source": [
    "df_result"
   ]
  },
  {
   "cell_type": "markdown",
   "metadata": {
    "heading_collapsed": true,
    "hidden": true,
    "id": "hoyXuJ3CvUaS"
   },
   "source": [
    "#### Threshold"
   ]
  },
  {
   "cell_type": "code",
   "execution_count": null,
   "metadata": {
    "hidden": true,
    "id": "8B-jZciaLiud"
   },
   "outputs": [],
   "source": [
    "# predicoes menores que o valor definido serao classificadas como \"outro\"\n",
    "threshold_proba = 0.4\n",
    "y_pred_proba = cb.predict_proba(X_test_vector)\n",
    "y_pred_threshold = [map_cv['Outro'] if sum(p<threshold_proba)==4 else np.argmax(p) for p in y_pred_proba]\n",
    "y_pred_threshold = pd.DataFrame(y_pred_threshold, columns=['customer_voice'])['customer_voice']\n",
    "\n",
    "print(classification_report(y_test.cv_encoded, y_pred_threshold))\n",
    "print(confusion_matrix(y_test.cv_encoded, y_pred_threshold))\n",
    "\n",
    "conf_matrix = confusion_matrix(y_test.cv_encoded, y_pred_threshold)\n",
    "print('{0:.2%} dos emails foram respondidos \\n --------------------'.format(conf_matrix[:-1, :-1].sum() / conf_matrix[:-1, :].sum()))\n",
    "print('{0:.2%} dos emails enviados como Classe 0 foram classificados corretamente'.format(conf_matrix[0, 0].sum() / conf_matrix[:, 0].sum()))\n",
    "print('{0:.2%} dos emails enviados como Classe 1 foram classificados corretamente'.format(conf_matrix[1, 1].sum() / conf_matrix[:, 1].sum()))\n",
    "print('{0:.2%} dos emails enviados como Classe 2 foram classificados corretamente'.format(conf_matrix[2, 2].sum() / conf_matrix[:, 2].sum()))\n",
    "print('{0:.2%} dos emails enviados como Classe 3 foram classificados corretamente'.format(conf_matrix[3, 3].sum() / conf_matrix[:, 3].sum()))\n",
    "print('{0:.2%} dos emails enviados como Classe 4 foram classificados corretamente'.format(conf_matrix[4, 4].sum() / conf_matrix[:, 4].sum()))\n",
    "print('{0:.2%} dos emails enviados como Classe 5 foram classificados corretamente'.format(conf_matrix[5, 5].sum() / conf_matrix[:, 5].sum()))"
   ]
  },
  {
   "cell_type": "code",
   "execution_count": null,
   "metadata": {
    "hidden": true,
    "id": "fY7luMGikBBd"
   },
   "outputs": [],
   "source": []
  }
 ],
 "metadata": {
  "accelerator": "GPU",
  "colab": {
   "collapsed_sections": [
    "7dao_gfODfzI",
    "fJRjwdx9P-bs",
    "SzvWJ6_uQDkQ",
    "yEyBDn6F0YkP",
    "Gx9rlAQ01xTB",
    "3cQQecCsVaRY",
    "EXSsFuqOXCEc",
    "kM1pvqCp6FP4",
    "hGMA2jjf4r7I",
    "vLBYS5c4qd8w",
    "dSon854V1xTK",
    "BBv1QI3rNjRr",
    "26svF7WBeb4z",
    "Y3d5Qa-X1xTM",
    "6oaoT8PB7RsM",
    "WNDNjy8WViEW",
    "OpuAf7a4O2Fb",
    "wa4O4u__O_d1",
    "v_-f9NXDNOKW",
    "ITdG7X86-Ws2",
    "4NlkUm3dkB8c"
   ],
   "name": "supervisioned.ipynb",
   "provenance": []
  },
  "interpreter": {
   "hash": "31f2aee4e71d21fbe5cf8b01ff0e069b9275f58929596ceb00d14d90e3e16cd6"
  },
  "kernelspec": {
   "display_name": "Python 3 (ipykernel)",
   "language": "python",
   "name": "python3"
  },
  "language_info": {
   "codemirror_mode": {
    "name": "ipython",
    "version": 3
   },
   "file_extension": ".py",
   "mimetype": "text/x-python",
   "name": "python",
   "nbconvert_exporter": "python",
   "pygments_lexer": "ipython3",
   "version": "3.8.10"
  }
 },
 "nbformat": 4,
 "nbformat_minor": 1
}
