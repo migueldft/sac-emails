{
 "cells": [
  {
   "cell_type": "code",
   "execution_count": 1,
   "metadata": {
    "id": "HLDHk2n6rAKV"
   },
   "outputs": [],
   "source": [
    "import pandas as pd\n",
    "import seaborn as sns\n",
    "import numpy as np\n",
    "import time\n",
    "import matplotlib.pyplot as plt\n",
    "\n",
    "path = '/home/miguel.filho/Documents/rnd-sac-emails/'\n",
    "today = time.strftime('%Y%m%d')\n",
    "# path = '/content/gdrive/MyDrive/DataScience/Sac Emails/'\n",
    "# from google.colab import drive\n",
    "# drive.mount('/content/gdrive')"
   ]
  },
  {
   "cell_type": "code",
   "execution_count": 2,
   "metadata": {
    "id": "7fTgdoHkrRzK"
   },
   "outputs": [],
   "source": [
    "df = pd.read_parquet(f'{path}/data/poc_sac.parquet')"
   ]
  },
  {
   "cell_type": "code",
   "execution_count": 3,
   "metadata": {
    "colab": {
     "base_uri": "https://localhost:8080/",
     "height": 380
    },
    "id": "p2GspqBStYuh",
    "outputId": "ed07f84a-3047-4e9b-b856-5dc2eaeb1626"
   },
   "outputs": [
    {
     "data": {
      "text/html": [
       "<div>\n",
       "<style scoped>\n",
       "    .dataframe tbody tr th:only-of-type {\n",
       "        vertical-align: middle;\n",
       "    }\n",
       "\n",
       "    .dataframe tbody tr th {\n",
       "        vertical-align: top;\n",
       "    }\n",
       "\n",
       "    .dataframe thead th {\n",
       "        text-align: right;\n",
       "    }\n",
       "</style>\n",
       "<table border=\"1\" class=\"dataframe\">\n",
       "  <thead>\n",
       "    <tr style=\"text-align: right;\">\n",
       "      <th></th>\n",
       "      <th>sac_subject</th>\n",
       "      <th>sac_category</th>\n",
       "      <th>sac_customer_voice</th>\n",
       "      <th>sac_reason</th>\n",
       "      <th>created_date</th>\n",
       "      <th>email_subject</th>\n",
       "      <th>message</th>\n",
       "      <th>problem</th>\n",
       "      <th>detail</th>\n",
       "      <th>customer_email</th>\n",
       "    </tr>\n",
       "  </thead>\n",
       "  <tbody>\n",
       "    <tr>\n",
       "      <th>0</th>\n",
       "      <td>Entregas</td>\n",
       "      <td>Reclamação</td>\n",
       "      <td>Pedido consta como entregue, mas não recebi</td>\n",
       "      <td>Protocolo de entrega</td>\n",
       "      <td>2020-01-16 17:25:42</td>\n",
       "      <td>ENTREGAS</td>\n",
       "      <td>Boa tarde Kanui ou Dafiti, gostaria de saber q...</td>\n",
       "      <td>Dúvida sobre o andamento do meu pedido</td>\n",
       "      <td>None</td>\n",
       "      <td>dgoguitar@hotmail.com</td>\n",
       "    </tr>\n",
       "    <tr>\n",
       "      <th>1</th>\n",
       "      <td>Atendimento</td>\n",
       "      <td>Reclamação</td>\n",
       "      <td>Meu problema não foi resolvido</td>\n",
       "      <td>None</td>\n",
       "      <td>2020-01-02 13:17:59</td>\n",
       "      <td>ENTREGAS</td>\n",
       "      <td>Porque  consta que já foi concluída  a entrega...</td>\n",
       "      <td>Problemas com a entrega</td>\n",
       "      <td>None</td>\n",
       "      <td>mariaitrassi@gmail.com</td>\n",
       "    </tr>\n",
       "    <tr>\n",
       "      <th>2</th>\n",
       "      <td>Trocas</td>\n",
       "      <td>Solicitação</td>\n",
       "      <td>Estou arrependido, quero cancelar/trocar o pro...</td>\n",
       "      <td>Produto ainda não entregue com NF</td>\n",
       "      <td>2020-01-02 16:37:38</td>\n",
       "      <td>TROCAS E DEVOLUÇÕES</td>\n",
       "      <td>Ola fiz uma compra e n recebir o produto tente...</td>\n",
       "      <td>Trocar, cancelar ou devolver</td>\n",
       "      <td>Quero cancelar ou devolver minha compra</td>\n",
       "      <td>arildo.samorim@gmail.com</td>\n",
       "    </tr>\n",
       "  </tbody>\n",
       "</table>\n",
       "</div>"
      ],
      "text/plain": [
       "   sac_subject sac_category  \\\n",
       "0     Entregas   Reclamação   \n",
       "1  Atendimento   Reclamação   \n",
       "2       Trocas  Solicitação   \n",
       "\n",
       "                                  sac_customer_voice  \\\n",
       "0        Pedido consta como entregue, mas não recebi   \n",
       "1                     Meu problema não foi resolvido   \n",
       "2  Estou arrependido, quero cancelar/trocar o pro...   \n",
       "\n",
       "                          sac_reason         created_date  \\\n",
       "0               Protocolo de entrega  2020-01-16 17:25:42   \n",
       "1                               None  2020-01-02 13:17:59   \n",
       "2  Produto ainda não entregue com NF  2020-01-02 16:37:38   \n",
       "\n",
       "         email_subject                                            message  \\\n",
       "0             ENTREGAS  Boa tarde Kanui ou Dafiti, gostaria de saber q...   \n",
       "1             ENTREGAS  Porque  consta que já foi concluída  a entrega...   \n",
       "2  TROCAS E DEVOLUÇÕES  Ola fiz uma compra e n recebir o produto tente...   \n",
       "\n",
       "                                  problem  \\\n",
       "0  Dúvida sobre o andamento do meu pedido   \n",
       "1                 Problemas com a entrega   \n",
       "2            Trocar, cancelar ou devolver   \n",
       "\n",
       "                                    detail            customer_email  \n",
       "0                                     None     dgoguitar@hotmail.com  \n",
       "1                                     None    mariaitrassi@gmail.com  \n",
       "2  Quero cancelar ou devolver minha compra  arildo.samorim@gmail.com  "
      ]
     },
     "execution_count": 3,
     "metadata": {},
     "output_type": "execute_result"
    }
   ],
   "source": [
    "df.head(3)"
   ]
  },
  {
   "cell_type": "code",
   "execution_count": 4,
   "metadata": {
    "colab": {
     "base_uri": "https://localhost:8080/"
    },
    "id": "gxxmhIcEtbPo",
    "outputId": "7aba1b5b-2774-4165-eb2c-9d9627e1ac88"
   },
   "outputs": [
    {
     "name": "stdout",
     "output_type": "stream",
     "text": [
      "<class 'pandas.core.frame.DataFrame'>\n",
      "RangeIndex: 1649028 entries, 0 to 1649027\n",
      "Data columns (total 10 columns):\n",
      " #   Column              Non-Null Count    Dtype \n",
      "---  ------              --------------    ----- \n",
      " 0   sac_subject         1649028 non-null  object\n",
      " 1   sac_category        1649028 non-null  object\n",
      " 2   sac_customer_voice  1649028 non-null  object\n",
      " 3   sac_reason          499112 non-null   object\n",
      " 4   created_date        1649028 non-null  object\n",
      " 5   email_subject       1649027 non-null  object\n",
      " 6   message             1648416 non-null  object\n",
      " 7   problem             1638808 non-null  object\n",
      " 8   detail              530683 non-null   object\n",
      " 9   customer_email      1649028 non-null  object\n",
      "dtypes: object(10)\n",
      "memory usage: 125.8+ MB\n"
     ]
    }
   ],
   "source": [
    "df.info()"
   ]
  },
  {
   "cell_type": "code",
   "execution_count": 5,
   "metadata": {
    "id": "MXUjTGJ01xS2"
   },
   "outputs": [],
   "source": [
    "df.created_date = pd.to_datetime(df.created_date)"
   ]
  },
  {
   "cell_type": "code",
   "execution_count": 6,
   "metadata": {
    "colab": {
     "base_uri": "https://localhost:8080/"
    },
    "id": "3a0tVRkk1xS3",
    "outputId": "970f8d13-92a6-4dce-d4be-3ccbcacdddbb"
   },
   "outputs": [
    {
     "data": {
      "text/plain": [
       "(1649028, 10)"
      ]
     },
     "execution_count": 6,
     "metadata": {},
     "output_type": "execute_result"
    }
   ],
   "source": [
    "df.shape"
   ]
  },
  {
   "cell_type": "markdown",
   "metadata": {
    "id": "7qEDG7a-8prz"
   },
   "source": [
    "## EDA"
   ]
  },
  {
   "cell_type": "markdown",
   "metadata": {},
   "source": [
    "### Message"
   ]
  },
  {
   "cell_type": "code",
   "execution_count": 7,
   "metadata": {},
   "outputs": [],
   "source": [
    "##Remover emails sem mensagem definida\n",
    "df = df[~df['message'].isnull()]\n",
    "df = df.reset_index(drop=True)"
   ]
  },
  {
   "cell_type": "code",
   "execution_count": 8,
   "metadata": {},
   "outputs": [],
   "source": [
    "df['message_size'] = df.message.apply(len)"
   ]
  },
  {
   "cell_type": "code",
   "execution_count": 9,
   "metadata": {},
   "outputs": [
    {
     "data": {
      "text/plain": [
       "Text(0.5, 0, 'Número de caracteres')"
      ]
     },
     "execution_count": 9,
     "metadata": {},
     "output_type": "execute_result"
    },
    {
     "data": {
      "image/png": "[encoded data removed]",
      "text/plain": [
       "<Figure size 432x288 with 1 Axes>"
      ]
     },
     "metadata": {
      "needs_background": "light"
     },
     "output_type": "display_data"
    }
   ],
   "source": [
    "df['message_size'].hist(bins=200)\n",
    "plt.grid(alpha=0)\n",
    "plt.ylabel('Número de frases')\n",
    "plt.xlabel('Número de caracteres')"
   ]
  },
  {
   "cell_type": "code",
   "execution_count": 10,
   "metadata": {},
   "outputs": [
    {
     "data": {
      "text/plain": [
       "<AxesSubplot:>"
      ]
     },
     "execution_count": 10,
     "metadata": {},
     "output_type": "execute_result"
    },
    {
     "data": {
      "image/png": "[encoded data removed]",
      "text/plain": [
       "<Figure size 432x288 with 1 Axes>"
      ]
     },
     "metadata": {
      "needs_background": "light"
     },
     "output_type": "display_data"
    }
   ],
   "source": [
    "df[df.message_size < 3 * df.message_size.std()]['message_size'].hist(bins=200)"
   ]
  },
  {
   "cell_type": "code",
   "execution_count": 11,
   "metadata": {},
   "outputs": [],
   "source": [
    "df = df[df.message_size < 3 * df.message_size.std()]"
   ]
  },
  {
   "cell_type": "markdown",
   "metadata": {
    "id": "Gx9rlAQ01xTB"
   },
   "source": [
    "### Customer Voice"
   ]
  },
  {
   "cell_type": "code",
   "execution_count": 12,
   "metadata": {
    "colab": {
     "base_uri": "https://localhost:8080/"
    },
    "id": "GT5gHB_G1xTB",
    "outputId": "383fec5c-19ee-4a82-e771-0d5256f7e755"
   },
   "outputs": [
    {
     "data": {
      "text/plain": [
       "Ja realizei a compra e estou com dúvida sobre o andamento do pedido                        338172\n",
       "Ainda não devolvi meu produto e quero saber sobre processo de troca / devolução            200182\n",
       "Meu pedido ainda não chegou                                                                195030\n",
       "Estou arrependido, quero cancelar/trocar o produto                                          70875\n",
       "Meu problema não foi resolvido                                                              66493\n",
       "Já devolvi meu produto e quero saber o andamento da troca / devolução                       63992\n",
       "Como utilizar o cupom/vale                                                                  61600\n",
       "Quero alterar/incluir meu endereço de entrega                                               56819\n",
       "Pedido consta como entregue, mas não recebi                                                 46994\n",
       "Qual o prazo para devolução do valor que paguei?                                            44290\n",
       "Cliente solicitou a troca, mas não foi possível executar                                    38547\n",
       "Já devolvi meu produto mas não fui atendido                                                 33914\n",
       "Ainda não recebi meu produto e quero saber sobre processo de cancelamento                   29251\n",
       "Dados incorretos/Incompletos                                                                28755\n",
       "Resolvido por terceiros                                                                     26586\n",
       "Como me cadastrar/como comprar?                                                             23278\n",
       "Não recebi meu reembolso/estorno/vale                                                       20622\n",
       "Não consigo alterar meu cadastro                                                            20345\n",
       "Como recupero meu login e senha de acesso                                                   18930\n",
       "Meu pagamento foi aprovado?                                                                 17942\n",
       "Quero receber minha nota fiscal                                                             17249\n",
       "Quero novo código de postagem                                                               12279\n",
       "Cancelamento de vale                                                                        11330\n",
       "Não consigo verificar a Nota Fiscal/Rastreamento                                            11238\n",
       "Política da análise cadastral                                                               10497\n",
       "Retorno/ Agradecimento do cliente                                                            8993\n",
       "Não recebi/quero novo código de postagem                                                     8353\n",
       "Está faltando um item no pedido                                                              8070\n",
       "Ainda não realizei a compra  e quero  saber mais sobre condições de entrega/frete/prazo      7801\n",
       "Quero passar dados adicionais                                                                7583\n",
       "Name: sac_customer_voice, dtype: int64"
      ]
     },
     "execution_count": 12,
     "metadata": {},
     "output_type": "execute_result"
    }
   ],
   "source": [
    "df.sac_customer_voice.value_counts().head(30)"
   ]
  },
  {
   "cell_type": "code",
   "execution_count": 13,
   "metadata": {},
   "outputs": [
    {
     "data": {
      "text/plain": [
       "array(['Boa tarde, recebi minha encomenda mas não me serviu, estou desde o dia seguinte pra tentar fazer o pedido de troca. Faço as solicitações pelo site e até aqgora não recebi nenhum e-mail com o codigo de postagem! Aguardo um retorno pra poder realizar a minha troca e não perder o prazo pra realizar. Grata...',\n",
       "       'Solicitei a devolução dos produtos referente ao Pedido nº 4523791893 através do Site. A mensagem era de que eu receberia um email com o procedimento da devolução dos itens, porém até o momento não recebi nenhum email sobre a devolução.',\n",
       "       'Ainda não recebi o codigo mde postagem para troca, sendo assim solicito esse este codigo',\n",
       "       'bom dia! Solicito a troca do coturno por um numero maior ,pelo tamanho 37. ',\n",
       "       'Fiz a troca do item sutia liz meia taça firmador bege 42DD pelo tamanho 40DD dia 20 e ainda não recebi o e-mail com o códido da postagem para envio e troca do item.Houve algum problema?Pedido 4532981357Item  SKU- LI761APF20IGX 19360',\n",
       "       'Boa noite. Estou com meus dois últimos pedidos com prazo fora do tempo de troca, porém como foram muitos itens comprados não abrir todos de vez. Uma calça não serviu ficou muito apertada, outras blusas também. E o sueter também ficou curto. Mesmo fora do prazo estabelecido para troca da empresa, queria saber a possibilidade de troca por outros produtos ou de tamanho maior ? Grato e aguardo a resposta.',\n",
       "       'boa tarde, comprei uma bermuda da Kyly infantil camaleao preto KY689APM94BQZ10297 TAMANHO G, PORÉM NÃO SERVIU NA CRIANÇA. Como é o maior tamanho gostaria de ver a possibilidade de trocar por outra coisa, eu completaria o valor.Att.Aline Lenzi MaiaAguardo instruções para devolução da mercadoria.',\n",
       "       'Boa tarde a todos,Gentileza notar que solicitei um pedido para realização de troca devido eu ter comprado um numero a maior que o meu.Solicitei na sexta feira, porém até o momento não tive retorno.Preciso de um posicionamento com uma certa urgencia.Percebi que comprei o tenis pela kanui e quem me respondeu foi a Dafiti dizendo que não tenho nenhum pedido, sendo que se localizarem pelo CPF, verão que tenho uma compra recente pela Kanui.No aguardo dos vossos comentarios.Obrigado!',\n",
       "       'Fiz um pedido de uma mesa de jantar com 6 cadeiras, número do pedido 4477511019 a mesa de vídeo veio quebrada trincada e duas cadeiras vieram incompleta. Quero resolver esse assunto logo meu número 98 981387924 meu nome é Eli ',\n",
       "       'Boa tarde! Solicito a devolução dos 2 itens abaixo referente meu pedido:Camisa Aleatory Reta Logo Branca/Azul-MarinhoSKUAL925APM16IUTModeloAleatory 7059-K25/15Camisa Colcci Reta Listrada BrancaSKUCO515APM44NHVModeloColcci 031.01.03740',\n",
       "       'Bom dia. Gostaria de solicitar a troca do produto por um tamanho maior. Desde já, agradeço.',\n",
       "       'Boa tarde!Solicito a devolução do produto, pois não fiquei satisfeita.Grata.',\n",
       "       'Bom dia solicitação de cancelamento por favor mim ajudar com um retorno ',\n",
       "       'Boa tarde...Solicitei a devolução do item Tênis Kidy deste pedido no dia 18/10. Consta a informação que foi trocado ou devolvido, mas até o momento não recebi o e-mail com o código de postagem para devolver o produto.Aguardo retornoObrigadaRegiane',\n",
       "       'ola gostaria de saber se tem como eu fazer troca, se tem como entregador ou transportadora buscar produto no endereço foi entregue,eu nao estou morando mais nesse endereço mudei cidade, e nao consigo ir buscar a mercadoria para ir correio efetuar devolução, será que teria como fazer?',\n",
       "       'Meu pedido inclui duas calças e eu gostaria de devolver apenas uma delas, mas no pedido de devolução está incluído o valor das duas. Como devo proceder?',\n",
       "       'Olá, já solicitei a devolução de uma bota do pedido 4478802201, porém não foi mandado o código do correio, por favor poderiam me mandar para que eu possa levar até os correios ?',\n",
       "       'Recebi hj. o terceiro item deste pedido duplicado.Os outros 2 já devolvi.Jaqueta rosa calça marinho e hj.jaqueta listrada .como fica ?Preciso devolver.Espero o código.Boa noite.',\n",
       "       'Bom dia! Em relação ao pedido de numeração 4521675495, o tênis que comprei ficou pequeno, quero trocar por uma numeração maior. Att, Ana Carolina Carleto Silva Fone 34 99231-7556 ',\n",
       "       'Boa tarde,Gostaria de realizar a devolução do produto.Além de ter ficado grande, ele está com defeito na costura, em cima da biqueira do coturno.',\n",
       "       'Quero devolver os dois itens do pedido ',\n",
       "       'Gostaria de realizar a devolução do produto Sapatilha Dumond Injetada Logo Azul, porém não estou conseguindo via aplicativo. Poderiam por gentileza gerar a autorização de postagem? Obrigada ',\n",
       "       'Olá, gostaria de trocar apenas um item do pedido supracitado. Comprei 2 Calças Sarja Versatti Preta Roma 2 N.42, gostaria que uma fosse de N.44, mantendo a mesma cor. Obrigado!',\n",
       "       'Bom dia, fiz um pedido de devolução dia 09/05 até hoje não meDeram resposta ',\n",
       "       'Estou super decepcionada com a Dafiti , demorou demais pra entregar meu pedidos e todos os meus produtos vieram errados , cores e tamanhos errados !! Mais vou ficar com o produto pra mim não vale a pena a dor de cabeça para fazer devolução ?? ',\n",
       "       'TROCAR O TAMANCO CS METALIC MODELO 06211399785 PELO NUMERO 34.',\n",
       "       'Fiz a compra de 6 itens, porém 1 deles kit 2 pares de bota Rebento Cano Longo e Coturno casual Cano Curto, não me agradou, achei o material mto ruim. O canal para efetuar a troca não está funcionando, Clico e ele diz q a pág não está funcionando.Sendo assim não consigo efetuar a troca.Aguardo apoio para conclusão da devolução.Att.',\n",
       "       'PRECISO EFETUAR A TROCA DE UM ITEM DO PEDIDO 4494601831, O ITEM Tênis Puma Smash V2 Bdp PretoTam:36 | Cor:SKU: PU493SCM88LRB-62ESSE ITEM FICOU MUITO GRENDE, PREFISO TROCAR PELO NÚMERO 35',\n",
       "       'Boa tarde, comprei uma carteira a exatos 2 meses e a mesma já apresentou um defeito de fabrica ela caiu o botão e então não fecha mais, como devo proceder?',\n",
       "       'Gostaria de trocar meu produto por um numero maior ',\n",
       "       'boa noite não estou conseguindo acessar o icones de trocas e devoluções gostaria de esta trocando um chinelo havainas infantil no valor de 29,99',\n",
       "       'olá bom dia.Ontem eu recebi em duas etapas, 3 banquetes. Uma entrega realizada pela manhã foi entregue duas banquetes que conferem com minha compra. Já na entrega realizada na tarde de ontem foi entregue uma banquete de modelo errado. Já tentei contato telefônico sem sucesso. Aguardo o contato para saber como proceder. ',\n",
       "       'Tem um tempinho que fiz o pedido de cancelamento e constatou como troca e agora consta q eu não tenho nenhum pedido ',\n",
       "       'Boa tarde. Queria devolver o produto e pedi a devolução pelo site mas não recebi um email com o código de devolução nos correios, poderiam me enviar? obrigada',\n",
       "       'Olá, bom dia!Eu gostaria de saber se é possível trocar fazer a troca de um produto SKU: AH203APF40UBV-50, vendido pelo marketplace na Dafiti antes que ele seja despachado para envio. Fiz o pedido e o respectivo pagamento via boelto ontem, 27/04/20 e gostaria de trocar o tamanho da peça, do 38 para o tamanho 40.É possível ou preciso esperar o despachamento da mercadoria para solicitar a troca?Aguardo retorno,Jordana do Amaral',\n",
       "       'Boa tarde. Num dia comprei uma sandália. No mesmo dia solicitei a troca da numeração.hoje recebi a sandália ,porém não gostei. Estou tentando no site a solicitação de troca ou devolução, não estou conseguindo.  Como faço? ?? Quero devolver esse produto ',\n",
       "       'Comprei 5 camisetas do msm tamanho n. 14 e 3 delas foram minúsculos muito insatisfeito.',\n",
       "       'BOM DIA,ESTOU TENTANDO FAZER A DEVOLUÇAO DESSE PEDIDO 19616770,E NÃO ESTOU CONSEGUINDO,ESTA DANDO ERRO NA PAGINA DE TROCA E DEVOLUÇAO,GOSTARIA DE ESTAR TROCANDO ESSE PRODUTOS POR OUTRO PRODUTO,MOTIVO FICARAM GRANDES,1 BODY PRETO CALVIN KLEIN PRETO E UMA CAMISA RETA CALVIN KLEIN ROSA,GOSTARIA Q POR GENTILEZA VCS ME ENVIASSEM O CODIGO DE DEVOLUCAO DOS CORREIOS  POR E-MAIL,DESDE JA AGRADEÇO',\n",
       "       'Gostaria de solicitar a devolução do produto! Na foto era uma calça cinza e uma preta, depois na descrição só falava cor preta. E quando chegou era uma cor azul marinho e outra azul mais clara, com uma qualidade bem ruim, péssimo! Estou bem insatisfeita com o produto por isso quero devolver e comprar outro produto.',\n",
       "       'Gostaria de devolver a compra de numero 56109687, pois veio o modelo errado do escolhido. Gostaria  de cancelar a comprar e ficar com um haver na loja. Por favor enviar o código de postagem para devolução. ',\n",
       "       'Gostaria de solicitar a  devolução do produto bota feminina pois não gostei e ficou apertado.',\n",
       "       'Olá,Gostaria de devolver o produto SKU: GA575APM28GKL. Ficou super grande apesar de ter comprado o tamanho certo.Aguardo resposta. Obrigado. ',\n",
       "       'Preciso que me envie um código de postagem para devolver as sandálias, pois não vou querer nenhuma. Todas vieram errada. Quero meu dinheiro de volta....',\n",
       "       'Boa tarde !Fiz a troca do pedido 4484421729 por um número menor porém agora o sapato ficou apertado.Com isso gostaria de devolver este produtoGrato',\n",
       "       'Boa noite! Sempre gostei das sapatilhas santa lola, mas estou muito decepcionada com as últimas aquisições, pois estão todas soltando a sola. Já mandei em sapateiro 2 vezes e mesmo assim a sola descola. Sempre compro sapatos na dafiti e sempre elogiei e indiquei, mas essas últimas compras me deixou bastante descontente.E não pense que usei muitas vezes os sapatos, basta usar uma única vez que a sola começa a soltar, primeiro no bico e depois no sapato todo. Chato isso, ainda mais que uso muito para trabalho.',\n",
       "       'Bom dia.Realizei o pedido de uma blusa de frio da GAP rosa, e me enviaram um na cor preta!Gostaria de realizar a troca do pedido. ',\n",
       "       'Produto apresentou problemaBota democrata preta.Rasgos no couro, na área de amarrar.',\n",
       "       'Pedido errado pedir calça e short feminino e chegou duas camisas número p e outra coisa a transportadora entregou em outro local na o mesmo que eu sempre recebo fico a aguardo da resposta no telefone 92 981474144 Marcelo ou Eliene  CPF 25869424852',\n",
       "       'Olá, bom dia.Fiz a solicitação de troca/devoluções de 2 produtos, há 1 semana e até agora não recebi o código de postagem.',\n",
       "       'De acordo com o art. 49 do Código de Defesa do Consumidor (Lei nº 8.078/1990), venho por meio deste solicitar cancelamento desse produto.Desde já agradeço,Luís Matos'],\n",
       "      dtype=object)"
      ]
     },
     "execution_count": 13,
     "metadata": {},
     "output_type": "execute_result"
    }
   ],
   "source": [
    "df[df['sac_customer_voice'] == 'Cliente solicitou a troca, mas não foi possível executar']['message'].sample(50).values"
   ]
  },
  {
   "cell_type": "code",
   "execution_count": 14,
   "metadata": {},
   "outputs": [],
   "source": [
    "group_cv = [\n",
    "    'Ainda não devolvi meu produto e quero saber sobre processo de troca / devolução',\n",
    "    'Estou arrependido, quero cancelar/trocar o produto',\n",
    "    'Ainda não recebi meu produto e quero saber sobre processo de cancelamento',\n",
    "    'Cliente solicitou a troca, mas não foi possível executar'\n",
    "]\n",
    "df['customer_voice_grouped'] = df['sac_customer_voice'].apply(lambda x: 'Arrependimento' if x in group_cv else x)\n"
   ]
  },
  {
   "cell_type": "code",
   "execution_count": 15,
   "metadata": {},
   "outputs": [
    {
     "data": {
      "text/plain": [
       "Arrependimento                                                           0.211587\n",
       "Ja realizei a compra e estou com dúvida sobre o andamento do pedido      0.211161\n",
       "Meu pedido ainda não chegou                                              0.121780\n",
       "Meu problema não foi resolvido                                           0.041519\n",
       "Já devolvi meu produto e quero saber o andamento da troca / devolução    0.039958\n",
       "Como utilizar o cupom/vale                                               0.038464\n",
       "Quero alterar/incluir meu endereço de entrega                            0.035479\n",
       "Pedido consta como entregue, mas não recebi                              0.029344\n",
       "Qual o prazo para devolução do valor que paguei?                         0.027655\n",
       "Já devolvi meu produto mas não fui atendido                              0.021177\n",
       "Dados incorretos/Incompletos                                             0.017955\n",
       "Resolvido por terceiros                                                  0.016601\n",
       "Como me cadastrar/como comprar?                                          0.014535\n",
       "Não recebi meu reembolso/estorno/vale                                    0.012877\n",
       "Não consigo alterar meu cadastro                                         0.012704\n",
       "Como recupero meu login e senha de acesso                                0.011820\n",
       "Meu pagamento foi aprovado?                                              0.011203\n",
       "Quero receber minha nota fiscal                                          0.010771\n",
       "Quero novo código de postagem                                            0.007667\n",
       "Cancelamento de vale                                                     0.007075\n",
       "Name: customer_voice_grouped, dtype: float64"
      ]
     },
     "execution_count": 15,
     "metadata": {},
     "output_type": "execute_result"
    }
   ],
   "source": [
    "df.customer_voice_grouped.value_counts(normalize=True).head(20)"
   ]
  },
  {
   "cell_type": "markdown",
   "metadata": {
    "id": "3cQQecCsVaRY"
   },
   "source": [
    "### Problem"
   ]
  },
  {
   "cell_type": "code",
   "execution_count": 16,
   "metadata": {
    "colab": {
     "base_uri": "https://localhost:8080/"
    },
    "id": "zDxfPB2rVZh-",
    "outputId": "2396005f-947f-46db-9d45-36a63d17469d"
   },
   "outputs": [
    {
     "name": "stdout",
     "output_type": "stream",
     "text": [
      "99.4% dos emails criados tem o problema definido\n"
     ]
    }
   ],
   "source": [
    "print('{:.1%} dos emails criados tem o problema definido'.format(df.count()['problem']/df.shape[0]))"
   ]
  },
  {
   "cell_type": "code",
   "execution_count": 17,
   "metadata": {},
   "outputs": [
    {
     "data": {
      "text/plain": [
       "Problemas com a entrega                                                                   430712\n",
       "Outros                                                                                    355479\n",
       "Trocar, cancelar ou devolver                                                              256389\n",
       "Dúvida sobre o andamento do meu pedido                                                    146999\n",
       "Andamento da minha troca                                                                  144752\n",
       "Vales e Reembolso                                                                         111841\n",
       "Vales e reembolsos                                                                         51378\n",
       "Pagamento                                                                                  45875\n",
       "Cadastro                                                                                   30436\n",
       "Promoções                                                                                  12104\n",
       "Nota Fiscal                                                                                 5043\n",
       "Problemas com a entregaPROBLEMA: Problemas com a entrega                                      69\n",
       "Others                                                                                        17\n",
       "Otros                                                                                         16\n",
       "Dúvida sobre o andamento do meu pedidoPROBLEMA: Dúvida sobre o andamento do meu pedido        14\n",
       "OutrosPROBLEMA: Outros                                                                        13\n",
       "cancelar                                                                                      12\n",
       "cancelar                                                                                      12\n",
       "Andamento da minha trocaPROBLEMA: Andamento da minha troca                                    11\n",
       "Problemas com a entregaPROBLEMA: Outros                                                        9\n",
       "Cancelamento                                                                                   7\n",
       "Trocar                                                                                         7\n",
       "Trocar, cancelar ou devolverPROBLEMA: Trocar, cancelar ou devolver                             7\n",
       "바우처 및 환불                                                                                       6\n",
       "Problemas com a entrega                                                                        6\n",
       "Vouchers and Refunds                                                                           6\n",
       "배송 문제                                                                                          5\n",
       "endereço errado                                                                                5\n",
       "Vales e reembolsosPROBLEMA: Vales e reembolsos                                                 4\n",
       "Problemas de entrega                                                                           4\n",
       "Name: problem, dtype: int64"
      ]
     },
     "execution_count": 17,
     "metadata": {},
     "output_type": "execute_result"
    }
   ],
   "source": [
    "df['problem'].value_counts()[:30]"
   ]
  },
  {
   "cell_type": "code",
   "execution_count": 18,
   "metadata": {},
   "outputs": [],
   "source": [
    "problems_list = [\n",
    "  'Problemas com a entrega',\n",
    "  'Outros',\n",
    "  'Trocar, cancelar ou devolver',\n",
    "  'Andamento da minha troca',\n",
    "  'Vales e Reembolso',\n",
    "  'Dúvida sobre o andamento do meu pedido',\n",
    "  'Vales e reembolsos',\n",
    "  'Pagamento',\n",
    "  'Cadastro',\n",
    "  'Nota Fiscal',\n",
    "  'Promoções'\n",
    "]\n",
    "df['problem'] = df['problem'].apply(lambda x: x if x in problems_list else np.nan)\n",
    "df['problem'].replace('Vales e reembolsos', 'Vales e Reembolso', inplace=True)"
   ]
  },
  {
   "cell_type": "code",
   "execution_count": 19,
   "metadata": {
    "colab": {
     "base_uri": "https://localhost:8080/",
     "height": 391
    },
    "id": "91UbO0iGyO_z",
    "outputId": "c95c6f9b-b748-4f98-c11e-4284761b6c59"
   },
   "outputs": [
    {
     "data": {
      "text/plain": [
       "<AxesSubplot:>"
      ]
     },
     "execution_count": 19,
     "metadata": {},
     "output_type": "execute_result"
    },
    {
     "data": {
      "image/png": "[encoded data removed]",
      "text/plain": [
       "<Figure size 1008x432 with 1 Axes>"
      ]
     },
     "metadata": {
      "needs_background": "light"
     },
     "output_type": "display_data"
    }
   ],
   "source": [
    "df['problem'].value_counts().plot(kind='barh', figsize=(14,6))"
   ]
  },
  {
   "cell_type": "code",
   "execution_count": 20,
   "metadata": {
    "colab": {
     "base_uri": "https://localhost:8080/",
     "height": 380
    },
    "id": "ssI8ns7jQtyG",
    "outputId": "63515a8d-1a50-44ff-a91c-e74dffa9cb36"
   },
   "outputs": [
    {
     "data": {
      "text/html": [
       "<div>\n",
       "<style scoped>\n",
       "    .dataframe tbody tr th:only-of-type {\n",
       "        vertical-align: middle;\n",
       "    }\n",
       "\n",
       "    .dataframe tbody tr th {\n",
       "        vertical-align: top;\n",
       "    }\n",
       "\n",
       "    .dataframe thead th {\n",
       "        text-align: right;\n",
       "    }\n",
       "</style>\n",
       "<table border=\"1\" class=\"dataframe\">\n",
       "  <thead>\n",
       "    <tr style=\"text-align: right;\">\n",
       "      <th>problem</th>\n",
       "      <th>Andamento da minha troca</th>\n",
       "      <th>Cadastro</th>\n",
       "      <th>Dúvida sobre o andamento do meu pedido</th>\n",
       "      <th>Nota Fiscal</th>\n",
       "      <th>Outros</th>\n",
       "      <th>Pagamento</th>\n",
       "      <th>Problemas com a entrega</th>\n",
       "      <th>Promoções</th>\n",
       "      <th>Trocar, cancelar ou devolver</th>\n",
       "      <th>Vales e Reembolso</th>\n",
       "    </tr>\n",
       "    <tr>\n",
       "      <th>sac_category</th>\n",
       "      <th></th>\n",
       "      <th></th>\n",
       "      <th></th>\n",
       "      <th></th>\n",
       "      <th></th>\n",
       "      <th></th>\n",
       "      <th></th>\n",
       "      <th></th>\n",
       "      <th></th>\n",
       "      <th></th>\n",
       "    </tr>\n",
       "  </thead>\n",
       "  <tbody>\n",
       "    <tr>\n",
       "      <th>Ativo</th>\n",
       "      <td>0.000615</td>\n",
       "      <td>0.000723</td>\n",
       "      <td>0.000238</td>\n",
       "      <td>NaN</td>\n",
       "      <td>0.000917</td>\n",
       "      <td>0.000741</td>\n",
       "      <td>0.000476</td>\n",
       "      <td>0.000744</td>\n",
       "      <td>0.000807</td>\n",
       "      <td>0.000705</td>\n",
       "    </tr>\n",
       "    <tr>\n",
       "      <th>Elogio</th>\n",
       "      <td>0.000007</td>\n",
       "      <td>NaN</td>\n",
       "      <td>0.000014</td>\n",
       "      <td>NaN</td>\n",
       "      <td>0.000416</td>\n",
       "      <td>NaN</td>\n",
       "      <td>0.000056</td>\n",
       "      <td>0.000083</td>\n",
       "      <td>0.000008</td>\n",
       "      <td>0.000006</td>\n",
       "    </tr>\n",
       "    <tr>\n",
       "      <th>Exceção</th>\n",
       "      <td>0.000021</td>\n",
       "      <td>NaN</td>\n",
       "      <td>NaN</td>\n",
       "      <td>NaN</td>\n",
       "      <td>0.000068</td>\n",
       "      <td>0.000044</td>\n",
       "      <td>0.000016</td>\n",
       "      <td>0.000413</td>\n",
       "      <td>0.000008</td>\n",
       "      <td>0.000086</td>\n",
       "    </tr>\n",
       "    <tr>\n",
       "      <th>Improdutivo</th>\n",
       "      <td>0.028587</td>\n",
       "      <td>0.017939</td>\n",
       "      <td>0.021157</td>\n",
       "      <td>0.025382</td>\n",
       "      <td>0.059964</td>\n",
       "      <td>0.044556</td>\n",
       "      <td>0.033598</td>\n",
       "      <td>0.041391</td>\n",
       "      <td>0.053442</td>\n",
       "      <td>0.043402</td>\n",
       "    </tr>\n",
       "    <tr>\n",
       "      <th>Informação</th>\n",
       "      <td>0.662333</td>\n",
       "      <td>0.939085</td>\n",
       "      <td>0.592834</td>\n",
       "      <td>0.178465</td>\n",
       "      <td>0.661386</td>\n",
       "      <td>0.788316</td>\n",
       "      <td>0.463103</td>\n",
       "      <td>0.884831</td>\n",
       "      <td>0.552067</td>\n",
       "      <td>0.590293</td>\n",
       "    </tr>\n",
       "    <tr>\n",
       "      <th>Reclamação</th>\n",
       "      <td>0.220715</td>\n",
       "      <td>0.018761</td>\n",
       "      <td>0.339968</td>\n",
       "      <td>0.021019</td>\n",
       "      <td>0.146256</td>\n",
       "      <td>0.097984</td>\n",
       "      <td>0.482014</td>\n",
       "      <td>0.035443</td>\n",
       "      <td>0.069558</td>\n",
       "      <td>0.255767</td>\n",
       "    </tr>\n",
       "    <tr>\n",
       "      <th>Solicitação</th>\n",
       "      <td>0.087702</td>\n",
       "      <td>0.023426</td>\n",
       "      <td>0.045715</td>\n",
       "      <td>0.775134</td>\n",
       "      <td>0.129721</td>\n",
       "      <td>0.067117</td>\n",
       "      <td>0.020626</td>\n",
       "      <td>0.032716</td>\n",
       "      <td>0.324074</td>\n",
       "      <td>0.109589</td>\n",
       "    </tr>\n",
       "    <tr>\n",
       "      <th>Sugestão</th>\n",
       "      <td>0.000007</td>\n",
       "      <td>NaN</td>\n",
       "      <td>NaN</td>\n",
       "      <td>NaN</td>\n",
       "      <td>0.000779</td>\n",
       "      <td>0.000109</td>\n",
       "      <td>0.000060</td>\n",
       "      <td>0.000578</td>\n",
       "      <td>0.000016</td>\n",
       "      <td>0.000006</td>\n",
       "    </tr>\n",
       "    <tr>\n",
       "      <th>Vendas</th>\n",
       "      <td>0.000014</td>\n",
       "      <td>0.000066</td>\n",
       "      <td>0.000075</td>\n",
       "      <td>NaN</td>\n",
       "      <td>0.000492</td>\n",
       "      <td>0.001134</td>\n",
       "      <td>0.000051</td>\n",
       "      <td>0.003800</td>\n",
       "      <td>0.000020</td>\n",
       "      <td>0.000147</td>\n",
       "    </tr>\n",
       "  </tbody>\n",
       "</table>\n",
       "</div>"
      ],
      "text/plain": [
       "problem       Andamento da minha troca  Cadastro  \\\n",
       "sac_category                                       \n",
       "Ativo                         0.000615  0.000723   \n",
       "Elogio                        0.000007       NaN   \n",
       "Exceção                       0.000021       NaN   \n",
       "Improdutivo                   0.028587  0.017939   \n",
       "Informação                    0.662333  0.939085   \n",
       "Reclamação                    0.220715  0.018761   \n",
       "Solicitação                   0.087702  0.023426   \n",
       "Sugestão                      0.000007       NaN   \n",
       "Vendas                        0.000014  0.000066   \n",
       "\n",
       "problem       Dúvida sobre o andamento do meu pedido  Nota Fiscal    Outros  \\\n",
       "sac_category                                                                  \n",
       "Ativo                                       0.000238          NaN  0.000917   \n",
       "Elogio                                      0.000014          NaN  0.000416   \n",
       "Exceção                                          NaN          NaN  0.000068   \n",
       "Improdutivo                                 0.021157     0.025382  0.059964   \n",
       "Informação                                  0.592834     0.178465  0.661386   \n",
       "Reclamação                                  0.339968     0.021019  0.146256   \n",
       "Solicitação                                 0.045715     0.775134  0.129721   \n",
       "Sugestão                                         NaN          NaN  0.000779   \n",
       "Vendas                                      0.000075          NaN  0.000492   \n",
       "\n",
       "problem       Pagamento  Problemas com a entrega  Promoções  \\\n",
       "sac_category                                                  \n",
       "Ativo          0.000741                 0.000476   0.000744   \n",
       "Elogio              NaN                 0.000056   0.000083   \n",
       "Exceção        0.000044                 0.000016   0.000413   \n",
       "Improdutivo    0.044556                 0.033598   0.041391   \n",
       "Informação     0.788316                 0.463103   0.884831   \n",
       "Reclamação     0.097984                 0.482014   0.035443   \n",
       "Solicitação    0.067117                 0.020626   0.032716   \n",
       "Sugestão       0.000109                 0.000060   0.000578   \n",
       "Vendas         0.001134                 0.000051   0.003800   \n",
       "\n",
       "problem       Trocar, cancelar ou devolver  Vales e Reembolso  \n",
       "sac_category                                                   \n",
       "Ativo                             0.000807           0.000705  \n",
       "Elogio                            0.000008           0.000006  \n",
       "Exceção                           0.000008           0.000086  \n",
       "Improdutivo                       0.053442           0.043402  \n",
       "Informação                        0.552067           0.590293  \n",
       "Reclamação                        0.069558           0.255767  \n",
       "Solicitação                       0.324074           0.109589  \n",
       "Sugestão                          0.000016           0.000006  \n",
       "Vendas                            0.000020           0.000147  "
      ]
     },
     "execution_count": 20,
     "metadata": {},
     "output_type": "execute_result"
    }
   ],
   "source": [
    "pv1 = df.pivot_table(values='sac_subject', index='sac_category', columns='problem', aggfunc='count')\n",
    "pv1.div(pv1.sum())"
   ]
  },
  {
   "cell_type": "code",
   "execution_count": 21,
   "metadata": {
    "colab": {
     "base_uri": "https://localhost:8080/",
     "height": 863
    },
    "id": "f377RP1ZUIJ4",
    "outputId": "583a64f5-5d26-49d4-f09d-f9c296ad9d95",
    "scrolled": true
   },
   "outputs": [
    {
     "data": {
      "text/html": [
       "<div>\n",
       "<style scoped>\n",
       "    .dataframe tbody tr th:only-of-type {\n",
       "        vertical-align: middle;\n",
       "    }\n",
       "\n",
       "    .dataframe tbody tr th {\n",
       "        vertical-align: top;\n",
       "    }\n",
       "\n",
       "    .dataframe thead th {\n",
       "        text-align: right;\n",
       "    }\n",
       "</style>\n",
       "<table border=\"1\" class=\"dataframe\">\n",
       "  <thead>\n",
       "    <tr style=\"text-align: right;\">\n",
       "      <th>problem</th>\n",
       "      <th>Andamento da minha troca</th>\n",
       "      <th>Cadastro</th>\n",
       "      <th>Dúvida sobre o andamento do meu pedido</th>\n",
       "      <th>Nota Fiscal</th>\n",
       "      <th>Outros</th>\n",
       "      <th>Pagamento</th>\n",
       "      <th>Problemas com a entrega</th>\n",
       "      <th>Promoções</th>\n",
       "      <th>Trocar, cancelar ou devolver</th>\n",
       "      <th>Vales e Reembolso</th>\n",
       "    </tr>\n",
       "    <tr>\n",
       "      <th>sac_customer_voice</th>\n",
       "      <th></th>\n",
       "      <th></th>\n",
       "      <th></th>\n",
       "      <th></th>\n",
       "      <th></th>\n",
       "      <th></th>\n",
       "      <th></th>\n",
       "      <th></th>\n",
       "      <th></th>\n",
       "      <th></th>\n",
       "    </tr>\n",
       "  </thead>\n",
       "  <tbody>\n",
       "    <tr>\n",
       "      <th>Ja realizei a compra e estou com dúvida sobre o andamento do pedido</th>\n",
       "      <td>0.030225</td>\n",
       "      <td>0.001173</td>\n",
       "      <td>0.230538</td>\n",
       "      <td>0.000937</td>\n",
       "      <td>0.198870</td>\n",
       "      <td>0.042072</td>\n",
       "      <td>0.428670</td>\n",
       "      <td>0.001705</td>\n",
       "      <td>0.037674</td>\n",
       "      <td>0.028135</td>\n",
       "    </tr>\n",
       "    <tr>\n",
       "      <th>Ainda não devolvi meu produto e quero saber sobre processo de troca / devolução</th>\n",
       "      <td>0.196648</td>\n",
       "      <td>0.000368</td>\n",
       "      <td>0.002247</td>\n",
       "      <td>0.002565</td>\n",
       "      <td>0.227873</td>\n",
       "      <td>0.001154</td>\n",
       "      <td>0.023874</td>\n",
       "      <td>0.000519</td>\n",
       "      <td>0.513043</td>\n",
       "      <td>0.031709</td>\n",
       "    </tr>\n",
       "    <tr>\n",
       "      <th>Meu pedido ainda não chegou</th>\n",
       "      <td>0.007987</td>\n",
       "      <td>0.000103</td>\n",
       "      <td>0.214968</td>\n",
       "      <td>0.000124</td>\n",
       "      <td>0.097190</td>\n",
       "      <td>0.001473</td>\n",
       "      <td>0.630924</td>\n",
       "      <td>0.000113</td>\n",
       "      <td>0.022364</td>\n",
       "      <td>0.024753</td>\n",
       "    </tr>\n",
       "    <tr>\n",
       "      <th>Estou arrependido, quero cancelar/trocar o produto</th>\n",
       "      <td>0.028996</td>\n",
       "      <td>0.000170</td>\n",
       "      <td>0.006759</td>\n",
       "      <td>0.000227</td>\n",
       "      <td>0.179328</td>\n",
       "      <td>0.024636</td>\n",
       "      <td>0.035528</td>\n",
       "      <td>0.002073</td>\n",
       "      <td>0.693599</td>\n",
       "      <td>0.028683</td>\n",
       "    </tr>\n",
       "    <tr>\n",
       "      <th>Meu problema não foi resolvido</th>\n",
       "      <td>0.068039</td>\n",
       "      <td>0.000242</td>\n",
       "      <td>0.078663</td>\n",
       "      <td>0.000877</td>\n",
       "      <td>0.126028</td>\n",
       "      <td>0.004791</td>\n",
       "      <td>0.544780</td>\n",
       "      <td>0.000287</td>\n",
       "      <td>0.046004</td>\n",
       "      <td>0.130290</td>\n",
       "    </tr>\n",
       "    <tr>\n",
       "      <th>Já devolvi meu produto e quero saber o andamento da troca / devolução</th>\n",
       "      <td>0.450300</td>\n",
       "      <td>0.000252</td>\n",
       "      <td>0.005583</td>\n",
       "      <td>0.000189</td>\n",
       "      <td>0.112060</td>\n",
       "      <td>0.001132</td>\n",
       "      <td>0.013620</td>\n",
       "      <td>0.000142</td>\n",
       "      <td>0.065710</td>\n",
       "      <td>0.351011</td>\n",
       "    </tr>\n",
       "    <tr>\n",
       "      <th>Como utilizar o cupom/vale</th>\n",
       "      <td>0.144955</td>\n",
       "      <td>0.000606</td>\n",
       "      <td>0.033034</td>\n",
       "      <td>0.000082</td>\n",
       "      <td>0.178955</td>\n",
       "      <td>0.006859</td>\n",
       "      <td>0.150619</td>\n",
       "      <td>0.030088</td>\n",
       "      <td>0.031381</td>\n",
       "      <td>0.423422</td>\n",
       "    </tr>\n",
       "    <tr>\n",
       "      <th>Quero alterar/incluir meu endereço de entrega</th>\n",
       "      <td>0.004364</td>\n",
       "      <td>0.003353</td>\n",
       "      <td>0.020507</td>\n",
       "      <td>0.000018</td>\n",
       "      <td>0.526928</td>\n",
       "      <td>0.001259</td>\n",
       "      <td>0.420138</td>\n",
       "      <td>0.000142</td>\n",
       "      <td>0.021873</td>\n",
       "      <td>0.001419</td>\n",
       "    </tr>\n",
       "    <tr>\n",
       "      <th>Pedido consta como entregue, mas não recebi</th>\n",
       "      <td>0.005688</td>\n",
       "      <td>0.000021</td>\n",
       "      <td>0.031390</td>\n",
       "      <td>0.000043</td>\n",
       "      <td>0.095965</td>\n",
       "      <td>0.000342</td>\n",
       "      <td>0.852952</td>\n",
       "      <td>0.000086</td>\n",
       "      <td>0.006607</td>\n",
       "      <td>0.006907</td>\n",
       "    </tr>\n",
       "    <tr>\n",
       "      <th>Qual o prazo para devolução do valor que paguei?</th>\n",
       "      <td>0.157564</td>\n",
       "      <td>0.000136</td>\n",
       "      <td>0.010133</td>\n",
       "      <td>0.000114</td>\n",
       "      <td>0.156496</td>\n",
       "      <td>0.011292</td>\n",
       "      <td>0.045554</td>\n",
       "      <td>0.000409</td>\n",
       "      <td>0.082565</td>\n",
       "      <td>0.535739</td>\n",
       "    </tr>\n",
       "    <tr>\n",
       "      <th>Cliente solicitou a troca, mas não foi possível executar</th>\n",
       "      <td>0.086422</td>\n",
       "      <td>0.000525</td>\n",
       "      <td>0.004878</td>\n",
       "      <td>0.000236</td>\n",
       "      <td>0.202140</td>\n",
       "      <td>0.002439</td>\n",
       "      <td>0.041519</td>\n",
       "      <td>0.000761</td>\n",
       "      <td>0.610538</td>\n",
       "      <td>0.050542</td>\n",
       "    </tr>\n",
       "    <tr>\n",
       "      <th>Já devolvi meu produto mas não fui atendido</th>\n",
       "      <td>0.411627</td>\n",
       "      <td>0.000148</td>\n",
       "      <td>0.002192</td>\n",
       "      <td>0.000030</td>\n",
       "      <td>0.067494</td>\n",
       "      <td>0.000474</td>\n",
       "      <td>0.011491</td>\n",
       "      <td>0.000030</td>\n",
       "      <td>0.025884</td>\n",
       "      <td>0.480631</td>\n",
       "    </tr>\n",
       "    <tr>\n",
       "      <th>Ainda não recebi meu produto e quero saber sobre processo de cancelamento</th>\n",
       "      <td>0.024570</td>\n",
       "      <td>0.000276</td>\n",
       "      <td>0.028745</td>\n",
       "      <td>0.000173</td>\n",
       "      <td>0.294110</td>\n",
       "      <td>0.037234</td>\n",
       "      <td>0.130819</td>\n",
       "      <td>0.004969</td>\n",
       "      <td>0.385693</td>\n",
       "      <td>0.093412</td>\n",
       "    </tr>\n",
       "    <tr>\n",
       "      <th>Dados incorretos/Incompletos</th>\n",
       "      <td>0.083178</td>\n",
       "      <td>0.014425</td>\n",
       "      <td>0.059348</td>\n",
       "      <td>0.002738</td>\n",
       "      <td>0.332924</td>\n",
       "      <td>0.043835</td>\n",
       "      <td>0.202892</td>\n",
       "      <td>0.010178</td>\n",
       "      <td>0.131927</td>\n",
       "      <td>0.118555</td>\n",
       "    </tr>\n",
       "    <tr>\n",
       "      <th>Resolvido por terceiros</th>\n",
       "      <td>0.046004</td>\n",
       "      <td>0.001175</td>\n",
       "      <td>0.035697</td>\n",
       "      <td>0.000568</td>\n",
       "      <td>0.226041</td>\n",
       "      <td>0.017886</td>\n",
       "      <td>0.218121</td>\n",
       "      <td>0.002653</td>\n",
       "      <td>0.347380</td>\n",
       "      <td>0.104475</td>\n",
       "    </tr>\n",
       "    <tr>\n",
       "      <th>Como me cadastrar/como comprar?</th>\n",
       "      <td>0.003930</td>\n",
       "      <td>0.045563</td>\n",
       "      <td>0.005830</td>\n",
       "      <td>0.000389</td>\n",
       "      <td>0.618009</td>\n",
       "      <td>0.073893</td>\n",
       "      <td>0.009069</td>\n",
       "      <td>0.186223</td>\n",
       "      <td>0.010408</td>\n",
       "      <td>0.046685</td>\n",
       "    </tr>\n",
       "    <tr>\n",
       "      <th>Não recebi meu reembolso/estorno/vale</th>\n",
       "      <td>0.198408</td>\n",
       "      <td>0.000439</td>\n",
       "      <td>0.021237</td>\n",
       "      <td>0.000098</td>\n",
       "      <td>0.140653</td>\n",
       "      <td>0.002685</td>\n",
       "      <td>0.097349</td>\n",
       "      <td>0.000439</td>\n",
       "      <td>0.033784</td>\n",
       "      <td>0.504907</td>\n",
       "    </tr>\n",
       "    <tr>\n",
       "      <th>Não consigo alterar meu cadastro</th>\n",
       "      <td>0.005915</td>\n",
       "      <td>0.639854</td>\n",
       "      <td>0.006062</td>\n",
       "      <td>0.000148</td>\n",
       "      <td>0.310710</td>\n",
       "      <td>0.004732</td>\n",
       "      <td>0.010400</td>\n",
       "      <td>0.000739</td>\n",
       "      <td>0.013505</td>\n",
       "      <td>0.007935</td>\n",
       "    </tr>\n",
       "    <tr>\n",
       "      <th>Como recupero meu login e senha de acesso</th>\n",
       "      <td>0.005989</td>\n",
       "      <td>0.711681</td>\n",
       "      <td>0.005512</td>\n",
       "      <td>0.000053</td>\n",
       "      <td>0.247986</td>\n",
       "      <td>0.002491</td>\n",
       "      <td>0.004558</td>\n",
       "      <td>0.000212</td>\n",
       "      <td>0.012826</td>\n",
       "      <td>0.008692</td>\n",
       "    </tr>\n",
       "    <tr>\n",
       "      <th>Meu pagamento foi aprovado?</th>\n",
       "      <td>0.004839</td>\n",
       "      <td>0.000675</td>\n",
       "      <td>0.088955</td>\n",
       "      <td>0.000563</td>\n",
       "      <td>0.264052</td>\n",
       "      <td>0.526023</td>\n",
       "      <td>0.035447</td>\n",
       "      <td>0.003320</td>\n",
       "      <td>0.043943</td>\n",
       "      <td>0.032184</td>\n",
       "    </tr>\n",
       "  </tbody>\n",
       "</table>\n",
       "</div>"
      ],
      "text/plain": [
       "problem                                             Andamento da minha troca  \\\n",
       "sac_customer_voice                                                             \n",
       "Ja realizei a compra e estou com dúvida sobre o...                  0.030225   \n",
       "Ainda não devolvi meu produto e quero saber sob...                  0.196648   \n",
       "Meu pedido ainda não chegou                                         0.007987   \n",
       "Estou arrependido, quero cancelar/trocar o produto                  0.028996   \n",
       "Meu problema não foi resolvido                                      0.068039   \n",
       "Já devolvi meu produto e quero saber o andament...                  0.450300   \n",
       "Como utilizar o cupom/vale                                          0.144955   \n",
       "Quero alterar/incluir meu endereço de entrega                       0.004364   \n",
       "Pedido consta como entregue, mas não recebi                         0.005688   \n",
       "Qual o prazo para devolução do valor que paguei?                    0.157564   \n",
       "Cliente solicitou a troca, mas não foi possível...                  0.086422   \n",
       "Já devolvi meu produto mas não fui atendido                         0.411627   \n",
       "Ainda não recebi meu produto e quero saber sobr...                  0.024570   \n",
       "Dados incorretos/Incompletos                                        0.083178   \n",
       "Resolvido por terceiros                                             0.046004   \n",
       "Como me cadastrar/como comprar?                                     0.003930   \n",
       "Não recebi meu reembolso/estorno/vale                               0.198408   \n",
       "Não consigo alterar meu cadastro                                    0.005915   \n",
       "Como recupero meu login e senha de acesso                           0.005989   \n",
       "Meu pagamento foi aprovado?                                         0.004839   \n",
       "\n",
       "problem                                             Cadastro  \\\n",
       "sac_customer_voice                                             \n",
       "Ja realizei a compra e estou com dúvida sobre o...  0.001173   \n",
       "Ainda não devolvi meu produto e quero saber sob...  0.000368   \n",
       "Meu pedido ainda não chegou                         0.000103   \n",
       "Estou arrependido, quero cancelar/trocar o produto  0.000170   \n",
       "Meu problema não foi resolvido                      0.000242   \n",
       "Já devolvi meu produto e quero saber o andament...  0.000252   \n",
       "Como utilizar o cupom/vale                          0.000606   \n",
       "Quero alterar/incluir meu endereço de entrega       0.003353   \n",
       "Pedido consta como entregue, mas não recebi         0.000021   \n",
       "Qual o prazo para devolução do valor que paguei?    0.000136   \n",
       "Cliente solicitou a troca, mas não foi possível...  0.000525   \n",
       "Já devolvi meu produto mas não fui atendido         0.000148   \n",
       "Ainda não recebi meu produto e quero saber sobr...  0.000276   \n",
       "Dados incorretos/Incompletos                        0.014425   \n",
       "Resolvido por terceiros                             0.001175   \n",
       "Como me cadastrar/como comprar?                     0.045563   \n",
       "Não recebi meu reembolso/estorno/vale               0.000439   \n",
       "Não consigo alterar meu cadastro                    0.639854   \n",
       "Como recupero meu login e senha de acesso           0.711681   \n",
       "Meu pagamento foi aprovado?                         0.000675   \n",
       "\n",
       "problem                                             Dúvida sobre o andamento do meu pedido  \\\n",
       "sac_customer_voice                                                                           \n",
       "Ja realizei a compra e estou com dúvida sobre o...                                0.230538   \n",
       "Ainda não devolvi meu produto e quero saber sob...                                0.002247   \n",
       "Meu pedido ainda não chegou                                                       0.214968   \n",
       "Estou arrependido, quero cancelar/trocar o produto                                0.006759   \n",
       "Meu problema não foi resolvido                                                    0.078663   \n",
       "Já devolvi meu produto e quero saber o andament...                                0.005583   \n",
       "Como utilizar o cupom/vale                                                        0.033034   \n",
       "Quero alterar/incluir meu endereço de entrega                                     0.020507   \n",
       "Pedido consta como entregue, mas não recebi                                       0.031390   \n",
       "Qual o prazo para devolução do valor que paguei?                                  0.010133   \n",
       "Cliente solicitou a troca, mas não foi possível...                                0.004878   \n",
       "Já devolvi meu produto mas não fui atendido                                       0.002192   \n",
       "Ainda não recebi meu produto e quero saber sobr...                                0.028745   \n",
       "Dados incorretos/Incompletos                                                      0.059348   \n",
       "Resolvido por terceiros                                                           0.035697   \n",
       "Como me cadastrar/como comprar?                                                   0.005830   \n",
       "Não recebi meu reembolso/estorno/vale                                             0.021237   \n",
       "Não consigo alterar meu cadastro                                                  0.006062   \n",
       "Como recupero meu login e senha de acesso                                         0.005512   \n",
       "Meu pagamento foi aprovado?                                                       0.088955   \n",
       "\n",
       "problem                                             Nota Fiscal    Outros  \\\n",
       "sac_customer_voice                                                          \n",
       "Ja realizei a compra e estou com dúvida sobre o...     0.000937  0.198870   \n",
       "Ainda não devolvi meu produto e quero saber sob...     0.002565  0.227873   \n",
       "Meu pedido ainda não chegou                            0.000124  0.097190   \n",
       "Estou arrependido, quero cancelar/trocar o produto     0.000227  0.179328   \n",
       "Meu problema não foi resolvido                         0.000877  0.126028   \n",
       "Já devolvi meu produto e quero saber o andament...     0.000189  0.112060   \n",
       "Como utilizar o cupom/vale                             0.000082  0.178955   \n",
       "Quero alterar/incluir meu endereço de entrega          0.000018  0.526928   \n",
       "Pedido consta como entregue, mas não recebi            0.000043  0.095965   \n",
       "Qual o prazo para devolução do valor que paguei?       0.000114  0.156496   \n",
       "Cliente solicitou a troca, mas não foi possível...     0.000236  0.202140   \n",
       "Já devolvi meu produto mas não fui atendido            0.000030  0.067494   \n",
       "Ainda não recebi meu produto e quero saber sobr...     0.000173  0.294110   \n",
       "Dados incorretos/Incompletos                           0.002738  0.332924   \n",
       "Resolvido por terceiros                                0.000568  0.226041   \n",
       "Como me cadastrar/como comprar?                        0.000389  0.618009   \n",
       "Não recebi meu reembolso/estorno/vale                  0.000098  0.140653   \n",
       "Não consigo alterar meu cadastro                       0.000148  0.310710   \n",
       "Como recupero meu login e senha de acesso              0.000053  0.247986   \n",
       "Meu pagamento foi aprovado?                            0.000563  0.264052   \n",
       "\n",
       "problem                                             Pagamento  \\\n",
       "sac_customer_voice                                              \n",
       "Ja realizei a compra e estou com dúvida sobre o...   0.042072   \n",
       "Ainda não devolvi meu produto e quero saber sob...   0.001154   \n",
       "Meu pedido ainda não chegou                          0.001473   \n",
       "Estou arrependido, quero cancelar/trocar o produto   0.024636   \n",
       "Meu problema não foi resolvido                       0.004791   \n",
       "Já devolvi meu produto e quero saber o andament...   0.001132   \n",
       "Como utilizar o cupom/vale                           0.006859   \n",
       "Quero alterar/incluir meu endereço de entrega        0.001259   \n",
       "Pedido consta como entregue, mas não recebi          0.000342   \n",
       "Qual o prazo para devolução do valor que paguei?     0.011292   \n",
       "Cliente solicitou a troca, mas não foi possível...   0.002439   \n",
       "Já devolvi meu produto mas não fui atendido          0.000474   \n",
       "Ainda não recebi meu produto e quero saber sobr...   0.037234   \n",
       "Dados incorretos/Incompletos                         0.043835   \n",
       "Resolvido por terceiros                              0.017886   \n",
       "Como me cadastrar/como comprar?                      0.073893   \n",
       "Não recebi meu reembolso/estorno/vale                0.002685   \n",
       "Não consigo alterar meu cadastro                     0.004732   \n",
       "Como recupero meu login e senha de acesso            0.002491   \n",
       "Meu pagamento foi aprovado?                          0.526023   \n",
       "\n",
       "problem                                             Problemas com a entrega  \\\n",
       "sac_customer_voice                                                            \n",
       "Ja realizei a compra e estou com dúvida sobre o...                 0.428670   \n",
       "Ainda não devolvi meu produto e quero saber sob...                 0.023874   \n",
       "Meu pedido ainda não chegou                                        0.630924   \n",
       "Estou arrependido, quero cancelar/trocar o produto                 0.035528   \n",
       "Meu problema não foi resolvido                                     0.544780   \n",
       "Já devolvi meu produto e quero saber o andament...                 0.013620   \n",
       "Como utilizar o cupom/vale                                         0.150619   \n",
       "Quero alterar/incluir meu endereço de entrega                      0.420138   \n",
       "Pedido consta como entregue, mas não recebi                        0.852952   \n",
       "Qual o prazo para devolução do valor que paguei?                   0.045554   \n",
       "Cliente solicitou a troca, mas não foi possível...                 0.041519   \n",
       "Já devolvi meu produto mas não fui atendido                        0.011491   \n",
       "Ainda não recebi meu produto e quero saber sobr...                 0.130819   \n",
       "Dados incorretos/Incompletos                                       0.202892   \n",
       "Resolvido por terceiros                                            0.218121   \n",
       "Como me cadastrar/como comprar?                                    0.009069   \n",
       "Não recebi meu reembolso/estorno/vale                              0.097349   \n",
       "Não consigo alterar meu cadastro                                   0.010400   \n",
       "Como recupero meu login e senha de acesso                          0.004558   \n",
       "Meu pagamento foi aprovado?                                        0.035447   \n",
       "\n",
       "problem                                             Promoções  \\\n",
       "sac_customer_voice                                              \n",
       "Ja realizei a compra e estou com dúvida sobre o...   0.001705   \n",
       "Ainda não devolvi meu produto e quero saber sob...   0.000519   \n",
       "Meu pedido ainda não chegou                          0.000113   \n",
       "Estou arrependido, quero cancelar/trocar o produto   0.002073   \n",
       "Meu problema não foi resolvido                       0.000287   \n",
       "Já devolvi meu produto e quero saber o andament...   0.000142   \n",
       "Como utilizar o cupom/vale                           0.030088   \n",
       "Quero alterar/incluir meu endereço de entrega        0.000142   \n",
       "Pedido consta como entregue, mas não recebi          0.000086   \n",
       "Qual o prazo para devolução do valor que paguei?     0.000409   \n",
       "Cliente solicitou a troca, mas não foi possível...   0.000761   \n",
       "Já devolvi meu produto mas não fui atendido          0.000030   \n",
       "Ainda não recebi meu produto e quero saber sobr...   0.004969   \n",
       "Dados incorretos/Incompletos                         0.010178   \n",
       "Resolvido por terceiros                              0.002653   \n",
       "Como me cadastrar/como comprar?                      0.186223   \n",
       "Não recebi meu reembolso/estorno/vale                0.000439   \n",
       "Não consigo alterar meu cadastro                     0.000739   \n",
       "Como recupero meu login e senha de acesso            0.000212   \n",
       "Meu pagamento foi aprovado?                          0.003320   \n",
       "\n",
       "problem                                             Trocar, cancelar ou devolver  \\\n",
       "sac_customer_voice                                                                 \n",
       "Ja realizei a compra e estou com dúvida sobre o...                      0.037674   \n",
       "Ainda não devolvi meu produto e quero saber sob...                      0.513043   \n",
       "Meu pedido ainda não chegou                                             0.022364   \n",
       "Estou arrependido, quero cancelar/trocar o produto                      0.693599   \n",
       "Meu problema não foi resolvido                                          0.046004   \n",
       "Já devolvi meu produto e quero saber o andament...                      0.065710   \n",
       "Como utilizar o cupom/vale                                              0.031381   \n",
       "Quero alterar/incluir meu endereço de entrega                           0.021873   \n",
       "Pedido consta como entregue, mas não recebi                             0.006607   \n",
       "Qual o prazo para devolução do valor que paguei?                        0.082565   \n",
       "Cliente solicitou a troca, mas não foi possível...                      0.610538   \n",
       "Já devolvi meu produto mas não fui atendido                             0.025884   \n",
       "Ainda não recebi meu produto e quero saber sobr...                      0.385693   \n",
       "Dados incorretos/Incompletos                                            0.131927   \n",
       "Resolvido por terceiros                                                 0.347380   \n",
       "Como me cadastrar/como comprar?                                         0.010408   \n",
       "Não recebi meu reembolso/estorno/vale                                   0.033784   \n",
       "Não consigo alterar meu cadastro                                        0.013505   \n",
       "Como recupero meu login e senha de acesso                               0.012826   \n",
       "Meu pagamento foi aprovado?                                             0.043943   \n",
       "\n",
       "problem                                             Vales e Reembolso  \n",
       "sac_customer_voice                                                     \n",
       "Ja realizei a compra e estou com dúvida sobre o...           0.028135  \n",
       "Ainda não devolvi meu produto e quero saber sob...           0.031709  \n",
       "Meu pedido ainda não chegou                                  0.024753  \n",
       "Estou arrependido, quero cancelar/trocar o produto           0.028683  \n",
       "Meu problema não foi resolvido                               0.130290  \n",
       "Já devolvi meu produto e quero saber o andament...           0.351011  \n",
       "Como utilizar o cupom/vale                                   0.423422  \n",
       "Quero alterar/incluir meu endereço de entrega                0.001419  \n",
       "Pedido consta como entregue, mas não recebi                  0.006907  \n",
       "Qual o prazo para devolução do valor que paguei?             0.535739  \n",
       "Cliente solicitou a troca, mas não foi possível...           0.050542  \n",
       "Já devolvi meu produto mas não fui atendido                  0.480631  \n",
       "Ainda não recebi meu produto e quero saber sobr...           0.093412  \n",
       "Dados incorretos/Incompletos                                 0.118555  \n",
       "Resolvido por terceiros                                      0.104475  \n",
       "Como me cadastrar/como comprar?                              0.046685  \n",
       "Não recebi meu reembolso/estorno/vale                        0.504907  \n",
       "Não consigo alterar meu cadastro                             0.007935  \n",
       "Como recupero meu login e senha de acesso                    0.008692  \n",
       "Meu pagamento foi aprovado?                                  0.032184  "
      ]
     },
     "execution_count": 21,
     "metadata": {},
     "output_type": "execute_result"
    }
   ],
   "source": [
    "pv2 = df.pivot_table(values='sac_subject', index='sac_customer_voice', columns='problem', aggfunc='count', margins=True).sort_values(by='All', ascending=False).iloc[1:, :-1]\n",
    "# pv2\n",
    "pv2.div(pv2.sum(axis=1),axis=0)[:20]"
   ]
  },
  {
   "cell_type": "code",
   "execution_count": 22,
   "metadata": {
    "colab": {
     "base_uri": "https://localhost:8080/",
     "height": 990
    },
    "id": "0j0AbCb9pXgH",
    "outputId": "b8d02d1b-652f-472e-85a4-ef7a2a5c6061"
   },
   "outputs": [
    {
     "data": {
      "text/html": [
       "<div>\n",
       "<style scoped>\n",
       "    .dataframe tbody tr th:only-of-type {\n",
       "        vertical-align: middle;\n",
       "    }\n",
       "\n",
       "    .dataframe tbody tr th {\n",
       "        vertical-align: top;\n",
       "    }\n",
       "\n",
       "    .dataframe thead th {\n",
       "        text-align: right;\n",
       "    }\n",
       "</style>\n",
       "<table border=\"1\" class=\"dataframe\">\n",
       "  <thead>\n",
       "    <tr style=\"text-align: right;\">\n",
       "      <th></th>\n",
       "      <th>problem</th>\n",
       "      <th>sac_customer_voice</th>\n",
       "      <th>sac_subject</th>\n",
       "    </tr>\n",
       "  </thead>\n",
       "  <tbody>\n",
       "    <tr>\n",
       "      <th>1</th>\n",
       "      <td>Andamento da minha troca</td>\n",
       "      <td>Ainda não devolvi meu produto e quero saber so...</td>\n",
       "      <td>39027</td>\n",
       "    </tr>\n",
       "    <tr>\n",
       "      <th>34</th>\n",
       "      <td>Andamento da minha troca</td>\n",
       "      <td>Já devolvi meu produto e quero saber o andamen...</td>\n",
       "      <td>28631</td>\n",
       "    </tr>\n",
       "    <tr>\n",
       "      <th>35</th>\n",
       "      <td>Andamento da minha troca</td>\n",
       "      <td>Já devolvi meu produto mas não fui atendido</td>\n",
       "      <td>13899</td>\n",
       "    </tr>\n",
       "    <tr>\n",
       "      <th>116</th>\n",
       "      <td>Cadastro</td>\n",
       "      <td>Como recupero meu login e senha de acesso</td>\n",
       "      <td>13428</td>\n",
       "    </tr>\n",
       "    <tr>\n",
       "      <th>140</th>\n",
       "      <td>Cadastro</td>\n",
       "      <td>Não consigo alterar meu cadastro</td>\n",
       "      <td>12982</td>\n",
       "    </tr>\n",
       "    <tr>\n",
       "      <th>115</th>\n",
       "      <td>Cadastro</td>\n",
       "      <td>Como me cadastrar/como comprar?</td>\n",
       "      <td>1055</td>\n",
       "    </tr>\n",
       "    <tr>\n",
       "      <th>219</th>\n",
       "      <td>Dúvida sobre o andamento do meu pedido</td>\n",
       "      <td>Ja realizei a compra e estou com dúvida sobre ...</td>\n",
       "      <td>77465</td>\n",
       "    </tr>\n",
       "    <tr>\n",
       "      <th>228</th>\n",
       "      <td>Dúvida sobre o andamento do meu pedido</td>\n",
       "      <td>Meu pedido ainda não chegou</td>\n",
       "      <td>41746</td>\n",
       "    </tr>\n",
       "    <tr>\n",
       "      <th>230</th>\n",
       "      <td>Dúvida sobre o andamento do meu pedido</td>\n",
       "      <td>Meu problema não foi resolvido</td>\n",
       "      <td>5205</td>\n",
       "    </tr>\n",
       "    <tr>\n",
       "      <th>337</th>\n",
       "      <td>Nota Fiscal</td>\n",
       "      <td>Quero receber minha nota fiscal</td>\n",
       "      <td>3351</td>\n",
       "    </tr>\n",
       "    <tr>\n",
       "      <th>298</th>\n",
       "      <td>Nota Fiscal</td>\n",
       "      <td>Ainda não devolvi meu produto e quero saber so...</td>\n",
       "      <td>509</td>\n",
       "    </tr>\n",
       "    <tr>\n",
       "      <th>322</th>\n",
       "      <td>Nota Fiscal</td>\n",
       "      <td>Não consigo verificar a Nota Fiscal/Rastreamento</td>\n",
       "      <td>484</td>\n",
       "    </tr>\n",
       "    <tr>\n",
       "      <th>392</th>\n",
       "      <td>Outros</td>\n",
       "      <td>Ja realizei a compra e estou com dúvida sobre ...</td>\n",
       "      <td>66824</td>\n",
       "    </tr>\n",
       "    <tr>\n",
       "      <th>350</th>\n",
       "      <td>Outros</td>\n",
       "      <td>Ainda não devolvi meu produto e quero saber so...</td>\n",
       "      <td>45224</td>\n",
       "    </tr>\n",
       "    <tr>\n",
       "      <th>456</th>\n",
       "      <td>Outros</td>\n",
       "      <td>Quero alterar/incluir meu endereço de entrega</td>\n",
       "      <td>29704</td>\n",
       "    </tr>\n",
       "    <tr>\n",
       "      <th>557</th>\n",
       "      <td>Pagamento</td>\n",
       "      <td>Ja realizei a compra e estou com dúvida sobre ...</td>\n",
       "      <td>14137</td>\n",
       "    </tr>\n",
       "    <tr>\n",
       "      <th>563</th>\n",
       "      <td>Pagamento</td>\n",
       "      <td>Meu pagamento foi aprovado?</td>\n",
       "      <td>9349</td>\n",
       "    </tr>\n",
       "    <tr>\n",
       "      <th>596</th>\n",
       "      <td>Pagamento</td>\n",
       "      <td>Paguei, mas meu pedido não andou</td>\n",
       "      <td>2967</td>\n",
       "    </tr>\n",
       "    <tr>\n",
       "      <th>684</th>\n",
       "      <td>Problemas com a entrega</td>\n",
       "      <td>Ja realizei a compra e estou com dúvida sobre ...</td>\n",
       "      <td>144041</td>\n",
       "    </tr>\n",
       "    <tr>\n",
       "      <th>694</th>\n",
       "      <td>Problemas com a entrega</td>\n",
       "      <td>Meu pedido ainda não chegou</td>\n",
       "      <td>122523</td>\n",
       "    </tr>\n",
       "    <tr>\n",
       "      <th>724</th>\n",
       "      <td>Problemas com a entrega</td>\n",
       "      <td>Pedido consta como entregue, mas não recebi</td>\n",
       "      <td>39890</td>\n",
       "    </tr>\n",
       "    <tr>\n",
       "      <th>783</th>\n",
       "      <td>Promoções</td>\n",
       "      <td>Como me cadastrar/como comprar?</td>\n",
       "      <td>4312</td>\n",
       "    </tr>\n",
       "    <tr>\n",
       "      <th>785</th>\n",
       "      <td>Promoções</td>\n",
       "      <td>Como utilizar o cupom/vale</td>\n",
       "      <td>1838</td>\n",
       "    </tr>\n",
       "    <tr>\n",
       "      <th>846</th>\n",
       "      <td>Promoções</td>\n",
       "      <td>Quero informações sobre promoções</td>\n",
       "      <td>1671</td>\n",
       "    </tr>\n",
       "    <tr>\n",
       "      <th>875</th>\n",
       "      <td>Trocar, cancelar ou devolver</td>\n",
       "      <td>Ainda não devolvi meu produto e quero saber so...</td>\n",
       "      <td>101819</td>\n",
       "    </tr>\n",
       "    <tr>\n",
       "      <th>903</th>\n",
       "      <td>Trocar, cancelar ou devolver</td>\n",
       "      <td>Estou arrependido, quero cancelar/trocar o pro...</td>\n",
       "      <td>48846</td>\n",
       "    </tr>\n",
       "    <tr>\n",
       "      <th>883</th>\n",
       "      <td>Trocar, cancelar ou devolver</td>\n",
       "      <td>Cliente solicitou a troca, mas não foi possíve...</td>\n",
       "      <td>23278</td>\n",
       "    </tr>\n",
       "    <tr>\n",
       "      <th>1019</th>\n",
       "      <td>Vales e Reembolso</td>\n",
       "      <td>Como utilizar o cupom/vale</td>\n",
       "      <td>25866</td>\n",
       "    </tr>\n",
       "    <tr>\n",
       "      <th>1088</th>\n",
       "      <td>Vales e Reembolso</td>\n",
       "      <td>Qual o prazo para devolução do valor que paguei?</td>\n",
       "      <td>23580</td>\n",
       "    </tr>\n",
       "    <tr>\n",
       "      <th>1039</th>\n",
       "      <td>Vales e Reembolso</td>\n",
       "      <td>Já devolvi meu produto e quero saber o andamen...</td>\n",
       "      <td>22318</td>\n",
       "    </tr>\n",
       "  </tbody>\n",
       "</table>\n",
       "</div>"
      ],
      "text/plain": [
       "                                     problem  \\\n",
       "1                   Andamento da minha troca   \n",
       "34                  Andamento da minha troca   \n",
       "35                  Andamento da minha troca   \n",
       "116                                 Cadastro   \n",
       "140                                 Cadastro   \n",
       "115                                 Cadastro   \n",
       "219   Dúvida sobre o andamento do meu pedido   \n",
       "228   Dúvida sobre o andamento do meu pedido   \n",
       "230   Dúvida sobre o andamento do meu pedido   \n",
       "337                              Nota Fiscal   \n",
       "298                              Nota Fiscal   \n",
       "322                              Nota Fiscal   \n",
       "392                                   Outros   \n",
       "350                                   Outros   \n",
       "456                                   Outros   \n",
       "557                                Pagamento   \n",
       "563                                Pagamento   \n",
       "596                                Pagamento   \n",
       "684                  Problemas com a entrega   \n",
       "694                  Problemas com a entrega   \n",
       "724                  Problemas com a entrega   \n",
       "783                                Promoções   \n",
       "785                                Promoções   \n",
       "846                                Promoções   \n",
       "875             Trocar, cancelar ou devolver   \n",
       "903             Trocar, cancelar ou devolver   \n",
       "883             Trocar, cancelar ou devolver   \n",
       "1019                       Vales e Reembolso   \n",
       "1088                       Vales e Reembolso   \n",
       "1039                       Vales e Reembolso   \n",
       "\n",
       "                                     sac_customer_voice  sac_subject  \n",
       "1     Ainda não devolvi meu produto e quero saber so...        39027  \n",
       "34    Já devolvi meu produto e quero saber o andamen...        28631  \n",
       "35          Já devolvi meu produto mas não fui atendido        13899  \n",
       "116           Como recupero meu login e senha de acesso        13428  \n",
       "140                    Não consigo alterar meu cadastro        12982  \n",
       "115                     Como me cadastrar/como comprar?         1055  \n",
       "219   Ja realizei a compra e estou com dúvida sobre ...        77465  \n",
       "228                         Meu pedido ainda não chegou        41746  \n",
       "230                      Meu problema não foi resolvido         5205  \n",
       "337                     Quero receber minha nota fiscal         3351  \n",
       "298   Ainda não devolvi meu produto e quero saber so...          509  \n",
       "322    Não consigo verificar a Nota Fiscal/Rastreamento          484  \n",
       "392   Ja realizei a compra e estou com dúvida sobre ...        66824  \n",
       "350   Ainda não devolvi meu produto e quero saber so...        45224  \n",
       "456       Quero alterar/incluir meu endereço de entrega        29704  \n",
       "557   Ja realizei a compra e estou com dúvida sobre ...        14137  \n",
       "563                         Meu pagamento foi aprovado?         9349  \n",
       "596                    Paguei, mas meu pedido não andou         2967  \n",
       "684   Ja realizei a compra e estou com dúvida sobre ...       144041  \n",
       "694                         Meu pedido ainda não chegou       122523  \n",
       "724         Pedido consta como entregue, mas não recebi        39890  \n",
       "783                     Como me cadastrar/como comprar?         4312  \n",
       "785                          Como utilizar o cupom/vale         1838  \n",
       "846                   Quero informações sobre promoções         1671  \n",
       "875   Ainda não devolvi meu produto e quero saber so...       101819  \n",
       "903   Estou arrependido, quero cancelar/trocar o pro...        48846  \n",
       "883   Cliente solicitou a troca, mas não foi possíve...        23278  \n",
       "1019                         Como utilizar o cupom/vale        25866  \n",
       "1088   Qual o prazo para devolução do valor que paguei?        23580  \n",
       "1039  Já devolvi meu produto e quero saber o andamen...        22318  "
      ]
     },
     "execution_count": 22,
     "metadata": {},
     "output_type": "execute_result"
    }
   ],
   "source": [
    "df.pivot_table(values='sac_subject', index=['problem', 'sac_customer_voice'], aggfunc='count').reset_index()\\\n",
    ".sort_values('sac_subject', ascending = False).groupby('problem').head(3).sort_values(by=['problem', 'sac_subject'], ascending=[True, False])"
   ]
  },
  {
   "cell_type": "markdown",
   "metadata": {
    "id": "EXSsFuqOXCEc"
   },
   "source": [
    "### Detail"
   ]
  },
  {
   "cell_type": "code",
   "execution_count": 23,
   "metadata": {
    "colab": {
     "base_uri": "https://localhost:8080/"
    },
    "id": "mOS3WwU8XG0x",
    "outputId": "1a82f897-dfea-4f55-9a17-20e5a2c6f92b"
   },
   "outputs": [
    {
     "name": "stdout",
     "output_type": "stream",
     "text": [
      "32.2% dos emails criados tem o Detalhe definido\n"
     ]
    }
   ],
   "source": [
    "print('{:.1%} dos emails criados tem o Detalhe definido'.format(df.count()['detail']/df.shape[0]))"
   ]
  },
  {
   "cell_type": "markdown",
   "metadata": {
    "id": "SlgTNq-c1xTF"
   },
   "source": [
    "### Created Date"
   ]
  },
  {
   "cell_type": "code",
   "execution_count": 24,
   "metadata": {},
   "outputs": [],
   "source": [
    "df['year_month'] = df['created_date'].apply(lambda x: x.strftime('%Y%m'))"
   ]
  },
  {
   "cell_type": "code",
   "execution_count": 25,
   "metadata": {},
   "outputs": [
    {
     "data": {
      "text/plain": [
       "<AxesSubplot:xlabel='year_month'>"
      ]
     },
     "execution_count": 25,
     "metadata": {},
     "output_type": "execute_result"
    },
    {
     "data": {
      "image/png": "[encoded data removed]",
      "text/plain": [
       "<Figure size 1008x288 with 1 Axes>"
      ]
     },
     "metadata": {
      "needs_background": "light"
     },
     "output_type": "display_data"
    }
   ],
   "source": [
    "df.groupby(['year_month']).count()['message'].plot(figsize=(14,4))"
   ]
  },
  {
   "cell_type": "code",
   "execution_count": 26,
   "metadata": {},
   "outputs": [],
   "source": [
    "filter_voices = df['customer_voice_grouped'].value_counts()[:5].index.to_list()"
   ]
  },
  {
   "cell_type": "code",
   "execution_count": 27,
   "metadata": {},
   "outputs": [
    {
     "data": {
      "text/plain": [
       "<AxesSubplot:xlabel='year_month'>"
      ]
     },
     "execution_count": 27,
     "metadata": {},
     "output_type": "execute_result"
    },
    {
     "data": {
      "image/png": "[encoded data removed]",
      "text/plain": [
       "<Figure size 1008x288 with 1 Axes>"
      ]
     },
     "metadata": {
      "needs_background": "light"
     },
     "output_type": "display_data"
    }
   ],
   "source": [
    "df[df['customer_voice_grouped'].isin(filter_voices)].groupby(['year_month', 'customer_voice_grouped']).count()['message'].unstack().plot(figsize=(14,4))"
   ]
  },
  {
   "cell_type": "markdown",
   "metadata": {
    "id": "RCy7zzbH8d8n"
   },
   "source": [
    "## Model"
   ]
  },
  {
   "cell_type": "markdown",
   "metadata": {
    "id": "kM1pvqCp6FP4"
   },
   "source": [
    "### Imports"
   ]
  },
  {
   "cell_type": "code",
   "execution_count": 28,
   "metadata": {
    "id": "MSA0J_wK1xTG"
   },
   "outputs": [],
   "source": [
    "# !pip install unidecode\n",
    "# # !pip install imblearn\n",
    "# # !pip install scikit-learn\n",
    "# !pip install catboost\n",
    "# # !pip install spacy\n",
    "# # nltk.download('rslp')\n",
    "\n",
    "# !pip install spacy -U\n",
    "# !python -m spacy download pt_core_news_md"
   ]
  },
  {
   "cell_type": "code",
   "execution_count": 29,
   "metadata": {
    "colab": {
     "base_uri": "https://localhost:8080/"
    },
    "id": "EWHzyZnMUHwY",
    "outputId": "769b1854-466b-410b-de8d-84d1097b3494"
   },
   "outputs": [
    {
     "name": "stderr",
     "output_type": "stream",
     "text": [
      "[nltk_data] Downloading package stopwords to\n",
      "[nltk_data]     /home/miguel.filho/nltk_data...\n",
      "[nltk_data]   Package stopwords is already up-to-date!\n",
      "2022-03-11 13:51:59.697771: W tensorflow/stream_executor/platform/default/dso_loader.cc:64] Could not load dynamic library 'libcudart.so.11.0'; dlerror: libcudart.so.11.0: cannot open shared object file: No such file or directory\n",
      "2022-03-11 13:51:59.697846: I tensorflow/stream_executor/cuda/cudart_stub.cc:29] Ignore above cudart dlerror if you do not have a GPU set up on your machine.\n"
     ]
    }
   ],
   "source": [
    "import re\n",
    "import nltk\n",
    "nltk.download('stopwords')\n",
    "from nltk.corpus import stopwords\n",
    "from unidecode import unidecode\n",
    "import pickle\n",
    "import spacy\n",
    "\n",
    "from collections import Counter\n",
    "from sklearn.preprocessing import LabelEncoder\n",
    "from sklearn.feature_extraction.text import TfidfVectorizer\n",
    "from sklearn.model_selection import train_test_split\n",
    "from sklearn.metrics import confusion_matrix, classification_report, f1_score\n",
    "from sklearn.ensemble import RandomForestClassifier\n",
    "from catboost import CatBoostClassifier, Pool"
   ]
  },
  {
   "cell_type": "markdown",
   "metadata": {
    "id": "hGMA2jjf4r7I"
   },
   "source": [
    "### Definindo as Classes"
   ]
  },
  {
   "cell_type": "code",
   "execution_count": 33,
   "metadata": {
    "id": "EW3frHuu4y5e"
   },
   "outputs": [],
   "source": [
    "# vozes que queremos responder\n",
    "cv_list = [\n",
    "#   'Ainda não devolvi meu produto e quero saber sobre processo de troca / devolução',\n",
    "#   'Estou arrependido, quero cancelar/trocar o produto',\n",
    "    'Arrependimento',\n",
    "#     'Como utilizar o cupom/vale',\n",
    "#     'Qual o prazo para devolução do valor que paguei?',\n",
    "    # 'Como me cadastrar/como comprar?',\n",
    "#     'Como recupero meu login e senha de acesso'\n",
    "]"
   ]
  },
  {
   "cell_type": "code",
   "execution_count": 34,
   "metadata": {
    "id": "yTIYxxjt9TwN"
   },
   "outputs": [],
   "source": [
    "df['cv'] = df.apply(lambda x: x['customer_voice_grouped'] if x['customer_voice_grouped'] in (cv_list) else 'Outro', axis=1)"
   ]
  },
  {
   "cell_type": "code",
   "execution_count": 35,
   "metadata": {
    "colab": {
     "base_uri": "https://localhost:8080/"
    },
    "id": "dTlW1M0CllL2",
    "outputId": "3f997738-4a07-41b5-99e8-b2c67704bd39"
   },
   "outputs": [
    {
     "data": {
      "text/plain": [
       "Outro             0.788413\n",
       "Arrependimento    0.211587\n",
       "Name: cv, dtype: float64"
      ]
     },
     "execution_count": 35,
     "metadata": {},
     "output_type": "execute_result"
    }
   ],
   "source": [
    "df['cv'].value_counts(normalize=True)"
   ]
  },
  {
   "cell_type": "code",
   "execution_count": 42,
   "metadata": {
    "id": "WAv5nOobzgFa"
   },
   "outputs": [],
   "source": [
    "# problemas que estao bem relacionados as vozes que queremos classificar \n",
    "filter_problems = [\n",
    "    'Andamento da minha troca',\n",
    "#     'Outros',\n",
    "    'Cadastro',\n",
    "#     'Promoções',\n",
    "    'Trocar, cancelar ou devolver',\n",
    "#     'Vales e Reembolso'\n",
    "]"
   ]
  },
  {
   "cell_type": "code",
   "execution_count": 43,
   "metadata": {
    "colab": {
     "base_uri": "https://localhost:8080/"
    },
    "id": "t35aBNGYRZRT",
    "outputId": "5bb1b964-6a2e-48b7-9d9b-23780b00b800"
   },
   "outputs": [
    {
     "data": {
      "text/plain": [
       "Arrependimento    0.533645\n",
       "Outro             0.466355\n",
       "Name: cv, dtype: float64"
      ]
     },
     "execution_count": 43,
     "metadata": {},
     "output_type": "execute_result"
    }
   ],
   "source": [
    "df[df['problem'].isin(filter_problems)].cv.value_counts(normalize=True)"
   ]
  },
  {
   "cell_type": "code",
   "execution_count": 44,
   "metadata": {
    "colab": {
     "base_uri": "https://localhost:8080/"
    },
    "id": "v6orToHXSBaq",
    "outputId": "2caf8aab-86a1-40e3-c2e6-d3fc6e8b5252"
   },
   "outputs": [
    {
     "data": {
      "text/plain": [
       "Arrependimento    0.679668\n",
       "Outro             0.159403\n",
       "Name: cv, dtype: float64"
      ]
     },
     "execution_count": 44,
     "metadata": {},
     "output_type": "execute_result"
    }
   ],
   "source": [
    "# Porcentagem de mensagem restantes em cada classe pós filtro\n",
    "df[df['problem'].isin(filter_problems)].cv.value_counts(normalize=False).div(df['cv'].value_counts(normalize=False))"
   ]
  },
  {
   "cell_type": "code",
   "execution_count": 45,
   "metadata": {
    "id": "HAuVnAldxkKN"
   },
   "outputs": [],
   "source": [
    "df = df[df['problem'].isin(filter_problems)]"
   ]
  },
  {
   "cell_type": "code",
   "execution_count": 46,
   "metadata": {
    "id": "3suJme-9YI5j"
   },
   "outputs": [],
   "source": [
    "# Encode da coluna de target\n",
    "\n",
    "map_cv= {\n",
    "    'Arrependimento': 0,\n",
    "    'Outro': 1\n",
    "}\n",
    "\n",
    "inv_map = {v: k for k, v in map_cv.items()}\n",
    "\n",
    "df['cv_encoded'] = df['cv'].map(map_cv)"
   ]
  },
  {
   "cell_type": "markdown",
   "metadata": {
    "id": "vLBYS5c4qd8w"
   },
   "source": [
    "### Manipulação do Texto"
   ]
  },
  {
   "cell_type": "code",
   "execution_count": 47,
   "metadata": {
    "id": "Njb1CM0O1xTI"
   },
   "outputs": [],
   "source": [
    "df_backup = df.copy()"
   ]
  },
  {
   "cell_type": "markdown",
   "metadata": {
    "id": "H5KDmo0AOI0G"
   },
   "source": [
    "#### Lower Case"
   ]
  },
  {
   "cell_type": "code",
   "execution_count": 48,
   "metadata": {
    "id": "DBQAqgGtqofS"
   },
   "outputs": [],
   "source": [
    "df = df_backup.copy()\n",
    "df['original_message'] = df.message\n",
    "# Lower case\n",
    "df.message = df.message.apply(str.lower)"
   ]
  },
  {
   "cell_type": "markdown",
   "metadata": {
    "id": "KIWG5mYbOK-i"
   },
   "source": [
    "#### Stop Words"
   ]
  },
  {
   "cell_type": "code",
   "execution_count": 49,
   "metadata": {
    "id": "DeByW7oNDD-Q"
   },
   "outputs": [],
   "source": [
    "def stopword_remover(text):\n",
    "  remove_from_stopword_list = ['não', 'mais', 'foi', 'será', 'quando', 'tive', 'mas', 'até'] # são stopwords, mas contribuem para o sentido do texto\n",
    "  add_to_stopword_list = ['pois']\n",
    "  stop_words = nltk.corpus.stopwords.words('portuguese')\n",
    "  stop_words.extend(add_to_stopword_list)\n",
    "  \n",
    "  for i in remove_from_stopword_list:\n",
    "      stop_words.remove(i)\n",
    "\n",
    "  words = [w for w in text.split() if not w in stop_words]\n",
    "  text = ' '.join(words)\n",
    "\n",
    "  return text"
   ]
  },
  {
   "cell_type": "code",
   "execution_count": 50,
   "metadata": {
    "id": "lSHiFOisDpa6"
   },
   "outputs": [],
   "source": [
    "df.message = df.message.apply(stopword_remover)"
   ]
  },
  {
   "cell_type": "markdown",
   "metadata": {
    "id": "pzWfdWqZOOGV"
   },
   "source": [
    "#### Duplicated spaces and special characters"
   ]
  },
  {
   "cell_type": "code",
   "execution_count": 51,
   "metadata": {
    "id": "Rs1tDKBUFvmN"
   },
   "outputs": [],
   "source": [
    "df.message =  df.message.str.replace(r'\\n', ' ', regex=True)\n",
    "df.message =  df.message.str.replace(r'\\t', ' ', regex=True)\n",
    "df.message =  df.message.str.replace(r' +', ' ', regex=True)\n",
    "df.message =  df.message.str.replace('r$', '', regex=False)\n",
    "df.message =  df.message.str.replace(r'[^a-zÀ-ÿ ]+', '', regex=True) # only allow letters and whitespaces"
   ]
  },
  {
   "cell_type": "markdown",
   "metadata": {
    "id": "GLqVBSxOOR8X"
   },
   "source": [
    "#### Termos inúteis"
   ]
  },
  {
   "cell_type": "code",
   "execution_count": 52,
   "metadata": {
    "id": "_JjWDg1KFwlF"
   },
   "outputs": [],
   "source": [
    "def useless_terms_remover(text):\n",
    "  '''\n",
    "  Usar após stopword_remover\n",
    "  '''\n",
    "  useless_terms = ['bom dia', 'boa tarde', 'boa noite', 'tudo bem', 'olá', 'td bem']\n",
    "\n",
    "  for term in useless_terms:\n",
    "    text = re.sub(term, '', text)\n",
    "\n",
    "  return text"
   ]
  },
  {
   "cell_type": "code",
   "execution_count": 53,
   "metadata": {
    "id": "F97DcdDNFy38"
   },
   "outputs": [],
   "source": [
    "df.message = df.message.apply(useless_terms_remover)"
   ]
  },
  {
   "cell_type": "markdown",
   "metadata": {
    "id": "dSon854V1xTK"
   },
   "source": [
    "#### Substituições extras\n",
    "\n",
    "Para evitar clusters desnecessários"
   ]
  },
  {
   "cell_type": "code",
   "execution_count": 54,
   "metadata": {
    "id": "YR3gk2at1xTK"
   },
   "outputs": [],
   "source": [
    "dictionary = {\n",
    "  ' n ': ' não ',\n",
    "  ' q ': ' que ', \n",
    "  'ngm': 'ninguém',\n",
    "  'mto': 'muito',\n",
    "  'vcs': 'vocês',\n",
    "  'certinho': 'certo',\n",
    "  ' pro ': ' para o ',\n",
    "  ' mail ': ' email ',\n",
    "  'emails': 'email',\n",
    "  'markt': 'market',\n",
    "  'nesse site': 'dafiti',\n",
    "  'nessa loja': 'dafiti',\n",
    "  'informar que': 'dizer que',\n",
    "  'https www reclameaqui br': 'reclame aqui',\n",
    "  'vcs': 'voces',\n",
    "  ' pra ': ' para ',\n",
    "  'mercadoria': 'pedido',\n",
    "  'mais deu': 'mas deu',\n",
    "  'saber do': 'saber sobre',\n",
    "  'empresa ': 'dafiti ',\n",
    "  ' ver comentarios': ' ler comentarios',\n",
    "  'produto': 'pedido',\n",
    "  ' compra ': ' pedido ',\n",
    "  'fazer compra': 'fazer pedido',\n",
    "  'mudar': 'trocar',\n",
    "  'receber': 'chegar',\n",
    "  'entregar': 'chegar',          \n",
    "  'até hoje': 'até agora',\n",
    "  'mandar': 'enviar',\n",
    "  'obg': 'obrigado',\n",
    "  'obrigada': 'obrigado'\n",
    "}"
   ]
  },
  {
   "cell_type": "code",
   "execution_count": 55,
   "metadata": {
    "id": "fxJIJJDg1xTK"
   },
   "outputs": [],
   "source": [
    "def subs(text):\n",
    "  for key in dictionary.keys():\n",
    "    text = text.replace(key, dictionary[key])\n",
    "  return text"
   ]
  },
  {
   "cell_type": "code",
   "execution_count": 56,
   "metadata": {
    "id": "DVuY0-tp1xTL"
   },
   "outputs": [],
   "source": [
    "df.message = df.message.apply(subs)"
   ]
  },
  {
   "cell_type": "markdown",
   "metadata": {
    "id": "BBv1QI3rNjRr"
   },
   "source": [
    "#### Lematizacao"
   ]
  },
  {
   "cell_type": "code",
   "execution_count": 57,
   "metadata": {
    "id": "8xFKGgYfOovl"
   },
   "outputs": [],
   "source": [
    "# df = df.reset_index(drop=True) # obrigatório para os índices se manterem corretos na criação da Series ao final\n",
    "\n",
    "# nlp = spacy.load('pt_core_news_md')\n",
    "# nlp.max_length = 5000000\n",
    "\n",
    "# docs = df.message.to_list()\n",
    "\n",
    "# lemmatized_docs = []\n",
    "# print('Starting Pipe')\n",
    "# for doc in nlp.pipe(docs, batch_size=8, n_process=8, disable=[\"parser\", \"ner\"]):\n",
    "#   sentece = []\n",
    "#   for word in doc:\n",
    "#     if ((word.pos_ == 'VERB') or (word.pos_ == 'ADJ')):\n",
    "#       sentece.append(word.lemma_) # lemma\n",
    "#     else:\n",
    "#       sentece.append(word.orth_) # original\n",
    "#   sent = ' '.join(sentece)    \n",
    "#   lemmatized_docs.append(sent)\n",
    "\n",
    "# df['message'] = pd.Series(lemmatized_docs) # back to series"
   ]
  },
  {
   "cell_type": "code",
   "execution_count": 58,
   "metadata": {
    "id": "XuZGYe0Q1xTL"
   },
   "outputs": [],
   "source": [
    "# # Stemming\n",
    "# print('Stemming')\n",
    "# stemmer = nltk.stem.RSLPStemmer() \n",
    "# stemmed_docs = []\n",
    "# for sentence in lemmatized_docs:\n",
    "#   new_sentence = []\n",
    "#   for word in sentence.split():\n",
    "#     new_sentence.append(stemmer.stem(word))\n",
    "#   stemmed_docs.append(' '.join(new_sentence))\n",
    "\n",
    "# df['message_lemma'] = pd.Series(stemmed_docs) # back to series"
   ]
  },
  {
   "cell_type": "markdown",
   "metadata": {
    "id": "26svF7WBeb4z"
   },
   "source": [
    "#### Unidecode"
   ]
  },
  {
   "cell_type": "code",
   "execution_count": 59,
   "metadata": {
    "id": "yHsKHp9oedb9"
   },
   "outputs": [],
   "source": [
    "df.message = df.message.apply(unidecode)"
   ]
  },
  {
   "cell_type": "markdown",
   "metadata": {
    "heading_collapsed": true,
    "id": "Y3d5Qa-X1xTM"
   },
   "source": [
    "### Save/Load Dataframe"
   ]
  },
  {
   "cell_type": "code",
   "execution_count": null,
   "metadata": {
    "hidden": true,
    "id": "4l4vULtN1xTM"
   },
   "outputs": [],
   "source": [
    "pickle.dump(df, open(f'{path}/data/nltk_data.pkl', \"wb\"))"
   ]
  },
  {
   "cell_type": "code",
   "execution_count": null,
   "metadata": {
    "hidden": true,
    "id": "uf_j6Fcv1xTM"
   },
   "outputs": [],
   "source": [
    "#nltk_data - sem lemma\n",
    "#nltk_data_2 - com lemma\n",
    "df = pickle.load(open(f'{path}/data/nltk_data_2.pkl', \"rb\"))"
   ]
  },
  {
   "cell_type": "markdown",
   "metadata": {
    "id": "MzzuQr_vCAwW"
   },
   "source": [
    "### Modelagem"
   ]
  },
  {
   "cell_type": "code",
   "execution_count": null,
   "metadata": {
    "id": "7q8Yv9rd1xTN"
   },
   "outputs": [],
   "source": [
    "# df = pd.read_parquet('data/poc_sac_nltk2.parquet')"
   ]
  },
  {
   "cell_type": "code",
   "execution_count": 60,
   "metadata": {
    "colab": {
     "base_uri": "https://localhost:8080/"
    },
    "id": "1S6l4EvKVbjC",
    "outputId": "c197e8d2-8684-4b45-b9fd-61f67c8aa09a"
   },
   "outputs": [
    {
     "name": "stdout",
     "output_type": "stream",
     "text": [
      "431577 129473\n",
      "train size : 90631\n",
      "test size : 38842\n"
     ]
    }
   ],
   "source": [
    "df2 = df.copy()\n",
    "# df2 = df2[df2['problem'].isin(['Trocar, cancelar ou devolver', 'Vales e Reembolso'])]\n",
    "# df2 = df2[df2.created_date >= '2021-01-01']\n",
    "df2 = df2.sample(frac=0.3).reset_index()\n",
    "print(df.shape[0], df2.shape[0])\n",
    "\n",
    "X = df2['message']\n",
    "y = df2[['cv_encoded', 'customer_voice_grouped']]\n",
    "X_train, X_test, y_train, y_test = train_test_split(X, y, train_size=0.7, random_state=42 , stratify=y.cv_encoded)\n",
    "\n",
    "print('train size :', len(X_train) )\n",
    "print('test size :', len(X_test) )"
   ]
  },
  {
   "cell_type": "code",
   "execution_count": 61,
   "metadata": {
    "colab": {
     "base_uri": "https://localhost:8080/"
    },
    "id": "IPwM4YBPb8GB",
    "outputId": "212f90a1-9735-49cb-9470-347814005ae4"
   },
   "outputs": [
    {
     "data": {
      "text/plain": [
       "0    69096\n",
       "1    60377\n",
       "Name: cv_encoded, dtype: int64"
      ]
     },
     "execution_count": 61,
     "metadata": {},
     "output_type": "execute_result"
    }
   ],
   "source": [
    "df2.cv_encoded.value_counts()"
   ]
  },
  {
   "cell_type": "markdown",
   "metadata": {
    "id": "6oaoT8PB7RsM"
   },
   "source": [
    "#### TF-IDF"
   ]
  },
  {
   "cell_type": "code",
   "execution_count": 62,
   "metadata": {
    "id": "32oj99c7bZTQ"
   },
   "outputs": [],
   "source": [
    "tfidf=TfidfVectorizer(\n",
    "  max_features=1000,\n",
    "  max_df=0.95,\n",
    "  min_df=10,\n",
    "  ngram_range=(1, 4)\n",
    ")\n",
    "\n",
    "X_train_vector = tfidf.fit_transform(X_train)\n",
    "X_test_vector = tfidf.transform(X_test)"
   ]
  },
  {
   "cell_type": "markdown",
   "metadata": {
    "id": "WNDNjy8WViEW"
   },
   "source": [
    "#### Treino"
   ]
  },
  {
   "cell_type": "code",
   "execution_count": 63,
   "metadata": {
    "id": "04Tv3mprdpf1"
   },
   "outputs": [],
   "source": [
    "def evaluate(model, X_train, y_train, X_test, y_test):\n",
    "  model = model.fit(X_train, y_train)\n",
    "  y_pred = model.predict(X_test)\n",
    "  print(classification_report(y_test, y_pred))\n",
    "  print( \"F1 Score:\" , f1_score(y_test, y_pred, average='macro' ) )\n",
    "  return model"
   ]
  },
  {
   "cell_type": "markdown",
   "metadata": {
    "id": "OpuAf7a4O2Fb"
   },
   "source": [
    "##### Catboost"
   ]
  },
  {
   "cell_type": "code",
   "execution_count": 64,
   "metadata": {
    "colab": {
     "base_uri": "https://localhost:8080/"
    },
    "id": "ZHnYMHGxn5PQ",
    "outputId": "3c0a9dd9-a3f3-45ad-99b7-92112a6b254b",
    "scrolled": false
   },
   "outputs": [
    {
     "name": "stdout",
     "output_type": "stream",
     "text": [
      "Learning rate set to 0.153981\n",
      "0:\tlearn: 0.6186113\ttest: 0.6142542\tbest: 0.6142542 (0)\ttotal: 597ms\tremaining: 4m 57s\n",
      "1:\tlearn: 0.6204927\ttest: 0.6162691\tbest: 0.6162691 (1)\ttotal: 966ms\tremaining: 4m\n",
      "2:\tlearn: 0.6569660\ttest: 0.6533010\tbest: 0.6533010 (2)\ttotal: 1.3s\tremaining: 3m 35s\n",
      "3:\tlearn: 0.6804928\ttest: 0.6728810\tbest: 0.6728810 (3)\ttotal: 1.62s\tremaining: 3m 21s\n",
      "4:\tlearn: 0.6840004\ttest: 0.6791517\tbest: 0.6791517 (4)\ttotal: 1.94s\tremaining: 3m 11s\n",
      "5:\tlearn: 0.6929483\ttest: 0.6881508\tbest: 0.6881508 (5)\ttotal: 2.26s\tremaining: 3m 6s\n",
      "6:\tlearn: 0.6959316\ttest: 0.6913496\tbest: 0.6913496 (6)\ttotal: 2.58s\tremaining: 3m 1s\n",
      "7:\tlearn: 0.6988335\ttest: 0.6948385\tbest: 0.6948385 (7)\ttotal: 2.9s\tremaining: 2m 58s\n",
      "8:\tlearn: 0.6982617\ttest: 0.6941138\tbest: 0.6948385 (7)\ttotal: 3.21s\tremaining: 2m 55s\n",
      "9:\tlearn: 0.7027111\ttest: 0.6973454\tbest: 0.6973454 (9)\ttotal: 3.55s\tremaining: 2m 54s\n",
      "10:\tlearn: 0.7030886\ttest: 0.6969279\tbest: 0.6973454 (9)\ttotal: 3.94s\tremaining: 2m 55s\n",
      "11:\tlearn: 0.7081799\ttest: 0.7024288\tbest: 0.7024288 (11)\ttotal: 4.26s\tremaining: 2m 53s\n",
      "12:\tlearn: 0.7091731\ttest: 0.7034566\tbest: 0.7034566 (12)\ttotal: 4.59s\tremaining: 2m 52s\n",
      "13:\tlearn: 0.7108254\ttest: 0.7050042\tbest: 0.7050042 (13)\ttotal: 4.92s\tremaining: 2m 50s\n",
      "14:\tlearn: 0.7114532\ttest: 0.7056792\tbest: 0.7056792 (14)\ttotal: 5.23s\tremaining: 2m 49s\n",
      "15:\tlearn: 0.7148652\ttest: 0.7096506\tbest: 0.7096506 (15)\ttotal: 5.57s\tremaining: 2m 48s\n",
      "16:\tlearn: 0.7174185\ttest: 0.7118972\tbest: 0.7118972 (16)\ttotal: 5.9s\tremaining: 2m 47s\n",
      "17:\tlearn: 0.7228553\ttest: 0.7170212\tbest: 0.7170212 (17)\ttotal: 6.22s\tremaining: 2m 46s\n",
      "18:\tlearn: 0.7275975\ttest: 0.7223235\tbest: 0.7223235 (18)\ttotal: 6.55s\tremaining: 2m 45s\n",
      "19:\tlearn: 0.7281262\ttest: 0.7228627\tbest: 0.7228627 (19)\ttotal: 6.87s\tremaining: 2m 44s\n",
      "20:\tlearn: 0.7300393\ttest: 0.7232005\tbest: 0.7232005 (20)\ttotal: 7.2s\tremaining: 2m 44s\n",
      "21:\tlearn: 0.7311746\ttest: 0.7243031\tbest: 0.7243031 (21)\ttotal: 7.51s\tremaining: 2m 43s\n",
      "22:\tlearn: 0.7316823\ttest: 0.7254868\tbest: 0.7254868 (22)\ttotal: 7.87s\tremaining: 2m 43s\n",
      "23:\tlearn: 0.7324419\ttest: 0.7255394\tbest: 0.7255394 (23)\ttotal: 8.21s\tremaining: 2m 42s\n",
      "24:\tlearn: 0.7334266\ttest: 0.7273541\tbest: 0.7273541 (24)\ttotal: 8.54s\tremaining: 2m 42s\n",
      "25:\tlearn: 0.7354249\ttest: 0.7288219\tbest: 0.7288219 (25)\ttotal: 8.88s\tremaining: 2m 41s\n",
      "26:\tlearn: 0.7376623\ttest: 0.7314369\tbest: 0.7314369 (26)\ttotal: 9.28s\tremaining: 2m 42s\n",
      "27:\tlearn: 0.7384327\ttest: 0.7322473\tbest: 0.7322473 (27)\ttotal: 9.61s\tremaining: 2m 42s\n",
      "28:\tlearn: 0.7391101\ttest: 0.7325584\tbest: 0.7325584 (28)\ttotal: 9.96s\tremaining: 2m 41s\n",
      "29:\tlearn: 0.7393858\ttest: 0.7331656\tbest: 0.7331656 (29)\ttotal: 10.3s\tremaining: 2m 41s\n",
      "30:\tlearn: 0.7400341\ttest: 0.7337808\tbest: 0.7337808 (30)\ttotal: 10.6s\tremaining: 2m 40s\n",
      "31:\tlearn: 0.7411086\ttest: 0.7345001\tbest: 0.7345001 (31)\ttotal: 10.9s\tremaining: 2m 39s\n",
      "32:\tlearn: 0.7422561\ttest: 0.7347640\tbest: 0.7347640 (32)\ttotal: 11.2s\tremaining: 2m 38s\n",
      "33:\tlearn: 0.7436276\ttest: 0.7362934\tbest: 0.7362934 (33)\ttotal: 11.5s\tremaining: 2m 37s\n",
      "34:\tlearn: 0.7441346\ttest: 0.7367018\tbest: 0.7367018 (34)\ttotal: 11.8s\tremaining: 2m 37s\n",
      "35:\tlearn: 0.7455110\ttest: 0.7374036\tbest: 0.7374036 (35)\ttotal: 12.2s\tremaining: 2m 36s\n",
      "36:\tlearn: 0.7456897\ttest: 0.7378543\tbest: 0.7378543 (36)\ttotal: 12.5s\tremaining: 2m 36s\n",
      "37:\tlearn: 0.7463286\ttest: 0.7382395\tbest: 0.7382395 (37)\ttotal: 12.9s\tremaining: 2m 36s\n",
      "38:\tlearn: 0.7473915\ttest: 0.7388891\tbest: 0.7388891 (38)\ttotal: 13.2s\tremaining: 2m 35s\n",
      "39:\tlearn: 0.7478536\ttest: 0.7392593\tbest: 0.7392593 (39)\ttotal: 13.5s\tremaining: 2m 35s\n",
      "40:\tlearn: 0.7480719\ttest: 0.7395538\tbest: 0.7395538 (40)\ttotal: 13.8s\tremaining: 2m 35s\n",
      "41:\tlearn: 0.7487981\ttest: 0.7400026\tbest: 0.7400026 (41)\ttotal: 14.2s\tremaining: 2m 34s\n",
      "42:\tlearn: 0.7490902\ttest: 0.7403712\tbest: 0.7403712 (42)\ttotal: 14.5s\tremaining: 2m 33s\n",
      "43:\tlearn: 0.7496612\ttest: 0.7413378\tbest: 0.7413378 (43)\ttotal: 14.8s\tremaining: 2m 33s\n",
      "44:\tlearn: 0.7500743\ttest: 0.7417120\tbest: 0.7417120 (44)\ttotal: 15.1s\tremaining: 2m 33s\n",
      "45:\tlearn: 0.7506297\ttest: 0.7424336\tbest: 0.7424336 (45)\ttotal: 15.5s\tremaining: 2m 33s\n",
      "46:\tlearn: 0.7511963\ttest: 0.7425835\tbest: 0.7425835 (46)\ttotal: 15.8s\tremaining: 2m 32s\n",
      "47:\tlearn: 0.7518919\ttest: 0.7426252\tbest: 0.7426252 (47)\ttotal: 16.1s\tremaining: 2m 32s\n",
      "48:\tlearn: 0.7523403\ttest: 0.7430123\tbest: 0.7430123 (48)\ttotal: 16.5s\tremaining: 2m 31s\n",
      "49:\tlearn: 0.7529388\ttest: 0.7430192\tbest: 0.7430192 (49)\ttotal: 16.8s\tremaining: 2m 31s\n",
      "50:\tlearn: 0.7532391\ttest: 0.7437650\tbest: 0.7437650 (50)\ttotal: 17.1s\tremaining: 2m 30s\n",
      "51:\tlearn: 0.7536513\ttest: 0.7440746\tbest: 0.7440746 (51)\ttotal: 17.4s\tremaining: 2m 29s\n",
      "52:\tlearn: 0.7538396\ttest: 0.7444687\tbest: 0.7444687 (52)\ttotal: 17.7s\tremaining: 2m 29s\n",
      "53:\tlearn: 0.7540046\ttest: 0.7443920\tbest: 0.7444687 (52)\ttotal: 18s\tremaining: 2m 28s\n",
      "54:\tlearn: 0.7543377\ttest: 0.7447404\tbest: 0.7447404 (54)\ttotal: 18.4s\tremaining: 2m 28s\n",
      "55:\tlearn: 0.7546300\ttest: 0.7451483\tbest: 0.7451483 (55)\ttotal: 18.7s\tremaining: 2m 28s\n",
      "56:\tlearn: 0.7549163\ttest: 0.7451160\tbest: 0.7451483 (55)\ttotal: 19s\tremaining: 2m 27s\n",
      "57:\tlearn: 0.7553270\ttest: 0.7452904\tbest: 0.7452904 (57)\ttotal: 19.4s\tremaining: 2m 27s\n",
      "58:\tlearn: 0.7556944\ttest: 0.7453609\tbest: 0.7453609 (58)\ttotal: 19.7s\tremaining: 2m 27s\n",
      "59:\tlearn: 0.7561590\ttest: 0.7457290\tbest: 0.7457290 (59)\ttotal: 20s\tremaining: 2m 26s\n",
      "60:\tlearn: 0.7565921\ttest: 0.7463283\tbest: 0.7463283 (60)\ttotal: 20.3s\tremaining: 2m 26s\n",
      "61:\tlearn: 0.7568546\ttest: 0.7465408\tbest: 0.7465408 (61)\ttotal: 20.6s\tremaining: 2m 25s\n",
      "62:\tlearn: 0.7573744\ttest: 0.7471258\tbest: 0.7471258 (62)\ttotal: 21s\tremaining: 2m 25s\n",
      "63:\tlearn: 0.7578023\ttest: 0.7474183\tbest: 0.7474183 (63)\ttotal: 21.3s\tremaining: 2m 25s\n",
      "64:\tlearn: 0.7579334\ttest: 0.7478487\tbest: 0.7478487 (64)\ttotal: 21.6s\tremaining: 2m 24s\n",
      "65:\tlearn: 0.7585881\ttest: 0.7484885\tbest: 0.7484885 (65)\ttotal: 22.1s\tremaining: 2m 25s\n",
      "66:\tlearn: 0.7587763\ttest: 0.7489946\tbest: 0.7489946 (66)\ttotal: 22.4s\tremaining: 2m 24s\n",
      "67:\tlearn: 0.7589144\ttest: 0.7492066\tbest: 0.7492066 (67)\ttotal: 22.7s\tremaining: 2m 24s\n",
      "68:\tlearn: 0.7593327\ttest: 0.7488983\tbest: 0.7492066 (67)\ttotal: 23s\tremaining: 2m 23s\n",
      "69:\tlearn: 0.7596207\ttest: 0.7492505\tbest: 0.7492505 (69)\ttotal: 23.3s\tremaining: 2m 23s\n",
      "70:\tlearn: 0.7598101\ttest: 0.7495180\tbest: 0.7495180 (70)\ttotal: 23.6s\tremaining: 2m 22s\n",
      "71:\tlearn: 0.7603855\ttest: 0.7500638\tbest: 0.7500638 (71)\ttotal: 24s\tremaining: 2m 22s\n",
      "72:\tlearn: 0.7605273\ttest: 0.7507360\tbest: 0.7507360 (72)\ttotal: 24.4s\tremaining: 2m 22s\n",
      "73:\tlearn: 0.7607028\ttest: 0.7505718\tbest: 0.7507360 (72)\ttotal: 24.8s\tremaining: 2m 22s\n",
      "74:\tlearn: 0.7608801\ttest: 0.7511008\tbest: 0.7511008 (74)\ttotal: 25.2s\tremaining: 2m 22s\n",
      "75:\tlearn: 0.7611183\ttest: 0.7512510\tbest: 0.7512510 (75)\ttotal: 25.6s\tremaining: 2m 22s\n",
      "76:\tlearn: 0.7614369\ttest: 0.7517307\tbest: 0.7517307 (76)\ttotal: 25.9s\tremaining: 2m 22s\n",
      "77:\tlearn: 0.7616600\ttest: 0.7521303\tbest: 0.7521303 (77)\ttotal: 26.2s\tremaining: 2m 21s\n",
      "78:\tlearn: 0.7618262\ttest: 0.7520411\tbest: 0.7521303 (77)\ttotal: 26.6s\tremaining: 2m 21s\n",
      "79:\tlearn: 0.7622364\ttest: 0.7523700\tbest: 0.7523700 (79)\ttotal: 27s\tremaining: 2m 21s\n",
      "80:\tlearn: 0.7623612\ttest: 0.7528087\tbest: 0.7528087 (80)\ttotal: 27.4s\tremaining: 2m 21s\n",
      "81:\tlearn: 0.7625891\ttest: 0.7535268\tbest: 0.7535268 (81)\ttotal: 27.7s\tremaining: 2m 21s\n",
      "82:\tlearn: 0.7632312\ttest: 0.7537072\tbest: 0.7537072 (82)\ttotal: 28.1s\tremaining: 2m 21s\n",
      "83:\tlearn: 0.7634713\ttest: 0.7545069\tbest: 0.7545069 (83)\ttotal: 28.5s\tremaining: 2m 21s\n",
      "84:\tlearn: 0.7637754\ttest: 0.7546207\tbest: 0.7546207 (84)\ttotal: 28.9s\tremaining: 2m 21s\n",
      "85:\tlearn: 0.7643421\ttest: 0.7545225\tbest: 0.7546207 (84)\ttotal: 29.4s\tremaining: 2m 21s\n",
      "86:\tlearn: 0.7643072\ttest: 0.7546548\tbest: 0.7546548 (86)\ttotal: 29.7s\tremaining: 2m 21s\n",
      "87:\tlearn: 0.7648234\ttest: 0.7548957\tbest: 0.7548957 (87)\ttotal: 30.1s\tremaining: 2m 21s\n",
      "88:\tlearn: 0.7649881\ttest: 0.7553148\tbest: 0.7553148 (88)\ttotal: 30.5s\tremaining: 2m 20s\n",
      "89:\tlearn: 0.7655492\ttest: 0.7554486\tbest: 0.7554486 (89)\ttotal: 30.8s\tremaining: 2m 20s\n",
      "90:\tlearn: 0.7655362\ttest: 0.7553267\tbest: 0.7554486 (89)\ttotal: 31.2s\tremaining: 2m 20s\n",
      "91:\tlearn: 0.7656630\ttest: 0.7554673\tbest: 0.7554673 (91)\ttotal: 31.5s\tremaining: 2m 19s\n",
      "92:\tlearn: 0.7658087\ttest: 0.7556669\tbest: 0.7556669 (92)\ttotal: 31.9s\tremaining: 2m 19s\n"
     ]
    },
    {
     "name": "stdout",
     "output_type": "stream",
     "text": [
      "93:\tlearn: 0.7660342\ttest: 0.7556699\tbest: 0.7556699 (93)\ttotal: 32.3s\tremaining: 2m 19s\n",
      "94:\tlearn: 0.7661094\ttest: 0.7560327\tbest: 0.7560327 (94)\ttotal: 32.7s\tremaining: 2m 19s\n",
      "95:\tlearn: 0.7662481\ttest: 0.7565382\tbest: 0.7565382 (95)\ttotal: 33.1s\tremaining: 2m 19s\n",
      "96:\tlearn: 0.7665281\ttest: 0.7570899\tbest: 0.7570899 (96)\ttotal: 33.6s\tremaining: 2m 19s\n",
      "97:\tlearn: 0.7667995\ttest: 0.7572797\tbest: 0.7572797 (97)\ttotal: 34s\tremaining: 2m 19s\n",
      "98:\tlearn: 0.7670417\ttest: 0.7576058\tbest: 0.7576058 (98)\ttotal: 34.3s\tremaining: 2m 19s\n",
      "99:\tlearn: 0.7670640\ttest: 0.7574928\tbest: 0.7576058 (98)\ttotal: 34.7s\tremaining: 2m 18s\n",
      "100:\tlearn: 0.7673743\ttest: 0.7578490\tbest: 0.7578490 (100)\ttotal: 35.1s\tremaining: 2m 18s\n",
      "101:\tlearn: 0.7676328\ttest: 0.7582946\tbest: 0.7582946 (101)\ttotal: 35.4s\tremaining: 2m 18s\n",
      "102:\tlearn: 0.7677973\ttest: 0.7584870\tbest: 0.7584870 (102)\ttotal: 35.8s\tremaining: 2m 17s\n",
      "103:\tlearn: 0.7682341\ttest: 0.7584549\tbest: 0.7584870 (102)\ttotal: 36.2s\tremaining: 2m 17s\n",
      "104:\tlearn: 0.7685275\ttest: 0.7587457\tbest: 0.7587457 (104)\ttotal: 36.6s\tremaining: 2m 17s\n",
      "105:\tlearn: 0.7684607\ttest: 0.7587892\tbest: 0.7587892 (105)\ttotal: 36.9s\tremaining: 2m 17s\n",
      "106:\tlearn: 0.7685215\ttest: 0.7587949\tbest: 0.7587949 (106)\ttotal: 37.2s\tremaining: 2m 16s\n",
      "107:\tlearn: 0.7687714\ttest: 0.7589361\tbest: 0.7589361 (107)\ttotal: 37.5s\tremaining: 2m 16s\n",
      "108:\tlearn: 0.7690847\ttest: 0.7594794\tbest: 0.7594794 (108)\ttotal: 37.9s\tremaining: 2m 16s\n",
      "109:\tlearn: 0.7694420\ttest: 0.7599587\tbest: 0.7599587 (109)\ttotal: 38.2s\tremaining: 2m 15s\n",
      "110:\tlearn: 0.7697527\ttest: 0.7598574\tbest: 0.7599587 (109)\ttotal: 38.5s\tremaining: 2m 15s\n",
      "111:\tlearn: 0.7700954\ttest: 0.7600473\tbest: 0.7600473 (111)\ttotal: 38.9s\tremaining: 2m 14s\n",
      "112:\tlearn: 0.7702557\ttest: 0.7599762\tbest: 0.7600473 (111)\ttotal: 39.3s\tremaining: 2m 14s\n",
      "113:\tlearn: 0.7706244\ttest: 0.7602640\tbest: 0.7602640 (113)\ttotal: 39.6s\tremaining: 2m 14s\n",
      "114:\tlearn: 0.7707813\ttest: 0.7603848\tbest: 0.7603848 (114)\ttotal: 40s\tremaining: 2m 13s\n",
      "115:\tlearn: 0.7708611\ttest: 0.7606809\tbest: 0.7606809 (115)\ttotal: 40.3s\tremaining: 2m 13s\n",
      "116:\tlearn: 0.7711869\ttest: 0.7612536\tbest: 0.7612536 (116)\ttotal: 40.7s\tremaining: 2m 13s\n",
      "117:\tlearn: 0.7713582\ttest: 0.7612099\tbest: 0.7612536 (116)\ttotal: 41s\tremaining: 2m 12s\n",
      "118:\tlearn: 0.7714602\ttest: 0.7613879\tbest: 0.7613879 (118)\ttotal: 41.4s\tremaining: 2m 12s\n",
      "119:\tlearn: 0.7715205\ttest: 0.7611004\tbest: 0.7613879 (118)\ttotal: 41.7s\tremaining: 2m 12s\n",
      "120:\tlearn: 0.7716477\ttest: 0.7613744\tbest: 0.7613879 (118)\ttotal: 42.1s\tremaining: 2m 11s\n",
      "121:\tlearn: 0.7721668\ttest: 0.7616840\tbest: 0.7616840 (121)\ttotal: 42.4s\tremaining: 2m 11s\n",
      "122:\tlearn: 0.7722259\ttest: 0.7619635\tbest: 0.7619635 (122)\ttotal: 42.7s\tremaining: 2m 10s\n",
      "123:\tlearn: 0.7725895\ttest: 0.7617881\tbest: 0.7619635 (122)\ttotal: 43s\tremaining: 2m 10s\n",
      "124:\tlearn: 0.7726472\ttest: 0.7618703\tbest: 0.7619635 (122)\ttotal: 43.3s\tremaining: 2m 9s\n",
      "125:\tlearn: 0.7727291\ttest: 0.7620484\tbest: 0.7620484 (125)\ttotal: 43.6s\tremaining: 2m 9s\n",
      "126:\tlearn: 0.7732084\ttest: 0.7617333\tbest: 0.7620484 (125)\ttotal: 44s\tremaining: 2m 9s\n",
      "127:\tlearn: 0.7732300\ttest: 0.7621249\tbest: 0.7621249 (127)\ttotal: 44.3s\tremaining: 2m 8s\n",
      "128:\tlearn: 0.7733809\ttest: 0.7621222\tbest: 0.7621249 (127)\ttotal: 44.7s\tremaining: 2m 8s\n",
      "129:\tlearn: 0.7734057\ttest: 0.7624588\tbest: 0.7624588 (129)\ttotal: 45s\tremaining: 2m 8s\n",
      "130:\tlearn: 0.7733040\ttest: 0.7624723\tbest: 0.7624723 (130)\ttotal: 45.3s\tremaining: 2m 7s\n",
      "131:\tlearn: 0.7734027\ttest: 0.7628419\tbest: 0.7628419 (131)\ttotal: 45.6s\tremaining: 2m 7s\n",
      "132:\tlearn: 0.7734675\ttest: 0.7631375\tbest: 0.7631375 (132)\ttotal: 45.9s\tremaining: 2m 6s\n",
      "133:\tlearn: 0.7734941\ttest: 0.7635844\tbest: 0.7635844 (133)\ttotal: 46.2s\tremaining: 2m 6s\n",
      "134:\tlearn: 0.7737197\ttest: 0.7634770\tbest: 0.7635844 (133)\ttotal: 46.5s\tremaining: 2m 5s\n",
      "135:\tlearn: 0.7738459\ttest: 0.7639427\tbest: 0.7639427 (135)\ttotal: 46.9s\tremaining: 2m 5s\n",
      "136:\tlearn: 0.7741400\ttest: 0.7640554\tbest: 0.7640554 (136)\ttotal: 47.2s\tremaining: 2m 4s\n",
      "137:\tlearn: 0.7741327\ttest: 0.7640881\tbest: 0.7640881 (137)\ttotal: 47.5s\tremaining: 2m 4s\n",
      "138:\tlearn: 0.7741911\ttest: 0.7643183\tbest: 0.7643183 (138)\ttotal: 47.8s\tremaining: 2m 4s\n",
      "139:\tlearn: 0.7741859\ttest: 0.7646818\tbest: 0.7646818 (139)\ttotal: 48.2s\tremaining: 2m 3s\n",
      "140:\tlearn: 0.7744501\ttest: 0.7652268\tbest: 0.7652268 (140)\ttotal: 48.5s\tremaining: 2m 3s\n",
      "141:\tlearn: 0.7744575\ttest: 0.7654923\tbest: 0.7654923 (141)\ttotal: 48.8s\tremaining: 2m 3s\n",
      "142:\tlearn: 0.7745456\ttest: 0.7654949\tbest: 0.7654949 (142)\ttotal: 49.1s\tremaining: 2m 2s\n",
      "143:\tlearn: 0.7747400\ttest: 0.7657745\tbest: 0.7657745 (143)\ttotal: 49.5s\tremaining: 2m 2s\n",
      "144:\tlearn: 0.7749161\ttest: 0.7655196\tbest: 0.7657745 (143)\ttotal: 49.9s\tremaining: 2m 2s\n",
      "145:\tlearn: 0.7751466\ttest: 0.7653221\tbest: 0.7657745 (143)\ttotal: 50.2s\tremaining: 2m 1s\n",
      "146:\tlearn: 0.7751913\ttest: 0.7652585\tbest: 0.7657745 (143)\ttotal: 50.6s\tremaining: 2m 1s\n",
      "147:\tlearn: 0.7754270\ttest: 0.7655186\tbest: 0.7657745 (143)\ttotal: 50.9s\tremaining: 2m 1s\n",
      "148:\tlearn: 0.7753803\ttest: 0.7654666\tbest: 0.7657745 (143)\ttotal: 51.3s\tremaining: 2m\n",
      "149:\tlearn: 0.7752370\ttest: 0.7655123\tbest: 0.7657745 (143)\ttotal: 51.6s\tremaining: 2m\n",
      "150:\tlearn: 0.7752742\ttest: 0.7657881\tbest: 0.7657881 (150)\ttotal: 51.9s\tremaining: 2m\n",
      "151:\tlearn: 0.7753410\ttest: 0.7655879\tbest: 0.7657881 (150)\ttotal: 52.3s\tremaining: 1m 59s\n",
      "152:\tlearn: 0.7753612\ttest: 0.7654838\tbest: 0.7657881 (150)\ttotal: 52.7s\tremaining: 1m 59s\n",
      "153:\tlearn: 0.7753697\ttest: 0.7659247\tbest: 0.7659247 (153)\ttotal: 53.1s\tremaining: 1m 59s\n",
      "154:\tlearn: 0.7754885\ttest: 0.7660560\tbest: 0.7660560 (154)\ttotal: 53.5s\tremaining: 1m 59s\n",
      "155:\tlearn: 0.7756180\ttest: 0.7658883\tbest: 0.7660560 (154)\ttotal: 53.8s\tremaining: 1m 58s\n",
      "156:\tlearn: 0.7757008\ttest: 0.7660443\tbest: 0.7660560 (154)\ttotal: 54.2s\tremaining: 1m 58s\n",
      "157:\tlearn: 0.7759555\ttest: 0.7662159\tbest: 0.7662159 (157)\ttotal: 54.6s\tremaining: 1m 58s\n",
      "158:\tlearn: 0.7759438\ttest: 0.7663863\tbest: 0.7663863 (158)\ttotal: 54.9s\tremaining: 1m 57s\n",
      "159:\tlearn: 0.7762219\ttest: 0.7664136\tbest: 0.7664136 (159)\ttotal: 55.2s\tremaining: 1m 57s\n",
      "160:\tlearn: 0.7763058\ttest: 0.7665578\tbest: 0.7665578 (160)\ttotal: 55.5s\tremaining: 1m 56s\n",
      "161:\tlearn: 0.7763132\ttest: 0.7665825\tbest: 0.7665825 (161)\ttotal: 55.8s\tremaining: 1m 56s\n",
      "162:\tlearn: 0.7765987\ttest: 0.7666345\tbest: 0.7666345 (162)\ttotal: 56.2s\tremaining: 1m 56s\n",
      "163:\tlearn: 0.7768066\ttest: 0.7666891\tbest: 0.7666891 (163)\ttotal: 56.5s\tremaining: 1m 55s\n",
      "164:\tlearn: 0.7769106\ttest: 0.7665681\tbest: 0.7666891 (163)\ttotal: 56.8s\tremaining: 1m 55s\n",
      "165:\tlearn: 0.7770815\ttest: 0.7666098\tbest: 0.7666891 (163)\ttotal: 57.1s\tremaining: 1m 54s\n",
      "166:\tlearn: 0.7772440\ttest: 0.7666773\tbest: 0.7666891 (163)\ttotal: 57.4s\tremaining: 1m 54s\n",
      "167:\tlearn: 0.7773426\ttest: 0.7669501\tbest: 0.7669501 (167)\ttotal: 57.7s\tremaining: 1m 54s\n",
      "168:\tlearn: 0.7774688\ttest: 0.7669774\tbest: 0.7669774 (168)\ttotal: 58s\tremaining: 1m 53s\n",
      "169:\tlearn: 0.7775144\ttest: 0.7667864\tbest: 0.7669774 (168)\ttotal: 58.4s\tremaining: 1m 53s\n",
      "170:\tlearn: 0.7776375\ttest: 0.7668930\tbest: 0.7669774 (168)\ttotal: 58.7s\tremaining: 1m 52s\n",
      "171:\tlearn: 0.7776607\ttest: 0.7668930\tbest: 0.7669774 (168)\ttotal: 59s\tremaining: 1m 52s\n",
      "172:\tlearn: 0.7778134\ttest: 0.7667668\tbest: 0.7669774 (168)\ttotal: 59.3s\tremaining: 1m 52s\n",
      "173:\tlearn: 0.7780062\ttest: 0.7670891\tbest: 0.7670891 (173)\ttotal: 59.7s\tremaining: 1m 51s\n",
      "174:\tlearn: 0.7778642\ttest: 0.7668342\tbest: 0.7670891 (173)\ttotal: 1m\tremaining: 1m 51s\n",
      "175:\tlearn: 0.7780655\ttest: 0.7670175\tbest: 0.7670891 (173)\ttotal: 1m\tremaining: 1m 51s\n",
      "176:\tlearn: 0.7780792\ttest: 0.7669084\tbest: 0.7670891 (173)\ttotal: 1m\tremaining: 1m 50s\n",
      "177:\tlearn: 0.7782298\ttest: 0.7668512\tbest: 0.7670891 (173)\ttotal: 1m 1s\tremaining: 1m 50s\n",
      "178:\tlearn: 0.7783165\ttest: 0.7669953\tbest: 0.7670891 (173)\ttotal: 1m 1s\tremaining: 1m 50s\n",
      "179:\tlearn: 0.7785626\ttest: 0.7672655\tbest: 0.7672655 (179)\ttotal: 1m 1s\tremaining: 1m 49s\n",
      "180:\tlearn: 0.7787460\ttest: 0.7672280\tbest: 0.7672655 (179)\ttotal: 1m 2s\tremaining: 1m 49s\n",
      "181:\tlearn: 0.7787532\ttest: 0.7671862\tbest: 0.7672655 (179)\ttotal: 1m 2s\tremaining: 1m 49s\n",
      "182:\tlearn: 0.7788811\ttest: 0.7673149\tbest: 0.7673149 (182)\ttotal: 1m 2s\tremaining: 1m 48s\n",
      "183:\tlearn: 0.7790370\ttest: 0.7675901\tbest: 0.7675901 (183)\ttotal: 1m 3s\tremaining: 1m 48s\n"
     ]
    },
    {
     "name": "stdout",
     "output_type": "stream",
     "text": [
      "184:\tlearn: 0.7790898\ttest: 0.7674614\tbest: 0.7675901 (183)\ttotal: 1m 3s\tremaining: 1m 48s\n",
      "185:\tlearn: 0.7792119\ttest: 0.7675851\tbest: 0.7675901 (183)\ttotal: 1m 3s\tremaining: 1m 47s\n",
      "186:\tlearn: 0.7794463\ttest: 0.7673866\tbest: 0.7675901 (183)\ttotal: 1m 4s\tremaining: 1m 47s\n",
      "187:\tlearn: 0.7795649\ttest: 0.7675527\tbest: 0.7675901 (183)\ttotal: 1m 4s\tremaining: 1m 47s\n",
      "188:\tlearn: 0.7797599\ttest: 0.7677239\tbest: 0.7677239 (188)\ttotal: 1m 4s\tremaining: 1m 46s\n",
      "189:\tlearn: 0.7800712\ttest: 0.7676687\tbest: 0.7677239 (188)\ttotal: 1m 5s\tremaining: 1m 46s\n",
      "190:\tlearn: 0.7799512\ttest: 0.7674513\tbest: 0.7677239 (188)\ttotal: 1m 5s\tremaining: 1m 46s\n",
      "191:\tlearn: 0.7800910\ttest: 0.7676618\tbest: 0.7677239 (188)\ttotal: 1m 6s\tremaining: 1m 45s\n",
      "192:\tlearn: 0.7800262\ttest: 0.7679985\tbest: 0.7679985 (192)\ttotal: 1m 6s\tremaining: 1m 45s\n",
      "193:\tlearn: 0.7799781\ttest: 0.7681323\tbest: 0.7681323 (193)\ttotal: 1m 6s\tremaining: 1m 45s\n",
      "194:\tlearn: 0.7799315\ttest: 0.7680429\tbest: 0.7681323 (193)\ttotal: 1m 7s\tremaining: 1m 45s\n",
      "195:\tlearn: 0.7801067\ttest: 0.7680454\tbest: 0.7681323 (193)\ttotal: 1m 7s\tremaining: 1m 44s\n",
      "196:\tlearn: 0.7801518\ttest: 0.7681595\tbest: 0.7681595 (196)\ttotal: 1m 7s\tremaining: 1m 44s\n",
      "197:\tlearn: 0.7802642\ttest: 0.7680555\tbest: 0.7681595 (196)\ttotal: 1m 8s\tremaining: 1m 44s\n",
      "198:\tlearn: 0.7804009\ttest: 0.7680459\tbest: 0.7681595 (196)\ttotal: 1m 8s\tremaining: 1m 43s\n",
      "199:\tlearn: 0.7804014\ttest: 0.7681600\tbest: 0.7681600 (199)\ttotal: 1m 9s\tremaining: 1m 43s\n",
      "200:\tlearn: 0.7805209\ttest: 0.7680636\tbest: 0.7681600 (199)\ttotal: 1m 9s\tremaining: 1m 43s\n",
      "201:\tlearn: 0.7807604\ttest: 0.7684300\tbest: 0.7684300 (201)\ttotal: 1m 9s\tremaining: 1m 42s\n",
      "202:\tlearn: 0.7807614\ttest: 0.7682048\tbest: 0.7684300 (201)\ttotal: 1m 10s\tremaining: 1m 42s\n",
      "203:\tlearn: 0.7809330\ttest: 0.7683780\tbest: 0.7684300 (201)\ttotal: 1m 10s\tremaining: 1m 42s\n",
      "204:\tlearn: 0.7809057\ttest: 0.7687716\tbest: 0.7687716 (204)\ttotal: 1m 10s\tremaining: 1m 41s\n",
      "205:\tlearn: 0.7812485\ttest: 0.7686626\tbest: 0.7687716 (204)\ttotal: 1m 11s\tremaining: 1m 41s\n",
      "206:\tlearn: 0.7813928\ttest: 0.7687716\tbest: 0.7687716 (204)\ttotal: 1m 11s\tremaining: 1m 41s\n",
      "207:\tlearn: 0.7813912\ttest: 0.7688039\tbest: 0.7688039 (207)\ttotal: 1m 11s\tremaining: 1m 40s\n",
      "208:\tlearn: 0.7814261\ttest: 0.7689103\tbest: 0.7689103 (208)\ttotal: 1m 12s\tremaining: 1m 40s\n",
      "209:\tlearn: 0.7815229\ttest: 0.7688064\tbest: 0.7689103 (208)\ttotal: 1m 12s\tremaining: 1m 40s\n",
      "210:\tlearn: 0.7815947\ttest: 0.7687594\tbest: 0.7689103 (208)\ttotal: 1m 12s\tremaining: 1m 39s\n",
      "211:\tlearn: 0.7815801\ttest: 0.7687469\tbest: 0.7689103 (208)\ttotal: 1m 13s\tremaining: 1m 39s\n",
      "212:\tlearn: 0.7816971\ttest: 0.7687741\tbest: 0.7689103 (208)\ttotal: 1m 13s\tremaining: 1m 39s\n",
      "213:\tlearn: 0.7818084\ttest: 0.7688931\tbest: 0.7689103 (208)\ttotal: 1m 14s\tremaining: 1m 39s\n",
      "214:\tlearn: 0.7819299\ttest: 0.7689228\tbest: 0.7689228 (214)\ttotal: 1m 14s\tremaining: 1m 38s\n",
      "215:\tlearn: 0.7818620\ttest: 0.7692842\tbest: 0.7692842 (215)\ttotal: 1m 14s\tremaining: 1m 38s\n",
      "216:\tlearn: 0.7821141\ttest: 0.7691060\tbest: 0.7692842 (215)\ttotal: 1m 15s\tremaining: 1m 38s\n",
      "217:\tlearn: 0.7819738\ttest: 0.7694748\tbest: 0.7694748 (217)\ttotal: 1m 15s\tremaining: 1m 37s\n",
      "218:\tlearn: 0.7820948\ttest: 0.7696555\tbest: 0.7696555 (218)\ttotal: 1m 15s\tremaining: 1m 37s\n",
      "219:\tlearn: 0.7821945\ttest: 0.7694921\tbest: 0.7696555 (218)\ttotal: 1m 16s\tremaining: 1m 36s\n",
      "220:\tlearn: 0.7822371\ttest: 0.7697050\tbest: 0.7697050 (220)\ttotal: 1m 16s\tremaining: 1m 36s\n",
      "221:\tlearn: 0.7822750\ttest: 0.7694475\tbest: 0.7697050 (220)\ttotal: 1m 16s\tremaining: 1m 36s\n",
      "222:\tlearn: 0.7821716\ttest: 0.7694253\tbest: 0.7697050 (220)\ttotal: 1m 17s\tremaining: 1m 35s\n",
      "223:\tlearn: 0.7823275\ttest: 0.7697074\tbest: 0.7697074 (223)\ttotal: 1m 17s\tremaining: 1m 35s\n",
      "224:\tlearn: 0.7825320\ttest: 0.7693560\tbest: 0.7697074 (223)\ttotal: 1m 17s\tremaining: 1m 35s\n",
      "225:\tlearn: 0.7826620\ttest: 0.7694104\tbest: 0.7697074 (223)\ttotal: 1m 18s\tremaining: 1m 34s\n",
      "226:\tlearn: 0.7827298\ttest: 0.7693114\tbest: 0.7697074 (223)\ttotal: 1m 18s\tremaining: 1m 34s\n",
      "227:\tlearn: 0.7827337\ttest: 0.7696233\tbest: 0.7697074 (223)\ttotal: 1m 18s\tremaining: 1m 34s\n",
      "228:\tlearn: 0.7827832\ttest: 0.7697495\tbest: 0.7697495 (228)\ttotal: 1m 19s\tremaining: 1m 33s\n",
      "229:\tlearn: 0.7829159\ttest: 0.7698856\tbest: 0.7698856 (229)\ttotal: 1m 19s\tremaining: 1m 33s\n",
      "230:\tlearn: 0.7829886\ttest: 0.7697098\tbest: 0.7698856 (229)\ttotal: 1m 20s\tremaining: 1m 33s\n",
      "231:\tlearn: 0.7830505\ttest: 0.7698162\tbest: 0.7698856 (229)\ttotal: 1m 20s\tremaining: 1m 32s\n",
      "232:\tlearn: 0.7831272\ttest: 0.7697543\tbest: 0.7698856 (229)\ttotal: 1m 20s\tremaining: 1m 32s\n",
      "233:\tlearn: 0.7831544\ttest: 0.7697295\tbest: 0.7698856 (229)\ttotal: 1m 21s\tremaining: 1m 32s\n",
      "234:\tlearn: 0.7832978\ttest: 0.7696329\tbest: 0.7698856 (229)\ttotal: 1m 21s\tremaining: 1m 31s\n",
      "235:\tlearn: 0.7832533\ttest: 0.7696650\tbest: 0.7698856 (229)\ttotal: 1m 21s\tremaining: 1m 31s\n",
      "236:\tlearn: 0.7833308\ttest: 0.7697368\tbest: 0.7698856 (229)\ttotal: 1m 22s\tremaining: 1m 31s\n",
      "237:\tlearn: 0.7834701\ttest: 0.7698111\tbest: 0.7698856 (229)\ttotal: 1m 22s\tremaining: 1m 30s\n",
      "238:\tlearn: 0.7835012\ttest: 0.7698805\tbest: 0.7698856 (229)\ttotal: 1m 22s\tremaining: 1m 30s\n",
      "239:\tlearn: 0.7836929\ttest: 0.7699991\tbest: 0.7699991 (239)\ttotal: 1m 23s\tremaining: 1m 30s\n",
      "240:\tlearn: 0.7837355\ttest: 0.7700710\tbest: 0.7700710 (240)\ttotal: 1m 23s\tremaining: 1m 29s\n",
      "241:\tlearn: 0.7837694\ttest: 0.7699792\tbest: 0.7700710 (240)\ttotal: 1m 23s\tremaining: 1m 29s\n",
      "242:\tlearn: 0.7839273\ttest: 0.7701400\tbest: 0.7701400 (242)\ttotal: 1m 23s\tremaining: 1m 28s\n",
      "243:\tlearn: 0.7842670\ttest: 0.7700385\tbest: 0.7701400 (242)\ttotal: 1m 24s\tremaining: 1m 28s\n",
      "244:\tlearn: 0.7842844\ttest: 0.7698282\tbest: 0.7701400 (242)\ttotal: 1m 24s\tremaining: 1m 28s\n",
      "245:\tlearn: 0.7843193\ttest: 0.7698258\tbest: 0.7701400 (242)\ttotal: 1m 24s\tremaining: 1m 27s\n",
      "246:\tlearn: 0.7844026\ttest: 0.7697219\tbest: 0.7701400 (242)\ttotal: 1m 25s\tremaining: 1m 27s\n",
      "247:\tlearn: 0.7846902\ttest: 0.7700288\tbest: 0.7701400 (242)\ttotal: 1m 25s\tremaining: 1m 27s\n",
      "248:\tlearn: 0.7847134\ttest: 0.7702910\tbest: 0.7702910 (248)\ttotal: 1m 26s\tremaining: 1m 26s\n",
      "249:\tlearn: 0.7847570\ttest: 0.7701575\tbest: 0.7702910 (248)\ttotal: 1m 26s\tremaining: 1m 26s\n",
      "250:\tlearn: 0.7847812\ttest: 0.7703430\tbest: 0.7703430 (250)\ttotal: 1m 26s\tremaining: 1m 26s\n",
      "251:\tlearn: 0.7849380\ttest: 0.7705086\tbest: 0.7705086 (251)\ttotal: 1m 27s\tremaining: 1m 25s\n",
      "252:\tlearn: 0.7848616\ttest: 0.7705878\tbest: 0.7705878 (252)\ttotal: 1m 27s\tremaining: 1m 25s\n",
      "253:\tlearn: 0.7849913\ttest: 0.7708379\tbest: 0.7708379 (253)\ttotal: 1m 27s\tremaining: 1m 25s\n",
      "254:\tlearn: 0.7849690\ttest: 0.7709690\tbest: 0.7709690 (254)\ttotal: 1m 28s\tremaining: 1m 24s\n",
      "255:\tlearn: 0.7850068\ttest: 0.7709787\tbest: 0.7709787 (255)\ttotal: 1m 28s\tremaining: 1m 24s\n",
      "256:\tlearn: 0.7851859\ttest: 0.7711690\tbest: 0.7711690 (256)\ttotal: 1m 29s\tremaining: 1m 24s\n",
      "257:\tlearn: 0.7853128\ttest: 0.7710724\tbest: 0.7711690 (256)\ttotal: 1m 29s\tremaining: 1m 23s\n",
      "258:\tlearn: 0.7854483\ttest: 0.7710005\tbest: 0.7711690 (256)\ttotal: 1m 29s\tremaining: 1m 23s\n",
      "259:\tlearn: 0.7854173\ttest: 0.7710276\tbest: 0.7711690 (256)\ttotal: 1m 30s\tremaining: 1m 23s\n",
      "260:\tlearn: 0.7854899\ttest: 0.7712826\tbest: 0.7712826 (260)\ttotal: 1m 30s\tremaining: 1m 22s\n",
      "261:\tlearn: 0.7855490\ttest: 0.7712258\tbest: 0.7712826 (260)\ttotal: 1m 30s\tremaining: 1m 22s\n",
      "262:\tlearn: 0.7855509\ttest: 0.7714041\tbest: 0.7714041 (262)\ttotal: 1m 31s\tremaining: 1m 22s\n",
      "263:\tlearn: 0.7857843\ttest: 0.7711020\tbest: 0.7714041 (262)\ttotal: 1m 31s\tremaining: 1m 21s\n",
      "264:\tlearn: 0.7858133\ttest: 0.7710252\tbest: 0.7714041 (262)\ttotal: 1m 31s\tremaining: 1m 21s\n",
      "265:\tlearn: 0.7858937\ttest: 0.7710005\tbest: 0.7714041 (262)\ttotal: 1m 32s\tremaining: 1m 21s\n",
      "266:\tlearn: 0.7859866\ttest: 0.7708965\tbest: 0.7714041 (262)\ttotal: 1m 32s\tremaining: 1m 20s\n",
      "267:\tlearn: 0.7861512\ttest: 0.7709533\tbest: 0.7714041 (262)\ttotal: 1m 32s\tremaining: 1m 20s\n",
      "268:\tlearn: 0.7862006\ttest: 0.7708965\tbest: 0.7714041 (262)\ttotal: 1m 33s\tremaining: 1m 19s\n",
      "269:\tlearn: 0.7864096\ttest: 0.7711811\tbest: 0.7714041 (262)\ttotal: 1m 33s\tremaining: 1m 19s\n",
      "270:\tlearn: 0.7865258\ttest: 0.7713001\tbest: 0.7714041 (262)\ttotal: 1m 33s\tremaining: 1m 19s\n",
      "271:\tlearn: 0.7865287\ttest: 0.7710923\tbest: 0.7714041 (262)\ttotal: 1m 33s\tremaining: 1m 18s\n",
      "272:\tlearn: 0.7865471\ttest: 0.7711890\tbest: 0.7714041 (262)\ttotal: 1m 34s\tremaining: 1m 18s\n",
      "273:\tlearn: 0.7865248\ttest: 0.7713201\tbest: 0.7714041 (262)\ttotal: 1m 34s\tremaining: 1m 18s\n"
     ]
    },
    {
     "name": "stdout",
     "output_type": "stream",
     "text": [
      "274:\tlearn: 0.7866429\ttest: 0.7713521\tbest: 0.7714041 (262)\ttotal: 1m 34s\tremaining: 1m 17s\n",
      "275:\tlearn: 0.7866980\ttest: 0.7714409\tbest: 0.7714409 (275)\ttotal: 1m 35s\tremaining: 1m 17s\n",
      "276:\tlearn: 0.7867106\ttest: 0.7714433\tbest: 0.7714433 (276)\ttotal: 1m 35s\tremaining: 1m 16s\n",
      "277:\tlearn: 0.7869450\ttest: 0.7716535\tbest: 0.7716535 (277)\ttotal: 1m 35s\tremaining: 1m 16s\n",
      "278:\tlearn: 0.7868588\ttest: 0.7715496\tbest: 0.7716535 (277)\ttotal: 1m 36s\tremaining: 1m 16s\n",
      "279:\tlearn: 0.7868762\ttest: 0.7715768\tbest: 0.7716535 (277)\ttotal: 1m 36s\tremaining: 1m 15s\n",
      "280:\tlearn: 0.7868665\ttest: 0.7717151\tbest: 0.7717151 (280)\ttotal: 1m 36s\tremaining: 1m 15s\n",
      "281:\tlearn: 0.7870901\ttest: 0.7716383\tbest: 0.7717151 (280)\ttotal: 1m 37s\tremaining: 1m 15s\n",
      "282:\tlearn: 0.7869757\ttest: 0.7715888\tbest: 0.7717151 (280)\ttotal: 1m 37s\tremaining: 1m 14s\n",
      "283:\tlearn: 0.7869196\ttest: 0.7715049\tbest: 0.7717151 (280)\ttotal: 1m 37s\tremaining: 1m 14s\n",
      "284:\tlearn: 0.7869051\ttest: 0.7715840\tbest: 0.7717151 (280)\ttotal: 1m 37s\tremaining: 1m 13s\n",
      "285:\tlearn: 0.7869544\ttest: 0.7715344\tbest: 0.7717151 (280)\ttotal: 1m 38s\tremaining: 1m 13s\n",
      "286:\tlearn: 0.7871103\ttest: 0.7715816\tbest: 0.7717151 (280)\ttotal: 1m 38s\tremaining: 1m 13s\n",
      "287:\tlearn: 0.7870755\ttest: 0.7717127\tbest: 0.7717151 (280)\ttotal: 1m 38s\tremaining: 1m 12s\n",
      "288:\tlearn: 0.7871839\ttest: 0.7719181\tbest: 0.7719181 (288)\ttotal: 1m 39s\tremaining: 1m 12s\n",
      "289:\tlearn: 0.7872564\ttest: 0.7722098\tbest: 0.7722098 (289)\ttotal: 1m 39s\tremaining: 1m 12s\n",
      "290:\tlearn: 0.7872612\ttest: 0.7721874\tbest: 0.7722098 (289)\ttotal: 1m 39s\tremaining: 1m 11s\n",
      "291:\tlearn: 0.7871721\ttest: 0.7716751\tbest: 0.7722098 (289)\ttotal: 1m 40s\tremaining: 1m 11s\n",
      "292:\tlearn: 0.7872214\ttest: 0.7718109\tbest: 0.7722098 (289)\ttotal: 1m 40s\tremaining: 1m 10s\n",
      "293:\tlearn: 0.7873230\ttest: 0.7717814\tbest: 0.7722098 (289)\ttotal: 1m 40s\tremaining: 1m 10s\n",
      "294:\tlearn: 0.7872707\ttest: 0.7717366\tbest: 0.7722098 (289)\ttotal: 1m 41s\tremaining: 1m 10s\n",
      "295:\tlearn: 0.7873221\ttest: 0.7717318\tbest: 0.7722098 (289)\ttotal: 1m 41s\tremaining: 1m 9s\n",
      "296:\tlearn: 0.7874547\ttest: 0.7718086\tbest: 0.7722098 (289)\ttotal: 1m 41s\tremaining: 1m 9s\n",
      "297:\tlearn: 0.7875651\ttest: 0.7718086\tbest: 0.7722098 (289)\ttotal: 1m 41s\tremaining: 1m 9s\n",
      "298:\tlearn: 0.7875523\ttest: 0.7719196\tbest: 0.7722098 (289)\ttotal: 1m 42s\tremaining: 1m 8s\n",
      "299:\tlearn: 0.7876200\ttest: 0.7718405\tbest: 0.7722098 (289)\ttotal: 1m 42s\tremaining: 1m 8s\n",
      "300:\tlearn: 0.7876984\ttest: 0.7720130\tbest: 0.7722098 (289)\ttotal: 1m 42s\tremaining: 1m 8s\n",
      "301:\tlearn: 0.7877671\ttest: 0.7719634\tbest: 0.7722098 (289)\ttotal: 1m 43s\tremaining: 1m 7s\n",
      "302:\tlearn: 0.7877633\ttest: 0.7716837\tbest: 0.7722098 (289)\ttotal: 1m 43s\tremaining: 1m 7s\n",
      "303:\tlearn: 0.7878853\ttest: 0.7717699\tbest: 0.7722098 (289)\ttotal: 1m 43s\tremaining: 1m 6s\n",
      "304:\tlearn: 0.7877972\ttest: 0.7720367\tbest: 0.7722098 (289)\ttotal: 1m 44s\tremaining: 1m 6s\n",
      "305:\tlearn: 0.7877865\ttest: 0.7719646\tbest: 0.7722098 (289)\ttotal: 1m 44s\tremaining: 1m 6s\n",
      "306:\tlearn: 0.7877546\ttest: 0.7719918\tbest: 0.7722098 (289)\ttotal: 1m 44s\tremaining: 1m 5s\n",
      "307:\tlearn: 0.7877962\ttest: 0.7721205\tbest: 0.7722098 (289)\ttotal: 1m 45s\tremaining: 1m 5s\n",
      "308:\tlearn: 0.7880122\ttest: 0.7720886\tbest: 0.7722098 (289)\ttotal: 1m 45s\tremaining: 1m 5s\n",
      "309:\tlearn: 0.7882725\ttest: 0.7722538\tbest: 0.7722538 (309)\ttotal: 1m 45s\tremaining: 1m 4s\n",
      "310:\tlearn: 0.7882628\ttest: 0.7721748\tbest: 0.7722538 (309)\ttotal: 1m 46s\tremaining: 1m 4s\n",
      "311:\tlearn: 0.7884108\ttest: 0.7723423\tbest: 0.7723423 (311)\ttotal: 1m 46s\tremaining: 1m 4s\n",
      "312:\tlearn: 0.7885281\ttest: 0.7724981\tbest: 0.7724981 (312)\ttotal: 1m 46s\tremaining: 1m 3s\n",
      "313:\tlearn: 0.7885851\ttest: 0.7726244\tbest: 0.7726244 (313)\ttotal: 1m 47s\tremaining: 1m 3s\n",
      "314:\tlearn: 0.7885666\ttest: 0.7725973\tbest: 0.7726244 (313)\ttotal: 1m 47s\tremaining: 1m 3s\n",
      "315:\tlearn: 0.7886315\ttest: 0.7725182\tbest: 0.7726244 (313)\ttotal: 1m 47s\tremaining: 1m 2s\n",
      "316:\tlearn: 0.7886140\ttest: 0.7724250\tbest: 0.7726244 (313)\ttotal: 1m 48s\tremaining: 1m 2s\n",
      "317:\tlearn: 0.7886971\ttest: 0.7723530\tbest: 0.7726244 (313)\ttotal: 1m 48s\tremaining: 1m 2s\n",
      "318:\tlearn: 0.7888065\ttest: 0.7723211\tbest: 0.7726244 (313)\ttotal: 1m 48s\tremaining: 1m 1s\n",
      "319:\tlearn: 0.7887679\ttest: 0.7726824\tbest: 0.7726824 (319)\ttotal: 1m 49s\tremaining: 1m 1s\n",
      "320:\tlearn: 0.7887350\ttest: 0.7726458\tbest: 0.7726824 (319)\ttotal: 1m 49s\tremaining: 1m 1s\n",
      "321:\tlearn: 0.7890602\ttest: 0.7729055\tbest: 0.7729055 (321)\ttotal: 1m 49s\tremaining: 1m\n",
      "322:\tlearn: 0.7891113\ttest: 0.7727745\tbest: 0.7729055 (321)\ttotal: 1m 50s\tremaining: 1m\n",
      "323:\tlearn: 0.7890987\ttest: 0.7727650\tbest: 0.7729055 (321)\ttotal: 1m 50s\tremaining: 59.9s\n",
      "324:\tlearn: 0.7892680\ttest: 0.7728831\tbest: 0.7729055 (321)\ttotal: 1m 50s\tremaining: 59.6s\n",
      "325:\tlearn: 0.7893241\ttest: 0.7730342\tbest: 0.7730342 (325)\ttotal: 1m 50s\tremaining: 59.2s\n",
      "326:\tlearn: 0.7893307\ttest: 0.7730117\tbest: 0.7730342 (325)\ttotal: 1m 51s\tremaining: 58.8s\n",
      "327:\tlearn: 0.7893868\ttest: 0.7730932\tbest: 0.7730932 (327)\ttotal: 1m 51s\tremaining: 58.5s\n",
      "328:\tlearn: 0.7895505\ttest: 0.7729716\tbest: 0.7730932 (327)\ttotal: 1m 51s\tremaining: 58.2s\n",
      "329:\tlearn: 0.7898070\ttest: 0.7728027\tbest: 0.7730932 (327)\ttotal: 1m 52s\tremaining: 57.9s\n",
      "330:\tlearn: 0.7898028\ttest: 0.7728865\tbest: 0.7730932 (327)\ttotal: 1m 52s\tremaining: 57.5s\n",
      "331:\tlearn: 0.7898571\ttest: 0.7728121\tbest: 0.7730932 (327)\ttotal: 1m 52s\tremaining: 57.1s\n",
      "332:\tlearn: 0.7898821\ttest: 0.7728640\tbest: 0.7730932 (327)\ttotal: 1m 53s\tremaining: 56.8s\n",
      "333:\tlearn: 0.7899294\ttest: 0.7729927\tbest: 0.7730932 (327)\ttotal: 1m 53s\tremaining: 56.4s\n",
      "334:\tlearn: 0.7900101\ttest: 0.7731167\tbest: 0.7731167 (334)\ttotal: 1m 53s\tremaining: 56.1s\n",
      "335:\tlearn: 0.7900110\ttest: 0.7730399\tbest: 0.7731167 (334)\ttotal: 1m 54s\tremaining: 55.7s\n",
      "336:\tlearn: 0.7900379\ttest: 0.7728499\tbest: 0.7731167 (334)\ttotal: 1m 54s\tremaining: 55.4s\n",
      "337:\tlearn: 0.7900417\ttest: 0.7729833\tbest: 0.7731167 (334)\ttotal: 1m 54s\tremaining: 55s\n",
      "338:\tlearn: 0.7900523\ttest: 0.7730259\tbest: 0.7731167 (334)\ttotal: 1m 55s\tremaining: 54.7s\n",
      "339:\tlearn: 0.7900115\ttest: 0.7730329\tbest: 0.7731167 (334)\ttotal: 1m 55s\tremaining: 54.3s\n",
      "340:\tlearn: 0.7900616\ttest: 0.7730399\tbest: 0.7731167 (334)\ttotal: 1m 55s\tremaining: 54s\n",
      "341:\tlearn: 0.7900681\ttest: 0.7729702\tbest: 0.7731167 (334)\ttotal: 1m 56s\tremaining: 53.6s\n",
      "342:\tlearn: 0.7901659\ttest: 0.7728144\tbest: 0.7731167 (334)\ttotal: 1m 56s\tremaining: 53.3s\n",
      "343:\tlearn: 0.7902026\ttest: 0.7728958\tbest: 0.7731167 (334)\ttotal: 1m 56s\tremaining: 52.9s\n",
      "344:\tlearn: 0.7903083\ttest: 0.7731531\tbest: 0.7731531 (344)\ttotal: 1m 57s\tremaining: 52.6s\n",
      "345:\tlearn: 0.7903565\ttest: 0.7733314\tbest: 0.7733314 (345)\ttotal: 1m 57s\tremaining: 52.3s\n",
      "346:\tlearn: 0.7903653\ttest: 0.7731237\tbest: 0.7733314 (345)\ttotal: 1m 57s\tremaining: 51.9s\n",
      "347:\tlearn: 0.7902809\ttest: 0.7731012\tbest: 0.7733314 (345)\ttotal: 1m 58s\tremaining: 51.5s\n",
      "348:\tlearn: 0.7903148\ttest: 0.7731307\tbest: 0.7733314 (345)\ttotal: 1m 58s\tremaining: 51.2s\n",
      "349:\tlearn: 0.7903867\ttest: 0.7730540\tbest: 0.7733314 (345)\ttotal: 1m 58s\tremaining: 50.8s\n",
      "350:\tlearn: 0.7903055\ttest: 0.7730741\tbest: 0.7733314 (345)\ttotal: 1m 58s\tremaining: 50.5s\n",
      "351:\tlearn: 0.7904873\ttest: 0.7729819\tbest: 0.7733314 (345)\ttotal: 1m 59s\tremaining: 50.2s\n",
      "352:\tlearn: 0.7904980\ttest: 0.7731152\tbest: 0.7733314 (345)\ttotal: 1m 59s\tremaining: 49.8s\n",
      "353:\tlearn: 0.7905550\ttest: 0.7730160\tbest: 0.7733314 (345)\ttotal: 1m 59s\tremaining: 49.5s\n",
      "354:\tlearn: 0.7905907\ttest: 0.7730361\tbest: 0.7733314 (345)\ttotal: 2m\tremaining: 49.1s\n",
      "355:\tlearn: 0.7907395\ttest: 0.7730904\tbest: 0.7733314 (345)\ttotal: 2m\tremaining: 48.8s\n",
      "356:\tlearn: 0.7909041\ttest: 0.7731764\tbest: 0.7733314 (345)\ttotal: 2m\tremaining: 48.4s\n",
      "357:\tlearn: 0.7908179\ttest: 0.7731516\tbest: 0.7733314 (345)\ttotal: 2m 1s\tremaining: 48.1s\n",
      "358:\tlearn: 0.7908285\ttest: 0.7730679\tbest: 0.7733314 (345)\ttotal: 2m 1s\tremaining: 47.7s\n",
      "359:\tlearn: 0.7908874\ttest: 0.7731400\tbest: 0.7733314 (345)\ttotal: 2m 1s\tremaining: 47.4s\n",
      "360:\tlearn: 0.7908411\ttest: 0.7733547\tbest: 0.7733547 (360)\ttotal: 2m 2s\tremaining: 47s\n",
      "361:\tlearn: 0.7908313\ttest: 0.7730315\tbest: 0.7733547 (360)\ttotal: 2m 2s\tremaining: 46.7s\n",
      "362:\tlearn: 0.7908582\ttest: 0.7729865\tbest: 0.7733547 (360)\ttotal: 2m 2s\tremaining: 46.4s\n",
      "363:\tlearn: 0.7909639\ttest: 0.7731671\tbest: 0.7733547 (360)\ttotal: 2m 3s\tremaining: 46.1s\n",
      "364:\tlearn: 0.7910307\ttest: 0.7731671\tbest: 0.7733547 (360)\ttotal: 2m 3s\tremaining: 45.8s\n"
     ]
    },
    {
     "name": "stdout",
     "output_type": "stream",
     "text": [
      "365:\tlearn: 0.7910975\ttest: 0.7732260\tbest: 0.7733547 (360)\ttotal: 2m 4s\tremaining: 45.4s\n",
      "366:\tlearn: 0.7911429\ttest: 0.7732237\tbest: 0.7733547 (360)\ttotal: 2m 4s\tremaining: 45.1s\n",
      "367:\tlearn: 0.7910877\ttest: 0.7732485\tbest: 0.7733547 (360)\ttotal: 2m 4s\tremaining: 44.7s\n",
      "368:\tlearn: 0.7911313\ttest: 0.7732710\tbest: 0.7733547 (360)\ttotal: 2m 4s\tremaining: 44.4s\n",
      "369:\tlearn: 0.7910859\ttest: 0.7731222\tbest: 0.7733547 (360)\ttotal: 2m 5s\tremaining: 44s\n",
      "370:\tlearn: 0.7911447\ttest: 0.7730997\tbest: 0.7733547 (360)\ttotal: 2m 5s\tremaining: 43.7s\n",
      "371:\tlearn: 0.7911999\ttest: 0.7730478\tbest: 0.7733547 (360)\ttotal: 2m 5s\tremaining: 43.3s\n",
      "372:\tlearn: 0.7912319\ttest: 0.7730253\tbest: 0.7733547 (360)\ttotal: 2m 6s\tremaining: 43s\n",
      "373:\tlearn: 0.7913015\ttest: 0.7731090\tbest: 0.7733547 (360)\ttotal: 2m 6s\tremaining: 42.7s\n",
      "374:\tlearn: 0.7913024\ttest: 0.7730323\tbest: 0.7733547 (360)\ttotal: 2m 6s\tremaining: 42.3s\n",
      "375:\tlearn: 0.7914057\ttest: 0.7732128\tbest: 0.7733547 (360)\ttotal: 2m 7s\tremaining: 42s\n",
      "376:\tlearn: 0.7914122\ttest: 0.7731113\tbest: 0.7733547 (360)\ttotal: 2m 7s\tremaining: 41.6s\n",
      "377:\tlearn: 0.7914076\ttest: 0.7733663\tbest: 0.7733663 (377)\ttotal: 2m 7s\tremaining: 41.3s\n",
      "378:\tlearn: 0.7914896\ttest: 0.7734453\tbest: 0.7734453 (378)\ttotal: 2m 8s\tremaining: 40.9s\n",
      "379:\tlearn: 0.7915243\ttest: 0.7735856\tbest: 0.7735856 (379)\ttotal: 2m 8s\tremaining: 40.6s\n",
      "380:\tlearn: 0.7914905\ttest: 0.7736375\tbest: 0.7736375 (380)\ttotal: 2m 8s\tremaining: 40.2s\n",
      "381:\tlearn: 0.7915521\ttest: 0.7736104\tbest: 0.7736375 (380)\ttotal: 2m 9s\tremaining: 39.9s\n",
      "382:\tlearn: 0.7914765\ttest: 0.7736669\tbest: 0.7736669 (382)\ttotal: 2m 9s\tremaining: 39.5s\n",
      "383:\tlearn: 0.7915103\ttest: 0.7734909\tbest: 0.7736669 (382)\ttotal: 2m 9s\tremaining: 39.2s\n",
      "384:\tlearn: 0.7917152\ttest: 0.7735024\tbest: 0.7736669 (382)\ttotal: 2m 9s\tremaining: 38.8s\n",
      "385:\tlearn: 0.7917338\ttest: 0.7732948\tbest: 0.7736669 (382)\ttotal: 2m 10s\tremaining: 38.5s\n",
      "386:\tlearn: 0.7917810\ttest: 0.7733219\tbest: 0.7736669 (382)\ttotal: 2m 10s\tremaining: 38.1s\n",
      "387:\tlearn: 0.7918852\ttest: 0.7734597\tbest: 0.7736669 (382)\ttotal: 2m 10s\tremaining: 37.8s\n",
      "388:\tlearn: 0.7919858\ttest: 0.7733513\tbest: 0.7736669 (382)\ttotal: 2m 11s\tremaining: 37.5s\n",
      "389:\tlearn: 0.7920294\ttest: 0.7732745\tbest: 0.7736669 (382)\ttotal: 2m 11s\tremaining: 37.1s\n",
      "390:\tlearn: 0.7921105\ttest: 0.7732745\tbest: 0.7736669 (382)\ttotal: 2m 11s\tremaining: 36.8s\n",
      "391:\tlearn: 0.7923580\ttest: 0.7733738\tbest: 0.7736669 (382)\ttotal: 2m 12s\tremaining: 36.5s\n",
      "392:\tlearn: 0.7923330\ttest: 0.7733421\tbest: 0.7736669 (382)\ttotal: 2m 12s\tremaining: 36.1s\n",
      "393:\tlearn: 0.7923678\ttest: 0.7732925\tbest: 0.7736669 (382)\ttotal: 2m 12s\tremaining: 35.8s\n",
      "394:\tlearn: 0.7924461\ttest: 0.7733173\tbest: 0.7736669 (382)\ttotal: 2m 13s\tremaining: 35.4s\n",
      "395:\tlearn: 0.7923864\ttest: 0.7734257\tbest: 0.7736669 (382)\ttotal: 2m 13s\tremaining: 35.1s\n",
      "396:\tlearn: 0.7925145\ttest: 0.7733986\tbest: 0.7736669 (382)\ttotal: 2m 13s\tremaining: 34.8s\n",
      "397:\tlearn: 0.7925617\ttest: 0.7734257\tbest: 0.7736669 (382)\ttotal: 2m 14s\tremaining: 34.4s\n",
      "398:\tlearn: 0.7926126\ttest: 0.7732791\tbest: 0.7736669 (382)\ttotal: 2m 14s\tremaining: 34.1s\n",
      "399:\tlearn: 0.7926482\ttest: 0.7733310\tbest: 0.7736669 (382)\ttotal: 2m 14s\tremaining: 33.7s\n",
      "400:\tlearn: 0.7927318\ttest: 0.7735750\tbest: 0.7736669 (382)\ttotal: 2m 15s\tremaining: 33.4s\n",
      "401:\tlearn: 0.7927406\ttest: 0.7737239\tbest: 0.7737239 (401)\ttotal: 2m 15s\tremaining: 33.1s\n",
      "402:\tlearn: 0.7927434\ttest: 0.7734326\tbest: 0.7737239 (401)\ttotal: 2m 15s\tremaining: 32.7s\n",
      "403:\tlearn: 0.7927095\ttest: 0.7735658\tbest: 0.7737239 (401)\ttotal: 2m 16s\tremaining: 32.4s\n",
      "404:\tlearn: 0.7927888\ttest: 0.7734257\tbest: 0.7737239 (401)\ttotal: 2m 16s\tremaining: 32s\n",
      "405:\tlearn: 0.7928583\ttest: 0.7736334\tbest: 0.7737239 (401)\ttotal: 2m 16s\tremaining: 31.7s\n",
      "406:\tlearn: 0.7928957\ttest: 0.7737441\tbest: 0.7737441 (406)\ttotal: 2m 17s\tremaining: 31.4s\n",
      "407:\tlearn: 0.7929597\ttest: 0.7737464\tbest: 0.7737464 (407)\ttotal: 2m 17s\tremaining: 31s\n",
      "408:\tlearn: 0.7929643\ttest: 0.7737193\tbest: 0.7737464 (407)\ttotal: 2m 17s\tremaining: 30.7s\n",
      "409:\tlearn: 0.7931209\ttest: 0.7735952\tbest: 0.7737464 (407)\ttotal: 2m 18s\tremaining: 30.3s\n",
      "410:\tlearn: 0.7931130\ttest: 0.7736990\tbest: 0.7737464 (407)\ttotal: 2m 18s\tremaining: 30s\n",
      "411:\tlearn: 0.7932117\ttest: 0.7737216\tbest: 0.7737464 (407)\ttotal: 2m 18s\tremaining: 29.6s\n",
      "412:\tlearn: 0.7931913\ttest: 0.7736990\tbest: 0.7737464 (407)\ttotal: 2m 19s\tremaining: 29.3s\n",
      "413:\tlearn: 0.7932233\ttest: 0.7736200\tbest: 0.7737464 (407)\ttotal: 2m 19s\tremaining: 29s\n",
      "414:\tlearn: 0.7932029\ttest: 0.7735230\tbest: 0.7737464 (407)\ttotal: 2m 19s\tremaining: 28.6s\n",
      "415:\tlearn: 0.7932162\ttest: 0.7734757\tbest: 0.7737464 (407)\ttotal: 2m 20s\tremaining: 28.3s\n",
      "416:\tlearn: 0.7932937\ttest: 0.7733650\tbest: 0.7737464 (407)\ttotal: 2m 20s\tremaining: 27.9s\n",
      "417:\tlearn: 0.7934272\ttest: 0.7734666\tbest: 0.7737464 (407)\ttotal: 2m 20s\tremaining: 27.6s\n",
      "418:\tlearn: 0.7933960\ttest: 0.7734486\tbest: 0.7737464 (407)\ttotal: 2m 21s\tremaining: 27.3s\n",
      "419:\tlearn: 0.7934272\ttest: 0.7735998\tbest: 0.7737464 (407)\ttotal: 2m 21s\tremaining: 26.9s\n",
      "420:\tlearn: 0.7933711\ttest: 0.7735727\tbest: 0.7737464 (407)\ttotal: 2m 21s\tremaining: 26.6s\n",
      "421:\tlearn: 0.7934227\ttest: 0.7734574\tbest: 0.7737464 (407)\ttotal: 2m 22s\tremaining: 26.3s\n",
      "422:\tlearn: 0.7935153\ttest: 0.7736196\tbest: 0.7737464 (407)\ttotal: 2m 22s\tremaining: 25.9s\n",
      "423:\tlearn: 0.7935393\ttest: 0.7735226\tbest: 0.7737464 (407)\ttotal: 2m 22s\tremaining: 25.6s\n",
      "424:\tlearn: 0.7935064\ttest: 0.7734505\tbest: 0.7737464 (407)\ttotal: 2m 23s\tremaining: 25.3s\n",
      "425:\tlearn: 0.7935509\ttest: 0.7734482\tbest: 0.7737464 (407)\ttotal: 2m 23s\tremaining: 24.9s\n",
      "426:\tlearn: 0.7935750\ttest: 0.7735272\tbest: 0.7737464 (407)\ttotal: 2m 24s\tremaining: 24.6s\n",
      "427:\tlearn: 0.7936417\ttest: 0.7735792\tbest: 0.7737464 (407)\ttotal: 2m 24s\tremaining: 24.3s\n",
      "428:\tlearn: 0.7936283\ttest: 0.7736109\tbest: 0.7737464 (407)\ttotal: 2m 24s\tremaining: 24s\n",
      "429:\tlearn: 0.7937218\ttest: 0.7735612\tbest: 0.7737464 (407)\ttotal: 2m 25s\tremaining: 23.6s\n",
      "430:\tlearn: 0.7938340\ttest: 0.7737758\tbest: 0.7737758 (430)\ttotal: 2m 25s\tremaining: 23.3s\n",
      "431:\tlearn: 0.7938767\ttest: 0.7736922\tbest: 0.7737758 (430)\ttotal: 2m 25s\tremaining: 23s\n",
      "432:\tlearn: 0.7939648\ttest: 0.7737735\tbest: 0.7737758 (430)\ttotal: 2m 26s\tremaining: 22.6s\n",
      "433:\tlearn: 0.7939995\ttest: 0.7738456\tbest: 0.7738456 (433)\ttotal: 2m 26s\tremaining: 22.3s\n",
      "434:\tlearn: 0.7940280\ttest: 0.7735612\tbest: 0.7738456 (433)\ttotal: 2m 27s\tremaining: 22s\n",
      "435:\tlearn: 0.7940324\ttest: 0.7734643\tbest: 0.7738456 (433)\ttotal: 2m 27s\tremaining: 21.6s\n",
      "436:\tlearn: 0.7940681\ttest: 0.7734215\tbest: 0.7738456 (433)\ttotal: 2m 27s\tremaining: 21.3s\n",
      "437:\tlearn: 0.7940422\ttest: 0.7735051\tbest: 0.7738456 (433)\ttotal: 2m 28s\tremaining: 21s\n",
      "438:\tlearn: 0.7940636\ttest: 0.7735570\tbest: 0.7738456 (433)\ttotal: 2m 28s\tremaining: 20.6s\n",
      "439:\tlearn: 0.7940716\ttest: 0.7734780\tbest: 0.7738456 (433)\ttotal: 2m 28s\tremaining: 20.3s\n",
      "440:\tlearn: 0.7943066\ttest: 0.7736540\tbest: 0.7738456 (433)\ttotal: 2m 29s\tremaining: 20s\n",
      "441:\tlearn: 0.7943377\ttest: 0.7735750\tbest: 0.7738456 (433)\ttotal: 2m 29s\tremaining: 19.6s\n",
      "442:\tlearn: 0.7943537\ttest: 0.7735456\tbest: 0.7738456 (433)\ttotal: 2m 30s\tremaining: 19.3s\n",
      "443:\tlearn: 0.7944463\ttest: 0.7735208\tbest: 0.7738456 (433)\ttotal: 2m 30s\tremaining: 19s\n",
      "444:\tlearn: 0.7943653\ttest: 0.7735479\tbest: 0.7738456 (433)\ttotal: 2m 31s\tremaining: 18.7s\n",
      "445:\tlearn: 0.7946172\ttest: 0.7734440\tbest: 0.7738456 (433)\ttotal: 2m 31s\tremaining: 18.3s\n",
      "446:\tlearn: 0.7945665\ttest: 0.7735230\tbest: 0.7738456 (433)\ttotal: 2m 31s\tremaining: 18s\n",
      "447:\tlearn: 0.7946653\ttest: 0.7734192\tbest: 0.7738456 (433)\ttotal: 2m 32s\tremaining: 17.7s\n",
      "448:\tlearn: 0.7947249\ttest: 0.7732929\tbest: 0.7738456 (433)\ttotal: 2m 32s\tremaining: 17.3s\n",
      "449:\tlearn: 0.7947204\ttest: 0.7733154\tbest: 0.7738456 (433)\ttotal: 2m 32s\tremaining: 17s\n",
      "450:\tlearn: 0.7947721\ttest: 0.7733696\tbest: 0.7738456 (433)\ttotal: 2m 33s\tremaining: 16.6s\n",
      "451:\tlearn: 0.7947739\ttest: 0.7734440\tbest: 0.7738456 (433)\ttotal: 2m 33s\tremaining: 16.3s\n",
      "452:\tlearn: 0.7948184\ttest: 0.7734440\tbest: 0.7738456 (433)\ttotal: 2m 33s\tremaining: 16s\n",
      "453:\tlearn: 0.7947828\ttest: 0.7734757\tbest: 0.7738456 (433)\ttotal: 2m 34s\tremaining: 15.6s\n",
      "454:\tlearn: 0.7947881\ttest: 0.7735681\tbest: 0.7738456 (433)\ttotal: 2m 34s\tremaining: 15.3s\n",
      "455:\tlearn: 0.7947863\ttest: 0.7735906\tbest: 0.7738456 (433)\ttotal: 2m 34s\tremaining: 14.9s\n"
     ]
    },
    {
     "name": "stdout",
     "output_type": "stream",
     "text": [
      "456:\tlearn: 0.7948548\ttest: 0.7736425\tbest: 0.7738456 (433)\ttotal: 2m 35s\tremaining: 14.6s\n",
      "457:\tlearn: 0.7949884\ttest: 0.7735589\tbest: 0.7738456 (433)\ttotal: 2m 35s\tremaining: 14.3s\n",
      "458:\tlearn: 0.7949536\ttest: 0.7734326\tbest: 0.7738456 (433)\ttotal: 2m 35s\tremaining: 13.9s\n",
      "459:\tlearn: 0.7949643\ttest: 0.7734032\tbest: 0.7738456 (433)\ttotal: 2m 36s\tremaining: 13.6s\n",
      "460:\tlearn: 0.7949750\ttest: 0.7734032\tbest: 0.7738456 (433)\ttotal: 2m 36s\tremaining: 13.2s\n",
      "461:\tlearn: 0.7950070\ttest: 0.7732948\tbest: 0.7738456 (433)\ttotal: 2m 36s\tremaining: 12.9s\n",
      "462:\tlearn: 0.7950426\ttest: 0.7733444\tbest: 0.7738456 (433)\ttotal: 2m 37s\tremaining: 12.6s\n",
      "463:\tlearn: 0.7950952\ttest: 0.7735815\tbest: 0.7738456 (433)\ttotal: 2m 37s\tremaining: 12.2s\n",
      "464:\tlearn: 0.7950818\ttest: 0.7734551\tbest: 0.7738456 (433)\ttotal: 2m 37s\tremaining: 11.9s\n",
      "465:\tlearn: 0.7950364\ttest: 0.7732768\tbest: 0.7738456 (433)\ttotal: 2m 38s\tremaining: 11.5s\n",
      "466:\tlearn: 0.7951005\ttest: 0.7730623\tbest: 0.7738456 (433)\ttotal: 2m 38s\tremaining: 11.2s\n",
      "467:\tlearn: 0.7951646\ttest: 0.7730917\tbest: 0.7738456 (433)\ttotal: 2m 38s\tremaining: 10.9s\n",
      "468:\tlearn: 0.7952064\ttest: 0.7731684\tbest: 0.7738456 (433)\ttotal: 2m 39s\tremaining: 10.5s\n",
      "469:\tlearn: 0.7952750\ttest: 0.7733536\tbest: 0.7738456 (433)\ttotal: 2m 39s\tremaining: 10.2s\n",
      "470:\tlearn: 0.7953568\ttest: 0.7733963\tbest: 0.7738456 (433)\ttotal: 2m 39s\tremaining: 9.85s\n",
      "471:\tlearn: 0.7952910\ttest: 0.7733310\tbest: 0.7738456 (433)\ttotal: 2m 40s\tremaining: 9.51s\n",
      "472:\tlearn: 0.7953577\ttest: 0.7733853\tbest: 0.7738456 (433)\ttotal: 2m 40s\tremaining: 9.17s\n",
      "473:\tlearn: 0.7954004\ttest: 0.7734643\tbest: 0.7738456 (433)\ttotal: 2m 41s\tremaining: 8.83s\n",
      "474:\tlearn: 0.7953373\ttest: 0.7735750\tbest: 0.7738456 (433)\ttotal: 2m 41s\tremaining: 8.5s\n",
      "475:\tlearn: 0.7953720\ttest: 0.7735998\tbest: 0.7738456 (433)\ttotal: 2m 41s\tremaining: 8.16s\n",
      "476:\tlearn: 0.7954271\ttest: 0.7734688\tbest: 0.7738456 (433)\ttotal: 2m 42s\tremaining: 7.82s\n",
      "477:\tlearn: 0.7955064\ttest: 0.7735704\tbest: 0.7738456 (433)\ttotal: 2m 42s\tremaining: 7.48s\n",
      "478:\tlearn: 0.7954734\ttest: 0.7735433\tbest: 0.7738456 (433)\ttotal: 2m 42s\tremaining: 7.14s\n",
      "479:\tlearn: 0.7955873\ttest: 0.7738254\tbest: 0.7738456 (433)\ttotal: 2m 43s\tremaining: 6.8s\n",
      "480:\tlearn: 0.7955882\ttest: 0.7735544\tbest: 0.7738456 (433)\ttotal: 2m 43s\tremaining: 6.46s\n",
      "481:\tlearn: 0.7956674\ttest: 0.7736696\tbest: 0.7738456 (433)\ttotal: 2m 43s\tremaining: 6.12s\n",
      "482:\tlearn: 0.7957636\ttest: 0.7736109\tbest: 0.7738456 (433)\ttotal: 2m 44s\tremaining: 5.78s\n",
      "483:\tlearn: 0.7958000\ttest: 0.7736876\tbest: 0.7738456 (433)\ttotal: 2m 44s\tremaining: 5.44s\n",
      "Stopped by overfitting detector  (50 iterations wait)\n",
      "\n",
      "bestTest = 0.7738456356\n",
      "bestIteration = 433\n",
      "\n",
      "Shrink model to first 434 iterations.\n"
     ]
    },
    {
     "data": {
      "text/plain": [
       "<catboost.core.CatBoostClassifier at 0x7fa3d131eca0>"
      ]
     },
     "execution_count": 64,
     "metadata": {},
     "output_type": "execute_result"
    }
   ],
   "source": [
    "# CatBoost\n",
    "train_dataset = Pool(X_train_vector, y_train.cv_encoded)\n",
    "test_dataset = Pool(X_test_vector, y_test.cv_encoded)\n",
    "\n",
    "cb = CatBoostClassifier(\n",
    "    # task_type='GPU',\n",
    "    iterations=500,\n",
    "    eval_metric='TotalF1',\n",
    "    loss_function='MultiClass',\n",
    "    early_stopping_rounds=50\n",
    "    #Learner parameters\n",
    "    # learning_rate=0.1,\n",
    "    # depth=10,\n",
    "    # l2_leaf_reg=1\n",
    "\n",
    ")\n",
    "\n",
    "# #Declare parameters to tune and values to try\n",
    "# grid = {\n",
    "#     'learning_rate': [0.03, 0.1],\n",
    "#     'depth': [4, 6, 10],\n",
    "#     'l2_leaf_reg': [1, 3, 5,]\n",
    "# }\n",
    "\n",
    "# #Find optimum parameters\n",
    "# grid_search_result = cb.grid_search(grid, train_dataset, plot=True)\n",
    "\n",
    "#Fit model with early stopping if improvement hasn't been made within 50 iterations\n",
    "cb.fit(\n",
    "    train_dataset, \n",
    "    eval_set=test_dataset\n",
    ")"
   ]
  },
  {
   "cell_type": "code",
   "execution_count": 65,
   "metadata": {
    "colab": {
     "base_uri": "https://localhost:8080/",
     "height": 282
    },
    "id": "5MqDlLud1xTP",
    "outputId": "215e883a-17c7-4065-92b2-dae8600c487a"
   },
   "outputs": [
    {
     "data": {
      "text/plain": [
       "<matplotlib.legend.Legend at 0x7fa3b79f0b20>"
      ]
     },
     "execution_count": 65,
     "metadata": {},
     "output_type": "execute_result"
    },
    {
     "data": {
      "image/png": "[encoded data removed]",
      "text/plain": [
       "<Figure size 576x288 with 1 Axes>"
      ]
     },
     "metadata": {
      "needs_background": "light"
     },
     "output_type": "display_data"
    }
   ],
   "source": [
    "results = cb.get_evals_result()\n",
    "\n",
    "fig, axes = plt.subplots(figsize=(8,4))\n",
    "plt.plot(results['learn']['TotalF1'], c='b', label='learn')\n",
    "plt.plot(results['validation']['TotalF1'], c='r', label='validation')\n",
    "axes.legend()"
   ]
  },
  {
   "cell_type": "code",
   "execution_count": 68,
   "metadata": {
    "colab": {
     "base_uri": "https://localhost:8080/"
    },
    "id": "xx7ZIdbXj6WJ",
    "outputId": "5a380e4a-7e90-40cc-b6e0-182ce347f8d1"
   },
   "outputs": [
    {
     "name": "stdout",
     "output_type": "stream",
     "text": [
      "              precision    recall  f1-score   support\n",
      "\n",
      "           0       0.76      0.85      0.80     20729\n",
      "           1       0.80      0.69      0.74     18113\n",
      "\n",
      "    accuracy                           0.78     38842\n",
      "   macro avg       0.78      0.77      0.77     38842\n",
      "weighted avg       0.78      0.78      0.77     38842\n",
      "\n",
      "[[17591  3138]\n",
      " [ 5574 12539]]\n",
      "\n",
      "F1 Score: 0.7718470441981802\n",
      "84.86% dos emails foram respondidos \n",
      " --------------------\n",
      "75.94% dos emails enviados como Classe 0 foram classificados corretamente\n",
      "79.98% dos emails enviados como Classe 1 foram classificados corretamente\n"
     ]
    }
   ],
   "source": [
    "y_pred_cb = cb.predict(X_test_vector)\n",
    "print(classification_report(y_test.cv_encoded, y_pred_cb))\n",
    "conf_matrix = confusion_matrix(y_test.cv_encoded, y_pred_cb)\n",
    "print(conf_matrix)\n",
    "print( \"\\nF1 Score:\" , f1_score(y_test.cv_encoded, y_pred_cb, average='macro' ) )\n",
    "\n",
    "conf_matrix = confusion_matrix(y_test.cv_encoded, y_pred_cb)\n",
    "\n",
    "print('{0:.2%} dos emails foram respondidos \\n --------------------'.format(conf_matrix[:-1, :-1].sum() / conf_matrix[:-1, :].sum()))\n",
    "print('{0:.2%} dos emails enviados como Classe 0 foram classificados corretamente'.format(conf_matrix[0, 0].sum() / conf_matrix[:, 0].sum()))\n",
    "print('{0:.2%} dos emails enviados como Classe 1 foram classificados corretamente'.format(conf_matrix[1, 1].sum() / conf_matrix[:, 1].sum()))\n",
    "# print('{0:.2%} dos emails enviados como Classe 2 foram classificados corretamente'.format(conf_matrix[2, 2].sum() / conf_matrix[:, 2].sum()))\n",
    "# print('{0:.2%} dos emails enviados como Classe 3 foram classificados corretamente'.format(conf_matrix[3, 3].sum() / conf_matrix[:, 3].sum()))\n",
    "# print('{0:.2%} dos emails enviados como Classe 4 foram classificados corretamente'.format(conf_matrix[4, 4].sum() / conf_matrix[:, 4].sum()))"
   ]
  },
  {
   "cell_type": "code",
   "execution_count": null,
   "metadata": {
    "id": "4aWMlC0DOzwI"
   },
   "outputs": [],
   "source": [
    "  "
   ]
  },
  {
   "cell_type": "markdown",
   "metadata": {
    "id": "wa4O4u__O_d1"
   },
   "source": [
    "##### RandomForest"
   ]
  },
  {
   "cell_type": "code",
   "execution_count": 69,
   "metadata": {
    "colab": {
     "base_uri": "https://localhost:8080/"
    },
    "id": "nVk5WnSVPEO4",
    "outputId": "d24ddd22-f09a-4692-e12b-266f17177154"
   },
   "outputs": [
    {
     "data": {
      "text/plain": [
       "RandomForestClassifier(random_state=42)"
      ]
     },
     "execution_count": 69,
     "metadata": {},
     "output_type": "execute_result"
    }
   ],
   "source": [
    "rf = RandomForestClassifier(random_state=42)\n",
    "rf.fit(X_train_vector, y_train.cv_encoded)"
   ]
  },
  {
   "cell_type": "code",
   "execution_count": 71,
   "metadata": {
    "colab": {
     "base_uri": "https://localhost:8080/"
    },
    "id": "EpzBIyULOzYo",
    "outputId": "c2e2486f-0b22-4a43-d11a-b74128f985f3"
   },
   "outputs": [
    {
     "name": "stdout",
     "output_type": "stream",
     "text": [
      "              precision    recall  f1-score   support\n",
      "\n",
      "           0       0.76      0.85      0.80     20729\n",
      "           1       0.80      0.68      0.74     18113\n",
      "\n",
      "    accuracy                           0.77     38842\n",
      "   macro avg       0.78      0.77      0.77     38842\n",
      "weighted avg       0.78      0.77      0.77     38842\n",
      "\n",
      "[[17624  3105]\n",
      " [ 5718 12395]]\n",
      "\n",
      "F1 Score: 0.7686562971224759\n",
      "85.02% dos emails foram respondidos \n",
      " --------------------\n",
      "75.50% dos emails enviados como Classe 0 foram classificados corretamente\n",
      "79.97% dos emails enviados como Classe 1 foram classificados corretamente\n"
     ]
    }
   ],
   "source": [
    "y_pred_rf = rf.predict(X_test_vector)\n",
    "print(classification_report(y_test.cv_encoded, y_pred_rf))\n",
    "conf_matrix = confusion_matrix(y_test.cv_encoded, y_pred_rf)\n",
    "print(conf_matrix)\n",
    "print( \"\\nF1 Score:\" , f1_score(y_test.cv_encoded, y_pred_rf, average='macro' ) )\n",
    "\n",
    "print('{0:.2%} dos emails foram respondidos \\n --------------------'.format(conf_matrix[:-1, :-1].sum() / conf_matrix[:-1, :].sum()))\n",
    "print('{0:.2%} dos emails enviados como Classe 0 foram classificados corretamente'.format(conf_matrix[0, 0].sum() / conf_matrix[:, 0].sum()))\n",
    "print('{0:.2%} dos emails enviados como Classe 1 foram classificados corretamente'.format(conf_matrix[1, 1].sum() / conf_matrix[:, 1].sum()))\n",
    "# print('{0:.2%} dos emails enviados como Classe 2 foram classificados corretamente'.format(conf_matrix[2, 2].sum() / conf_matrix[:, 2].sum()))\n",
    "# print('{0:.2%} dos emails enviados como Classe 3 foram classificados corretamente'.format(conf_matrix[3, 3].sum() / conf_matrix[:, 3].sum()))\n",
    "# print('{0:.2%} dos emails enviados como Classe 4 foram classificados corretamente'.format(conf_matrix[4, 4].sum() / conf_matrix[:, 4].sum()))"
   ]
  },
  {
   "cell_type": "code",
   "execution_count": null,
   "metadata": {
    "id": "RwReskUFNLlj"
   },
   "outputs": [],
   "source": []
  },
  {
   "cell_type": "markdown",
   "metadata": {
    "heading_collapsed": true,
    "id": "-IrFR9ceNNmY"
   },
   "source": [
    "#### Threshold"
   ]
  },
  {
   "cell_type": "code",
   "execution_count": 101,
   "metadata": {
    "hidden": true,
    "id": "8B-jZciaLiud"
   },
   "outputs": [
    {
     "name": "stdout",
     "output_type": "stream",
     "text": [
      "              precision    recall  f1-score   support\n",
      "\n",
      "           0       0.82      0.60      0.70     20729\n",
      "           1       0.65      0.85      0.74     18113\n",
      "\n",
      "    accuracy                           0.72     38842\n",
      "   macro avg       0.74      0.73      0.72     38842\n",
      "weighted avg       0.74      0.72      0.72     38842\n",
      "\n",
      "[[12481  8248]\n",
      " [ 2670 15443]]\n",
      "60.21% dos emails foram respondidos \n",
      " --------------------\n",
      "82.38% dos emails enviados como Classe 0 foram classificados corretamente\n",
      "65.19% dos emails enviados como Classe 1 foram classificados corretamente\n"
     ]
    }
   ],
   "source": [
    "# predicoes menores que o valor definido serao classificadas como \"outro\"\n",
    "threshold_proba = 0.7\n",
    "y_pred_proba = cb.predict_proba(X_test_vector)\n",
    "y_pred_threshold = [map_cv['Outro'] if sum(p<threshold_proba)==len(map_cv) else np.argmax(p) for p in y_pred_proba]\n",
    "y_pred_threshold = pd.DataFrame(y_pred_threshold, columns=['customer_voice'])['customer_voice']\n",
    "\n",
    "print(classification_report(y_test.cv_encoded, y_pred_threshold))\n",
    "print(confusion_matrix(y_test.cv_encoded, y_pred_threshold))\n",
    "\n",
    "conf_matrix = confusion_matrix(y_test.cv_encoded, y_pred_threshold)\n",
    "print('{0:.2%} dos emails foram respondidos \\n --------------------'.format(conf_matrix[:-1, :-1].sum() / conf_matrix[:-1, :].sum()))\n",
    "print('{0:.2%} dos emails enviados como Classe 0 foram classificados corretamente'.format(conf_matrix[0, 0].sum() / conf_matrix[:, 0].sum()))\n",
    "print('{0:.2%} dos emails enviados como Classe 1 foram classificados corretamente'.format(conf_matrix[1, 1].sum() / conf_matrix[:, 1].sum()))\n",
    "# print('{0:.2%} dos emails enviados como Classe 2 foram classificados corretamente'.format(conf_matrix[2, 2].sum() / conf_matrix[:, 2].sum()))\n",
    "# print('{0:.2%} dos emails enviados como Classe 3 foram classificados corretamente'.format(conf_matrix[3, 3].sum() / conf_matrix[:, 3].sum()))\n",
    "# print('{0:.2%} dos emails enviados como Classe 4 foram classificados corretamente'.format(conf_matrix[4, 4].sum() / conf_matrix[:, 4].sum()))\n",
    "# print('{0:.2%} dos emails enviados como Classe 5 foram classificados corretamente'.format(conf_matrix[5, 5].sum() / conf_matrix[:, 5].sum()))"
   ]
  },
  {
   "cell_type": "markdown",
   "metadata": {
    "id": "v_-f9NXDNOKW"
   },
   "source": [
    "#### Validando Resultados"
   ]
  },
  {
   "cell_type": "code",
   "execution_count": 123,
   "metadata": {
    "id": "KIvmOQkZNi-4"
   },
   "outputs": [],
   "source": [
    "predicted=[i[0] for i in y_pred_cb]\n",
    "# predict_rf=[i[0] for i in y_pred_rf]\n",
    "df_result = pd.DataFrame({'message':X_test.values, 'predicted':predicted, 'true':y_test.cv_encoded.values, 'original':y_test.customer_voice_grouped.values})\n",
    "df_result.predicted = df_result.predicted.map(inv_map)\n",
    "df_result.true = df_result.true.map(inv_map)\n",
    "\n",
    "df_result\n",
    "df_result.to_csv(f'{path}/data/validar-{today}.csv', index=False)"
   ]
  },
  {
   "cell_type": "code",
   "execution_count": 124,
   "metadata": {
    "colab": {
     "base_uri": "https://localhost:8080/"
    },
    "id": "cXTVHTrEu_Xe",
    "outputId": "375c7862-66a5-448e-f844-805c6f5b72f5"
   },
   "outputs": [
    {
     "data": {
      "text/plain": [
       "original\n",
       "Ja realizei a compra e estou com dúvida sobre o andamento do pedido      895\n",
       "Resolvido por terceiros                                                  727\n",
       "Quero novo código de postagem                                            661\n",
       "Não recebi/quero novo código de postagem                                 417\n",
       "Já devolvi meu produto e quero saber o andamento da troca / devolução    399\n",
       "Dados incorretos/Incompletos                                             375\n",
       "Ainda não coletaram meu produto                                          226\n",
       "Qual o prazo para devolução do valor que paguei?                         199\n",
       "Meu pedido ainda não chegou                                              166\n",
       "Meu problema não foi resolvido                                           166\n",
       "Name: message, dtype: int64"
      ]
     },
     "execution_count": 124,
     "metadata": {},
     "output_type": "execute_result"
    }
   ],
   "source": [
    "wrong_pred_df = df_result[(df_result.true == 'Outro') & (df_result.predicted != 'Outro')]\n",
    "wrong_class_list = wrong_pred_df.groupby('original')['message'].count().sort_values(ascending=False)[:10]\n",
    "wrong_class_list"
   ]
  },
  {
   "cell_type": "code",
   "execution_count": 133,
   "metadata": {
    "id": "a6h4Uytsx-_l"
   },
   "outputs": [
    {
     "data": {
      "text/html": [
       "<div>\n",
       "<style scoped>\n",
       "    .dataframe tbody tr th:only-of-type {\n",
       "        vertical-align: middle;\n",
       "    }\n",
       "\n",
       "    .dataframe tbody tr th {\n",
       "        vertical-align: top;\n",
       "    }\n",
       "\n",
       "    .dataframe thead th {\n",
       "        text-align: right;\n",
       "    }\n",
       "</style>\n",
       "<table border=\"1\" class=\"dataframe\">\n",
       "  <thead>\n",
       "    <tr style=\"text-align: right;\">\n",
       "      <th></th>\n",
       "      <th>Ja realizei a compra e estou com dúvida sobre o andamento do pedido</th>\n",
       "      <th>Resolvido por terceiros</th>\n",
       "      <th>Dados incorretos/Incompletos</th>\n",
       "      <th>Já devolvi meu produto e quero saber o andamento da troca / devolução</th>\n",
       "      <th>Quero novo código de postagem</th>\n",
       "      <th>Qual o prazo para devolução do valor que paguei?</th>\n",
       "      <th>Não recebi/quero novo código de postagem</th>\n",
       "      <th>Meu pedido ainda não chegou</th>\n",
       "      <th>Ainda não coletaram meu produto</th>\n",
       "      <th>Quero receber minha nota fiscal</th>\n",
       "    </tr>\n",
       "  </thead>\n",
       "  <tbody>\n",
       "    <tr>\n",
       "      <th>0</th>\n",
       "      <td>cancelar pedido</td>\n",
       "      <td>cancelar pedido</td>\n",
       "      <td>cancelar pedido</td>\n",
       "      <td>solicitei troca</td>\n",
       "      <td>solicitei troca</td>\n",
       "      <td>cancelar pedido</td>\n",
       "      <td>nao consegui</td>\n",
       "      <td>cancelar pedido</td>\n",
       "      <td>solicitei troca</td>\n",
       "      <td>nota fiscal</td>\n",
       "    </tr>\n",
       "    <tr>\n",
       "      <th>1</th>\n",
       "      <td>gostaria cancelar</td>\n",
       "      <td>quero cancelar</td>\n",
       "      <td>quero cancelar</td>\n",
       "      <td>gostaria saber</td>\n",
       "      <td>novo codigo</td>\n",
       "      <td>cancelamento pedido</td>\n",
       "      <td>solicitei troca</td>\n",
       "      <td>quero cancelar</td>\n",
       "      <td>gostaria saber</td>\n",
       "      <td>nao veio</td>\n",
       "    </tr>\n",
       "    <tr>\n",
       "      <th>2</th>\n",
       "      <td>quero cancelar</td>\n",
       "      <td>gostaria cancelar</td>\n",
       "      <td>fazer troca</td>\n",
       "      <td>troca pedido</td>\n",
       "      <td>devolucao pedido</td>\n",
       "      <td>quero cancelar</td>\n",
       "      <td>fiz pedido</td>\n",
       "      <td>pedido nao</td>\n",
       "      <td>ainda nao</td>\n",
       "      <td>veio nota</td>\n",
       "    </tr>\n",
       "    <tr>\n",
       "      <th>3</th>\n",
       "      <td>fiz pedido</td>\n",
       "      <td>pedido nao</td>\n",
       "      <td>gostaria trocar</td>\n",
       "      <td>pedido nao</td>\n",
       "      <td>troca pedido</td>\n",
       "      <td>pedido nao</td>\n",
       "      <td>autorizacao postagem</td>\n",
       "      <td>gostaria cancelar</td>\n",
       "      <td>coleta pedido</td>\n",
       "      <td>mas nao</td>\n",
       "    </tr>\n",
       "    <tr>\n",
       "      <th>4</th>\n",
       "      <td>pedido nao</td>\n",
       "      <td>cancelamento pedido</td>\n",
       "      <td>ficou grande</td>\n",
       "      <td>ficou grande</td>\n",
       "      <td>nao consegui</td>\n",
       "      <td>gostaria cancelar</td>\n",
       "      <td>solicitei devolucao</td>\n",
       "      <td>cancelamento pedido</td>\n",
       "      <td>recebi email</td>\n",
       "      <td>porem nao</td>\n",
       "    </tr>\n",
       "    <tr>\n",
       "      <th>5</th>\n",
       "      <td>cancelamento pedido</td>\n",
       "      <td>gostaria trocar</td>\n",
       "      <td>quero trocar</td>\n",
       "      <td>fiz pedido</td>\n",
       "      <td>outro codigo</td>\n",
       "      <td>fiz pedido</td>\n",
       "      <td>troca pedido</td>\n",
       "      <td>fiz pedido</td>\n",
       "      <td>fiz solicitacao</td>\n",
       "      <td>segunda via</td>\n",
       "    </tr>\n",
       "    <tr>\n",
       "      <th>6</th>\n",
       "      <td>solicitei troca</td>\n",
       "      <td>fiz pedido</td>\n",
       "      <td>fiz pedido</td>\n",
       "      <td>fiz solicitacao</td>\n",
       "      <td>fiz solicitacao</td>\n",
       "      <td>solicitei cancelamento</td>\n",
       "      <td>devolucao pedido</td>\n",
       "      <td>solicito cancelamento</td>\n",
       "      <td>nao foi</td>\n",
       "      <td>troca pedido</td>\n",
       "    </tr>\n",
       "    <tr>\n",
       "      <th>7</th>\n",
       "      <td>gostaria trocar</td>\n",
       "      <td>ficou grande</td>\n",
       "      <td>pedido nao</td>\n",
       "      <td>devolucao pedido</td>\n",
       "      <td>fazer troca</td>\n",
       "      <td>cartao credito</td>\n",
       "      <td>fiz solicitacao</td>\n",
       "      <td>cartao credito</td>\n",
       "      <td>solicitei devolucao</td>\n",
       "      <td>fazer devolucao</td>\n",
       "    </tr>\n",
       "    <tr>\n",
       "      <th>8</th>\n",
       "      <td>ainda nao</td>\n",
       "      <td>quero trocar</td>\n",
       "      <td>efetuar troca</td>\n",
       "      <td>aguardo retorno</td>\n",
       "      <td>autorizacao postagem</td>\n",
       "      <td>estorno cartao</td>\n",
       "      <td>pedido nao</td>\n",
       "      <td>nao foi</td>\n",
       "      <td>solicitacao troca</td>\n",
       "      <td>pedido nao</td>\n",
       "    </tr>\n",
       "    <tr>\n",
       "      <th>9</th>\n",
       "      <td>aguardo retorno</td>\n",
       "      <td>nao foi</td>\n",
       "      <td>preciso trocar</td>\n",
       "      <td>solicitacao troca</td>\n",
       "      <td>pedido nao</td>\n",
       "      <td>solicito cancelamento</td>\n",
       "      <td>nao consigo</td>\n",
       "      <td>pedido quero</td>\n",
       "      <td>aguardo retorno</td>\n",
       "      <td>pedido mas</td>\n",
       "    </tr>\n",
       "  </tbody>\n",
       "</table>\n",
       "</div>"
      ],
      "text/plain": [
       "  Ja realizei a compra e estou com dúvida sobre o andamento do pedido  \\\n",
       "0                                    cancelar pedido                    \n",
       "1                                  gostaria cancelar                    \n",
       "2                                     quero cancelar                    \n",
       "3                                         fiz pedido                    \n",
       "4                                         pedido nao                    \n",
       "5                                cancelamento pedido                    \n",
       "6                                    solicitei troca                    \n",
       "7                                    gostaria trocar                    \n",
       "8                                          ainda nao                    \n",
       "9                                    aguardo retorno                    \n",
       "\n",
       "  Resolvido por terceiros Dados incorretos/Incompletos  \\\n",
       "0         cancelar pedido              cancelar pedido   \n",
       "1          quero cancelar               quero cancelar   \n",
       "2       gostaria cancelar                  fazer troca   \n",
       "3              pedido nao              gostaria trocar   \n",
       "4     cancelamento pedido                 ficou grande   \n",
       "5         gostaria trocar                 quero trocar   \n",
       "6              fiz pedido                   fiz pedido   \n",
       "7            ficou grande                   pedido nao   \n",
       "8            quero trocar                efetuar troca   \n",
       "9                 nao foi               preciso trocar   \n",
       "\n",
       "  Já devolvi meu produto e quero saber o andamento da troca / devolução  \\\n",
       "0                                    solicitei troca                      \n",
       "1                                     gostaria saber                      \n",
       "2                                       troca pedido                      \n",
       "3                                         pedido nao                      \n",
       "4                                       ficou grande                      \n",
       "5                                         fiz pedido                      \n",
       "6                                    fiz solicitacao                      \n",
       "7                                   devolucao pedido                      \n",
       "8                                    aguardo retorno                      \n",
       "9                                  solicitacao troca                      \n",
       "\n",
       "  Quero novo código de postagem  \\\n",
       "0               solicitei troca   \n",
       "1                   novo codigo   \n",
       "2              devolucao pedido   \n",
       "3                  troca pedido   \n",
       "4                  nao consegui   \n",
       "5                  outro codigo   \n",
       "6               fiz solicitacao   \n",
       "7                   fazer troca   \n",
       "8          autorizacao postagem   \n",
       "9                    pedido nao   \n",
       "\n",
       "  Qual o prazo para devolução do valor que paguei?  \\\n",
       "0                                  cancelar pedido   \n",
       "1                              cancelamento pedido   \n",
       "2                                   quero cancelar   \n",
       "3                                       pedido nao   \n",
       "4                                gostaria cancelar   \n",
       "5                                       fiz pedido   \n",
       "6                           solicitei cancelamento   \n",
       "7                                   cartao credito   \n",
       "8                                   estorno cartao   \n",
       "9                            solicito cancelamento   \n",
       "\n",
       "  Não recebi/quero novo código de postagem Meu pedido ainda não chegou  \\\n",
       "0                             nao consegui             cancelar pedido   \n",
       "1                          solicitei troca              quero cancelar   \n",
       "2                               fiz pedido                  pedido nao   \n",
       "3                     autorizacao postagem           gostaria cancelar   \n",
       "4                      solicitei devolucao         cancelamento pedido   \n",
       "5                             troca pedido                  fiz pedido   \n",
       "6                         devolucao pedido       solicito cancelamento   \n",
       "7                          fiz solicitacao              cartao credito   \n",
       "8                               pedido nao                     nao foi   \n",
       "9                              nao consigo                pedido quero   \n",
       "\n",
       "  Ainda não coletaram meu produto Quero receber minha nota fiscal  \n",
       "0                 solicitei troca                     nota fiscal  \n",
       "1                  gostaria saber                        nao veio  \n",
       "2                       ainda nao                       veio nota  \n",
       "3                   coleta pedido                         mas nao  \n",
       "4                    recebi email                       porem nao  \n",
       "5                 fiz solicitacao                     segunda via  \n",
       "6                         nao foi                    troca pedido  \n",
       "7             solicitei devolucao                 fazer devolucao  \n",
       "8               solicitacao troca                      pedido nao  \n",
       "9                 aguardo retorno                      pedido mas  "
      ]
     },
     "execution_count": 133,
     "metadata": {},
     "output_type": "execute_result"
    }
   ],
   "source": [
    "aux_df = []\n",
    "for cv in wrong_class_list.index.to_list():\n",
    "  words = ' '.join(wrong_pred_df[wrong_pred_df.original == cv].message).split()\n",
    "  ngram = [_ for _ in zip(words, words[1:])]\n",
    "\n",
    "  c = Counter(ngram).most_common(10)\n",
    "\n",
    "  words = []\n",
    "  for i in c:\n",
    "    words.append(f'{i[0][0]} {i[0][1]}')\n",
    "\n",
    "  aux_df.append(pd.DataFrame(words, columns=[cv]))\n",
    "\n",
    "pd.concat(aux_df, axis=1)"
   ]
  },
  {
   "cell_type": "code",
   "execution_count": 134,
   "metadata": {},
   "outputs": [
    {
     "data": {
      "text/html": [
       "<div>\n",
       "<style scoped>\n",
       "    .dataframe tbody tr th:only-of-type {\n",
       "        vertical-align: middle;\n",
       "    }\n",
       "\n",
       "    .dataframe tbody tr th {\n",
       "        vertical-align: top;\n",
       "    }\n",
       "\n",
       "    .dataframe thead th {\n",
       "        text-align: right;\n",
       "    }\n",
       "</style>\n",
       "<table border=\"1\" class=\"dataframe\">\n",
       "  <thead>\n",
       "    <tr style=\"text-align: right;\">\n",
       "      <th></th>\n",
       "      <th>Ja realizei a compra e estou com dúvida sobre o andamento do pedido</th>\n",
       "      <th>Resolvido por terceiros</th>\n",
       "      <th>Dados incorretos/Incompletos</th>\n",
       "      <th>Já devolvi meu produto e quero saber o andamento da troca / devolução</th>\n",
       "      <th>Quero novo código de postagem</th>\n",
       "      <th>Qual o prazo para devolução do valor que paguei?</th>\n",
       "      <th>Não recebi/quero novo código de postagem</th>\n",
       "      <th>Meu pedido ainda não chegou</th>\n",
       "      <th>Ainda não coletaram meu produto</th>\n",
       "      <th>Quero receber minha nota fiscal</th>\n",
       "    </tr>\n",
       "  </thead>\n",
       "  <tbody>\n",
       "    <tr>\n",
       "      <th>0</th>\n",
       "      <td>pedido</td>\n",
       "      <td>pedido</td>\n",
       "      <td>pedido</td>\n",
       "      <td>pedido</td>\n",
       "      <td>pedido</td>\n",
       "      <td>pedido</td>\n",
       "      <td>pedido</td>\n",
       "      <td>pedido</td>\n",
       "      <td>pedido</td>\n",
       "      <td>pedido</td>\n",
       "    </tr>\n",
       "    <tr>\n",
       "      <th>1</th>\n",
       "      <td>nao</td>\n",
       "      <td>nao</td>\n",
       "      <td>nao</td>\n",
       "      <td>troca</td>\n",
       "      <td>nao</td>\n",
       "      <td>nao</td>\n",
       "      <td>nao</td>\n",
       "      <td>nao</td>\n",
       "      <td>nao</td>\n",
       "      <td>nao</td>\n",
       "    </tr>\n",
       "    <tr>\n",
       "      <th>2</th>\n",
       "      <td>gostaria</td>\n",
       "      <td>cancelar</td>\n",
       "      <td>troca</td>\n",
       "      <td>nao</td>\n",
       "      <td>codigo</td>\n",
       "      <td>cancelamento</td>\n",
       "      <td>codigo</td>\n",
       "      <td>cancelar</td>\n",
       "      <td>coleta</td>\n",
       "      <td>nota</td>\n",
       "    </tr>\n",
       "    <tr>\n",
       "      <th>3</th>\n",
       "      <td>cancelar</td>\n",
       "      <td>gostaria</td>\n",
       "      <td>gostaria</td>\n",
       "      <td>gostaria</td>\n",
       "      <td>troca</td>\n",
       "      <td>quero</td>\n",
       "      <td>troca</td>\n",
       "      <td>quero</td>\n",
       "      <td>troca</td>\n",
       "      <td>fiscal</td>\n",
       "    </tr>\n",
       "    <tr>\n",
       "      <th>4</th>\n",
       "      <td>troca</td>\n",
       "      <td>quero</td>\n",
       "      <td>trocar</td>\n",
       "      <td>solicitei</td>\n",
       "      <td>devolucao</td>\n",
       "      <td>cancelar</td>\n",
       "      <td>devolucao</td>\n",
       "      <td>gostaria</td>\n",
       "      <td>solicitei</td>\n",
       "      <td>troca</td>\n",
       "    </tr>\n",
       "    <tr>\n",
       "      <th>5</th>\n",
       "      <td>quero</td>\n",
       "      <td>troca</td>\n",
       "      <td>quero</td>\n",
       "      <td>devolucao</td>\n",
       "      <td>correios</td>\n",
       "      <td>gostaria</td>\n",
       "      <td>postagem</td>\n",
       "      <td>cancelamento</td>\n",
       "      <td>dia</td>\n",
       "      <td>veio</td>\n",
       "    </tr>\n",
       "    <tr>\n",
       "      <th>6</th>\n",
       "      <td>tamanho</td>\n",
       "      <td>trocar</td>\n",
       "      <td>tamanho</td>\n",
       "      <td>numero</td>\n",
       "      <td>postagem</td>\n",
       "      <td>devolucao</td>\n",
       "      <td>correio</td>\n",
       "      <td>entrega</td>\n",
       "      <td>gostaria</td>\n",
       "      <td>gostaria</td>\n",
       "    </tr>\n",
       "    <tr>\n",
       "      <th>7</th>\n",
       "      <td>cancelamento</td>\n",
       "      <td>comprei</td>\n",
       "      <td>cancelar</td>\n",
       "      <td>tamanho</td>\n",
       "      <td>solicitei</td>\n",
       "      <td>cartao</td>\n",
       "      <td>correios</td>\n",
       "      <td>valor</td>\n",
       "      <td>devolucao</td>\n",
       "      <td>mas</td>\n",
       "    </tr>\n",
       "    <tr>\n",
       "      <th>8</th>\n",
       "      <td>trocar</td>\n",
       "      <td>numero</td>\n",
       "      <td>veio</td>\n",
       "      <td>mas</td>\n",
       "      <td>mas</td>\n",
       "      <td>estorno</td>\n",
       "      <td>solicitei</td>\n",
       "      <td>fiz</td>\n",
       "      <td>email</td>\n",
       "      <td>devolucao</td>\n",
       "    </tr>\n",
       "    <tr>\n",
       "      <th>9</th>\n",
       "      <td>mas</td>\n",
       "      <td>cancelamento</td>\n",
       "      <td>numero</td>\n",
       "      <td>trocar</td>\n",
       "      <td>gostaria</td>\n",
       "      <td>mas</td>\n",
       "      <td>fiz</td>\n",
       "      <td>estorno</td>\n",
       "      <td>solicitacao</td>\n",
       "      <td>porem</td>\n",
       "    </tr>\n",
       "  </tbody>\n",
       "</table>\n",
       "</div>"
      ],
      "text/plain": [
       "  Ja realizei a compra e estou com dúvida sobre o andamento do pedido  \\\n",
       "0                                             pedido                    \n",
       "1                                                nao                    \n",
       "2                                           gostaria                    \n",
       "3                                           cancelar                    \n",
       "4                                              troca                    \n",
       "5                                              quero                    \n",
       "6                                            tamanho                    \n",
       "7                                       cancelamento                    \n",
       "8                                             trocar                    \n",
       "9                                                mas                    \n",
       "\n",
       "  Resolvido por terceiros Dados incorretos/Incompletos  \\\n",
       "0                  pedido                       pedido   \n",
       "1                     nao                          nao   \n",
       "2                cancelar                        troca   \n",
       "3                gostaria                     gostaria   \n",
       "4                   quero                       trocar   \n",
       "5                   troca                        quero   \n",
       "6                  trocar                      tamanho   \n",
       "7                 comprei                     cancelar   \n",
       "8                  numero                         veio   \n",
       "9            cancelamento                       numero   \n",
       "\n",
       "  Já devolvi meu produto e quero saber o andamento da troca / devolução  \\\n",
       "0                                             pedido                      \n",
       "1                                              troca                      \n",
       "2                                                nao                      \n",
       "3                                           gostaria                      \n",
       "4                                          solicitei                      \n",
       "5                                          devolucao                      \n",
       "6                                             numero                      \n",
       "7                                            tamanho                      \n",
       "8                                                mas                      \n",
       "9                                             trocar                      \n",
       "\n",
       "  Quero novo código de postagem  \\\n",
       "0                        pedido   \n",
       "1                           nao   \n",
       "2                        codigo   \n",
       "3                         troca   \n",
       "4                     devolucao   \n",
       "5                      correios   \n",
       "6                      postagem   \n",
       "7                     solicitei   \n",
       "8                           mas   \n",
       "9                      gostaria   \n",
       "\n",
       "  Qual o prazo para devolução do valor que paguei?  \\\n",
       "0                                           pedido   \n",
       "1                                              nao   \n",
       "2                                     cancelamento   \n",
       "3                                            quero   \n",
       "4                                         cancelar   \n",
       "5                                         gostaria   \n",
       "6                                        devolucao   \n",
       "7                                           cartao   \n",
       "8                                          estorno   \n",
       "9                                              mas   \n",
       "\n",
       "  Não recebi/quero novo código de postagem Meu pedido ainda não chegou  \\\n",
       "0                                   pedido                      pedido   \n",
       "1                                      nao                         nao   \n",
       "2                                   codigo                    cancelar   \n",
       "3                                    troca                       quero   \n",
       "4                                devolucao                    gostaria   \n",
       "5                                 postagem                cancelamento   \n",
       "6                                  correio                     entrega   \n",
       "7                                 correios                       valor   \n",
       "8                                solicitei                         fiz   \n",
       "9                                      fiz                     estorno   \n",
       "\n",
       "  Ainda não coletaram meu produto Quero receber minha nota fiscal  \n",
       "0                          pedido                          pedido  \n",
       "1                             nao                             nao  \n",
       "2                          coleta                            nota  \n",
       "3                           troca                          fiscal  \n",
       "4                       solicitei                           troca  \n",
       "5                             dia                            veio  \n",
       "6                        gostaria                        gostaria  \n",
       "7                       devolucao                             mas  \n",
       "8                           email                       devolucao  \n",
       "9                     solicitacao                           porem  "
      ]
     },
     "execution_count": 134,
     "metadata": {},
     "output_type": "execute_result"
    }
   ],
   "source": [
    "aux_df = []\n",
    "for cv in wrong_class_list.index.to_list():\n",
    "  words = ' '.join(wrong_pred_df[wrong_pred_df.original == cv].message).split()\n",
    "  ngram = [_ for _ in zip(words)]\n",
    "\n",
    "  c = Counter(ngram).most_common(10)\n",
    "\n",
    "  words = []\n",
    "  for i in c:\n",
    "    words.append(f'{i[0][0]}')\n",
    "\n",
    "  aux_df.append(pd.DataFrame(words, columns=[cv]))\n",
    "\n",
    "pd.concat(aux_df, axis=1)"
   ]
  },
  {
   "cell_type": "markdown",
   "metadata": {
    "id": "ITdG7X86-Ws2"
   },
   "source": [
    "#### Dicionario\n",
    "\n",
    "Emails com essas palavras não fazem parte da lista de classes que queremos predizer"
   ]
  },
  {
   "cell_type": "code",
   "execution_count": 135,
   "metadata": {
    "id": "uptsaHw4hxQG"
   },
   "outputs": [],
   "source": [
    "remove_grams = [\n",
    "    'vale troca',\n",
    "    'codigo postagem',\n",
    "    'ate agora',\n",
    "    'ate momento',\n",
    "    'nao recebi',\n",
    "    'codigo',\n",
    "    'estorno',\n",
    "    'correio',\n",
    "    'coleta',\n",
    "    'nota fiscal'\n",
    "]"
   ]
  },
  {
   "cell_type": "markdown",
   "metadata": {
    "id": "4NlkUm3dkB8c"
   },
   "source": [
    "#### Aplicando Remocao usando o Dicionario"
   ]
  },
  {
   "cell_type": "code",
   "execution_count": 136,
   "metadata": {
    "id": "tgnhf3O1W_So"
   },
   "outputs": [],
   "source": [
    "df_result.loc[df_result.message.str.contains('|'.join(remove_grams)), 'predicted'] = 'Outro'"
   ]
  },
  {
   "cell_type": "code",
   "execution_count": 137,
   "metadata": {
    "id": "NY7Lnt5ver-6"
   },
   "outputs": [],
   "source": [
    "df_result.to_csv(f'{path}/data/validar-{today}.csv', index=False)"
   ]
  },
  {
   "cell_type": "code",
   "execution_count": null,
   "metadata": {},
   "outputs": [],
   "source": []
  },
  {
   "cell_type": "markdown",
   "metadata": {},
   "source": [
    "#### Validando Novos Resultados"
   ]
  },
  {
   "cell_type": "code",
   "execution_count": 131,
   "metadata": {},
   "outputs": [
    {
     "data": {
      "text/plain": [
       "original\n",
       "Ja realizei a compra e estou com dúvida sobre o andamento do pedido      766\n",
       "Resolvido por terceiros                                                  670\n",
       "Dados incorretos/Incompletos                                             297\n",
       "Já devolvi meu produto e quero saber o andamento da troca / devolução    289\n",
       "Quero novo código de postagem                                            225\n",
       "Qual o prazo para devolução do valor que paguei?                         168\n",
       "Não recebi/quero novo código de postagem                                 149\n",
       "Meu pedido ainda não chegou                                              133\n",
       "Ainda não coletaram meu produto                                          125\n",
       "Quero receber minha nota fiscal                                          108\n",
       "Name: message, dtype: int64"
      ]
     },
     "execution_count": 131,
     "metadata": {},
     "output_type": "execute_result"
    }
   ],
   "source": [
    "wrong_pred_df = df_result[(df_result.true == 'Outro') & (df_result.predicted != 'Outro')]\n",
    "wrong_class_list = wrong_pred_df.groupby('original')['message'].count().sort_values(ascending=False)[:10]\n",
    "wrong_class_list"
   ]
  },
  {
   "cell_type": "code",
   "execution_count": 132,
   "metadata": {},
   "outputs": [
    {
     "data": {
      "text/html": [
       "<div>\n",
       "<style scoped>\n",
       "    .dataframe tbody tr th:only-of-type {\n",
       "        vertical-align: middle;\n",
       "    }\n",
       "\n",
       "    .dataframe tbody tr th {\n",
       "        vertical-align: top;\n",
       "    }\n",
       "\n",
       "    .dataframe thead th {\n",
       "        text-align: right;\n",
       "    }\n",
       "</style>\n",
       "<table border=\"1\" class=\"dataframe\">\n",
       "  <thead>\n",
       "    <tr style=\"text-align: right;\">\n",
       "      <th></th>\n",
       "      <th>Ja realizei a compra e estou com dúvida sobre o andamento do pedido</th>\n",
       "      <th>Resolvido por terceiros</th>\n",
       "      <th>Dados incorretos/Incompletos</th>\n",
       "      <th>Já devolvi meu produto e quero saber o andamento da troca / devolução</th>\n",
       "      <th>Quero novo código de postagem</th>\n",
       "      <th>Qual o prazo para devolução do valor que paguei?</th>\n",
       "      <th>Não recebi/quero novo código de postagem</th>\n",
       "      <th>Meu pedido ainda não chegou</th>\n",
       "      <th>Ainda não coletaram meu produto</th>\n",
       "      <th>Quero receber minha nota fiscal</th>\n",
       "    </tr>\n",
       "  </thead>\n",
       "  <tbody>\n",
       "    <tr>\n",
       "      <th>0</th>\n",
       "      <td>cancelar pedido</td>\n",
       "      <td>cancelar pedido</td>\n",
       "      <td>cancelar pedido</td>\n",
       "      <td>solicitei troca</td>\n",
       "      <td>solicitei troca</td>\n",
       "      <td>cancelar pedido</td>\n",
       "      <td>nao consegui</td>\n",
       "      <td>cancelar pedido</td>\n",
       "      <td>solicitei troca</td>\n",
       "      <td>nota fiscal</td>\n",
       "    </tr>\n",
       "    <tr>\n",
       "      <th>1</th>\n",
       "      <td>gostaria cancelar</td>\n",
       "      <td>quero cancelar</td>\n",
       "      <td>quero cancelar</td>\n",
       "      <td>gostaria saber</td>\n",
       "      <td>novo codigo</td>\n",
       "      <td>cancelamento pedido</td>\n",
       "      <td>solicitei troca</td>\n",
       "      <td>quero cancelar</td>\n",
       "      <td>gostaria saber</td>\n",
       "      <td>nao veio</td>\n",
       "    </tr>\n",
       "    <tr>\n",
       "      <th>2</th>\n",
       "      <td>quero cancelar</td>\n",
       "      <td>gostaria cancelar</td>\n",
       "      <td>fazer troca</td>\n",
       "      <td>troca pedido</td>\n",
       "      <td>devolucao pedido</td>\n",
       "      <td>quero cancelar</td>\n",
       "      <td>fiz pedido</td>\n",
       "      <td>pedido nao</td>\n",
       "      <td>ainda nao</td>\n",
       "      <td>veio nota</td>\n",
       "    </tr>\n",
       "    <tr>\n",
       "      <th>3</th>\n",
       "      <td>fiz pedido</td>\n",
       "      <td>pedido nao</td>\n",
       "      <td>gostaria trocar</td>\n",
       "      <td>pedido nao</td>\n",
       "      <td>troca pedido</td>\n",
       "      <td>pedido nao</td>\n",
       "      <td>autorizacao postagem</td>\n",
       "      <td>gostaria cancelar</td>\n",
       "      <td>coleta pedido</td>\n",
       "      <td>mas nao</td>\n",
       "    </tr>\n",
       "    <tr>\n",
       "      <th>4</th>\n",
       "      <td>pedido nao</td>\n",
       "      <td>cancelamento pedido</td>\n",
       "      <td>ficou grande</td>\n",
       "      <td>ficou grande</td>\n",
       "      <td>nao consegui</td>\n",
       "      <td>gostaria cancelar</td>\n",
       "      <td>solicitei devolucao</td>\n",
       "      <td>cancelamento pedido</td>\n",
       "      <td>recebi email</td>\n",
       "      <td>porem nao</td>\n",
       "    </tr>\n",
       "    <tr>\n",
       "      <th>5</th>\n",
       "      <td>cancelamento pedido</td>\n",
       "      <td>gostaria trocar</td>\n",
       "      <td>quero trocar</td>\n",
       "      <td>fiz pedido</td>\n",
       "      <td>outro codigo</td>\n",
       "      <td>fiz pedido</td>\n",
       "      <td>troca pedido</td>\n",
       "      <td>fiz pedido</td>\n",
       "      <td>fiz solicitacao</td>\n",
       "      <td>segunda via</td>\n",
       "    </tr>\n",
       "    <tr>\n",
       "      <th>6</th>\n",
       "      <td>solicitei troca</td>\n",
       "      <td>fiz pedido</td>\n",
       "      <td>fiz pedido</td>\n",
       "      <td>fiz solicitacao</td>\n",
       "      <td>fiz solicitacao</td>\n",
       "      <td>solicitei cancelamento</td>\n",
       "      <td>devolucao pedido</td>\n",
       "      <td>solicito cancelamento</td>\n",
       "      <td>nao foi</td>\n",
       "      <td>troca pedido</td>\n",
       "    </tr>\n",
       "    <tr>\n",
       "      <th>7</th>\n",
       "      <td>gostaria trocar</td>\n",
       "      <td>ficou grande</td>\n",
       "      <td>pedido nao</td>\n",
       "      <td>devolucao pedido</td>\n",
       "      <td>fazer troca</td>\n",
       "      <td>cartao credito</td>\n",
       "      <td>fiz solicitacao</td>\n",
       "      <td>cartao credito</td>\n",
       "      <td>solicitei devolucao</td>\n",
       "      <td>fazer devolucao</td>\n",
       "    </tr>\n",
       "    <tr>\n",
       "      <th>8</th>\n",
       "      <td>ainda nao</td>\n",
       "      <td>quero trocar</td>\n",
       "      <td>efetuar troca</td>\n",
       "      <td>aguardo retorno</td>\n",
       "      <td>autorizacao postagem</td>\n",
       "      <td>estorno cartao</td>\n",
       "      <td>pedido nao</td>\n",
       "      <td>nao foi</td>\n",
       "      <td>solicitacao troca</td>\n",
       "      <td>pedido nao</td>\n",
       "    </tr>\n",
       "    <tr>\n",
       "      <th>9</th>\n",
       "      <td>aguardo retorno</td>\n",
       "      <td>nao foi</td>\n",
       "      <td>preciso trocar</td>\n",
       "      <td>solicitacao troca</td>\n",
       "      <td>pedido nao</td>\n",
       "      <td>solicito cancelamento</td>\n",
       "      <td>nao consigo</td>\n",
       "      <td>pedido quero</td>\n",
       "      <td>aguardo retorno</td>\n",
       "      <td>pedido mas</td>\n",
       "    </tr>\n",
       "  </tbody>\n",
       "</table>\n",
       "</div>"
      ],
      "text/plain": [
       "  Ja realizei a compra e estou com dúvida sobre o andamento do pedido  \\\n",
       "0                                    cancelar pedido                    \n",
       "1                                  gostaria cancelar                    \n",
       "2                                     quero cancelar                    \n",
       "3                                         fiz pedido                    \n",
       "4                                         pedido nao                    \n",
       "5                                cancelamento pedido                    \n",
       "6                                    solicitei troca                    \n",
       "7                                    gostaria trocar                    \n",
       "8                                          ainda nao                    \n",
       "9                                    aguardo retorno                    \n",
       "\n",
       "  Resolvido por terceiros Dados incorretos/Incompletos  \\\n",
       "0         cancelar pedido              cancelar pedido   \n",
       "1          quero cancelar               quero cancelar   \n",
       "2       gostaria cancelar                  fazer troca   \n",
       "3              pedido nao              gostaria trocar   \n",
       "4     cancelamento pedido                 ficou grande   \n",
       "5         gostaria trocar                 quero trocar   \n",
       "6              fiz pedido                   fiz pedido   \n",
       "7            ficou grande                   pedido nao   \n",
       "8            quero trocar                efetuar troca   \n",
       "9                 nao foi               preciso trocar   \n",
       "\n",
       "  Já devolvi meu produto e quero saber o andamento da troca / devolução  \\\n",
       "0                                    solicitei troca                      \n",
       "1                                     gostaria saber                      \n",
       "2                                       troca pedido                      \n",
       "3                                         pedido nao                      \n",
       "4                                       ficou grande                      \n",
       "5                                         fiz pedido                      \n",
       "6                                    fiz solicitacao                      \n",
       "7                                   devolucao pedido                      \n",
       "8                                    aguardo retorno                      \n",
       "9                                  solicitacao troca                      \n",
       "\n",
       "  Quero novo código de postagem  \\\n",
       "0               solicitei troca   \n",
       "1                   novo codigo   \n",
       "2              devolucao pedido   \n",
       "3                  troca pedido   \n",
       "4                  nao consegui   \n",
       "5                  outro codigo   \n",
       "6               fiz solicitacao   \n",
       "7                   fazer troca   \n",
       "8          autorizacao postagem   \n",
       "9                    pedido nao   \n",
       "\n",
       "  Qual o prazo para devolução do valor que paguei?  \\\n",
       "0                                  cancelar pedido   \n",
       "1                              cancelamento pedido   \n",
       "2                                   quero cancelar   \n",
       "3                                       pedido nao   \n",
       "4                                gostaria cancelar   \n",
       "5                                       fiz pedido   \n",
       "6                           solicitei cancelamento   \n",
       "7                                   cartao credito   \n",
       "8                                   estorno cartao   \n",
       "9                            solicito cancelamento   \n",
       "\n",
       "  Não recebi/quero novo código de postagem Meu pedido ainda não chegou  \\\n",
       "0                             nao consegui             cancelar pedido   \n",
       "1                          solicitei troca              quero cancelar   \n",
       "2                               fiz pedido                  pedido nao   \n",
       "3                     autorizacao postagem           gostaria cancelar   \n",
       "4                      solicitei devolucao         cancelamento pedido   \n",
       "5                             troca pedido                  fiz pedido   \n",
       "6                         devolucao pedido       solicito cancelamento   \n",
       "7                          fiz solicitacao              cartao credito   \n",
       "8                               pedido nao                     nao foi   \n",
       "9                              nao consigo                pedido quero   \n",
       "\n",
       "  Ainda não coletaram meu produto Quero receber minha nota fiscal  \n",
       "0                 solicitei troca                     nota fiscal  \n",
       "1                  gostaria saber                        nao veio  \n",
       "2                       ainda nao                       veio nota  \n",
       "3                   coleta pedido                         mas nao  \n",
       "4                    recebi email                       porem nao  \n",
       "5                 fiz solicitacao                     segunda via  \n",
       "6                         nao foi                    troca pedido  \n",
       "7             solicitei devolucao                 fazer devolucao  \n",
       "8               solicitacao troca                      pedido nao  \n",
       "9                 aguardo retorno                      pedido mas  "
      ]
     },
     "execution_count": 132,
     "metadata": {},
     "output_type": "execute_result"
    }
   ],
   "source": [
    "aux_df = []\n",
    "for cv in wrong_class_list.index.to_list():\n",
    "  words = ' '.join(wrong_pred_df[wrong_pred_df.original == cv].message).split()\n",
    "  ngram = [_ for _ in zip(words, words[1:])]\n",
    "\n",
    "  c = Counter(ngram).most_common(10)\n",
    "\n",
    "  words = []\n",
    "  for i in c:\n",
    "    words.append(f'{i[0][0]} {i[0][1]}')\n",
    "\n",
    "  aux_df.append(pd.DataFrame(words, columns=[cv]))\n",
    "\n",
    "pd.concat(aux_df, axis=1)"
   ]
  },
  {
   "cell_type": "code",
   "execution_count": null,
   "metadata": {},
   "outputs": [],
   "source": []
  }
 ],
 "metadata": {
  "accelerator": "GPU",
  "colab": {
   "collapsed_sections": [
    "7dao_gfODfzI",
    "fJRjwdx9P-bs",
    "SzvWJ6_uQDkQ",
    "yEyBDn6F0YkP",
    "Gx9rlAQ01xTB",
    "3cQQecCsVaRY",
    "EXSsFuqOXCEc",
    "kM1pvqCp6FP4",
    "hGMA2jjf4r7I",
    "vLBYS5c4qd8w",
    "dSon854V1xTK",
    "BBv1QI3rNjRr",
    "26svF7WBeb4z",
    "Y3d5Qa-X1xTM",
    "6oaoT8PB7RsM",
    "WNDNjy8WViEW",
    "OpuAf7a4O2Fb",
    "wa4O4u__O_d1",
    "v_-f9NXDNOKW",
    "ITdG7X86-Ws2",
    "4NlkUm3dkB8c"
   ],
   "name": "supervisioned.ipynb",
   "provenance": []
  },
  "interpreter": {
   "hash": "31f2aee4e71d21fbe5cf8b01ff0e069b9275f58929596ceb00d14d90e3e16cd6"
  },
  "kernelspec": {
   "display_name": "Python 3 (ipykernel)",
   "language": "python",
   "name": "python3"
  },
  "language_info": {
   "codemirror_mode": {
    "name": "ipython",
    "version": 3
   },
   "file_extension": ".py",
   "mimetype": "text/x-python",
   "name": "python",
   "nbconvert_exporter": "python",
   "pygments_lexer": "ipython3",
   "version": "3.8.10"
  }
 },
 "nbformat": 4,
 "nbformat_minor": 1
}
