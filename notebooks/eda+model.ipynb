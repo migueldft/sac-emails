{
 "cells": [
  {
   "cell_type": "code",
   "execution_count": 1,
   "metadata": {
    "id": "HLDHk2n6rAKV"
   },
   "outputs": [],
   "source": [
    "import pandas as pd\n",
    "import seaborn as sns\n",
    "import numpy as np\n",
    "import matplotlib.pyplot as plt\n",
    "\n",
    "path = '/home/miguel.filho/Documents/rnd-sac-emails/'\n",
    "\n",
    "# path = '/content/gdrive/MyDrive/DataScience/Sac Emails/'\n",
    "# from google.colab import drive\n",
    "# drive.mount('/content/gdrive')"
   ]
  },
  {
   "cell_type": "code",
   "execution_count": 2,
   "metadata": {
    "id": "7fTgdoHkrRzK"
   },
   "outputs": [],
   "source": [
    "df = pd.read_parquet(f'{path}/data/poc_sac.parquet')"
   ]
  },
  {
   "cell_type": "code",
   "execution_count": 3,
   "metadata": {
    "colab": {
     "base_uri": "https://localhost:8080/",
     "height": 380
    },
    "id": "p2GspqBStYuh",
    "outputId": "ed07f84a-3047-4e9b-b856-5dc2eaeb1626"
   },
   "outputs": [
    {
     "data": {
      "text/html": [
       "<div>\n",
       "<style scoped>\n",
       "    .dataframe tbody tr th:only-of-type {\n",
       "        vertical-align: middle;\n",
       "    }\n",
       "\n",
       "    .dataframe tbody tr th {\n",
       "        vertical-align: top;\n",
       "    }\n",
       "\n",
       "    .dataframe thead th {\n",
       "        text-align: right;\n",
       "    }\n",
       "</style>\n",
       "<table border=\"1\" class=\"dataframe\">\n",
       "  <thead>\n",
       "    <tr style=\"text-align: right;\">\n",
       "      <th></th>\n",
       "      <th>sac_subject</th>\n",
       "      <th>sac_category</th>\n",
       "      <th>sac_customer_voice</th>\n",
       "      <th>sac_reason</th>\n",
       "      <th>created_date</th>\n",
       "      <th>email_subject</th>\n",
       "      <th>message</th>\n",
       "      <th>problem</th>\n",
       "      <th>detail</th>\n",
       "      <th>customer_email</th>\n",
       "    </tr>\n",
       "  </thead>\n",
       "  <tbody>\n",
       "    <tr>\n",
       "      <th>0</th>\n",
       "      <td>Entregas</td>\n",
       "      <td>Reclamação</td>\n",
       "      <td>Pedido consta como entregue, mas não recebi</td>\n",
       "      <td>Protocolo de entrega</td>\n",
       "      <td>2020-01-16 17:25:42</td>\n",
       "      <td>ENTREGAS</td>\n",
       "      <td>Boa tarde Kanui ou Dafiti, gostaria de saber q...</td>\n",
       "      <td>Dúvida sobre o andamento do meu pedido</td>\n",
       "      <td>None</td>\n",
       "      <td>dgoguitar@hotmail.com</td>\n",
       "    </tr>\n",
       "    <tr>\n",
       "      <th>1</th>\n",
       "      <td>Atendimento</td>\n",
       "      <td>Reclamação</td>\n",
       "      <td>Meu problema não foi resolvido</td>\n",
       "      <td>None</td>\n",
       "      <td>2020-01-02 13:17:59</td>\n",
       "      <td>ENTREGAS</td>\n",
       "      <td>Porque  consta que já foi concluída  a entrega...</td>\n",
       "      <td>Problemas com a entrega</td>\n",
       "      <td>None</td>\n",
       "      <td>mariaitrassi@gmail.com</td>\n",
       "    </tr>\n",
       "    <tr>\n",
       "      <th>2</th>\n",
       "      <td>Trocas</td>\n",
       "      <td>Solicitação</td>\n",
       "      <td>Estou arrependido, quero cancelar/trocar o pro...</td>\n",
       "      <td>Produto ainda não entregue com NF</td>\n",
       "      <td>2020-01-02 16:37:38</td>\n",
       "      <td>TROCAS E DEVOLUÇÕES</td>\n",
       "      <td>Ola fiz uma compra e n recebir o produto tente...</td>\n",
       "      <td>Trocar, cancelar ou devolver</td>\n",
       "      <td>Quero cancelar ou devolver minha compra</td>\n",
       "      <td>arildo.samorim@gmail.com</td>\n",
       "    </tr>\n",
       "  </tbody>\n",
       "</table>\n",
       "</div>"
      ],
      "text/plain": [
       "   sac_subject sac_category  \\\n",
       "0     Entregas   Reclamação   \n",
       "1  Atendimento   Reclamação   \n",
       "2       Trocas  Solicitação   \n",
       "\n",
       "                                  sac_customer_voice  \\\n",
       "0        Pedido consta como entregue, mas não recebi   \n",
       "1                     Meu problema não foi resolvido   \n",
       "2  Estou arrependido, quero cancelar/trocar o pro...   \n",
       "\n",
       "                          sac_reason         created_date  \\\n",
       "0               Protocolo de entrega  2020-01-16 17:25:42   \n",
       "1                               None  2020-01-02 13:17:59   \n",
       "2  Produto ainda não entregue com NF  2020-01-02 16:37:38   \n",
       "\n",
       "         email_subject                                            message  \\\n",
       "0             ENTREGAS  Boa tarde Kanui ou Dafiti, gostaria de saber q...   \n",
       "1             ENTREGAS  Porque  consta que já foi concluída  a entrega...   \n",
       "2  TROCAS E DEVOLUÇÕES  Ola fiz uma compra e n recebir o produto tente...   \n",
       "\n",
       "                                  problem  \\\n",
       "0  Dúvida sobre o andamento do meu pedido   \n",
       "1                 Problemas com a entrega   \n",
       "2            Trocar, cancelar ou devolver   \n",
       "\n",
       "                                    detail            customer_email  \n",
       "0                                     None     dgoguitar@hotmail.com  \n",
       "1                                     None    mariaitrassi@gmail.com  \n",
       "2  Quero cancelar ou devolver minha compra  arildo.samorim@gmail.com  "
      ]
     },
     "execution_count": 3,
     "metadata": {},
     "output_type": "execute_result"
    }
   ],
   "source": [
    "df.head(3)"
   ]
  },
  {
   "cell_type": "code",
   "execution_count": 4,
   "metadata": {
    "colab": {
     "base_uri": "https://localhost:8080/"
    },
    "id": "gxxmhIcEtbPo",
    "outputId": "7aba1b5b-2774-4165-eb2c-9d9627e1ac88"
   },
   "outputs": [
    {
     "name": "stdout",
     "output_type": "stream",
     "text": [
      "<class 'pandas.core.frame.DataFrame'>\n",
      "RangeIndex: 1649028 entries, 0 to 1649027\n",
      "Data columns (total 10 columns):\n",
      " #   Column              Non-Null Count    Dtype \n",
      "---  ------              --------------    ----- \n",
      " 0   sac_subject         1649028 non-null  object\n",
      " 1   sac_category        1649028 non-null  object\n",
      " 2   sac_customer_voice  1649028 non-null  object\n",
      " 3   sac_reason          499112 non-null   object\n",
      " 4   created_date        1649028 non-null  object\n",
      " 5   email_subject       1649027 non-null  object\n",
      " 6   message             1648416 non-null  object\n",
      " 7   problem             1638808 non-null  object\n",
      " 8   detail              530683 non-null   object\n",
      " 9   customer_email      1649028 non-null  object\n",
      "dtypes: object(10)\n",
      "memory usage: 125.8+ MB\n"
     ]
    }
   ],
   "source": [
    "df.info()"
   ]
  },
  {
   "cell_type": "code",
   "execution_count": 5,
   "metadata": {
    "id": "MXUjTGJ01xS2"
   },
   "outputs": [],
   "source": [
    "df.created_date = pd.to_datetime(df.created_date)"
   ]
  },
  {
   "cell_type": "code",
   "execution_count": 6,
   "metadata": {
    "colab": {
     "base_uri": "https://localhost:8080/"
    },
    "id": "3a0tVRkk1xS3",
    "outputId": "970f8d13-92a6-4dce-d4be-3ccbcacdddbb"
   },
   "outputs": [
    {
     "data": {
      "text/plain": [
       "(1649028, 10)"
      ]
     },
     "execution_count": 6,
     "metadata": {},
     "output_type": "execute_result"
    }
   ],
   "source": [
    "df.shape"
   ]
  },
  {
   "cell_type": "markdown",
   "metadata": {
    "heading_collapsed": true,
    "id": "7qEDG7a-8prz"
   },
   "source": [
    "## EDA"
   ]
  },
  {
   "cell_type": "markdown",
   "metadata": {
    "hidden": true
   },
   "source": [
    "### Message"
   ]
  },
  {
   "cell_type": "code",
   "execution_count": 7,
   "metadata": {
    "hidden": true
   },
   "outputs": [],
   "source": [
    "##Remover emails sem mensagem definida\n",
    "df = df[~df['message'].isnull()]\n",
    "df = df.reset_index(drop=True)"
   ]
  },
  {
   "cell_type": "code",
   "execution_count": 8,
   "metadata": {
    "hidden": true
   },
   "outputs": [],
   "source": [
    "df['message_size'] = df.message.apply(len)"
   ]
  },
  {
   "cell_type": "code",
   "execution_count": 9,
   "metadata": {
    "hidden": true
   },
   "outputs": [
    {
     "data": {
      "text/plain": [
       "Text(0.5, 0, 'Número de caracteres')"
      ]
     },
     "execution_count": 9,
     "metadata": {},
     "output_type": "execute_result"
    },
    {
     "data": {
      "image/png": "[encoded data removed]",
      "text/plain": [
       "<Figure size 432x288 with 1 Axes>"
      ]
     },
     "metadata": {
      "needs_background": "light"
     },
     "output_type": "display_data"
    }
   ],
   "source": [
    "df['message_size'].hist(bins=200)\n",
    "plt.grid(alpha=0)\n",
    "plt.ylabel('Número de frases')\n",
    "plt.xlabel('Número de caracteres')"
   ]
  },
  {
   "cell_type": "code",
   "execution_count": 10,
   "metadata": {
    "hidden": true
   },
   "outputs": [
    {
     "data": {
      "text/plain": [
       "<AxesSubplot:>"
      ]
     },
     "execution_count": 10,
     "metadata": {},
     "output_type": "execute_result"
    },
    {
     "data": {
      "image/png": "[encoded data removed]",
      "text/plain": [
       "<Figure size 432x288 with 1 Axes>"
      ]
     },
     "metadata": {
      "needs_background": "light"
     },
     "output_type": "display_data"
    }
   ],
   "source": [
    "df[df.message_size < 3 * df.message_size.std()]['message_size'].hist(bins=200)"
   ]
  },
  {
   "cell_type": "code",
   "execution_count": 11,
   "metadata": {
    "hidden": true
   },
   "outputs": [],
   "source": [
    "df = df[df.message_size < 3 * df.message_size.std()]"
   ]
  },
  {
   "cell_type": "markdown",
   "metadata": {
    "heading_collapsed": true,
    "hidden": true,
    "id": "Gx9rlAQ01xTB"
   },
   "source": [
    "### Customer Voice"
   ]
  },
  {
   "cell_type": "code",
   "execution_count": 12,
   "metadata": {
    "colab": {
     "base_uri": "https://localhost:8080/"
    },
    "hidden": true,
    "id": "GT5gHB_G1xTB",
    "outputId": "383fec5c-19ee-4a82-e771-0d5256f7e755"
   },
   "outputs": [
    {
     "data": {
      "text/plain": [
       "Ja realizei a compra e estou com dúvida sobre o andamento do pedido                        338172\n",
       "Ainda não devolvi meu produto e quero saber sobre processo de troca / devolução            200182\n",
       "Meu pedido ainda não chegou                                                                195030\n",
       "Estou arrependido, quero cancelar/trocar o produto                                          70875\n",
       "Meu problema não foi resolvido                                                              66493\n",
       "Já devolvi meu produto e quero saber o andamento da troca / devolução                       63992\n",
       "Como utilizar o cupom/vale                                                                  61600\n",
       "Quero alterar/incluir meu endereço de entrega                                               56819\n",
       "Pedido consta como entregue, mas não recebi                                                 46994\n",
       "Qual o prazo para devolução do valor que paguei?                                            44290\n",
       "Cliente solicitou a troca, mas não foi possível executar                                    38547\n",
       "Já devolvi meu produto mas não fui atendido                                                 33914\n",
       "Ainda não recebi meu produto e quero saber sobre processo de cancelamento                   29251\n",
       "Dados incorretos/Incompletos                                                                28755\n",
       "Resolvido por terceiros                                                                     26586\n",
       "Como me cadastrar/como comprar?                                                             23278\n",
       "Não recebi meu reembolso/estorno/vale                                                       20622\n",
       "Não consigo alterar meu cadastro                                                            20345\n",
       "Como recupero meu login e senha de acesso                                                   18930\n",
       "Meu pagamento foi aprovado?                                                                 17942\n",
       "Quero receber minha nota fiscal                                                             17249\n",
       "Quero novo código de postagem                                                               12279\n",
       "Cancelamento de vale                                                                        11330\n",
       "Não consigo verificar a Nota Fiscal/Rastreamento                                            11238\n",
       "Política da análise cadastral                                                               10497\n",
       "Retorno/ Agradecimento do cliente                                                            8993\n",
       "Não recebi/quero novo código de postagem                                                     8353\n",
       "Está faltando um item no pedido                                                              8070\n",
       "Ainda não realizei a compra  e quero  saber mais sobre condições de entrega/frete/prazo      7801\n",
       "Quero passar dados adicionais                                                                7583\n",
       "Name: sac_customer_voice, dtype: int64"
      ]
     },
     "execution_count": 12,
     "metadata": {},
     "output_type": "execute_result"
    }
   ],
   "source": [
    "df.sac_customer_voice.value_counts().head(30)"
   ]
  },
  {
   "cell_type": "code",
   "execution_count": 13,
   "metadata": {
    "hidden": true
   },
   "outputs": [],
   "source": [
    "group_cv = [\n",
    "    'Ainda não devolvi meu produto e quero saber sobre processo de troca / devolução',\n",
    "    'Estou arrependido, quero cancelar/trocar o produto',\n",
    "    'Ainda não recebi meu produto e quero saber sobre processo de cancelamento'\n",
    "]\n",
    "df['customer_voice_grouped'] = df['sac_customer_voice'].apply(lambda x: 'Arrependimento' if x in group_cv else x)\n"
   ]
  },
  {
   "cell_type": "markdown",
   "metadata": {
    "heading_collapsed": true,
    "hidden": true,
    "id": "3cQQecCsVaRY"
   },
   "source": [
    "### Problem"
   ]
  },
  {
   "cell_type": "code",
   "execution_count": 14,
   "metadata": {
    "colab": {
     "base_uri": "https://localhost:8080/"
    },
    "hidden": true,
    "id": "zDxfPB2rVZh-",
    "outputId": "2396005f-947f-46db-9d45-36a63d17469d"
   },
   "outputs": [
    {
     "name": "stdout",
     "output_type": "stream",
     "text": [
      "99.4% dos emails criados tem o problema definido\n"
     ]
    }
   ],
   "source": [
    "print('{:.1%} dos emails criados tem o problema definido'.format(df.count()['problem']/df.shape[0]))"
   ]
  },
  {
   "cell_type": "code",
   "execution_count": 15,
   "metadata": {
    "hidden": true
   },
   "outputs": [
    {
     "data": {
      "text/plain": [
       "Problemas com a entrega                                                                   430712\n",
       "Outros                                                                                    355479\n",
       "Trocar, cancelar ou devolver                                                              256389\n",
       "Dúvida sobre o andamento do meu pedido                                                    146999\n",
       "Andamento da minha troca                                                                  144752\n",
       "Vales e Reembolso                                                                         111841\n",
       "Vales e reembolsos                                                                         51378\n",
       "Pagamento                                                                                  45875\n",
       "Cadastro                                                                                   30436\n",
       "Promoções                                                                                  12104\n",
       "Nota Fiscal                                                                                 5043\n",
       "Problemas com a entregaPROBLEMA: Problemas com a entrega                                      69\n",
       "Others                                                                                        17\n",
       "Otros                                                                                         16\n",
       "Dúvida sobre o andamento do meu pedidoPROBLEMA: Dúvida sobre o andamento do meu pedido        14\n",
       "OutrosPROBLEMA: Outros                                                                        13\n",
       "cancelar                                                                                      12\n",
       "cancelar                                                                                      12\n",
       "Andamento da minha trocaPROBLEMA: Andamento da minha troca                                    11\n",
       "Problemas com a entregaPROBLEMA: Outros                                                        9\n",
       "Cancelamento                                                                                   7\n",
       "Trocar                                                                                         7\n",
       "Trocar, cancelar ou devolverPROBLEMA: Trocar, cancelar ou devolver                             7\n",
       "바우처 및 환불                                                                                       6\n",
       "Problemas com a entrega                                                                        6\n",
       "Vouchers and Refunds                                                                           6\n",
       "배송 문제                                                                                          5\n",
       "endereço errado                                                                                5\n",
       "Vales e reembolsosPROBLEMA: Vales e reembolsos                                                 4\n",
       "Problemas de entrega                                                                           4\n",
       "Name: problem, dtype: int64"
      ]
     },
     "execution_count": 15,
     "metadata": {},
     "output_type": "execute_result"
    }
   ],
   "source": [
    "df['problem'].value_counts()[:30]"
   ]
  },
  {
   "cell_type": "code",
   "execution_count": 16,
   "metadata": {
    "hidden": true
   },
   "outputs": [],
   "source": [
    "problems_list = [\n",
    "  'Problemas com a entrega',\n",
    "  'Outros',\n",
    "  'Trocar, cancelar ou devolver',\n",
    "  'Andamento da minha troca',\n",
    "  'Vales e Reembolso',\n",
    "  'Dúvida sobre o andamento do meu pedido',\n",
    "  'Vales e reembolsos',\n",
    "  'Pagamento',\n",
    "  'Cadastro',\n",
    "  'Nota Fiscal',\n",
    "  'Promoções'\n",
    "]\n",
    "df['problem'] = df['problem'].apply(lambda x: x if x in problems_list else np.nan)\n",
    "df['problem'].replace('Vales e reembolsos', 'Vales e Reembolso', inplace=True)"
   ]
  },
  {
   "cell_type": "code",
   "execution_count": 17,
   "metadata": {
    "colab": {
     "base_uri": "https://localhost:8080/",
     "height": 391
    },
    "hidden": true,
    "id": "91UbO0iGyO_z",
    "outputId": "c95c6f9b-b748-4f98-c11e-4284761b6c59"
   },
   "outputs": [
    {
     "data": {
      "text/plain": [
       "<AxesSubplot:>"
      ]
     },
     "execution_count": 17,
     "metadata": {},
     "output_type": "execute_result"
    },
    {
     "data": {
      "image/png": "[encoded data removed]",
      "text/plain": [
       "<Figure size 1008x432 with 1 Axes>"
      ]
     },
     "metadata": {
      "needs_background": "light"
     },
     "output_type": "display_data"
    }
   ],
   "source": [
    "df['problem'].value_counts().plot(kind='barh', figsize=(14,6))"
   ]
  },
  {
   "cell_type": "code",
   "execution_count": 18,
   "metadata": {
    "colab": {
     "base_uri": "https://localhost:8080/",
     "height": 380
    },
    "hidden": true,
    "id": "ssI8ns7jQtyG",
    "outputId": "63515a8d-1a50-44ff-a91c-e74dffa9cb36"
   },
   "outputs": [
    {
     "data": {
      "text/html": [
       "<div>\n",
       "<style scoped>\n",
       "    .dataframe tbody tr th:only-of-type {\n",
       "        vertical-align: middle;\n",
       "    }\n",
       "\n",
       "    .dataframe tbody tr th {\n",
       "        vertical-align: top;\n",
       "    }\n",
       "\n",
       "    .dataframe thead th {\n",
       "        text-align: right;\n",
       "    }\n",
       "</style>\n",
       "<table border=\"1\" class=\"dataframe\">\n",
       "  <thead>\n",
       "    <tr style=\"text-align: right;\">\n",
       "      <th>problem</th>\n",
       "      <th>Andamento da minha troca</th>\n",
       "      <th>Cadastro</th>\n",
       "      <th>Dúvida sobre o andamento do meu pedido</th>\n",
       "      <th>Nota Fiscal</th>\n",
       "      <th>Outros</th>\n",
       "      <th>Pagamento</th>\n",
       "      <th>Problemas com a entrega</th>\n",
       "      <th>Promoções</th>\n",
       "      <th>Trocar, cancelar ou devolver</th>\n",
       "      <th>Vales e Reembolso</th>\n",
       "    </tr>\n",
       "    <tr>\n",
       "      <th>sac_category</th>\n",
       "      <th></th>\n",
       "      <th></th>\n",
       "      <th></th>\n",
       "      <th></th>\n",
       "      <th></th>\n",
       "      <th></th>\n",
       "      <th></th>\n",
       "      <th></th>\n",
       "      <th></th>\n",
       "      <th></th>\n",
       "    </tr>\n",
       "  </thead>\n",
       "  <tbody>\n",
       "    <tr>\n",
       "      <th>Ativo</th>\n",
       "      <td>0.000615</td>\n",
       "      <td>0.000723</td>\n",
       "      <td>0.000238</td>\n",
       "      <td>NaN</td>\n",
       "      <td>0.000917</td>\n",
       "      <td>0.000741</td>\n",
       "      <td>0.000476</td>\n",
       "      <td>0.000744</td>\n",
       "      <td>0.000807</td>\n",
       "      <td>0.000705</td>\n",
       "    </tr>\n",
       "    <tr>\n",
       "      <th>Elogio</th>\n",
       "      <td>0.000007</td>\n",
       "      <td>NaN</td>\n",
       "      <td>0.000014</td>\n",
       "      <td>NaN</td>\n",
       "      <td>0.000416</td>\n",
       "      <td>NaN</td>\n",
       "      <td>0.000056</td>\n",
       "      <td>0.000083</td>\n",
       "      <td>0.000008</td>\n",
       "      <td>0.000006</td>\n",
       "    </tr>\n",
       "    <tr>\n",
       "      <th>Exceção</th>\n",
       "      <td>0.000021</td>\n",
       "      <td>NaN</td>\n",
       "      <td>NaN</td>\n",
       "      <td>NaN</td>\n",
       "      <td>0.000068</td>\n",
       "      <td>0.000044</td>\n",
       "      <td>0.000016</td>\n",
       "      <td>0.000413</td>\n",
       "      <td>0.000008</td>\n",
       "      <td>0.000086</td>\n",
       "    </tr>\n",
       "    <tr>\n",
       "      <th>Improdutivo</th>\n",
       "      <td>0.028587</td>\n",
       "      <td>0.017939</td>\n",
       "      <td>0.021157</td>\n",
       "      <td>0.025382</td>\n",
       "      <td>0.059964</td>\n",
       "      <td>0.044556</td>\n",
       "      <td>0.033598</td>\n",
       "      <td>0.041391</td>\n",
       "      <td>0.053442</td>\n",
       "      <td>0.043402</td>\n",
       "    </tr>\n",
       "    <tr>\n",
       "      <th>Informação</th>\n",
       "      <td>0.662333</td>\n",
       "      <td>0.939085</td>\n",
       "      <td>0.592834</td>\n",
       "      <td>0.178465</td>\n",
       "      <td>0.661386</td>\n",
       "      <td>0.788316</td>\n",
       "      <td>0.463103</td>\n",
       "      <td>0.884831</td>\n",
       "      <td>0.552067</td>\n",
       "      <td>0.590293</td>\n",
       "    </tr>\n",
       "    <tr>\n",
       "      <th>Reclamação</th>\n",
       "      <td>0.220715</td>\n",
       "      <td>0.018761</td>\n",
       "      <td>0.339968</td>\n",
       "      <td>0.021019</td>\n",
       "      <td>0.146256</td>\n",
       "      <td>0.097984</td>\n",
       "      <td>0.482014</td>\n",
       "      <td>0.035443</td>\n",
       "      <td>0.069558</td>\n",
       "      <td>0.255767</td>\n",
       "    </tr>\n",
       "    <tr>\n",
       "      <th>Solicitação</th>\n",
       "      <td>0.087702</td>\n",
       "      <td>0.023426</td>\n",
       "      <td>0.045715</td>\n",
       "      <td>0.775134</td>\n",
       "      <td>0.129721</td>\n",
       "      <td>0.067117</td>\n",
       "      <td>0.020626</td>\n",
       "      <td>0.032716</td>\n",
       "      <td>0.324074</td>\n",
       "      <td>0.109589</td>\n",
       "    </tr>\n",
       "    <tr>\n",
       "      <th>Sugestão</th>\n",
       "      <td>0.000007</td>\n",
       "      <td>NaN</td>\n",
       "      <td>NaN</td>\n",
       "      <td>NaN</td>\n",
       "      <td>0.000779</td>\n",
       "      <td>0.000109</td>\n",
       "      <td>0.000060</td>\n",
       "      <td>0.000578</td>\n",
       "      <td>0.000016</td>\n",
       "      <td>0.000006</td>\n",
       "    </tr>\n",
       "    <tr>\n",
       "      <th>Vendas</th>\n",
       "      <td>0.000014</td>\n",
       "      <td>0.000066</td>\n",
       "      <td>0.000075</td>\n",
       "      <td>NaN</td>\n",
       "      <td>0.000492</td>\n",
       "      <td>0.001134</td>\n",
       "      <td>0.000051</td>\n",
       "      <td>0.003800</td>\n",
       "      <td>0.000020</td>\n",
       "      <td>0.000147</td>\n",
       "    </tr>\n",
       "  </tbody>\n",
       "</table>\n",
       "</div>"
      ],
      "text/plain": [
       "problem       Andamento da minha troca  Cadastro  \\\n",
       "sac_category                                       \n",
       "Ativo                         0.000615  0.000723   \n",
       "Elogio                        0.000007       NaN   \n",
       "Exceção                       0.000021       NaN   \n",
       "Improdutivo                   0.028587  0.017939   \n",
       "Informação                    0.662333  0.939085   \n",
       "Reclamação                    0.220715  0.018761   \n",
       "Solicitação                   0.087702  0.023426   \n",
       "Sugestão                      0.000007       NaN   \n",
       "Vendas                        0.000014  0.000066   \n",
       "\n",
       "problem       Dúvida sobre o andamento do meu pedido  Nota Fiscal    Outros  \\\n",
       "sac_category                                                                  \n",
       "Ativo                                       0.000238          NaN  0.000917   \n",
       "Elogio                                      0.000014          NaN  0.000416   \n",
       "Exceção                                          NaN          NaN  0.000068   \n",
       "Improdutivo                                 0.021157     0.025382  0.059964   \n",
       "Informação                                  0.592834     0.178465  0.661386   \n",
       "Reclamação                                  0.339968     0.021019  0.146256   \n",
       "Solicitação                                 0.045715     0.775134  0.129721   \n",
       "Sugestão                                         NaN          NaN  0.000779   \n",
       "Vendas                                      0.000075          NaN  0.000492   \n",
       "\n",
       "problem       Pagamento  Problemas com a entrega  Promoções  \\\n",
       "sac_category                                                  \n",
       "Ativo          0.000741                 0.000476   0.000744   \n",
       "Elogio              NaN                 0.000056   0.000083   \n",
       "Exceção        0.000044                 0.000016   0.000413   \n",
       "Improdutivo    0.044556                 0.033598   0.041391   \n",
       "Informação     0.788316                 0.463103   0.884831   \n",
       "Reclamação     0.097984                 0.482014   0.035443   \n",
       "Solicitação    0.067117                 0.020626   0.032716   \n",
       "Sugestão       0.000109                 0.000060   0.000578   \n",
       "Vendas         0.001134                 0.000051   0.003800   \n",
       "\n",
       "problem       Trocar, cancelar ou devolver  Vales e Reembolso  \n",
       "sac_category                                                   \n",
       "Ativo                             0.000807           0.000705  \n",
       "Elogio                            0.000008           0.000006  \n",
       "Exceção                           0.000008           0.000086  \n",
       "Improdutivo                       0.053442           0.043402  \n",
       "Informação                        0.552067           0.590293  \n",
       "Reclamação                        0.069558           0.255767  \n",
       "Solicitação                       0.324074           0.109589  \n",
       "Sugestão                          0.000016           0.000006  \n",
       "Vendas                            0.000020           0.000147  "
      ]
     },
     "execution_count": 18,
     "metadata": {},
     "output_type": "execute_result"
    }
   ],
   "source": [
    "pv1 = df.pivot_table(values='sac_subject', index='sac_category', columns='problem', aggfunc='count')\n",
    "pv1.div(pv1.sum())"
   ]
  },
  {
   "cell_type": "code",
   "execution_count": 19,
   "metadata": {
    "colab": {
     "base_uri": "https://localhost:8080/",
     "height": 863
    },
    "hidden": true,
    "id": "f377RP1ZUIJ4",
    "outputId": "583a64f5-5d26-49d4-f09d-f9c296ad9d95"
   },
   "outputs": [
    {
     "data": {
      "text/html": [
       "<div>\n",
       "<style scoped>\n",
       "    .dataframe tbody tr th:only-of-type {\n",
       "        vertical-align: middle;\n",
       "    }\n",
       "\n",
       "    .dataframe tbody tr th {\n",
       "        vertical-align: top;\n",
       "    }\n",
       "\n",
       "    .dataframe thead th {\n",
       "        text-align: right;\n",
       "    }\n",
       "</style>\n",
       "<table border=\"1\" class=\"dataframe\">\n",
       "  <thead>\n",
       "    <tr style=\"text-align: right;\">\n",
       "      <th>problem</th>\n",
       "      <th>Andamento da minha troca</th>\n",
       "      <th>Cadastro</th>\n",
       "      <th>Dúvida sobre o andamento do meu pedido</th>\n",
       "      <th>Nota Fiscal</th>\n",
       "      <th>Outros</th>\n",
       "      <th>Pagamento</th>\n",
       "      <th>Problemas com a entrega</th>\n",
       "      <th>Promoções</th>\n",
       "      <th>Trocar, cancelar ou devolver</th>\n",
       "      <th>Vales e Reembolso</th>\n",
       "    </tr>\n",
       "    <tr>\n",
       "      <th>sac_customer_voice</th>\n",
       "      <th></th>\n",
       "      <th></th>\n",
       "      <th></th>\n",
       "      <th></th>\n",
       "      <th></th>\n",
       "      <th></th>\n",
       "      <th></th>\n",
       "      <th></th>\n",
       "      <th></th>\n",
       "      <th></th>\n",
       "    </tr>\n",
       "  </thead>\n",
       "  <tbody>\n",
       "    <tr>\n",
       "      <th>Ja realizei a compra e estou com dúvida sobre o andamento do pedido</th>\n",
       "      <td>0.030225</td>\n",
       "      <td>0.001173</td>\n",
       "      <td>0.230538</td>\n",
       "      <td>0.000937</td>\n",
       "      <td>0.198870</td>\n",
       "      <td>0.042072</td>\n",
       "      <td>0.428670</td>\n",
       "      <td>0.001705</td>\n",
       "      <td>0.037674</td>\n",
       "      <td>0.028135</td>\n",
       "    </tr>\n",
       "    <tr>\n",
       "      <th>Ainda não devolvi meu produto e quero saber sobre processo de troca / devolução</th>\n",
       "      <td>0.196648</td>\n",
       "      <td>0.000368</td>\n",
       "      <td>0.002247</td>\n",
       "      <td>0.002565</td>\n",
       "      <td>0.227873</td>\n",
       "      <td>0.001154</td>\n",
       "      <td>0.023874</td>\n",
       "      <td>0.000519</td>\n",
       "      <td>0.513043</td>\n",
       "      <td>0.031709</td>\n",
       "    </tr>\n",
       "    <tr>\n",
       "      <th>Meu pedido ainda não chegou</th>\n",
       "      <td>0.007987</td>\n",
       "      <td>0.000103</td>\n",
       "      <td>0.214968</td>\n",
       "      <td>0.000124</td>\n",
       "      <td>0.097190</td>\n",
       "      <td>0.001473</td>\n",
       "      <td>0.630924</td>\n",
       "      <td>0.000113</td>\n",
       "      <td>0.022364</td>\n",
       "      <td>0.024753</td>\n",
       "    </tr>\n",
       "    <tr>\n",
       "      <th>Estou arrependido, quero cancelar/trocar o produto</th>\n",
       "      <td>0.028996</td>\n",
       "      <td>0.000170</td>\n",
       "      <td>0.006759</td>\n",
       "      <td>0.000227</td>\n",
       "      <td>0.179328</td>\n",
       "      <td>0.024636</td>\n",
       "      <td>0.035528</td>\n",
       "      <td>0.002073</td>\n",
       "      <td>0.693599</td>\n",
       "      <td>0.028683</td>\n",
       "    </tr>\n",
       "    <tr>\n",
       "      <th>Meu problema não foi resolvido</th>\n",
       "      <td>0.068039</td>\n",
       "      <td>0.000242</td>\n",
       "      <td>0.078663</td>\n",
       "      <td>0.000877</td>\n",
       "      <td>0.126028</td>\n",
       "      <td>0.004791</td>\n",
       "      <td>0.544780</td>\n",
       "      <td>0.000287</td>\n",
       "      <td>0.046004</td>\n",
       "      <td>0.130290</td>\n",
       "    </tr>\n",
       "    <tr>\n",
       "      <th>Já devolvi meu produto e quero saber o andamento da troca / devolução</th>\n",
       "      <td>0.450300</td>\n",
       "      <td>0.000252</td>\n",
       "      <td>0.005583</td>\n",
       "      <td>0.000189</td>\n",
       "      <td>0.112060</td>\n",
       "      <td>0.001132</td>\n",
       "      <td>0.013620</td>\n",
       "      <td>0.000142</td>\n",
       "      <td>0.065710</td>\n",
       "      <td>0.351011</td>\n",
       "    </tr>\n",
       "    <tr>\n",
       "      <th>Como utilizar o cupom/vale</th>\n",
       "      <td>0.144955</td>\n",
       "      <td>0.000606</td>\n",
       "      <td>0.033034</td>\n",
       "      <td>0.000082</td>\n",
       "      <td>0.178955</td>\n",
       "      <td>0.006859</td>\n",
       "      <td>0.150619</td>\n",
       "      <td>0.030088</td>\n",
       "      <td>0.031381</td>\n",
       "      <td>0.423422</td>\n",
       "    </tr>\n",
       "    <tr>\n",
       "      <th>Quero alterar/incluir meu endereço de entrega</th>\n",
       "      <td>0.004364</td>\n",
       "      <td>0.003353</td>\n",
       "      <td>0.020507</td>\n",
       "      <td>0.000018</td>\n",
       "      <td>0.526928</td>\n",
       "      <td>0.001259</td>\n",
       "      <td>0.420138</td>\n",
       "      <td>0.000142</td>\n",
       "      <td>0.021873</td>\n",
       "      <td>0.001419</td>\n",
       "    </tr>\n",
       "    <tr>\n",
       "      <th>Pedido consta como entregue, mas não recebi</th>\n",
       "      <td>0.005688</td>\n",
       "      <td>0.000021</td>\n",
       "      <td>0.031390</td>\n",
       "      <td>0.000043</td>\n",
       "      <td>0.095965</td>\n",
       "      <td>0.000342</td>\n",
       "      <td>0.852952</td>\n",
       "      <td>0.000086</td>\n",
       "      <td>0.006607</td>\n",
       "      <td>0.006907</td>\n",
       "    </tr>\n",
       "    <tr>\n",
       "      <th>Qual o prazo para devolução do valor que paguei?</th>\n",
       "      <td>0.157564</td>\n",
       "      <td>0.000136</td>\n",
       "      <td>0.010133</td>\n",
       "      <td>0.000114</td>\n",
       "      <td>0.156496</td>\n",
       "      <td>0.011292</td>\n",
       "      <td>0.045554</td>\n",
       "      <td>0.000409</td>\n",
       "      <td>0.082565</td>\n",
       "      <td>0.535739</td>\n",
       "    </tr>\n",
       "    <tr>\n",
       "      <th>Cliente solicitou a troca, mas não foi possível executar</th>\n",
       "      <td>0.086422</td>\n",
       "      <td>0.000525</td>\n",
       "      <td>0.004878</td>\n",
       "      <td>0.000236</td>\n",
       "      <td>0.202140</td>\n",
       "      <td>0.002439</td>\n",
       "      <td>0.041519</td>\n",
       "      <td>0.000761</td>\n",
       "      <td>0.610538</td>\n",
       "      <td>0.050542</td>\n",
       "    </tr>\n",
       "    <tr>\n",
       "      <th>Já devolvi meu produto mas não fui atendido</th>\n",
       "      <td>0.411627</td>\n",
       "      <td>0.000148</td>\n",
       "      <td>0.002192</td>\n",
       "      <td>0.000030</td>\n",
       "      <td>0.067494</td>\n",
       "      <td>0.000474</td>\n",
       "      <td>0.011491</td>\n",
       "      <td>0.000030</td>\n",
       "      <td>0.025884</td>\n",
       "      <td>0.480631</td>\n",
       "    </tr>\n",
       "    <tr>\n",
       "      <th>Ainda não recebi meu produto e quero saber sobre processo de cancelamento</th>\n",
       "      <td>0.024570</td>\n",
       "      <td>0.000276</td>\n",
       "      <td>0.028745</td>\n",
       "      <td>0.000173</td>\n",
       "      <td>0.294110</td>\n",
       "      <td>0.037234</td>\n",
       "      <td>0.130819</td>\n",
       "      <td>0.004969</td>\n",
       "      <td>0.385693</td>\n",
       "      <td>0.093412</td>\n",
       "    </tr>\n",
       "    <tr>\n",
       "      <th>Dados incorretos/Incompletos</th>\n",
       "      <td>0.083178</td>\n",
       "      <td>0.014425</td>\n",
       "      <td>0.059348</td>\n",
       "      <td>0.002738</td>\n",
       "      <td>0.332924</td>\n",
       "      <td>0.043835</td>\n",
       "      <td>0.202892</td>\n",
       "      <td>0.010178</td>\n",
       "      <td>0.131927</td>\n",
       "      <td>0.118555</td>\n",
       "    </tr>\n",
       "    <tr>\n",
       "      <th>Resolvido por terceiros</th>\n",
       "      <td>0.046004</td>\n",
       "      <td>0.001175</td>\n",
       "      <td>0.035697</td>\n",
       "      <td>0.000568</td>\n",
       "      <td>0.226041</td>\n",
       "      <td>0.017886</td>\n",
       "      <td>0.218121</td>\n",
       "      <td>0.002653</td>\n",
       "      <td>0.347380</td>\n",
       "      <td>0.104475</td>\n",
       "    </tr>\n",
       "    <tr>\n",
       "      <th>Como me cadastrar/como comprar?</th>\n",
       "      <td>0.003930</td>\n",
       "      <td>0.045563</td>\n",
       "      <td>0.005830</td>\n",
       "      <td>0.000389</td>\n",
       "      <td>0.618009</td>\n",
       "      <td>0.073893</td>\n",
       "      <td>0.009069</td>\n",
       "      <td>0.186223</td>\n",
       "      <td>0.010408</td>\n",
       "      <td>0.046685</td>\n",
       "    </tr>\n",
       "    <tr>\n",
       "      <th>Não recebi meu reembolso/estorno/vale</th>\n",
       "      <td>0.198408</td>\n",
       "      <td>0.000439</td>\n",
       "      <td>0.021237</td>\n",
       "      <td>0.000098</td>\n",
       "      <td>0.140653</td>\n",
       "      <td>0.002685</td>\n",
       "      <td>0.097349</td>\n",
       "      <td>0.000439</td>\n",
       "      <td>0.033784</td>\n",
       "      <td>0.504907</td>\n",
       "    </tr>\n",
       "    <tr>\n",
       "      <th>Não consigo alterar meu cadastro</th>\n",
       "      <td>0.005915</td>\n",
       "      <td>0.639854</td>\n",
       "      <td>0.006062</td>\n",
       "      <td>0.000148</td>\n",
       "      <td>0.310710</td>\n",
       "      <td>0.004732</td>\n",
       "      <td>0.010400</td>\n",
       "      <td>0.000739</td>\n",
       "      <td>0.013505</td>\n",
       "      <td>0.007935</td>\n",
       "    </tr>\n",
       "    <tr>\n",
       "      <th>Como recupero meu login e senha de acesso</th>\n",
       "      <td>0.005989</td>\n",
       "      <td>0.711681</td>\n",
       "      <td>0.005512</td>\n",
       "      <td>0.000053</td>\n",
       "      <td>0.247986</td>\n",
       "      <td>0.002491</td>\n",
       "      <td>0.004558</td>\n",
       "      <td>0.000212</td>\n",
       "      <td>0.012826</td>\n",
       "      <td>0.008692</td>\n",
       "    </tr>\n",
       "    <tr>\n",
       "      <th>Meu pagamento foi aprovado?</th>\n",
       "      <td>0.004839</td>\n",
       "      <td>0.000675</td>\n",
       "      <td>0.088955</td>\n",
       "      <td>0.000563</td>\n",
       "      <td>0.264052</td>\n",
       "      <td>0.526023</td>\n",
       "      <td>0.035447</td>\n",
       "      <td>0.003320</td>\n",
       "      <td>0.043943</td>\n",
       "      <td>0.032184</td>\n",
       "    </tr>\n",
       "  </tbody>\n",
       "</table>\n",
       "</div>"
      ],
      "text/plain": [
       "problem                                             Andamento da minha troca  \\\n",
       "sac_customer_voice                                                             \n",
       "Ja realizei a compra e estou com dúvida sobre o...                  0.030225   \n",
       "Ainda não devolvi meu produto e quero saber sob...                  0.196648   \n",
       "Meu pedido ainda não chegou                                         0.007987   \n",
       "Estou arrependido, quero cancelar/trocar o produto                  0.028996   \n",
       "Meu problema não foi resolvido                                      0.068039   \n",
       "Já devolvi meu produto e quero saber o andament...                  0.450300   \n",
       "Como utilizar o cupom/vale                                          0.144955   \n",
       "Quero alterar/incluir meu endereço de entrega                       0.004364   \n",
       "Pedido consta como entregue, mas não recebi                         0.005688   \n",
       "Qual o prazo para devolução do valor que paguei?                    0.157564   \n",
       "Cliente solicitou a troca, mas não foi possível...                  0.086422   \n",
       "Já devolvi meu produto mas não fui atendido                         0.411627   \n",
       "Ainda não recebi meu produto e quero saber sobr...                  0.024570   \n",
       "Dados incorretos/Incompletos                                        0.083178   \n",
       "Resolvido por terceiros                                             0.046004   \n",
       "Como me cadastrar/como comprar?                                     0.003930   \n",
       "Não recebi meu reembolso/estorno/vale                               0.198408   \n",
       "Não consigo alterar meu cadastro                                    0.005915   \n",
       "Como recupero meu login e senha de acesso                           0.005989   \n",
       "Meu pagamento foi aprovado?                                         0.004839   \n",
       "\n",
       "problem                                             Cadastro  \\\n",
       "sac_customer_voice                                             \n",
       "Ja realizei a compra e estou com dúvida sobre o...  0.001173   \n",
       "Ainda não devolvi meu produto e quero saber sob...  0.000368   \n",
       "Meu pedido ainda não chegou                         0.000103   \n",
       "Estou arrependido, quero cancelar/trocar o produto  0.000170   \n",
       "Meu problema não foi resolvido                      0.000242   \n",
       "Já devolvi meu produto e quero saber o andament...  0.000252   \n",
       "Como utilizar o cupom/vale                          0.000606   \n",
       "Quero alterar/incluir meu endereço de entrega       0.003353   \n",
       "Pedido consta como entregue, mas não recebi         0.000021   \n",
       "Qual o prazo para devolução do valor que paguei?    0.000136   \n",
       "Cliente solicitou a troca, mas não foi possível...  0.000525   \n",
       "Já devolvi meu produto mas não fui atendido         0.000148   \n",
       "Ainda não recebi meu produto e quero saber sobr...  0.000276   \n",
       "Dados incorretos/Incompletos                        0.014425   \n",
       "Resolvido por terceiros                             0.001175   \n",
       "Como me cadastrar/como comprar?                     0.045563   \n",
       "Não recebi meu reembolso/estorno/vale               0.000439   \n",
       "Não consigo alterar meu cadastro                    0.639854   \n",
       "Como recupero meu login e senha de acesso           0.711681   \n",
       "Meu pagamento foi aprovado?                         0.000675   \n",
       "\n",
       "problem                                             Dúvida sobre o andamento do meu pedido  \\\n",
       "sac_customer_voice                                                                           \n",
       "Ja realizei a compra e estou com dúvida sobre o...                                0.230538   \n",
       "Ainda não devolvi meu produto e quero saber sob...                                0.002247   \n",
       "Meu pedido ainda não chegou                                                       0.214968   \n",
       "Estou arrependido, quero cancelar/trocar o produto                                0.006759   \n",
       "Meu problema não foi resolvido                                                    0.078663   \n",
       "Já devolvi meu produto e quero saber o andament...                                0.005583   \n",
       "Como utilizar o cupom/vale                                                        0.033034   \n",
       "Quero alterar/incluir meu endereço de entrega                                     0.020507   \n",
       "Pedido consta como entregue, mas não recebi                                       0.031390   \n",
       "Qual o prazo para devolução do valor que paguei?                                  0.010133   \n",
       "Cliente solicitou a troca, mas não foi possível...                                0.004878   \n",
       "Já devolvi meu produto mas não fui atendido                                       0.002192   \n",
       "Ainda não recebi meu produto e quero saber sobr...                                0.028745   \n",
       "Dados incorretos/Incompletos                                                      0.059348   \n",
       "Resolvido por terceiros                                                           0.035697   \n",
       "Como me cadastrar/como comprar?                                                   0.005830   \n",
       "Não recebi meu reembolso/estorno/vale                                             0.021237   \n",
       "Não consigo alterar meu cadastro                                                  0.006062   \n",
       "Como recupero meu login e senha de acesso                                         0.005512   \n",
       "Meu pagamento foi aprovado?                                                       0.088955   \n",
       "\n",
       "problem                                             Nota Fiscal    Outros  \\\n",
       "sac_customer_voice                                                          \n",
       "Ja realizei a compra e estou com dúvida sobre o...     0.000937  0.198870   \n",
       "Ainda não devolvi meu produto e quero saber sob...     0.002565  0.227873   \n",
       "Meu pedido ainda não chegou                            0.000124  0.097190   \n",
       "Estou arrependido, quero cancelar/trocar o produto     0.000227  0.179328   \n",
       "Meu problema não foi resolvido                         0.000877  0.126028   \n",
       "Já devolvi meu produto e quero saber o andament...     0.000189  0.112060   \n",
       "Como utilizar o cupom/vale                             0.000082  0.178955   \n",
       "Quero alterar/incluir meu endereço de entrega          0.000018  0.526928   \n",
       "Pedido consta como entregue, mas não recebi            0.000043  0.095965   \n",
       "Qual o prazo para devolução do valor que paguei?       0.000114  0.156496   \n",
       "Cliente solicitou a troca, mas não foi possível...     0.000236  0.202140   \n",
       "Já devolvi meu produto mas não fui atendido            0.000030  0.067494   \n",
       "Ainda não recebi meu produto e quero saber sobr...     0.000173  0.294110   \n",
       "Dados incorretos/Incompletos                           0.002738  0.332924   \n",
       "Resolvido por terceiros                                0.000568  0.226041   \n",
       "Como me cadastrar/como comprar?                        0.000389  0.618009   \n",
       "Não recebi meu reembolso/estorno/vale                  0.000098  0.140653   \n",
       "Não consigo alterar meu cadastro                       0.000148  0.310710   \n",
       "Como recupero meu login e senha de acesso              0.000053  0.247986   \n",
       "Meu pagamento foi aprovado?                            0.000563  0.264052   \n",
       "\n",
       "problem                                             Pagamento  \\\n",
       "sac_customer_voice                                              \n",
       "Ja realizei a compra e estou com dúvida sobre o...   0.042072   \n",
       "Ainda não devolvi meu produto e quero saber sob...   0.001154   \n",
       "Meu pedido ainda não chegou                          0.001473   \n",
       "Estou arrependido, quero cancelar/trocar o produto   0.024636   \n",
       "Meu problema não foi resolvido                       0.004791   \n",
       "Já devolvi meu produto e quero saber o andament...   0.001132   \n",
       "Como utilizar o cupom/vale                           0.006859   \n",
       "Quero alterar/incluir meu endereço de entrega        0.001259   \n",
       "Pedido consta como entregue, mas não recebi          0.000342   \n",
       "Qual o prazo para devolução do valor que paguei?     0.011292   \n",
       "Cliente solicitou a troca, mas não foi possível...   0.002439   \n",
       "Já devolvi meu produto mas não fui atendido          0.000474   \n",
       "Ainda não recebi meu produto e quero saber sobr...   0.037234   \n",
       "Dados incorretos/Incompletos                         0.043835   \n",
       "Resolvido por terceiros                              0.017886   \n",
       "Como me cadastrar/como comprar?                      0.073893   \n",
       "Não recebi meu reembolso/estorno/vale                0.002685   \n",
       "Não consigo alterar meu cadastro                     0.004732   \n",
       "Como recupero meu login e senha de acesso            0.002491   \n",
       "Meu pagamento foi aprovado?                          0.526023   \n",
       "\n",
       "problem                                             Problemas com a entrega  \\\n",
       "sac_customer_voice                                                            \n",
       "Ja realizei a compra e estou com dúvida sobre o...                 0.428670   \n",
       "Ainda não devolvi meu produto e quero saber sob...                 0.023874   \n",
       "Meu pedido ainda não chegou                                        0.630924   \n",
       "Estou arrependido, quero cancelar/trocar o produto                 0.035528   \n",
       "Meu problema não foi resolvido                                     0.544780   \n",
       "Já devolvi meu produto e quero saber o andament...                 0.013620   \n",
       "Como utilizar o cupom/vale                                         0.150619   \n",
       "Quero alterar/incluir meu endereço de entrega                      0.420138   \n",
       "Pedido consta como entregue, mas não recebi                        0.852952   \n",
       "Qual o prazo para devolução do valor que paguei?                   0.045554   \n",
       "Cliente solicitou a troca, mas não foi possível...                 0.041519   \n",
       "Já devolvi meu produto mas não fui atendido                        0.011491   \n",
       "Ainda não recebi meu produto e quero saber sobr...                 0.130819   \n",
       "Dados incorretos/Incompletos                                       0.202892   \n",
       "Resolvido por terceiros                                            0.218121   \n",
       "Como me cadastrar/como comprar?                                    0.009069   \n",
       "Não recebi meu reembolso/estorno/vale                              0.097349   \n",
       "Não consigo alterar meu cadastro                                   0.010400   \n",
       "Como recupero meu login e senha de acesso                          0.004558   \n",
       "Meu pagamento foi aprovado?                                        0.035447   \n",
       "\n",
       "problem                                             Promoções  \\\n",
       "sac_customer_voice                                              \n",
       "Ja realizei a compra e estou com dúvida sobre o...   0.001705   \n",
       "Ainda não devolvi meu produto e quero saber sob...   0.000519   \n",
       "Meu pedido ainda não chegou                          0.000113   \n",
       "Estou arrependido, quero cancelar/trocar o produto   0.002073   \n",
       "Meu problema não foi resolvido                       0.000287   \n",
       "Já devolvi meu produto e quero saber o andament...   0.000142   \n",
       "Como utilizar o cupom/vale                           0.030088   \n",
       "Quero alterar/incluir meu endereço de entrega        0.000142   \n",
       "Pedido consta como entregue, mas não recebi          0.000086   \n",
       "Qual o prazo para devolução do valor que paguei?     0.000409   \n",
       "Cliente solicitou a troca, mas não foi possível...   0.000761   \n",
       "Já devolvi meu produto mas não fui atendido          0.000030   \n",
       "Ainda não recebi meu produto e quero saber sobr...   0.004969   \n",
       "Dados incorretos/Incompletos                         0.010178   \n",
       "Resolvido por terceiros                              0.002653   \n",
       "Como me cadastrar/como comprar?                      0.186223   \n",
       "Não recebi meu reembolso/estorno/vale                0.000439   \n",
       "Não consigo alterar meu cadastro                     0.000739   \n",
       "Como recupero meu login e senha de acesso            0.000212   \n",
       "Meu pagamento foi aprovado?                          0.003320   \n",
       "\n",
       "problem                                             Trocar, cancelar ou devolver  \\\n",
       "sac_customer_voice                                                                 \n",
       "Ja realizei a compra e estou com dúvida sobre o...                      0.037674   \n",
       "Ainda não devolvi meu produto e quero saber sob...                      0.513043   \n",
       "Meu pedido ainda não chegou                                             0.022364   \n",
       "Estou arrependido, quero cancelar/trocar o produto                      0.693599   \n",
       "Meu problema não foi resolvido                                          0.046004   \n",
       "Já devolvi meu produto e quero saber o andament...                      0.065710   \n",
       "Como utilizar o cupom/vale                                              0.031381   \n",
       "Quero alterar/incluir meu endereço de entrega                           0.021873   \n",
       "Pedido consta como entregue, mas não recebi                             0.006607   \n",
       "Qual o prazo para devolução do valor que paguei?                        0.082565   \n",
       "Cliente solicitou a troca, mas não foi possível...                      0.610538   \n",
       "Já devolvi meu produto mas não fui atendido                             0.025884   \n",
       "Ainda não recebi meu produto e quero saber sobr...                      0.385693   \n",
       "Dados incorretos/Incompletos                                            0.131927   \n",
       "Resolvido por terceiros                                                 0.347380   \n",
       "Como me cadastrar/como comprar?                                         0.010408   \n",
       "Não recebi meu reembolso/estorno/vale                                   0.033784   \n",
       "Não consigo alterar meu cadastro                                        0.013505   \n",
       "Como recupero meu login e senha de acesso                               0.012826   \n",
       "Meu pagamento foi aprovado?                                             0.043943   \n",
       "\n",
       "problem                                             Vales e Reembolso  \n",
       "sac_customer_voice                                                     \n",
       "Ja realizei a compra e estou com dúvida sobre o...           0.028135  \n",
       "Ainda não devolvi meu produto e quero saber sob...           0.031709  \n",
       "Meu pedido ainda não chegou                                  0.024753  \n",
       "Estou arrependido, quero cancelar/trocar o produto           0.028683  \n",
       "Meu problema não foi resolvido                               0.130290  \n",
       "Já devolvi meu produto e quero saber o andament...           0.351011  \n",
       "Como utilizar o cupom/vale                                   0.423422  \n",
       "Quero alterar/incluir meu endereço de entrega                0.001419  \n",
       "Pedido consta como entregue, mas não recebi                  0.006907  \n",
       "Qual o prazo para devolução do valor que paguei?             0.535739  \n",
       "Cliente solicitou a troca, mas não foi possível...           0.050542  \n",
       "Já devolvi meu produto mas não fui atendido                  0.480631  \n",
       "Ainda não recebi meu produto e quero saber sobr...           0.093412  \n",
       "Dados incorretos/Incompletos                                 0.118555  \n",
       "Resolvido por terceiros                                      0.104475  \n",
       "Como me cadastrar/como comprar?                              0.046685  \n",
       "Não recebi meu reembolso/estorno/vale                        0.504907  \n",
       "Não consigo alterar meu cadastro                             0.007935  \n",
       "Como recupero meu login e senha de acesso                    0.008692  \n",
       "Meu pagamento foi aprovado?                                  0.032184  "
      ]
     },
     "execution_count": 19,
     "metadata": {},
     "output_type": "execute_result"
    }
   ],
   "source": [
    "pv2 = df.pivot_table(values='sac_subject', index='sac_customer_voice', columns='problem', aggfunc='count', margins=True).sort_values(by='All', ascending=False).iloc[1:, :-1]\n",
    "# pv2\n",
    "pv2.div(pv2.sum(axis=1),axis=0)[:20]"
   ]
  },
  {
   "cell_type": "code",
   "execution_count": 20,
   "metadata": {
    "colab": {
     "base_uri": "https://localhost:8080/",
     "height": 990
    },
    "hidden": true,
    "id": "0j0AbCb9pXgH",
    "outputId": "b8d02d1b-652f-472e-85a4-ef7a2a5c6061"
   },
   "outputs": [
    {
     "data": {
      "text/html": [
       "<div>\n",
       "<style scoped>\n",
       "    .dataframe tbody tr th:only-of-type {\n",
       "        vertical-align: middle;\n",
       "    }\n",
       "\n",
       "    .dataframe tbody tr th {\n",
       "        vertical-align: top;\n",
       "    }\n",
       "\n",
       "    .dataframe thead th {\n",
       "        text-align: right;\n",
       "    }\n",
       "</style>\n",
       "<table border=\"1\" class=\"dataframe\">\n",
       "  <thead>\n",
       "    <tr style=\"text-align: right;\">\n",
       "      <th></th>\n",
       "      <th>problem</th>\n",
       "      <th>sac_customer_voice</th>\n",
       "      <th>sac_subject</th>\n",
       "    </tr>\n",
       "  </thead>\n",
       "  <tbody>\n",
       "    <tr>\n",
       "      <th>1</th>\n",
       "      <td>Andamento da minha troca</td>\n",
       "      <td>Ainda não devolvi meu produto e quero saber so...</td>\n",
       "      <td>39027</td>\n",
       "    </tr>\n",
       "    <tr>\n",
       "      <th>34</th>\n",
       "      <td>Andamento da minha troca</td>\n",
       "      <td>Já devolvi meu produto e quero saber o andamen...</td>\n",
       "      <td>28631</td>\n",
       "    </tr>\n",
       "    <tr>\n",
       "      <th>35</th>\n",
       "      <td>Andamento da minha troca</td>\n",
       "      <td>Já devolvi meu produto mas não fui atendido</td>\n",
       "      <td>13899</td>\n",
       "    </tr>\n",
       "    <tr>\n",
       "      <th>116</th>\n",
       "      <td>Cadastro</td>\n",
       "      <td>Como recupero meu login e senha de acesso</td>\n",
       "      <td>13428</td>\n",
       "    </tr>\n",
       "    <tr>\n",
       "      <th>140</th>\n",
       "      <td>Cadastro</td>\n",
       "      <td>Não consigo alterar meu cadastro</td>\n",
       "      <td>12982</td>\n",
       "    </tr>\n",
       "    <tr>\n",
       "      <th>115</th>\n",
       "      <td>Cadastro</td>\n",
       "      <td>Como me cadastrar/como comprar?</td>\n",
       "      <td>1055</td>\n",
       "    </tr>\n",
       "    <tr>\n",
       "      <th>219</th>\n",
       "      <td>Dúvida sobre o andamento do meu pedido</td>\n",
       "      <td>Ja realizei a compra e estou com dúvida sobre ...</td>\n",
       "      <td>77465</td>\n",
       "    </tr>\n",
       "    <tr>\n",
       "      <th>228</th>\n",
       "      <td>Dúvida sobre o andamento do meu pedido</td>\n",
       "      <td>Meu pedido ainda não chegou</td>\n",
       "      <td>41746</td>\n",
       "    </tr>\n",
       "    <tr>\n",
       "      <th>230</th>\n",
       "      <td>Dúvida sobre o andamento do meu pedido</td>\n",
       "      <td>Meu problema não foi resolvido</td>\n",
       "      <td>5205</td>\n",
       "    </tr>\n",
       "    <tr>\n",
       "      <th>337</th>\n",
       "      <td>Nota Fiscal</td>\n",
       "      <td>Quero receber minha nota fiscal</td>\n",
       "      <td>3351</td>\n",
       "    </tr>\n",
       "    <tr>\n",
       "      <th>298</th>\n",
       "      <td>Nota Fiscal</td>\n",
       "      <td>Ainda não devolvi meu produto e quero saber so...</td>\n",
       "      <td>509</td>\n",
       "    </tr>\n",
       "    <tr>\n",
       "      <th>322</th>\n",
       "      <td>Nota Fiscal</td>\n",
       "      <td>Não consigo verificar a Nota Fiscal/Rastreamento</td>\n",
       "      <td>484</td>\n",
       "    </tr>\n",
       "    <tr>\n",
       "      <th>392</th>\n",
       "      <td>Outros</td>\n",
       "      <td>Ja realizei a compra e estou com dúvida sobre ...</td>\n",
       "      <td>66824</td>\n",
       "    </tr>\n",
       "    <tr>\n",
       "      <th>350</th>\n",
       "      <td>Outros</td>\n",
       "      <td>Ainda não devolvi meu produto e quero saber so...</td>\n",
       "      <td>45224</td>\n",
       "    </tr>\n",
       "    <tr>\n",
       "      <th>456</th>\n",
       "      <td>Outros</td>\n",
       "      <td>Quero alterar/incluir meu endereço de entrega</td>\n",
       "      <td>29704</td>\n",
       "    </tr>\n",
       "    <tr>\n",
       "      <th>557</th>\n",
       "      <td>Pagamento</td>\n",
       "      <td>Ja realizei a compra e estou com dúvida sobre ...</td>\n",
       "      <td>14137</td>\n",
       "    </tr>\n",
       "    <tr>\n",
       "      <th>563</th>\n",
       "      <td>Pagamento</td>\n",
       "      <td>Meu pagamento foi aprovado?</td>\n",
       "      <td>9349</td>\n",
       "    </tr>\n",
       "    <tr>\n",
       "      <th>596</th>\n",
       "      <td>Pagamento</td>\n",
       "      <td>Paguei, mas meu pedido não andou</td>\n",
       "      <td>2967</td>\n",
       "    </tr>\n",
       "    <tr>\n",
       "      <th>684</th>\n",
       "      <td>Problemas com a entrega</td>\n",
       "      <td>Ja realizei a compra e estou com dúvida sobre ...</td>\n",
       "      <td>144041</td>\n",
       "    </tr>\n",
       "    <tr>\n",
       "      <th>694</th>\n",
       "      <td>Problemas com a entrega</td>\n",
       "      <td>Meu pedido ainda não chegou</td>\n",
       "      <td>122523</td>\n",
       "    </tr>\n",
       "    <tr>\n",
       "      <th>724</th>\n",
       "      <td>Problemas com a entrega</td>\n",
       "      <td>Pedido consta como entregue, mas não recebi</td>\n",
       "      <td>39890</td>\n",
       "    </tr>\n",
       "    <tr>\n",
       "      <th>783</th>\n",
       "      <td>Promoções</td>\n",
       "      <td>Como me cadastrar/como comprar?</td>\n",
       "      <td>4312</td>\n",
       "    </tr>\n",
       "    <tr>\n",
       "      <th>785</th>\n",
       "      <td>Promoções</td>\n",
       "      <td>Como utilizar o cupom/vale</td>\n",
       "      <td>1838</td>\n",
       "    </tr>\n",
       "    <tr>\n",
       "      <th>846</th>\n",
       "      <td>Promoções</td>\n",
       "      <td>Quero informações sobre promoções</td>\n",
       "      <td>1671</td>\n",
       "    </tr>\n",
       "    <tr>\n",
       "      <th>875</th>\n",
       "      <td>Trocar, cancelar ou devolver</td>\n",
       "      <td>Ainda não devolvi meu produto e quero saber so...</td>\n",
       "      <td>101819</td>\n",
       "    </tr>\n",
       "    <tr>\n",
       "      <th>903</th>\n",
       "      <td>Trocar, cancelar ou devolver</td>\n",
       "      <td>Estou arrependido, quero cancelar/trocar o pro...</td>\n",
       "      <td>48846</td>\n",
       "    </tr>\n",
       "    <tr>\n",
       "      <th>883</th>\n",
       "      <td>Trocar, cancelar ou devolver</td>\n",
       "      <td>Cliente solicitou a troca, mas não foi possíve...</td>\n",
       "      <td>23278</td>\n",
       "    </tr>\n",
       "    <tr>\n",
       "      <th>1019</th>\n",
       "      <td>Vales e Reembolso</td>\n",
       "      <td>Como utilizar o cupom/vale</td>\n",
       "      <td>25866</td>\n",
       "    </tr>\n",
       "    <tr>\n",
       "      <th>1088</th>\n",
       "      <td>Vales e Reembolso</td>\n",
       "      <td>Qual o prazo para devolução do valor que paguei?</td>\n",
       "      <td>23580</td>\n",
       "    </tr>\n",
       "    <tr>\n",
       "      <th>1039</th>\n",
       "      <td>Vales e Reembolso</td>\n",
       "      <td>Já devolvi meu produto e quero saber o andamen...</td>\n",
       "      <td>22318</td>\n",
       "    </tr>\n",
       "  </tbody>\n",
       "</table>\n",
       "</div>"
      ],
      "text/plain": [
       "                                     problem  \\\n",
       "1                   Andamento da minha troca   \n",
       "34                  Andamento da minha troca   \n",
       "35                  Andamento da minha troca   \n",
       "116                                 Cadastro   \n",
       "140                                 Cadastro   \n",
       "115                                 Cadastro   \n",
       "219   Dúvida sobre o andamento do meu pedido   \n",
       "228   Dúvida sobre o andamento do meu pedido   \n",
       "230   Dúvida sobre o andamento do meu pedido   \n",
       "337                              Nota Fiscal   \n",
       "298                              Nota Fiscal   \n",
       "322                              Nota Fiscal   \n",
       "392                                   Outros   \n",
       "350                                   Outros   \n",
       "456                                   Outros   \n",
       "557                                Pagamento   \n",
       "563                                Pagamento   \n",
       "596                                Pagamento   \n",
       "684                  Problemas com a entrega   \n",
       "694                  Problemas com a entrega   \n",
       "724                  Problemas com a entrega   \n",
       "783                                Promoções   \n",
       "785                                Promoções   \n",
       "846                                Promoções   \n",
       "875             Trocar, cancelar ou devolver   \n",
       "903             Trocar, cancelar ou devolver   \n",
       "883             Trocar, cancelar ou devolver   \n",
       "1019                       Vales e Reembolso   \n",
       "1088                       Vales e Reembolso   \n",
       "1039                       Vales e Reembolso   \n",
       "\n",
       "                                     sac_customer_voice  sac_subject  \n",
       "1     Ainda não devolvi meu produto e quero saber so...        39027  \n",
       "34    Já devolvi meu produto e quero saber o andamen...        28631  \n",
       "35          Já devolvi meu produto mas não fui atendido        13899  \n",
       "116           Como recupero meu login e senha de acesso        13428  \n",
       "140                    Não consigo alterar meu cadastro        12982  \n",
       "115                     Como me cadastrar/como comprar?         1055  \n",
       "219   Ja realizei a compra e estou com dúvida sobre ...        77465  \n",
       "228                         Meu pedido ainda não chegou        41746  \n",
       "230                      Meu problema não foi resolvido         5205  \n",
       "337                     Quero receber minha nota fiscal         3351  \n",
       "298   Ainda não devolvi meu produto e quero saber so...          509  \n",
       "322    Não consigo verificar a Nota Fiscal/Rastreamento          484  \n",
       "392   Ja realizei a compra e estou com dúvida sobre ...        66824  \n",
       "350   Ainda não devolvi meu produto e quero saber so...        45224  \n",
       "456       Quero alterar/incluir meu endereço de entrega        29704  \n",
       "557   Ja realizei a compra e estou com dúvida sobre ...        14137  \n",
       "563                         Meu pagamento foi aprovado?         9349  \n",
       "596                    Paguei, mas meu pedido não andou         2967  \n",
       "684   Ja realizei a compra e estou com dúvida sobre ...       144041  \n",
       "694                         Meu pedido ainda não chegou       122523  \n",
       "724         Pedido consta como entregue, mas não recebi        39890  \n",
       "783                     Como me cadastrar/como comprar?         4312  \n",
       "785                          Como utilizar o cupom/vale         1838  \n",
       "846                   Quero informações sobre promoções         1671  \n",
       "875   Ainda não devolvi meu produto e quero saber so...       101819  \n",
       "903   Estou arrependido, quero cancelar/trocar o pro...        48846  \n",
       "883   Cliente solicitou a troca, mas não foi possíve...        23278  \n",
       "1019                         Como utilizar o cupom/vale        25866  \n",
       "1088   Qual o prazo para devolução do valor que paguei?        23580  \n",
       "1039  Já devolvi meu produto e quero saber o andamen...        22318  "
      ]
     },
     "execution_count": 20,
     "metadata": {},
     "output_type": "execute_result"
    }
   ],
   "source": [
    "df.pivot_table(values='sac_subject', index=['problem', 'sac_customer_voice'], aggfunc='count').reset_index()\\\n",
    ".sort_values('sac_subject', ascending = False).groupby('problem').head(3).sort_values(by=['problem', 'sac_subject'], ascending=[True, False])"
   ]
  },
  {
   "cell_type": "markdown",
   "metadata": {
    "heading_collapsed": true,
    "hidden": true,
    "id": "EXSsFuqOXCEc"
   },
   "source": [
    "### Detail"
   ]
  },
  {
   "cell_type": "code",
   "execution_count": 21,
   "metadata": {
    "colab": {
     "base_uri": "https://localhost:8080/"
    },
    "hidden": true,
    "id": "mOS3WwU8XG0x",
    "outputId": "1a82f897-dfea-4f55-9a17-20e5a2c6f92b"
   },
   "outputs": [
    {
     "name": "stdout",
     "output_type": "stream",
     "text": [
      "32.2% dos emails criados tem o Detalhe definido\n"
     ]
    }
   ],
   "source": [
    "print('{:.1%} dos emails criados tem o Detalhe definido'.format(df.count()['detail']/df.shape[0]))"
   ]
  },
  {
   "cell_type": "markdown",
   "metadata": {
    "heading_collapsed": true,
    "hidden": true,
    "id": "SlgTNq-c1xTF"
   },
   "source": [
    "### Created Date"
   ]
  },
  {
   "cell_type": "code",
   "execution_count": 22,
   "metadata": {
    "hidden": true
   },
   "outputs": [
    {
     "data": {
      "text/plain": [
       "<AxesSubplot:xlabel='created_date'>"
      ]
     },
     "execution_count": 22,
     "metadata": {},
     "output_type": "execute_result"
    },
    {
     "data": {
      "image/png": "[encoded data removed]",
      "text/plain": [
       "<Figure size 432x288 with 1 Axes>"
      ]
     },
     "metadata": {
      "needs_background": "light"
     },
     "output_type": "display_data"
    }
   ],
   "source": [
    "df.groupby(['created_date']).count()['message'].plot()"
   ]
  },
  {
   "cell_type": "markdown",
   "metadata": {
    "id": "RCy7zzbH8d8n"
   },
   "source": [
    "## Model"
   ]
  },
  {
   "cell_type": "markdown",
   "metadata": {
    "heading_collapsed": true,
    "id": "kM1pvqCp6FP4"
   },
   "source": [
    "### Imports"
   ]
  },
  {
   "cell_type": "code",
   "execution_count": 23,
   "metadata": {
    "hidden": true,
    "id": "MSA0J_wK1xTG"
   },
   "outputs": [],
   "source": [
    "# !pip install unidecode\n",
    "# # !pip install imblearn\n",
    "# # !pip install scikit-learn\n",
    "# !pip install catboost\n",
    "# # !pip install spacy\n",
    "# # nltk.download('rslp')\n",
    "\n",
    "# !pip install spacy -U\n",
    "# !python -m spacy download pt_core_news_md"
   ]
  },
  {
   "cell_type": "code",
   "execution_count": 26,
   "metadata": {
    "colab": {
     "base_uri": "https://localhost:8080/"
    },
    "hidden": true,
    "id": "EWHzyZnMUHwY",
    "outputId": "769b1854-466b-410b-de8d-84d1097b3494"
   },
   "outputs": [
    {
     "name": "stderr",
     "output_type": "stream",
     "text": [
      "2022-04-06 12:51:37.547299: W tensorflow/stream_executor/platform/default/dso_loader.cc:64] Could not load dynamic library 'libcudart.so.11.0'; dlerror: libcudart.so.11.0: cannot open shared object file: No such file or directory\n",
      "2022-04-06 12:51:37.547411: I tensorflow/stream_executor/cuda/cudart_stub.cc:29] Ignore above cudart dlerror if you do not have a GPU set up on your machine.\n"
     ]
    }
   ],
   "source": [
    "import re\n",
    "import nltk\n",
    "# nltk.download('stopwords')\n",
    "from nltk.corpus import stopwords\n",
    "from unidecode import unidecode\n",
    "import pickle\n",
    "import spacy\n",
    "\n",
    "from collections import Counter\n",
    "from sklearn.preprocessing import LabelEncoder\n",
    "from sklearn.feature_extraction.text import TfidfVectorizer\n",
    "from sklearn.model_selection import train_test_split\n",
    "from sklearn.metrics import confusion_matrix, classification_report, f1_score\n",
    "from sklearn.ensemble import RandomForestClassifier\n",
    "from catboost import CatBoostClassifier, Pool"
   ]
  },
  {
   "cell_type": "markdown",
   "metadata": {
    "heading_collapsed": true,
    "id": "hGMA2jjf4r7I"
   },
   "source": [
    "### Definindo as Classes"
   ]
  },
  {
   "cell_type": "code",
   "execution_count": 27,
   "metadata": {
    "hidden": true,
    "id": "EW3frHuu4y5e"
   },
   "outputs": [],
   "source": [
    "# vozes que queremos responder\n",
    "cv_list = [\n",
    "  'Ainda não devolvi meu produto e quero saber sobre processo de troca / devolução',\n",
    "  'Estou arrependido, quero cancelar/trocar o produto',\n",
    "  'Como utilizar o cupom/vale',\n",
    "  'Qual o prazo para devolução do valor que paguei?',\n",
    "  # 'Como me cadastrar/como comprar?',\n",
    "  'Como recupero meu login e senha de acesso'\n",
    "]"
   ]
  },
  {
   "cell_type": "code",
   "execution_count": 28,
   "metadata": {
    "hidden": true,
    "id": "yTIYxxjt9TwN"
   },
   "outputs": [],
   "source": [
    "df['cv'] = df.apply(lambda x: x['sac_customer_voice'] if x['sac_customer_voice'] in (cv_list) else 'Outro', axis=1)"
   ]
  },
  {
   "cell_type": "code",
   "execution_count": 29,
   "metadata": {
    "colab": {
     "base_uri": "https://localhost:8080/"
    },
    "hidden": true,
    "id": "dTlW1M0CllL2",
    "outputId": "3f997738-4a07-41b5-99e8-b2c67704bd39"
   },
   "outputs": [
    {
     "data": {
      "text/plain": [
       "Outro                                                                              0.752807\n",
       "Ainda não devolvi meu produto e quero saber sobre processo de troca / devolução    0.124997\n",
       "Estou arrependido, quero cancelar/trocar o produto                                 0.044256\n",
       "Como utilizar o cupom/vale                                                         0.038464\n",
       "Qual o prazo para devolução do valor que paguei?                                   0.027655\n",
       "Como recupero meu login e senha de acesso                                          0.011820\n",
       "Name: cv, dtype: float64"
      ]
     },
     "execution_count": 29,
     "metadata": {},
     "output_type": "execute_result"
    }
   ],
   "source": [
    "df['cv'].value_counts(normalize=True)"
   ]
  },
  {
   "cell_type": "code",
   "execution_count": 30,
   "metadata": {
    "hidden": true,
    "id": "WAv5nOobzgFa"
   },
   "outputs": [],
   "source": [
    "# problemas que estao bem relacionados as vozes que queremos classificar \n",
    "filter_problems = [\n",
    "  'Andamento da minha troca',\n",
    "  # 'Outros',\n",
    "  'Cadastro',\n",
    "  'Promoções',\n",
    "  'Trocar, cancelar ou devolver',\n",
    "  'Vales e Reembolso'\n",
    "]"
   ]
  },
  {
   "cell_type": "code",
   "execution_count": 31,
   "metadata": {
    "colab": {
     "base_uri": "https://localhost:8080/"
    },
    "hidden": true,
    "id": "t35aBNGYRZRT",
    "outputId": "5bb1b964-6a2e-48b7-9d9b-23780b00b800"
   },
   "outputs": [
    {
     "data": {
      "text/plain": [
       "Outro                                                                              0.527075\n",
       "Ainda não devolvi meu produto e quero saber sobre processo de troca / devolução    0.242734\n",
       "Estou arrependido, quero cancelar/trocar o produto                                 0.087438\n",
       "Como utilizar o cupom/vale                                                         0.063459\n",
       "Qual o prazo para devolução do valor que paguei?                                   0.056307\n",
       "Como recupero meu login e senha de acesso                                          0.022987\n",
       "Name: cv, dtype: float64"
      ]
     },
     "execution_count": 31,
     "metadata": {},
     "output_type": "execute_result"
    }
   ],
   "source": [
    "df[df['problem'].isin(filter_problems)].cv.value_counts(normalize=True)"
   ]
  },
  {
   "cell_type": "code",
   "execution_count": 32,
   "metadata": {
    "colab": {
     "base_uri": "https://localhost:8080/"
    },
    "hidden": true,
    "id": "v6orToHXSBaq",
    "outputId": "2caf8aab-86a1-40e3-c2e6-d3fc6e8b5252"
   },
   "outputs": [
    {
     "data": {
      "text/plain": [
       "Outro                                                                              0.265327\n",
       "Ainda não devolvi meu produto e quero saber sobre processo de troca / devolução    0.735905\n",
       "Estou arrependido, quero cancelar/trocar o produto                                 0.748727\n",
       "Como utilizar o cupom/vale                                                         0.625211\n",
       "Qual o prazo para devolução do valor que paguei?                                   0.771574\n",
       "Como recupero meu login e senha de acesso                                          0.736978\n",
       "Name: cv, dtype: float64"
      ]
     },
     "execution_count": 32,
     "metadata": {},
     "output_type": "execute_result"
    }
   ],
   "source": [
    "# Porcentagem de mensagem restantes em cada classe pós filtro\n",
    "df[df['problem'].isin(filter_problems)].cv.value_counts(normalize=False).div(df['cv'].value_counts(normalize=False))"
   ]
  },
  {
   "cell_type": "code",
   "execution_count": 33,
   "metadata": {
    "hidden": true,
    "id": "HAuVnAldxkKN"
   },
   "outputs": [],
   "source": [
    "df = df[df['problem'].isin(filter_problems)]"
   ]
  },
  {
   "cell_type": "code",
   "execution_count": 34,
   "metadata": {
    "hidden": true,
    "id": "3suJme-9YI5j"
   },
   "outputs": [],
   "source": [
    "# Encode da coluna de target\n",
    "\n",
    "map_cv= {\n",
    "    'Ainda não devolvi meu produto e quero saber sobre processo de troca / devolução': 0,\n",
    "    'Estou arrependido, quero cancelar/trocar o produto': 1,\n",
    "    'Como utilizar o cupom/vale': 2,\n",
    "    'Qual o prazo para devolução do valor que paguei?': 3,\n",
    "    'Como recupero meu login e senha de acesso': 4,\n",
    "    'Outro': 5\n",
    "}\n",
    "\n",
    "inv_map = {v: k for k, v in map_cv.items()}\n",
    "\n",
    "df['cv_encoded'] = df['cv'].map(map_cv)"
   ]
  },
  {
   "cell_type": "markdown",
   "metadata": {
    "heading_collapsed": true,
    "id": "vLBYS5c4qd8w"
   },
   "source": [
    "### Manipulação do Texto"
   ]
  },
  {
   "cell_type": "code",
   "execution_count": 35,
   "metadata": {
    "hidden": true,
    "id": "Njb1CM0O1xTI"
   },
   "outputs": [],
   "source": [
    "df_backup = df.copy()"
   ]
  },
  {
   "cell_type": "markdown",
   "metadata": {
    "hidden": true,
    "id": "H5KDmo0AOI0G"
   },
   "source": [
    "#### Lower Case"
   ]
  },
  {
   "cell_type": "code",
   "execution_count": 36,
   "metadata": {
    "hidden": true,
    "id": "DBQAqgGtqofS"
   },
   "outputs": [],
   "source": [
    "df = df_backup.copy()\n",
    "df['original_message'] = df.message\n",
    "# Lower case\n",
    "df.message = df.message.apply(str.lower)"
   ]
  },
  {
   "cell_type": "markdown",
   "metadata": {
    "hidden": true,
    "id": "KIWG5mYbOK-i"
   },
   "source": [
    "#### Stop Words"
   ]
  },
  {
   "cell_type": "code",
   "execution_count": 37,
   "metadata": {
    "hidden": true,
    "id": "DeByW7oNDD-Q"
   },
   "outputs": [],
   "source": [
    "def stopword_remover(text):\n",
    "  remove_from_stopword_list = ['não', 'mais', 'foi', 'será', 'quando', 'tive', 'mas', 'até'] # são stopwords, mas contribuem para o sentido do texto\n",
    "  add_to_stopword_list = ['pois']\n",
    "  stop_words = nltk.corpus.stopwords.words('portuguese')\n",
    "  stop_words.extend(add_to_stopword_list)\n",
    "  \n",
    "  for i in remove_from_stopword_list:\n",
    "      stop_words.remove(i)\n",
    "\n",
    "  words = [w for w in text.split() if not w in stop_words]\n",
    "  text = ' '.join(words)\n",
    "\n",
    "  return text"
   ]
  },
  {
   "cell_type": "code",
   "execution_count": 38,
   "metadata": {
    "hidden": true,
    "id": "lSHiFOisDpa6"
   },
   "outputs": [],
   "source": [
    "df.message = df.message.apply(stopword_remover)"
   ]
  },
  {
   "cell_type": "markdown",
   "metadata": {
    "hidden": true,
    "id": "pzWfdWqZOOGV"
   },
   "source": [
    "#### Duplicated spaces and special characters"
   ]
  },
  {
   "cell_type": "code",
   "execution_count": 39,
   "metadata": {
    "hidden": true,
    "id": "Rs1tDKBUFvmN"
   },
   "outputs": [],
   "source": [
    "df.message =  df.message.str.replace(r'\\n', ' ', regex=True)\n",
    "df.message =  df.message.str.replace(r'\\t', ' ', regex=True)\n",
    "df.message =  df.message.str.replace(r' +', ' ', regex=True)\n",
    "df.message =  df.message.str.replace('r$', '', regex=False)\n",
    "df.message =  df.message.str.replace(r'[^a-zÀ-ÿ ]+', '', regex=True) # only allow letters and whitespaces"
   ]
  },
  {
   "cell_type": "markdown",
   "metadata": {
    "hidden": true,
    "id": "GLqVBSxOOR8X"
   },
   "source": [
    "#### Termos inúteis"
   ]
  },
  {
   "cell_type": "code",
   "execution_count": 40,
   "metadata": {
    "hidden": true,
    "id": "_JjWDg1KFwlF"
   },
   "outputs": [],
   "source": [
    "def useless_terms_remover(text):\n",
    "  '''\n",
    "  Usar após stopword_remover\n",
    "  '''\n",
    "  useless_terms = ['bom dia', 'boa tarde', 'boa noite', 'tudo bem', 'olá', 'td bem']\n",
    "\n",
    "  for term in useless_terms:\n",
    "    text = re.sub(term, '', text)\n",
    "\n",
    "  return text"
   ]
  },
  {
   "cell_type": "code",
   "execution_count": 41,
   "metadata": {
    "hidden": true,
    "id": "F97DcdDNFy38"
   },
   "outputs": [],
   "source": [
    "df.message = df.message.apply(useless_terms_remover)"
   ]
  },
  {
   "cell_type": "markdown",
   "metadata": {
    "hidden": true,
    "id": "dSon854V1xTK"
   },
   "source": [
    "#### Substituições extras\n",
    "\n",
    "Para evitar clusters desnecessários"
   ]
  },
  {
   "cell_type": "code",
   "execution_count": 42,
   "metadata": {
    "hidden": true,
    "id": "YR3gk2at1xTK"
   },
   "outputs": [],
   "source": [
    "dictionary = {\n",
    "  ' n ': ' não ',\n",
    "  ' q ': ' que ', \n",
    "  'ngm': 'ninguém',\n",
    "  'mto': 'muito',\n",
    "  'vcs': 'vocês',\n",
    "  'certinho': 'certo',\n",
    "  ' pro ': ' para o ',\n",
    "  ' mail ': ' email ',\n",
    "  'emails': 'email',\n",
    "  'markt': 'market',\n",
    "  'nesse site': 'dafiti',\n",
    "  'nessa loja': 'dafiti',\n",
    "  'informar que': 'dizer que',\n",
    "  'https www reclameaqui br': 'reclame aqui',\n",
    "  'vcs': 'voces',\n",
    "  ' pra ': ' para ',\n",
    "  'mercadoria': 'pedido',\n",
    "  'mais deu': 'mas deu',\n",
    "  'saber do': 'saber sobre',\n",
    "  'empresa ': 'dafiti ',\n",
    "  ' ver comentarios': ' ler comentarios',\n",
    "  'produto': 'pedido',\n",
    "  ' compra ': ' pedido ',\n",
    "  'fazer compra': 'fazer pedido',\n",
    "  'mudar': 'trocar',\n",
    "  'receber': 'chegar',\n",
    "  'entregar': 'chegar',          \n",
    "  'até hoje': 'até agora',\n",
    "  'mandar': 'enviar',\n",
    "  'obg': 'obrigado',\n",
    "  'obrigada': 'obrigado'\n",
    "}"
   ]
  },
  {
   "cell_type": "code",
   "execution_count": 43,
   "metadata": {
    "hidden": true,
    "id": "fxJIJJDg1xTK"
   },
   "outputs": [],
   "source": [
    "def subs(text):\n",
    "  for key in dictionary.keys():\n",
    "    text = text.replace(key, dictionary[key])\n",
    "  return text"
   ]
  },
  {
   "cell_type": "code",
   "execution_count": 44,
   "metadata": {
    "hidden": true,
    "id": "DVuY0-tp1xTL"
   },
   "outputs": [],
   "source": [
    "df.message = df.message.apply(subs)"
   ]
  },
  {
   "cell_type": "markdown",
   "metadata": {
    "hidden": true,
    "id": "BBv1QI3rNjRr"
   },
   "source": [
    "#### Lematizacao"
   ]
  },
  {
   "cell_type": "code",
   "execution_count": 45,
   "metadata": {
    "hidden": true,
    "id": "8xFKGgYfOovl"
   },
   "outputs": [],
   "source": [
    "# df = df.reset_index(drop=True) # obrigatório para os índices se manterem corretos na criação da Series ao final\n",
    "\n",
    "# nlp = spacy.load('pt_core_news_md')\n",
    "# nlp.max_length = 5000000\n",
    "\n",
    "# docs = df.message.to_list()\n",
    "\n",
    "# lemmatized_docs = []\n",
    "# print('Starting Pipe')\n",
    "# for doc in nlp.pipe(docs, batch_size=8, n_process=8, disable=[\"parser\", \"ner\"]):\n",
    "#   sentece = []\n",
    "#   for word in doc:\n",
    "#     if ((word.pos_ == 'VERB') or (word.pos_ == 'ADJ')):\n",
    "#       sentece.append(word.lemma_) # lemma\n",
    "#     else:\n",
    "#       sentece.append(word.orth_) # original\n",
    "#   sent = ' '.join(sentece)    \n",
    "#   lemmatized_docs.append(sent)\n",
    "\n",
    "# df['message'] = pd.Series(lemmatized_docs) # back to series"
   ]
  },
  {
   "cell_type": "code",
   "execution_count": 46,
   "metadata": {
    "hidden": true,
    "id": "XuZGYe0Q1xTL"
   },
   "outputs": [],
   "source": [
    "# # Stemming\n",
    "# print('Stemming')\n",
    "# stemmer = nltk.stem.RSLPStemmer() \n",
    "# stemmed_docs = []\n",
    "# for sentence in lemmatized_docs:\n",
    "#   new_sentence = []\n",
    "#   for word in sentence.split():\n",
    "#     new_sentence.append(stemmer.stem(word))\n",
    "#   stemmed_docs.append(' '.join(new_sentence))\n",
    "\n",
    "# df['message_lemma'] = pd.Series(stemmed_docs) # back to series"
   ]
  },
  {
   "cell_type": "markdown",
   "metadata": {
    "hidden": true,
    "id": "26svF7WBeb4z"
   },
   "source": [
    "#### Unidecode"
   ]
  },
  {
   "cell_type": "code",
   "execution_count": 47,
   "metadata": {
    "hidden": true,
    "id": "yHsKHp9oedb9"
   },
   "outputs": [],
   "source": [
    "df.message = df.message.apply(unidecode)"
   ]
  },
  {
   "cell_type": "markdown",
   "metadata": {
    "heading_collapsed": true,
    "id": "Y3d5Qa-X1xTM"
   },
   "source": [
    "### Save/Load Dataframe"
   ]
  },
  {
   "cell_type": "code",
   "execution_count": null,
   "metadata": {
    "hidden": true,
    "id": "4l4vULtN1xTM"
   },
   "outputs": [],
   "source": [
    "pickle.dump(df, open(f'{path}/data/nltk_data.pkl', \"wb\"))"
   ]
  },
  {
   "cell_type": "code",
   "execution_count": null,
   "metadata": {
    "hidden": true,
    "id": "uf_j6Fcv1xTM"
   },
   "outputs": [],
   "source": [
    "#nltk_data - sem lemma\n",
    "#nltk_data_2 - com lemma\n",
    "# df = pickle.load(open(f'{path}/data/nltk_data_2.pkl', \"rb\"))"
   ]
  },
  {
   "cell_type": "markdown",
   "metadata": {
    "heading_collapsed": true,
    "id": "MzzuQr_vCAwW"
   },
   "source": [
    "### Modelagem"
   ]
  },
  {
   "cell_type": "code",
   "execution_count": null,
   "metadata": {
    "hidden": true,
    "id": "7q8Yv9rd1xTN"
   },
   "outputs": [],
   "source": [
    "# df = pd.read_parquet('data/poc_sac_nltk2.parquet')"
   ]
  },
  {
   "cell_type": "code",
   "execution_count": 48,
   "metadata": {
    "colab": {
     "base_uri": "https://localhost:8080/"
    },
    "hidden": true,
    "id": "1S6l4EvKVbjC",
    "outputId": "c197e8d2-8684-4b45-b9fd-61f67c8aa09a"
   },
   "outputs": [
    {
     "name": "stdout",
     "output_type": "stream",
     "text": [
      "606900 182070\n",
      "train size : 127448\n",
      "test size : 54622\n"
     ]
    }
   ],
   "source": [
    "df2 = df.copy()\n",
    "# df2 = df2[df2['problem'].isin(['Trocar, cancelar ou devolver', 'Vales e Reembolso'])]\n",
    "# df2 = df2[df2.created_date >= '2021-01-01']\n",
    "df2 = df2.sample(frac=0.3).reset_index()\n",
    "print(df.shape[0], df2.shape[0])\n",
    "\n",
    "X = df2['message']\n",
    "y = df2[['cv_encoded', 'sac_customer_voice']]\n",
    "X_train, X_test, y_train, y_test = train_test_split(X, y, train_size=0.7, random_state=42 , stratify=y.cv_encoded)\n",
    "\n",
    "print('train size :', len(X_train) )\n",
    "print('test size :', len(X_test) )"
   ]
  },
  {
   "cell_type": "code",
   "execution_count": 49,
   "metadata": {
    "colab": {
     "base_uri": "https://localhost:8080/"
    },
    "hidden": true,
    "id": "IPwM4YBPb8GB",
    "outputId": "212f90a1-9735-49cb-9470-347814005ae4"
   },
   "outputs": [
    {
     "data": {
      "text/plain": [
       "5    95997\n",
       "0    44126\n",
       "1    15940\n",
       "2    11571\n",
       "3    10294\n",
       "4     4142\n",
       "Name: cv_encoded, dtype: int64"
      ]
     },
     "execution_count": 49,
     "metadata": {},
     "output_type": "execute_result"
    }
   ],
   "source": [
    "df2.cv_encoded.value_counts()"
   ]
  },
  {
   "cell_type": "markdown",
   "metadata": {
    "hidden": true,
    "id": "6oaoT8PB7RsM"
   },
   "source": [
    "#### TF-IDF"
   ]
  },
  {
   "cell_type": "code",
   "execution_count": 50,
   "metadata": {
    "hidden": true,
    "id": "32oj99c7bZTQ"
   },
   "outputs": [],
   "source": [
    "tfidf=TfidfVectorizer(\n",
    "  max_features=1000,\n",
    "  max_df=0.95,\n",
    "  min_df=10,\n",
    "  ngram_range=(1, 4)\n",
    ")\n",
    "\n",
    "X_train_vector = tfidf.fit_transform(X_train)\n",
    "X_test_vector = tfidf.transform(X_test)"
   ]
  },
  {
   "cell_type": "markdown",
   "metadata": {
    "hidden": true,
    "id": "WNDNjy8WViEW"
   },
   "source": [
    "#### Treino"
   ]
  },
  {
   "cell_type": "code",
   "execution_count": 51,
   "metadata": {
    "hidden": true,
    "id": "04Tv3mprdpf1"
   },
   "outputs": [],
   "source": [
    "def evaluate(model, X_train, y_train, X_test, y_test):\n",
    "  model = model.fit(X_train, y_train)\n",
    "  y_pred = model.predict(X_test)\n",
    "  print(classification_report(y_test, y_pred))\n",
    "  print( \"F1 Score:\" , f1_score(y_test, y_pred, average='macro' ) )\n",
    "  return model"
   ]
  },
  {
   "cell_type": "markdown",
   "metadata": {
    "hidden": true,
    "id": "OpuAf7a4O2Fb"
   },
   "source": [
    "##### Catboost"
   ]
  },
  {
   "cell_type": "code",
   "execution_count": 52,
   "metadata": {
    "colab": {
     "base_uri": "https://localhost:8080/"
    },
    "hidden": true,
    "id": "ZHnYMHGxn5PQ",
    "outputId": "3c0a9dd9-a3f3-45ad-99b7-92112a6b254b"
   },
   "outputs": [
    {
     "name": "stdout",
     "output_type": "stream",
     "text": [
      "Learning rate set to 0.155034\n",
      "0:\tlearn: 0.4877979\ttest: 0.4849077\tbest: 0.4849077 (0)\ttotal: 3m 1s\tremaining: 1d 1h 10m\n",
      "1:\tlearn: 0.4865128\ttest: 0.4824884\tbest: 0.4849077 (0)\ttotal: 3m 3s\tremaining: 12h 39m 46s\n",
      "2:\tlearn: 0.4782011\ttest: 0.4751763\tbest: 0.4849077 (0)\ttotal: 3m 4s\tremaining: 8h 29m 32s\n",
      "3:\tlearn: 0.4849706\ttest: 0.4810606\tbest: 0.4849077 (0)\ttotal: 3m 6s\tremaining: 6h 24m 45s\n",
      "4:\tlearn: 0.4582799\ttest: 0.4542576\tbest: 0.4849077 (0)\ttotal: 3m 8s\tremaining: 5h 10m 30s\n",
      "5:\tlearn: 0.4863985\ttest: 0.4814511\tbest: 0.4849077 (0)\ttotal: 3m 10s\tremaining: 4h 20m 51s\n",
      "6:\tlearn: 0.4651365\ttest: 0.4613789\tbest: 0.4849077 (0)\ttotal: 3m 11s\tremaining: 3h 44m 54s\n",
      "7:\tlearn: 0.4657391\ttest: 0.4608827\tbest: 0.4849077 (0)\ttotal: 3m 13s\tremaining: 3h 17m 51s\n",
      "8:\tlearn: 0.4728858\ttest: 0.4671545\tbest: 0.4849077 (0)\ttotal: 3m 14s\tremaining: 2h 56m 55s\n",
      "9:\tlearn: 0.4972148\ttest: 0.4902626\tbest: 0.4902626 (9)\ttotal: 3m 15s\tremaining: 2h 40m 3s\n",
      "10:\tlearn: 0.4974285\ttest: 0.4914419\tbest: 0.4914419 (10)\ttotal: 3m 17s\tremaining: 2h 26m 17s\n",
      "11:\tlearn: 0.4965683\ttest: 0.4899871\tbest: 0.4914419 (10)\ttotal: 3m 18s\tremaining: 2h 14m 45s\n",
      "12:\tlearn: 0.4996830\ttest: 0.4926637\tbest: 0.4926637 (12)\ttotal: 3m 20s\tremaining: 2h 5m 5s\n",
      "13:\tlearn: 0.5017607\ttest: 0.4944239\tbest: 0.4944239 (13)\ttotal: 3m 21s\tremaining: 1h 56m 44s\n",
      "14:\tlearn: 0.5074251\ttest: 0.5005336\tbest: 0.5005336 (14)\ttotal: 3m 23s\tremaining: 1h 49m 36s\n",
      "15:\tlearn: 0.5078995\ttest: 0.5014623\tbest: 0.5014623 (15)\ttotal: 3m 24s\tremaining: 1h 43m 20s\n",
      "16:\tlearn: 0.5061454\ttest: 0.4996094\tbest: 0.5014623 (15)\ttotal: 3m 26s\tremaining: 1h 37m 43s\n",
      "17:\tlearn: 0.5082050\ttest: 0.5021186\tbest: 0.5021186 (17)\ttotal: 3m 27s\tremaining: 1h 32m 45s\n",
      "18:\tlearn: 0.5095323\ttest: 0.5032323\tbest: 0.5032323 (18)\ttotal: 3m 29s\tremaining: 1h 28m 21s\n",
      "19:\tlearn: 0.5102979\ttest: 0.5046487\tbest: 0.5046487 (19)\ttotal: 3m 30s\tremaining: 1h 24m 23s\n",
      "20:\tlearn: 0.5116363\ttest: 0.5057986\tbest: 0.5057986 (20)\ttotal: 3m 32s\tremaining: 1h 20m 45s\n",
      "21:\tlearn: 0.5175393\ttest: 0.5111513\tbest: 0.5111513 (21)\ttotal: 3m 33s\tremaining: 1h 17m 26s\n",
      "22:\tlearn: 0.5127321\ttest: 0.5070400\tbest: 0.5111513 (21)\ttotal: 3m 35s\tremaining: 1h 14m 24s\n",
      "23:\tlearn: 0.5131499\ttest: 0.5068210\tbest: 0.5111513 (21)\ttotal: 3m 36s\tremaining: 1h 11m 36s\n",
      "24:\tlearn: 0.5140100\ttest: 0.5076606\tbest: 0.5111513 (21)\ttotal: 3m 38s\tremaining: 1h 9m 2s\n",
      "25:\tlearn: 0.5150599\ttest: 0.5092117\tbest: 0.5111513 (21)\ttotal: 3m 39s\tremaining: 1h 6m 42s\n",
      "26:\tlearn: 0.5157578\ttest: 0.5102410\tbest: 0.5111513 (21)\ttotal: 3m 40s\tremaining: 1h 4m 31s\n",
      "27:\tlearn: 0.5178216\ttest: 0.5118232\tbest: 0.5118232 (27)\ttotal: 3m 42s\tremaining: 1h 2m 28s\n",
      "28:\tlearn: 0.5182086\ttest: 0.5126140\tbest: 0.5126140 (28)\ttotal: 3m 43s\tremaining: 1h 34s\n",
      "29:\tlearn: 0.5199275\ttest: 0.5137179\tbest: 0.5137179 (29)\ttotal: 3m 45s\tremaining: 58m 50s\n",
      "30:\tlearn: 0.5206546\ttest: 0.5142645\tbest: 0.5142645 (30)\ttotal: 3m 46s\tremaining: 57m 10s\n",
      "31:\tlearn: 0.5217516\ttest: 0.5155739\tbest: 0.5155739 (31)\ttotal: 3m 48s\tremaining: 55m 35s\n",
      "32:\tlearn: 0.5227243\ttest: 0.5173042\tbest: 0.5173042 (32)\ttotal: 3m 49s\tremaining: 54m 6s\n",
      "33:\tlearn: 0.5231907\ttest: 0.5177852\tbest: 0.5177852 (33)\ttotal: 3m 50s\tremaining: 52m 43s\n",
      "34:\tlearn: 0.5241167\ttest: 0.5190291\tbest: 0.5190291 (34)\ttotal: 3m 52s\tremaining: 51m 24s\n",
      "35:\tlearn: 0.5250302\ttest: 0.5199700\tbest: 0.5199700 (35)\ttotal: 3m 53s\tremaining: 50m 10s\n",
      "36:\tlearn: 0.5267773\ttest: 0.5215306\tbest: 0.5215306 (36)\ttotal: 3m 54s\tremaining: 48m 59s\n",
      "37:\tlearn: 0.5278901\ttest: 0.5216470\tbest: 0.5216470 (37)\ttotal: 3m 56s\tremaining: 47m 53s\n",
      "38:\tlearn: 0.5293197\ttest: 0.5226193\tbest: 0.5226193 (38)\ttotal: 3m 57s\tremaining: 46m 50s\n",
      "39:\tlearn: 0.5323994\ttest: 0.5260569\tbest: 0.5260569 (39)\ttotal: 3m 59s\tremaining: 45m 50s\n",
      "40:\tlearn: 0.5338016\ttest: 0.5276260\tbest: 0.5276260 (40)\ttotal: 4m\tremaining: 44m 52s\n",
      "41:\tlearn: 0.5348727\ttest: 0.5281605\tbest: 0.5281605 (41)\ttotal: 4m 1s\tremaining: 43m 58s\n",
      "42:\tlearn: 0.5356304\ttest: 0.5288821\tbest: 0.5288821 (42)\ttotal: 4m 3s\tremaining: 43m 5s\n",
      "43:\tlearn: 0.5363342\ttest: 0.5303405\tbest: 0.5303405 (43)\ttotal: 4m 4s\tremaining: 42m 15s\n",
      "44:\tlearn: 0.5372814\ttest: 0.5310870\tbest: 0.5310870 (44)\ttotal: 4m 6s\tremaining: 41m 27s\n",
      "45:\tlearn: 0.5379907\ttest: 0.5321792\tbest: 0.5321792 (45)\ttotal: 4m 7s\tremaining: 40m 42s\n",
      "46:\tlearn: 0.5376880\ttest: 0.5317771\tbest: 0.5321792 (45)\ttotal: 4m 8s\tremaining: 39m 57s\n",
      "47:\tlearn: 0.5385380\ttest: 0.5318473\tbest: 0.5321792 (45)\ttotal: 4m 10s\tremaining: 39m 15s\n",
      "48:\tlearn: 0.5389106\ttest: 0.5326346\tbest: 0.5326346 (48)\ttotal: 4m 11s\tremaining: 38m 34s\n",
      "49:\tlearn: 0.5394308\ttest: 0.5327172\tbest: 0.5327172 (49)\ttotal: 4m 12s\tremaining: 37m 55s\n",
      "50:\tlearn: 0.5405292\ttest: 0.5339150\tbest: 0.5339150 (50)\ttotal: 4m 14s\tremaining: 37m 18s\n",
      "51:\tlearn: 0.5409872\ttest: 0.5345659\tbest: 0.5345659 (51)\ttotal: 4m 15s\tremaining: 36m 43s\n",
      "52:\tlearn: 0.5416794\ttest: 0.5352716\tbest: 0.5352716 (52)\ttotal: 4m 17s\tremaining: 36m 7s\n",
      "53:\tlearn: 0.5420414\ttest: 0.5356511\tbest: 0.5356511 (53)\ttotal: 4m 18s\tremaining: 35m 34s\n",
      "54:\tlearn: 0.5426724\ttest: 0.5356544\tbest: 0.5356544 (54)\ttotal: 4m 19s\tremaining: 35m 1s\n",
      "55:\tlearn: 0.5430287\ttest: 0.5361401\tbest: 0.5361401 (55)\ttotal: 4m 21s\tremaining: 34m 29s\n",
      "56:\tlearn: 0.5434086\ttest: 0.5369447\tbest: 0.5369447 (56)\ttotal: 4m 22s\tremaining: 33m 59s\n",
      "57:\tlearn: 0.5444722\ttest: 0.5384458\tbest: 0.5384458 (57)\ttotal: 4m 23s\tremaining: 33m 30s\n",
      "58:\tlearn: 0.5451466\ttest: 0.5392788\tbest: 0.5392788 (58)\ttotal: 4m 25s\tremaining: 33m 2s\n",
      "59:\tlearn: 0.5457216\ttest: 0.5398377\tbest: 0.5398377 (59)\ttotal: 4m 26s\tremaining: 32m 34s\n",
      "60:\tlearn: 0.5462999\ttest: 0.5399466\tbest: 0.5399466 (60)\ttotal: 4m 27s\tremaining: 32m 8s\n",
      "61:\tlearn: 0.5461910\ttest: 0.5402165\tbest: 0.5402165 (61)\ttotal: 4m 29s\tremaining: 31m 42s\n",
      "62:\tlearn: 0.5466142\ttest: 0.5407025\tbest: 0.5407025 (62)\ttotal: 4m 30s\tremaining: 31m 17s\n",
      "63:\tlearn: 0.5476434\ttest: 0.5411343\tbest: 0.5411343 (63)\ttotal: 4m 32s\tremaining: 30m 53s\n",
      "64:\tlearn: 0.5483180\ttest: 0.5422895\tbest: 0.5422895 (64)\ttotal: 4m 33s\tremaining: 30m 29s\n",
      "65:\tlearn: 0.5487437\ttest: 0.5425345\tbest: 0.5425345 (65)\ttotal: 4m 34s\tremaining: 30m 6s\n",
      "66:\tlearn: 0.5490347\ttest: 0.5427013\tbest: 0.5427013 (66)\ttotal: 4m 36s\tremaining: 29m 44s\n",
      "67:\tlearn: 0.5497110\ttest: 0.5436593\tbest: 0.5436593 (67)\ttotal: 4m 37s\tremaining: 29m 23s\n",
      "68:\tlearn: 0.5512434\ttest: 0.5447766\tbest: 0.5447766 (68)\ttotal: 4m 39s\tremaining: 29m 2s\n",
      "69:\tlearn: 0.5517939\ttest: 0.5446979\tbest: 0.5447766 (68)\ttotal: 4m 40s\tremaining: 28m 43s\n",
      "70:\tlearn: 0.5521059\ttest: 0.5453565\tbest: 0.5453565 (70)\ttotal: 4m 41s\tremaining: 28m 23s\n",
      "71:\tlearn: 0.5522763\ttest: 0.5456260\tbest: 0.5456260 (71)\ttotal: 4m 43s\tremaining: 28m 4s\n",
      "72:\tlearn: 0.5519043\ttest: 0.5452864\tbest: 0.5456260 (71)\ttotal: 4m 44s\tremaining: 27m 45s\n",
      "73:\tlearn: 0.5522659\ttest: 0.5455692\tbest: 0.5456260 (71)\ttotal: 4m 46s\tremaining: 27m 27s\n",
      "74:\tlearn: 0.5525496\ttest: 0.5460984\tbest: 0.5460984 (74)\ttotal: 4m 47s\tremaining: 27m 9s\n",
      "75:\tlearn: 0.5528288\ttest: 0.5460158\tbest: 0.5460984 (74)\ttotal: 4m 48s\tremaining: 26m 51s\n",
      "76:\tlearn: 0.5533117\ttest: 0.5465681\tbest: 0.5465681 (76)\ttotal: 4m 50s\tremaining: 26m 33s\n",
      "77:\tlearn: 0.5537356\ttest: 0.5472772\tbest: 0.5472772 (77)\ttotal: 4m 51s\tremaining: 26m 15s\n",
      "78:\tlearn: 0.5540830\ttest: 0.5475374\tbest: 0.5475374 (78)\ttotal: 4m 52s\tremaining: 25m 57s\n",
      "79:\tlearn: 0.5542121\ttest: 0.5476672\tbest: 0.5476672 (79)\ttotal: 4m 53s\tremaining: 25m 39s\n",
      "80:\tlearn: 0.5544619\ttest: 0.5482375\tbest: 0.5482375 (80)\ttotal: 4m 54s\tremaining: 25m 22s\n",
      "81:\tlearn: 0.5559825\ttest: 0.5492443\tbest: 0.5492443 (81)\ttotal: 4m 55s\tremaining: 25m 6s\n",
      "82:\tlearn: 0.5562044\ttest: 0.5495611\tbest: 0.5495611 (82)\ttotal: 4m 56s\tremaining: 24m 51s\n",
      "83:\tlearn: 0.5565381\ttest: 0.5499569\tbest: 0.5499569 (83)\ttotal: 4m 57s\tremaining: 24m 35s\n",
      "84:\tlearn: 0.5580744\ttest: 0.5507390\tbest: 0.5507390 (84)\ttotal: 4m 59s\tremaining: 24m 19s\n",
      "85:\tlearn: 0.5582610\ttest: 0.5507538\tbest: 0.5507538 (85)\ttotal: 5m\tremaining: 24m 4s\n",
      "86:\tlearn: 0.5586451\ttest: 0.5505277\tbest: 0.5507538 (85)\ttotal: 5m 1s\tremaining: 23m 49s\n",
      "87:\tlearn: 0.5591572\ttest: 0.5512243\tbest: 0.5512243 (87)\ttotal: 5m 2s\tremaining: 23m 34s\n",
      "88:\tlearn: 0.5601760\ttest: 0.5526367\tbest: 0.5526367 (88)\ttotal: 5m 3s\tremaining: 23m 20s\n",
      "89:\tlearn: 0.5597794\ttest: 0.5519865\tbest: 0.5526367 (88)\ttotal: 5m 4s\tremaining: 23m 6s\n",
      "90:\tlearn: 0.5603199\ttest: 0.5527055\tbest: 0.5527055 (90)\ttotal: 5m 5s\tremaining: 22m 52s\n",
      "91:\tlearn: 0.5608149\ttest: 0.5530309\tbest: 0.5530309 (91)\ttotal: 5m 6s\tremaining: 22m 39s\n",
      "92:\tlearn: 0.5610215\ttest: 0.5534089\tbest: 0.5534089 (92)\ttotal: 5m 7s\tremaining: 22m 26s\n",
      "93:\tlearn: 0.5612718\ttest: 0.5537660\tbest: 0.5537660 (93)\ttotal: 5m 8s\tremaining: 22m 12s\n",
      "94:\tlearn: 0.5615153\ttest: 0.5541358\tbest: 0.5541358 (94)\ttotal: 5m 9s\tremaining: 22m\n",
      "95:\tlearn: 0.5626438\ttest: 0.5553383\tbest: 0.5553383 (95)\ttotal: 5m 10s\tremaining: 21m 47s\n",
      "96:\tlearn: 0.5630375\ttest: 0.5556860\tbest: 0.5556860 (96)\ttotal: 5m 11s\tremaining: 21m 35s\n",
      "97:\tlearn: 0.5631491\ttest: 0.5562150\tbest: 0.5562150 (97)\ttotal: 5m 12s\tremaining: 21m 23s\n",
      "98:\tlearn: 0.5635812\ttest: 0.5566350\tbest: 0.5566350 (98)\ttotal: 5m 13s\tremaining: 21m 11s\n",
      "99:\tlearn: 0.5635362\ttest: 0.5567353\tbest: 0.5567353 (99)\ttotal: 5m 14s\tremaining: 20m 59s\n",
      "100:\tlearn: 0.5641161\ttest: 0.5569096\tbest: 0.5569096 (100)\ttotal: 5m 15s\tremaining: 20m 47s\n",
      "101:\tlearn: 0.5642991\ttest: 0.5570476\tbest: 0.5570476 (101)\ttotal: 5m 16s\tremaining: 20m 36s\n",
      "102:\tlearn: 0.5648152\ttest: 0.5574171\tbest: 0.5574171 (102)\ttotal: 5m 17s\tremaining: 20m 25s\n",
      "103:\tlearn: 0.5649036\ttest: 0.5574785\tbest: 0.5574785 (103)\ttotal: 5m 18s\tremaining: 20m 14s\n",
      "104:\tlearn: 0.5652506\ttest: 0.5577406\tbest: 0.5577406 (104)\ttotal: 5m 19s\tremaining: 20m 3s\n",
      "105:\tlearn: 0.5655907\ttest: 0.5585086\tbest: 0.5585086 (105)\ttotal: 5m 21s\tremaining: 19m 53s\n",
      "106:\tlearn: 0.5656940\ttest: 0.5585516\tbest: 0.5585516 (106)\ttotal: 5m 22s\tremaining: 19m 42s\n",
      "107:\tlearn: 0.5657891\ttest: 0.5586119\tbest: 0.5586119 (107)\ttotal: 5m 23s\tremaining: 19m 32s\n",
      "108:\tlearn: 0.5660738\ttest: 0.5590543\tbest: 0.5590543 (108)\ttotal: 5m 24s\tremaining: 19m 22s\n",
      "109:\tlearn: 0.5664297\ttest: 0.5594540\tbest: 0.5594540 (109)\ttotal: 5m 25s\tremaining: 19m 13s\n",
      "110:\tlearn: 0.5668993\ttest: 0.5592632\tbest: 0.5594540 (109)\ttotal: 5m 26s\tremaining: 19m 3s\n",
      "111:\tlearn: 0.5669784\ttest: 0.5594627\tbest: 0.5594627 (111)\ttotal: 5m 27s\tremaining: 18m 54s\n",
      "112:\tlearn: 0.5672247\ttest: 0.5596870\tbest: 0.5596870 (112)\ttotal: 5m 28s\tremaining: 18m 45s\n",
      "113:\tlearn: 0.5677606\ttest: 0.5596064\tbest: 0.5596870 (112)\ttotal: 5m 29s\tremaining: 18m 36s\n",
      "114:\tlearn: 0.5684352\ttest: 0.5598571\tbest: 0.5598571 (114)\ttotal: 5m 30s\tremaining: 18m 27s\n",
      "115:\tlearn: 0.5688131\ttest: 0.5604294\tbest: 0.5604294 (115)\ttotal: 5m 31s\tremaining: 18m 18s\n",
      "116:\tlearn: 0.5690622\ttest: 0.5605460\tbest: 0.5605460 (116)\ttotal: 5m 32s\tremaining: 18m 9s\n",
      "117:\tlearn: 0.5691673\ttest: 0.5608105\tbest: 0.5608105 (117)\ttotal: 5m 33s\tremaining: 18m\n",
      "118:\tlearn: 0.5693020\ttest: 0.5607913\tbest: 0.5608105 (117)\ttotal: 5m 34s\tremaining: 17m 51s\n",
      "119:\tlearn: 0.5695490\ttest: 0.5610016\tbest: 0.5610016 (119)\ttotal: 5m 35s\tremaining: 17m 43s\n",
      "120:\tlearn: 0.5694843\ttest: 0.5612697\tbest: 0.5612697 (120)\ttotal: 5m 36s\tremaining: 17m 35s\n",
      "121:\tlearn: 0.5698233\ttest: 0.5616944\tbest: 0.5616944 (121)\ttotal: 5m 37s\tremaining: 17m 27s\n",
      "122:\tlearn: 0.5698088\ttest: 0.5614160\tbest: 0.5616944 (121)\ttotal: 5m 38s\tremaining: 17m 18s\n",
      "123:\tlearn: 0.5700520\ttest: 0.5611494\tbest: 0.5616944 (121)\ttotal: 5m 39s\tremaining: 17m 10s\n",
      "124:\tlearn: 0.5700377\ttest: 0.5615827\tbest: 0.5616944 (121)\ttotal: 5m 41s\tremaining: 17m 3s\n",
      "125:\tlearn: 0.5702181\ttest: 0.5617143\tbest: 0.5617143 (125)\ttotal: 5m 42s\tremaining: 16m 55s\n",
      "126:\tlearn: 0.5703935\ttest: 0.5618841\tbest: 0.5618841 (126)\ttotal: 5m 43s\tremaining: 16m 47s\n",
      "127:\tlearn: 0.5706231\ttest: 0.5619117\tbest: 0.5619117 (127)\ttotal: 5m 44s\tremaining: 16m 39s\n",
      "128:\tlearn: 0.5707877\ttest: 0.5619339\tbest: 0.5619339 (128)\ttotal: 5m 45s\tremaining: 16m 32s\n",
      "129:\tlearn: 0.5708916\ttest: 0.5620755\tbest: 0.5620755 (129)\ttotal: 5m 46s\tremaining: 16m 25s\n",
      "130:\tlearn: 0.5712713\ttest: 0.5622803\tbest: 0.5622803 (130)\ttotal: 5m 47s\tremaining: 16m 17s\n",
      "131:\tlearn: 0.5714202\ttest: 0.5625805\tbest: 0.5625805 (131)\ttotal: 5m 48s\tremaining: 16m 10s\n",
      "132:\tlearn: 0.5717521\ttest: 0.5628418\tbest: 0.5628418 (132)\ttotal: 5m 49s\tremaining: 16m 3s\n",
      "133:\tlearn: 0.5718325\ttest: 0.5626569\tbest: 0.5628418 (132)\ttotal: 5m 50s\tremaining: 15m 56s\n",
      "134:\tlearn: 0.5720939\ttest: 0.5629828\tbest: 0.5629828 (134)\ttotal: 5m 51s\tremaining: 15m 50s\n",
      "135:\tlearn: 0.5721313\ttest: 0.5630779\tbest: 0.5630779 (135)\ttotal: 5m 52s\tremaining: 15m 43s\n",
      "136:\tlearn: 0.5720651\ttest: 0.5630910\tbest: 0.5630910 (136)\ttotal: 5m 53s\tremaining: 15m 36s\n",
      "137:\tlearn: 0.5723369\ttest: 0.5632928\tbest: 0.5632928 (137)\ttotal: 5m 54s\tremaining: 15m 30s\n",
      "138:\tlearn: 0.5724448\ttest: 0.5631841\tbest: 0.5632928 (137)\ttotal: 5m 55s\tremaining: 15m 23s\n",
      "139:\tlearn: 0.5727189\ttest: 0.5633810\tbest: 0.5633810 (139)\ttotal: 5m 56s\tremaining: 15m 17s\n",
      "140:\tlearn: 0.5730136\ttest: 0.5635847\tbest: 0.5635847 (140)\ttotal: 5m 57s\tremaining: 15m 10s\n",
      "141:\tlearn: 0.5735652\ttest: 0.5640766\tbest: 0.5640766 (141)\ttotal: 5m 58s\tremaining: 15m 4s\n",
      "142:\tlearn: 0.5736907\ttest: 0.5641910\tbest: 0.5641910 (142)\ttotal: 5m 59s\tremaining: 14m 58s\n",
      "143:\tlearn: 0.5738089\ttest: 0.5642669\tbest: 0.5642669 (143)\ttotal: 6m 1s\tremaining: 14m 52s\n",
      "144:\tlearn: 0.5741201\ttest: 0.5645994\tbest: 0.5645994 (144)\ttotal: 6m 2s\tremaining: 14m 46s\n",
      "145:\tlearn: 0.5743477\ttest: 0.5646598\tbest: 0.5646598 (145)\ttotal: 6m 3s\tremaining: 14m 40s\n",
      "146:\tlearn: 0.5744057\ttest: 0.5647401\tbest: 0.5647401 (146)\ttotal: 6m 4s\tremaining: 14m 34s\n",
      "147:\tlearn: 0.5743357\ttest: 0.5646084\tbest: 0.5647401 (146)\ttotal: 6m 5s\tremaining: 14m 28s\n",
      "148:\tlearn: 0.5742905\ttest: 0.5646632\tbest: 0.5647401 (146)\ttotal: 6m 6s\tremaining: 14m 22s\n",
      "149:\tlearn: 0.5746325\ttest: 0.5651795\tbest: 0.5651795 (149)\ttotal: 6m 7s\tremaining: 14m 16s\n",
      "150:\tlearn: 0.5747253\ttest: 0.5649778\tbest: 0.5651795 (149)\ttotal: 6m 8s\tremaining: 14m 10s\n",
      "151:\tlearn: 0.5748659\ttest: 0.5650904\tbest: 0.5651795 (149)\ttotal: 6m 9s\tremaining: 14m 5s\n",
      "152:\tlearn: 0.5752244\ttest: 0.5655499\tbest: 0.5655499 (152)\ttotal: 6m 10s\tremaining: 13m 59s\n",
      "153:\tlearn: 0.5755810\ttest: 0.5656776\tbest: 0.5656776 (153)\ttotal: 6m 11s\tremaining: 13m 53s\n",
      "154:\tlearn: 0.5753850\ttest: 0.5651787\tbest: 0.5656776 (153)\ttotal: 6m 12s\tremaining: 13m 48s\n",
      "155:\tlearn: 0.5755337\ttest: 0.5652404\tbest: 0.5656776 (153)\ttotal: 6m 13s\tremaining: 13m 43s\n",
      "156:\tlearn: 0.5756930\ttest: 0.5655726\tbest: 0.5656776 (153)\ttotal: 6m 14s\tremaining: 13m 37s\n",
      "157:\tlearn: 0.5756637\ttest: 0.5658059\tbest: 0.5658059 (157)\ttotal: 6m 15s\tremaining: 13m 32s\n",
      "158:\tlearn: 0.5758060\ttest: 0.5655765\tbest: 0.5658059 (157)\ttotal: 6m 16s\tremaining: 13m 27s\n",
      "159:\tlearn: 0.5762385\ttest: 0.5660363\tbest: 0.5660363 (159)\ttotal: 6m 17s\tremaining: 13m 22s\n",
      "160:\tlearn: 0.5763445\ttest: 0.5663328\tbest: 0.5663328 (160)\ttotal: 6m 18s\tremaining: 13m 17s\n",
      "161:\tlearn: 0.5765494\ttest: 0.5663067\tbest: 0.5663328 (160)\ttotal: 6m 19s\tremaining: 13m 12s\n",
      "162:\tlearn: 0.5767069\ttest: 0.5663147\tbest: 0.5663328 (160)\ttotal: 6m 20s\tremaining: 13m 7s\n",
      "163:\tlearn: 0.5768291\ttest: 0.5663193\tbest: 0.5663328 (160)\ttotal: 6m 21s\tremaining: 13m 2s\n",
      "164:\tlearn: 0.5769651\ttest: 0.5663455\tbest: 0.5663455 (164)\ttotal: 6m 22s\tremaining: 12m 57s\n",
      "165:\tlearn: 0.5770184\ttest: 0.5663919\tbest: 0.5663919 (165)\ttotal: 6m 23s\tremaining: 12m 52s\n",
      "166:\tlearn: 0.5770805\ttest: 0.5664157\tbest: 0.5664157 (166)\ttotal: 6m 24s\tremaining: 12m 47s\n",
      "167:\tlearn: 0.5772834\ttest: 0.5664918\tbest: 0.5664918 (167)\ttotal: 6m 25s\tremaining: 12m 42s\n",
      "168:\tlearn: 0.5774227\ttest: 0.5664895\tbest: 0.5664918 (167)\ttotal: 6m 27s\tremaining: 12m 38s\n",
      "169:\tlearn: 0.5774671\ttest: 0.5667374\tbest: 0.5667374 (169)\ttotal: 6m 28s\tremaining: 12m 33s\n",
      "170:\tlearn: 0.5775683\ttest: 0.5668100\tbest: 0.5668100 (170)\ttotal: 6m 29s\tremaining: 12m 28s\n",
      "171:\tlearn: 0.5777451\ttest: 0.5671497\tbest: 0.5671497 (171)\ttotal: 6m 30s\tremaining: 12m 24s\n",
      "172:\tlearn: 0.5779362\ttest: 0.5672490\tbest: 0.5672490 (172)\ttotal: 6m 31s\tremaining: 12m 19s\n",
      "173:\tlearn: 0.5781609\ttest: 0.5670242\tbest: 0.5672490 (172)\ttotal: 6m 32s\tremaining: 12m 14s\n",
      "174:\tlearn: 0.5781998\ttest: 0.5668740\tbest: 0.5672490 (172)\ttotal: 6m 33s\tremaining: 12m 10s\n",
      "175:\tlearn: 0.5783449\ttest: 0.5671600\tbest: 0.5672490 (172)\ttotal: 6m 34s\tremaining: 12m 5s\n",
      "176:\tlearn: 0.5783752\ttest: 0.5671171\tbest: 0.5672490 (172)\ttotal: 6m 35s\tremaining: 12m 1s\n",
      "177:\tlearn: 0.5784779\ttest: 0.5672702\tbest: 0.5672702 (177)\ttotal: 6m 36s\tremaining: 11m 57s\n",
      "178:\tlearn: 0.5786786\ttest: 0.5673131\tbest: 0.5673131 (178)\ttotal: 6m 37s\tremaining: 11m 52s\n",
      "179:\tlearn: 0.5786959\ttest: 0.5673320\tbest: 0.5673320 (179)\ttotal: 6m 38s\tremaining: 11m 48s\n",
      "180:\tlearn: 0.5788053\ttest: 0.5674959\tbest: 0.5674959 (180)\ttotal: 6m 39s\tremaining: 11m 44s\n",
      "181:\tlearn: 0.5789933\ttest: 0.5676022\tbest: 0.5676022 (181)\ttotal: 6m 40s\tremaining: 11m 39s\n",
      "182:\tlearn: 0.5790693\ttest: 0.5676795\tbest: 0.5676795 (182)\ttotal: 6m 41s\tremaining: 11m 35s\n",
      "183:\tlearn: 0.5793778\ttest: 0.5677809\tbest: 0.5677809 (183)\ttotal: 6m 42s\tremaining: 11m 31s\n",
      "184:\tlearn: 0.5793674\ttest: 0.5681463\tbest: 0.5681463 (184)\ttotal: 6m 43s\tremaining: 11m 27s\n",
      "185:\tlearn: 0.5793569\ttest: 0.5681648\tbest: 0.5681648 (185)\ttotal: 6m 44s\tremaining: 11m 23s\n",
      "186:\tlearn: 0.5794234\ttest: 0.5682758\tbest: 0.5682758 (186)\ttotal: 6m 45s\tremaining: 11m 18s\n",
      "187:\tlearn: 0.5796026\ttest: 0.5683528\tbest: 0.5683528 (187)\ttotal: 6m 46s\tremaining: 11m 14s\n",
      "188:\tlearn: 0.5797157\ttest: 0.5683307\tbest: 0.5683528 (187)\ttotal: 6m 47s\tremaining: 11m 10s\n",
      "189:\tlearn: 0.5797094\ttest: 0.5682789\tbest: 0.5683528 (187)\ttotal: 6m 48s\tremaining: 11m 6s\n",
      "190:\tlearn: 0.5799167\ttest: 0.5682959\tbest: 0.5683528 (187)\ttotal: 6m 49s\tremaining: 11m 3s\n",
      "191:\tlearn: 0.5801392\ttest: 0.5683646\tbest: 0.5683646 (191)\ttotal: 6m 50s\tremaining: 10m 59s\n",
      "192:\tlearn: 0.5800916\ttest: 0.5681839\tbest: 0.5683646 (191)\ttotal: 6m 51s\tremaining: 10m 55s\n",
      "193:\tlearn: 0.5802545\ttest: 0.5683424\tbest: 0.5683646 (191)\ttotal: 6m 52s\tremaining: 10m 51s\n",
      "194:\tlearn: 0.5802495\ttest: 0.5682800\tbest: 0.5683646 (191)\ttotal: 6m 53s\tremaining: 10m 47s\n",
      "195:\tlearn: 0.5801600\ttest: 0.5685253\tbest: 0.5685253 (195)\ttotal: 6m 54s\tremaining: 10m 43s\n",
      "196:\tlearn: 0.5802255\ttest: 0.5686879\tbest: 0.5686879 (196)\ttotal: 6m 55s\tremaining: 10m 39s\n",
      "197:\tlearn: 0.5802663\ttest: 0.5684242\tbest: 0.5686879 (196)\ttotal: 6m 56s\tremaining: 10m 35s\n",
      "198:\tlearn: 0.5803666\ttest: 0.5684615\tbest: 0.5686879 (196)\ttotal: 6m 57s\tremaining: 10m 32s\n",
      "199:\tlearn: 0.5806226\ttest: 0.5687253\tbest: 0.5687253 (199)\ttotal: 6m 59s\tremaining: 10m 28s\n",
      "200:\tlearn: 0.5808501\ttest: 0.5686333\tbest: 0.5687253 (199)\ttotal: 7m\tremaining: 10m 24s\n",
      "201:\tlearn: 0.5810986\ttest: 0.5686766\tbest: 0.5687253 (199)\ttotal: 7m 1s\tremaining: 10m 21s\n",
      "202:\tlearn: 0.5810960\ttest: 0.5689930\tbest: 0.5689930 (202)\ttotal: 7m 2s\tremaining: 10m 17s\n",
      "203:\tlearn: 0.5812558\ttest: 0.5689378\tbest: 0.5689930 (202)\ttotal: 7m 3s\tremaining: 10m 14s\n",
      "204:\tlearn: 0.5812104\ttest: 0.5690165\tbest: 0.5690165 (204)\ttotal: 7m 4s\tremaining: 10m 10s\n",
      "205:\tlearn: 0.5812007\ttest: 0.5688745\tbest: 0.5690165 (204)\ttotal: 7m 5s\tremaining: 10m 6s\n",
      "206:\tlearn: 0.5814380\ttest: 0.5691647\tbest: 0.5691647 (206)\ttotal: 7m 6s\tremaining: 10m 3s\n",
      "207:\tlearn: 0.5817088\ttest: 0.5693460\tbest: 0.5693460 (207)\ttotal: 7m 7s\tremaining: 9m 59s\n",
      "208:\tlearn: 0.5818430\ttest: 0.5694739\tbest: 0.5694739 (208)\ttotal: 7m 8s\tremaining: 9m 56s\n",
      "209:\tlearn: 0.5820126\ttest: 0.5696899\tbest: 0.5696899 (209)\ttotal: 7m 9s\tremaining: 9m 53s\n",
      "210:\tlearn: 0.5821503\ttest: 0.5698312\tbest: 0.5698312 (210)\ttotal: 7m 10s\tremaining: 9m 49s\n",
      "211:\tlearn: 0.5822949\ttest: 0.5698200\tbest: 0.5698312 (210)\ttotal: 7m 11s\tremaining: 9m 46s\n",
      "212:\tlearn: 0.5823432\ttest: 0.5698547\tbest: 0.5698547 (212)\ttotal: 7m 12s\tremaining: 9m 42s\n",
      "213:\tlearn: 0.5824324\ttest: 0.5699393\tbest: 0.5699393 (213)\ttotal: 7m 13s\tremaining: 9m 39s\n",
      "214:\tlearn: 0.5826133\ttest: 0.5698807\tbest: 0.5699393 (213)\ttotal: 7m 14s\tremaining: 9m 35s\n",
      "215:\tlearn: 0.5827634\ttest: 0.5698852\tbest: 0.5699393 (213)\ttotal: 7m 15s\tremaining: 9m 32s\n",
      "216:\tlearn: 0.5826873\ttest: 0.5698435\tbest: 0.5699393 (213)\ttotal: 7m 16s\tremaining: 9m 29s\n",
      "217:\tlearn: 0.5826876\ttest: 0.5699804\tbest: 0.5699804 (217)\ttotal: 7m 17s\tremaining: 9m 26s\n",
      "218:\tlearn: 0.5827817\ttest: 0.5698969\tbest: 0.5699804 (217)\ttotal: 7m 18s\tremaining: 9m 22s\n",
      "219:\tlearn: 0.5826261\ttest: 0.5700233\tbest: 0.5700233 (219)\ttotal: 7m 19s\tremaining: 9m 19s\n",
      "220:\tlearn: 0.5826081\ttest: 0.5699322\tbest: 0.5700233 (219)\ttotal: 7m 20s\tremaining: 9m 16s\n",
      "221:\tlearn: 0.5827447\ttest: 0.5701169\tbest: 0.5701169 (221)\ttotal: 7m 21s\tremaining: 9m 13s\n",
      "222:\tlearn: 0.5829072\ttest: 0.5702703\tbest: 0.5702703 (222)\ttotal: 7m 22s\tremaining: 9m 9s\n",
      "223:\tlearn: 0.5831561\ttest: 0.5702498\tbest: 0.5702703 (222)\ttotal: 7m 23s\tremaining: 9m 6s\n",
      "224:\tlearn: 0.5832471\ttest: 0.5701611\tbest: 0.5702703 (222)\ttotal: 7m 24s\tremaining: 9m 3s\n",
      "225:\tlearn: 0.5832659\ttest: 0.5702054\tbest: 0.5702703 (222)\ttotal: 7m 25s\tremaining: 9m\n",
      "226:\tlearn: 0.5834642\ttest: 0.5704002\tbest: 0.5704002 (226)\ttotal: 7m 26s\tremaining: 8m 57s\n",
      "227:\tlearn: 0.5836809\ttest: 0.5705523\tbest: 0.5705523 (227)\ttotal: 7m 27s\tremaining: 8m 54s\n",
      "228:\tlearn: 0.5837325\ttest: 0.5704268\tbest: 0.5705523 (227)\ttotal: 7m 28s\tremaining: 8m 51s\n",
      "229:\tlearn: 0.5841656\ttest: 0.5705254\tbest: 0.5705523 (227)\ttotal: 7m 29s\tremaining: 8m 48s\n",
      "230:\tlearn: 0.5841585\ttest: 0.5704331\tbest: 0.5705523 (227)\ttotal: 7m 30s\tremaining: 8m 45s\n",
      "231:\tlearn: 0.5845516\ttest: 0.5704180\tbest: 0.5705523 (227)\ttotal: 7m 31s\tremaining: 8m 42s\n",
      "232:\tlearn: 0.5844463\ttest: 0.5702847\tbest: 0.5705523 (227)\ttotal: 7m 33s\tremaining: 8m 39s\n",
      "233:\tlearn: 0.5847395\ttest: 0.5707912\tbest: 0.5707912 (233)\ttotal: 7m 34s\tremaining: 8m 36s\n",
      "234:\tlearn: 0.5848394\ttest: 0.5706463\tbest: 0.5707912 (233)\ttotal: 7m 35s\tremaining: 8m 33s\n",
      "235:\tlearn: 0.5848338\ttest: 0.5706524\tbest: 0.5707912 (233)\ttotal: 7m 36s\tremaining: 8m 30s\n",
      "236:\tlearn: 0.5848060\ttest: 0.5706634\tbest: 0.5707912 (233)\ttotal: 7m 37s\tremaining: 8m 27s\n",
      "237:\tlearn: 0.5848921\ttest: 0.5706895\tbest: 0.5707912 (233)\ttotal: 7m 38s\tremaining: 8m 24s\n",
      "238:\tlearn: 0.5850119\ttest: 0.5708102\tbest: 0.5708102 (238)\ttotal: 7m 39s\tremaining: 8m 21s\n",
      "239:\tlearn: 0.5850604\ttest: 0.5707509\tbest: 0.5708102 (238)\ttotal: 7m 40s\tremaining: 8m 18s\n",
      "240:\tlearn: 0.5851394\ttest: 0.5707379\tbest: 0.5708102 (238)\ttotal: 7m 41s\tremaining: 8m 15s\n",
      "241:\tlearn: 0.5851747\ttest: 0.5707450\tbest: 0.5708102 (238)\ttotal: 7m 42s\tremaining: 8m 12s\n",
      "242:\tlearn: 0.5853096\ttest: 0.5709954\tbest: 0.5709954 (242)\ttotal: 7m 43s\tremaining: 8m 10s\n",
      "243:\tlearn: 0.5853304\ttest: 0.5711035\tbest: 0.5711035 (243)\ttotal: 7m 44s\tremaining: 8m 7s\n",
      "244:\tlearn: 0.5854903\ttest: 0.5711728\tbest: 0.5711728 (244)\ttotal: 7m 45s\tremaining: 8m 4s\n",
      "245:\tlearn: 0.5855431\ttest: 0.5712618\tbest: 0.5712618 (245)\ttotal: 7m 46s\tremaining: 8m 1s\n",
      "246:\tlearn: 0.5855597\ttest: 0.5713417\tbest: 0.5713417 (246)\ttotal: 7m 47s\tremaining: 7m 58s\n",
      "247:\tlearn: 0.5855948\ttest: 0.5714657\tbest: 0.5714657 (247)\ttotal: 7m 48s\tremaining: 7m 56s\n",
      "248:\tlearn: 0.5856931\ttest: 0.5714634\tbest: 0.5714657 (247)\ttotal: 7m 49s\tremaining: 7m 53s\n",
      "249:\tlearn: 0.5857804\ttest: 0.5714120\tbest: 0.5714657 (247)\ttotal: 7m 50s\tremaining: 7m 50s\n",
      "250:\tlearn: 0.5857435\ttest: 0.5713125\tbest: 0.5714657 (247)\ttotal: 7m 51s\tremaining: 7m 47s\n",
      "251:\tlearn: 0.5858996\ttest: 0.5711911\tbest: 0.5714657 (247)\ttotal: 7m 52s\tremaining: 7m 45s\n",
      "252:\tlearn: 0.5860166\ttest: 0.5714938\tbest: 0.5714938 (252)\ttotal: 7m 53s\tremaining: 7m 42s\n",
      "253:\tlearn: 0.5860001\ttest: 0.5714444\tbest: 0.5714938 (252)\ttotal: 7m 54s\tremaining: 7m 39s\n",
      "254:\tlearn: 0.5860421\ttest: 0.5715017\tbest: 0.5715017 (254)\ttotal: 7m 55s\tremaining: 7m 37s\n",
      "255:\tlearn: 0.5860892\ttest: 0.5716877\tbest: 0.5716877 (255)\ttotal: 7m 56s\tremaining: 7m 34s\n",
      "256:\tlearn: 0.5860766\ttest: 0.5715817\tbest: 0.5716877 (255)\ttotal: 7m 57s\tremaining: 7m 31s\n",
      "257:\tlearn: 0.5862283\ttest: 0.5715020\tbest: 0.5716877 (255)\ttotal: 7m 59s\tremaining: 7m 29s\n",
      "258:\tlearn: 0.5862533\ttest: 0.5715455\tbest: 0.5716877 (255)\ttotal: 8m\tremaining: 7m 26s\n",
      "259:\tlearn: 0.5865351\ttest: 0.5716485\tbest: 0.5716877 (255)\ttotal: 8m 1s\tremaining: 7m 24s\n",
      "260:\tlearn: 0.5866906\ttest: 0.5716862\tbest: 0.5716877 (255)\ttotal: 8m 2s\tremaining: 7m 21s\n",
      "261:\tlearn: 0.5866594\ttest: 0.5717902\tbest: 0.5717902 (261)\ttotal: 8m 3s\tremaining: 7m 18s\n",
      "262:\tlearn: 0.5867435\ttest: 0.5718697\tbest: 0.5718697 (262)\ttotal: 8m 4s\tremaining: 7m 16s\n",
      "263:\tlearn: 0.5868432\ttest: 0.5720604\tbest: 0.5720604 (263)\ttotal: 8m 5s\tremaining: 7m 13s\n",
      "264:\tlearn: 0.5869623\ttest: 0.5720198\tbest: 0.5720604 (263)\ttotal: 8m 6s\tremaining: 7m 11s\n",
      "265:\tlearn: 0.5871195\ttest: 0.5721580\tbest: 0.5721580 (265)\ttotal: 8m 7s\tremaining: 7m 8s\n",
      "266:\tlearn: 0.5872182\ttest: 0.5722937\tbest: 0.5722937 (266)\ttotal: 8m 8s\tremaining: 7m 6s\n",
      "267:\tlearn: 0.5872804\ttest: 0.5722543\tbest: 0.5722937 (266)\ttotal: 8m 9s\tremaining: 7m 3s\n",
      "268:\tlearn: 0.5873469\ttest: 0.5721318\tbest: 0.5722937 (266)\ttotal: 8m 10s\tremaining: 7m 1s\n",
      "269:\tlearn: 0.5875166\ttest: 0.5721206\tbest: 0.5722937 (266)\ttotal: 8m 11s\tremaining: 6m 58s\n",
      "270:\tlearn: 0.5873485\ttest: 0.5723280\tbest: 0.5723280 (270)\ttotal: 8m 12s\tremaining: 6m 56s\n",
      "271:\tlearn: 0.5875823\ttest: 0.5724310\tbest: 0.5724310 (271)\ttotal: 8m 13s\tremaining: 6m 53s\n",
      "272:\tlearn: 0.5877089\ttest: 0.5725639\tbest: 0.5725639 (272)\ttotal: 8m 14s\tremaining: 6m 51s\n",
      "273:\tlearn: 0.5877896\ttest: 0.5725823\tbest: 0.5725823 (273)\ttotal: 8m 15s\tremaining: 6m 48s\n",
      "274:\tlearn: 0.5878522\ttest: 0.5727055\tbest: 0.5727055 (274)\ttotal: 8m 16s\tremaining: 6m 46s\n",
      "275:\tlearn: 0.5879327\ttest: 0.5728036\tbest: 0.5728036 (275)\ttotal: 8m 17s\tremaining: 6m 43s\n",
      "276:\tlearn: 0.5879847\ttest: 0.5724597\tbest: 0.5728036 (275)\ttotal: 8m 18s\tremaining: 6m 41s\n",
      "277:\tlearn: 0.5881100\ttest: 0.5726668\tbest: 0.5728036 (275)\ttotal: 8m 19s\tremaining: 6m 38s\n",
      "278:\tlearn: 0.5881979\ttest: 0.5730273\tbest: 0.5730273 (278)\ttotal: 8m 20s\tremaining: 6m 36s\n",
      "279:\tlearn: 0.5880397\ttest: 0.5728333\tbest: 0.5730273 (278)\ttotal: 8m 21s\tremaining: 6m 34s\n",
      "280:\tlearn: 0.5879992\ttest: 0.5730460\tbest: 0.5730460 (280)\ttotal: 8m 22s\tremaining: 6m 31s\n",
      "281:\tlearn: 0.5881149\ttest: 0.5730786\tbest: 0.5730786 (281)\ttotal: 8m 23s\tremaining: 6m 29s\n",
      "282:\tlearn: 0.5881926\ttest: 0.5729770\tbest: 0.5730786 (281)\ttotal: 8m 24s\tremaining: 6m 27s\n",
      "283:\tlearn: 0.5882035\ttest: 0.5729763\tbest: 0.5730786 (281)\ttotal: 8m 25s\tremaining: 6m 24s\n",
      "284:\tlearn: 0.5883139\ttest: 0.5728424\tbest: 0.5730786 (281)\ttotal: 8m 26s\tremaining: 6m 22s\n",
      "285:\tlearn: 0.5883701\ttest: 0.5730118\tbest: 0.5730786 (281)\ttotal: 8m 27s\tremaining: 6m 20s\n",
      "286:\tlearn: 0.5883583\ttest: 0.5730638\tbest: 0.5730786 (281)\ttotal: 8m 29s\tremaining: 6m 17s\n",
      "287:\tlearn: 0.5883212\ttest: 0.5729587\tbest: 0.5730786 (281)\ttotal: 8m 30s\tremaining: 6m 15s\n",
      "288:\tlearn: 0.5883532\ttest: 0.5731060\tbest: 0.5731060 (288)\ttotal: 8m 31s\tremaining: 6m 13s\n",
      "289:\tlearn: 0.5884377\ttest: 0.5729751\tbest: 0.5731060 (288)\ttotal: 8m 32s\tremaining: 6m 10s\n",
      "290:\tlearn: 0.5884968\ttest: 0.5730593\tbest: 0.5731060 (288)\ttotal: 8m 33s\tremaining: 6m 8s\n",
      "291:\tlearn: 0.5886384\ttest: 0.5731193\tbest: 0.5731193 (291)\ttotal: 8m 34s\tremaining: 6m 6s\n",
      "292:\tlearn: 0.5887361\ttest: 0.5732731\tbest: 0.5732731 (292)\ttotal: 8m 35s\tremaining: 6m 3s\n",
      "293:\tlearn: 0.5887633\ttest: 0.5732978\tbest: 0.5732978 (293)\ttotal: 8m 36s\tremaining: 6m 1s\n",
      "294:\tlearn: 0.5888291\ttest: 0.5733292\tbest: 0.5733292 (294)\ttotal: 8m 37s\tremaining: 5m 59s\n",
      "295:\tlearn: 0.5888584\ttest: 0.5734566\tbest: 0.5734566 (295)\ttotal: 8m 38s\tremaining: 5m 57s\n",
      "296:\tlearn: 0.5889240\ttest: 0.5735233\tbest: 0.5735233 (296)\ttotal: 8m 39s\tremaining: 5m 54s\n",
      "297:\tlearn: 0.5890713\ttest: 0.5735822\tbest: 0.5735822 (297)\ttotal: 8m 40s\tremaining: 5m 52s\n",
      "298:\tlearn: 0.5893225\ttest: 0.5738486\tbest: 0.5738486 (298)\ttotal: 8m 41s\tremaining: 5m 50s\n",
      "299:\tlearn: 0.5893128\ttest: 0.5737904\tbest: 0.5738486 (298)\ttotal: 8m 42s\tremaining: 5m 48s\n",
      "300:\tlearn: 0.5895737\ttest: 0.5738890\tbest: 0.5738890 (300)\ttotal: 8m 43s\tremaining: 5m 45s\n",
      "301:\tlearn: 0.5896185\ttest: 0.5738906\tbest: 0.5738906 (301)\ttotal: 8m 44s\tremaining: 5m 43s\n",
      "302:\tlearn: 0.5896715\ttest: 0.5740961\tbest: 0.5740961 (302)\ttotal: 8m 45s\tremaining: 5m 41s\n",
      "303:\tlearn: 0.5899098\ttest: 0.5740054\tbest: 0.5740961 (302)\ttotal: 8m 46s\tremaining: 5m 39s\n",
      "304:\tlearn: 0.5900109\ttest: 0.5739849\tbest: 0.5740961 (302)\ttotal: 8m 47s\tremaining: 5m 37s\n",
      "305:\tlearn: 0.5901010\ttest: 0.5738607\tbest: 0.5740961 (302)\ttotal: 8m 48s\tremaining: 5m 34s\n",
      "306:\tlearn: 0.5901998\ttest: 0.5740370\tbest: 0.5740961 (302)\ttotal: 8m 49s\tremaining: 5m 32s\n",
      "307:\tlearn: 0.5902927\ttest: 0.5740146\tbest: 0.5740961 (302)\ttotal: 8m 50s\tremaining: 5m 30s\n",
      "308:\tlearn: 0.5903763\ttest: 0.5740550\tbest: 0.5740961 (302)\ttotal: 8m 51s\tremaining: 5m 28s\n",
      "309:\tlearn: 0.5904030\ttest: 0.5740060\tbest: 0.5740961 (302)\ttotal: 8m 52s\tremaining: 5m 26s\n",
      "310:\tlearn: 0.5903261\ttest: 0.5738919\tbest: 0.5740961 (302)\ttotal: 8m 53s\tremaining: 5m 24s\n",
      "311:\tlearn: 0.5903980\ttest: 0.5737832\tbest: 0.5740961 (302)\ttotal: 8m 54s\tremaining: 5m 22s\n",
      "312:\tlearn: 0.5904587\ttest: 0.5739399\tbest: 0.5740961 (302)\ttotal: 8m 55s\tremaining: 5m 19s\n",
      "313:\tlearn: 0.5905031\ttest: 0.5739461\tbest: 0.5740961 (302)\ttotal: 8m 56s\tremaining: 5m 17s\n",
      "314:\tlearn: 0.5905637\ttest: 0.5739370\tbest: 0.5740961 (302)\ttotal: 8m 57s\tremaining: 5m 15s\n",
      "315:\tlearn: 0.5905800\ttest: 0.5738257\tbest: 0.5740961 (302)\ttotal: 8m 58s\tremaining: 5m 13s\n",
      "316:\tlearn: 0.5906115\ttest: 0.5738498\tbest: 0.5740961 (302)\ttotal: 8m 59s\tremaining: 5m 11s\n",
      "317:\tlearn: 0.5907338\ttest: 0.5738238\tbest: 0.5740961 (302)\ttotal: 9m\tremaining: 5m 9s\n",
      "318:\tlearn: 0.5907785\ttest: 0.5738419\tbest: 0.5740961 (302)\ttotal: 9m 1s\tremaining: 5m 7s\n",
      "319:\tlearn: 0.5909039\ttest: 0.5741191\tbest: 0.5741191 (319)\ttotal: 9m 2s\tremaining: 5m 5s\n",
      "320:\tlearn: 0.5910143\ttest: 0.5741118\tbest: 0.5741191 (319)\ttotal: 9m 3s\tremaining: 5m 3s\n",
      "321:\tlearn: 0.5911279\ttest: 0.5741751\tbest: 0.5741751 (321)\ttotal: 9m 4s\tremaining: 5m 1s\n",
      "322:\tlearn: 0.5911232\ttest: 0.5743105\tbest: 0.5743105 (322)\ttotal: 9m 5s\tremaining: 4m 59s\n",
      "323:\tlearn: 0.5911924\ttest: 0.5743532\tbest: 0.5743532 (323)\ttotal: 9m 6s\tremaining: 4m 57s\n",
      "324:\tlearn: 0.5912433\ttest: 0.5746023\tbest: 0.5746023 (324)\ttotal: 9m 7s\tremaining: 4m 54s\n",
      "325:\tlearn: 0.5912217\ttest: 0.5745252\tbest: 0.5746023 (324)\ttotal: 9m 8s\tremaining: 4m 52s\n",
      "326:\tlearn: 0.5913264\ttest: 0.5745363\tbest: 0.5746023 (324)\ttotal: 9m 9s\tremaining: 4m 50s\n",
      "327:\tlearn: 0.5914207\ttest: 0.5745873\tbest: 0.5746023 (324)\ttotal: 9m 10s\tremaining: 4m 48s\n",
      "328:\tlearn: 0.5915679\ttest: 0.5745837\tbest: 0.5746023 (324)\ttotal: 9m 11s\tremaining: 4m 46s\n",
      "329:\tlearn: 0.5915816\ttest: 0.5745690\tbest: 0.5746023 (324)\ttotal: 9m 12s\tremaining: 4m 44s\n",
      "330:\tlearn: 0.5916711\ttest: 0.5747968\tbest: 0.5747968 (330)\ttotal: 9m 13s\tremaining: 4m 42s\n",
      "331:\tlearn: 0.5917135\ttest: 0.5747661\tbest: 0.5747968 (330)\ttotal: 9m 14s\tremaining: 4m 40s\n",
      "332:\tlearn: 0.5918553\ttest: 0.5746376\tbest: 0.5747968 (330)\ttotal: 9m 15s\tremaining: 4m 38s\n",
      "333:\tlearn: 0.5918290\ttest: 0.5747336\tbest: 0.5747968 (330)\ttotal: 9m 16s\tremaining: 4m 36s\n",
      "334:\tlearn: 0.5918955\ttest: 0.5747381\tbest: 0.5747968 (330)\ttotal: 9m 17s\tremaining: 4m 34s\n",
      "335:\tlearn: 0.5920267\ttest: 0.5749009\tbest: 0.5749009 (335)\ttotal: 9m 19s\tremaining: 4m 32s\n",
      "336:\tlearn: 0.5921306\ttest: 0.5747642\tbest: 0.5749009 (335)\ttotal: 9m 20s\tremaining: 4m 30s\n",
      "337:\tlearn: 0.5921939\ttest: 0.5747035\tbest: 0.5749009 (335)\ttotal: 9m 21s\tremaining: 4m 28s\n",
      "338:\tlearn: 0.5922634\ttest: 0.5747081\tbest: 0.5749009 (335)\ttotal: 9m 22s\tremaining: 4m 26s\n",
      "339:\tlearn: 0.5922417\ttest: 0.5747240\tbest: 0.5749009 (335)\ttotal: 9m 23s\tremaining: 4m 24s\n",
      "340:\tlearn: 0.5922181\ttest: 0.5746606\tbest: 0.5749009 (335)\ttotal: 9m 24s\tremaining: 4m 23s\n",
      "341:\tlearn: 0.5921585\ttest: 0.5745717\tbest: 0.5749009 (335)\ttotal: 9m 25s\tremaining: 4m 21s\n",
      "342:\tlearn: 0.5921787\ttest: 0.5745646\tbest: 0.5749009 (335)\ttotal: 9m 26s\tremaining: 4m 19s\n",
      "343:\tlearn: 0.5923058\ttest: 0.5746008\tbest: 0.5749009 (335)\ttotal: 9m 27s\tremaining: 4m 17s\n",
      "344:\tlearn: 0.5923649\ttest: 0.5746941\tbest: 0.5749009 (335)\ttotal: 9m 28s\tremaining: 4m 15s\n",
      "345:\tlearn: 0.5922880\ttest: 0.5747701\tbest: 0.5749009 (335)\ttotal: 9m 29s\tremaining: 4m 13s\n",
      "346:\tlearn: 0.5924935\ttest: 0.5747517\tbest: 0.5749009 (335)\ttotal: 9m 30s\tremaining: 4m 11s\n",
      "347:\tlearn: 0.5925280\ttest: 0.5747481\tbest: 0.5749009 (335)\ttotal: 9m 31s\tremaining: 4m 9s\n",
      "348:\tlearn: 0.5927185\ttest: 0.5747726\tbest: 0.5749009 (335)\ttotal: 9m 32s\tremaining: 4m 7s\n",
      "349:\tlearn: 0.5926564\ttest: 0.5748215\tbest: 0.5749009 (335)\ttotal: 9m 33s\tremaining: 4m 5s\n",
      "350:\tlearn: 0.5926817\ttest: 0.5749424\tbest: 0.5749424 (350)\ttotal: 9m 34s\tremaining: 4m 3s\n",
      "351:\tlearn: 0.5927242\ttest: 0.5748715\tbest: 0.5749424 (350)\ttotal: 9m 35s\tremaining: 4m 1s\n",
      "352:\tlearn: 0.5928825\ttest: 0.5751000\tbest: 0.5751000 (352)\ttotal: 9m 36s\tremaining: 3m 59s\n",
      "353:\tlearn: 0.5928977\ttest: 0.5749171\tbest: 0.5751000 (352)\ttotal: 9m 37s\tremaining: 3m 58s\n",
      "354:\tlearn: 0.5932231\ttest: 0.5746595\tbest: 0.5751000 (352)\ttotal: 9m 38s\tremaining: 3m 56s\n",
      "355:\tlearn: 0.5932562\ttest: 0.5746271\tbest: 0.5751000 (352)\ttotal: 9m 39s\tremaining: 3m 54s\n",
      "356:\tlearn: 0.5932838\ttest: 0.5745471\tbest: 0.5751000 (352)\ttotal: 9m 40s\tremaining: 3m 52s\n",
      "357:\tlearn: 0.5934463\ttest: 0.5745608\tbest: 0.5751000 (352)\ttotal: 9m 41s\tremaining: 3m 50s\n",
      "358:\tlearn: 0.5933923\ttest: 0.5745735\tbest: 0.5751000 (352)\ttotal: 9m 42s\tremaining: 3m 48s\n",
      "359:\tlearn: 0.5933528\ttest: 0.5745056\tbest: 0.5751000 (352)\ttotal: 9m 43s\tremaining: 3m 46s\n",
      "360:\tlearn: 0.5934431\ttest: 0.5746030\tbest: 0.5751000 (352)\ttotal: 9m 44s\tremaining: 3m 45s\n",
      "361:\tlearn: 0.5934623\ttest: 0.5747775\tbest: 0.5751000 (352)\ttotal: 9m 45s\tremaining: 3m 43s\n",
      "362:\tlearn: 0.5935294\ttest: 0.5747915\tbest: 0.5751000 (352)\ttotal: 9m 46s\tremaining: 3m 41s\n",
      "363:\tlearn: 0.5935606\ttest: 0.5746699\tbest: 0.5751000 (352)\ttotal: 9m 47s\tremaining: 3m 39s\n",
      "364:\tlearn: 0.5937230\ttest: 0.5746932\tbest: 0.5751000 (352)\ttotal: 9m 48s\tremaining: 3m 37s\n",
      "365:\tlearn: 0.5938302\ttest: 0.5746028\tbest: 0.5751000 (352)\ttotal: 9m 49s\tremaining: 3m 35s\n",
      "366:\tlearn: 0.5940264\ttest: 0.5747493\tbest: 0.5751000 (352)\ttotal: 9m 50s\tremaining: 3m 34s\n",
      "367:\tlearn: 0.5940951\ttest: 0.5748499\tbest: 0.5751000 (352)\ttotal: 9m 51s\tremaining: 3m 32s\n",
      "368:\tlearn: 0.5940441\ttest: 0.5747467\tbest: 0.5751000 (352)\ttotal: 9m 52s\tremaining: 3m 30s\n",
      "369:\tlearn: 0.5941213\ttest: 0.5746462\tbest: 0.5751000 (352)\ttotal: 9m 54s\tremaining: 3m 28s\n",
      "370:\tlearn: 0.5942101\ttest: 0.5747866\tbest: 0.5751000 (352)\ttotal: 9m 55s\tremaining: 3m 26s\n",
      "371:\tlearn: 0.5943809\ttest: 0.5749027\tbest: 0.5751000 (352)\ttotal: 9m 56s\tremaining: 3m 25s\n",
      "372:\tlearn: 0.5945105\ttest: 0.5750279\tbest: 0.5751000 (352)\ttotal: 9m 57s\tremaining: 3m 23s\n",
      "373:\tlearn: 0.5946785\ttest: 0.5750335\tbest: 0.5751000 (352)\ttotal: 9m 58s\tremaining: 3m 21s\n",
      "374:\tlearn: 0.5947696\ttest: 0.5750123\tbest: 0.5751000 (352)\ttotal: 9m 59s\tremaining: 3m 19s\n",
      "375:\tlearn: 0.5947126\ttest: 0.5750913\tbest: 0.5751000 (352)\ttotal: 10m\tremaining: 3m 17s\n",
      "376:\tlearn: 0.5947964\ttest: 0.5751247\tbest: 0.5751247 (376)\ttotal: 10m 1s\tremaining: 3m 16s\n",
      "377:\tlearn: 0.5948409\ttest: 0.5749958\tbest: 0.5751247 (376)\ttotal: 10m 2s\tremaining: 3m 14s\n",
      "378:\tlearn: 0.5949107\ttest: 0.5750426\tbest: 0.5751247 (376)\ttotal: 10m 3s\tremaining: 3m 12s\n",
      "379:\tlearn: 0.5948993\ttest: 0.5751405\tbest: 0.5751405 (379)\ttotal: 10m 4s\tremaining: 3m 10s\n",
      "380:\tlearn: 0.5949775\ttest: 0.5751787\tbest: 0.5751787 (380)\ttotal: 10m 5s\tremaining: 3m 9s\n",
      "381:\tlearn: 0.5950473\ttest: 0.5753672\tbest: 0.5753672 (381)\ttotal: 10m 6s\tremaining: 3m 7s\n",
      "382:\tlearn: 0.5950908\ttest: 0.5754555\tbest: 0.5754555 (382)\ttotal: 10m 7s\tremaining: 3m 5s\n",
      "383:\tlearn: 0.5951519\ttest: 0.5754022\tbest: 0.5754555 (382)\ttotal: 10m 8s\tremaining: 3m 3s\n",
      "384:\tlearn: 0.5952831\ttest: 0.5753843\tbest: 0.5754555 (382)\ttotal: 10m 9s\tremaining: 3m 2s\n",
      "385:\tlearn: 0.5952873\ttest: 0.5755067\tbest: 0.5755067 (385)\ttotal: 10m 10s\tremaining: 3m\n",
      "386:\tlearn: 0.5952449\ttest: 0.5755509\tbest: 0.5755509 (386)\ttotal: 10m 11s\tremaining: 2m 58s\n",
      "387:\tlearn: 0.5952483\ttest: 0.5753862\tbest: 0.5755509 (386)\ttotal: 10m 12s\tremaining: 2m 56s\n",
      "388:\tlearn: 0.5952896\ttest: 0.5755255\tbest: 0.5755509 (386)\ttotal: 10m 13s\tremaining: 2m 55s\n",
      "389:\tlearn: 0.5953528\ttest: 0.5755589\tbest: 0.5755589 (389)\ttotal: 10m 14s\tremaining: 2m 53s\n",
      "390:\tlearn: 0.5953306\ttest: 0.5756752\tbest: 0.5756752 (390)\ttotal: 10m 15s\tremaining: 2m 51s\n",
      "391:\tlearn: 0.5953391\ttest: 0.5756774\tbest: 0.5756774 (391)\ttotal: 10m 16s\tremaining: 2m 49s\n",
      "392:\tlearn: 0.5954410\ttest: 0.5756897\tbest: 0.5756897 (392)\ttotal: 10m 17s\tremaining: 2m 48s\n",
      "393:\tlearn: 0.5953839\ttest: 0.5758818\tbest: 0.5758818 (393)\ttotal: 10m 18s\tremaining: 2m 46s\n",
      "394:\tlearn: 0.5955396\ttest: 0.5756927\tbest: 0.5758818 (393)\ttotal: 10m 19s\tremaining: 2m 44s\n",
      "395:\tlearn: 0.5956132\ttest: 0.5757344\tbest: 0.5758818 (393)\ttotal: 10m 20s\tremaining: 2m 43s\n",
      "396:\tlearn: 0.5957757\ttest: 0.5758001\tbest: 0.5758818 (393)\ttotal: 10m 21s\tremaining: 2m 41s\n",
      "397:\tlearn: 0.5958567\ttest: 0.5759343\tbest: 0.5759343 (397)\ttotal: 10m 22s\tremaining: 2m 39s\n",
      "398:\tlearn: 0.5958979\ttest: 0.5760724\tbest: 0.5760724 (398)\ttotal: 10m 23s\tremaining: 2m 37s\n",
      "399:\tlearn: 0.5959037\ttest: 0.5759527\tbest: 0.5760724 (398)\ttotal: 10m 24s\tremaining: 2m 36s\n",
      "400:\tlearn: 0.5959911\ttest: 0.5760409\tbest: 0.5760724 (398)\ttotal: 10m 25s\tremaining: 2m 34s\n",
      "401:\tlearn: 0.5961760\ttest: 0.5761145\tbest: 0.5761145 (401)\ttotal: 10m 26s\tremaining: 2m 32s\n",
      "402:\tlearn: 0.5961759\ttest: 0.5761668\tbest: 0.5761668 (402)\ttotal: 10m 27s\tremaining: 2m 31s\n",
      "403:\tlearn: 0.5962437\ttest: 0.5762308\tbest: 0.5762308 (403)\ttotal: 10m 28s\tremaining: 2m 29s\n",
      "404:\tlearn: 0.5962713\ttest: 0.5761944\tbest: 0.5762308 (403)\ttotal: 10m 29s\tremaining: 2m 27s\n",
      "405:\tlearn: 0.5963407\ttest: 0.5759879\tbest: 0.5762308 (403)\ttotal: 10m 30s\tremaining: 2m 26s\n",
      "406:\tlearn: 0.5964201\ttest: 0.5761660\tbest: 0.5762308 (403)\ttotal: 10m 31s\tremaining: 2m 24s\n",
      "407:\tlearn: 0.5965365\ttest: 0.5758457\tbest: 0.5762308 (403)\ttotal: 10m 32s\tremaining: 2m 22s\n",
      "408:\tlearn: 0.5966359\ttest: 0.5759023\tbest: 0.5762308 (403)\ttotal: 10m 33s\tremaining: 2m 21s\n",
      "409:\tlearn: 0.5966933\ttest: 0.5760043\tbest: 0.5762308 (403)\ttotal: 10m 34s\tremaining: 2m 19s\n",
      "410:\tlearn: 0.5966902\ttest: 0.5760710\tbest: 0.5762308 (403)\ttotal: 10m 36s\tremaining: 2m 17s\n",
      "411:\tlearn: 0.5968243\ttest: 0.5762599\tbest: 0.5762599 (411)\ttotal: 10m 37s\tremaining: 2m 16s\n",
      "412:\tlearn: 0.5968828\ttest: 0.5763207\tbest: 0.5763207 (412)\ttotal: 10m 38s\tremaining: 2m 14s\n",
      "413:\tlearn: 0.5968706\ttest: 0.5762442\tbest: 0.5763207 (412)\ttotal: 10m 39s\tremaining: 2m 12s\n",
      "414:\tlearn: 0.5968840\ttest: 0.5762493\tbest: 0.5763207 (412)\ttotal: 10m 39s\tremaining: 2m 11s\n",
      "415:\tlearn: 0.5969526\ttest: 0.5762369\tbest: 0.5763207 (412)\ttotal: 10m 40s\tremaining: 2m 9s\n",
      "416:\tlearn: 0.5969315\ttest: 0.5761816\tbest: 0.5763207 (412)\ttotal: 10m 42s\tremaining: 2m 7s\n",
      "417:\tlearn: 0.5969905\ttest: 0.5762815\tbest: 0.5763207 (412)\ttotal: 10m 43s\tremaining: 2m 6s\n",
      "418:\tlearn: 0.5971082\ttest: 0.5762930\tbest: 0.5763207 (412)\ttotal: 10m 44s\tremaining: 2m 4s\n",
      "419:\tlearn: 0.5971452\ttest: 0.5763601\tbest: 0.5763601 (419)\ttotal: 10m 45s\tremaining: 2m 2s\n",
      "420:\tlearn: 0.5971922\ttest: 0.5764614\tbest: 0.5764614 (420)\ttotal: 10m 46s\tremaining: 2m 1s\n",
      "421:\tlearn: 0.5972171\ttest: 0.5766204\tbest: 0.5766204 (421)\ttotal: 10m 47s\tremaining: 1m 59s\n",
      "422:\tlearn: 0.5973001\ttest: 0.5765676\tbest: 0.5766204 (421)\ttotal: 10m 48s\tremaining: 1m 58s\n",
      "423:\tlearn: 0.5973334\ttest: 0.5764335\tbest: 0.5766204 (421)\ttotal: 10m 49s\tremaining: 1m 56s\n",
      "424:\tlearn: 0.5973926\ttest: 0.5764073\tbest: 0.5766204 (421)\ttotal: 10m 50s\tremaining: 1m 54s\n",
      "425:\tlearn: 0.5975423\ttest: 0.5762766\tbest: 0.5766204 (421)\ttotal: 10m 51s\tremaining: 1m 53s\n",
      "426:\tlearn: 0.5975628\ttest: 0.5762607\tbest: 0.5766204 (421)\ttotal: 10m 52s\tremaining: 1m 51s\n",
      "427:\tlearn: 0.5975922\ttest: 0.5762594\tbest: 0.5766204 (421)\ttotal: 10m 53s\tremaining: 1m 49s\n",
      "428:\tlearn: 0.5976048\ttest: 0.5762353\tbest: 0.5766204 (421)\ttotal: 10m 54s\tremaining: 1m 48s\n",
      "429:\tlearn: 0.5978816\ttest: 0.5763677\tbest: 0.5766204 (421)\ttotal: 10m 55s\tremaining: 1m 46s\n",
      "430:\tlearn: 0.5978898\ttest: 0.5763551\tbest: 0.5766204 (421)\ttotal: 10m 56s\tremaining: 1m 45s\n",
      "431:\tlearn: 0.5979791\ttest: 0.5763732\tbest: 0.5766204 (421)\ttotal: 10m 57s\tremaining: 1m 43s\n",
      "432:\tlearn: 0.5979059\ttest: 0.5763491\tbest: 0.5766204 (421)\ttotal: 10m 58s\tremaining: 1m 41s\n",
      "433:\tlearn: 0.5979834\ttest: 0.5761062\tbest: 0.5766204 (421)\ttotal: 10m 59s\tremaining: 1m 40s\n",
      "434:\tlearn: 0.5980073\ttest: 0.5763005\tbest: 0.5766204 (421)\ttotal: 11m\tremaining: 1m 38s\n",
      "435:\tlearn: 0.5980258\ttest: 0.5763980\tbest: 0.5766204 (421)\ttotal: 11m 1s\tremaining: 1m 37s\n",
      "436:\tlearn: 0.5981152\ttest: 0.5764845\tbest: 0.5766204 (421)\ttotal: 11m 2s\tremaining: 1m 35s\n",
      "437:\tlearn: 0.5981035\ttest: 0.5763244\tbest: 0.5766204 (421)\ttotal: 11m 3s\tremaining: 1m 33s\n",
      "438:\tlearn: 0.5982578\ttest: 0.5765821\tbest: 0.5766204 (421)\ttotal: 11m 4s\tremaining: 1m 32s\n",
      "439:\tlearn: 0.5982627\ttest: 0.5767539\tbest: 0.5767539 (439)\ttotal: 11m 5s\tremaining: 1m 30s\n",
      "440:\tlearn: 0.5982532\ttest: 0.5767539\tbest: 0.5767539 (439)\ttotal: 11m 6s\tremaining: 1m 29s\n",
      "441:\tlearn: 0.5982166\ttest: 0.5767933\tbest: 0.5767933 (441)\ttotal: 11m 7s\tremaining: 1m 27s\n",
      "442:\tlearn: 0.5983476\ttest: 0.5766831\tbest: 0.5767933 (441)\ttotal: 11m 8s\tremaining: 1m 26s\n",
      "443:\tlearn: 0.5984605\ttest: 0.5766011\tbest: 0.5767933 (441)\ttotal: 11m 9s\tremaining: 1m 24s\n",
      "444:\tlearn: 0.5984378\ttest: 0.5769647\tbest: 0.5769647 (444)\ttotal: 11m 10s\tremaining: 1m 22s\n",
      "445:\tlearn: 0.5984573\ttest: 0.5770853\tbest: 0.5770853 (445)\ttotal: 11m 12s\tremaining: 1m 21s\n",
      "446:\tlearn: 0.5985928\ttest: 0.5770188\tbest: 0.5770853 (445)\ttotal: 11m 13s\tremaining: 1m 19s\n",
      "447:\tlearn: 0.5987483\ttest: 0.5773850\tbest: 0.5773850 (447)\ttotal: 11m 14s\tremaining: 1m 18s\n",
      "448:\tlearn: 0.5987792\ttest: 0.5774758\tbest: 0.5774758 (448)\ttotal: 11m 15s\tremaining: 1m 16s\n",
      "449:\tlearn: 0.5987319\ttest: 0.5775019\tbest: 0.5775019 (449)\ttotal: 11m 16s\tremaining: 1m 15s\n",
      "450:\tlearn: 0.5987930\ttest: 0.5776415\tbest: 0.5776415 (450)\ttotal: 11m 17s\tremaining: 1m 13s\n",
      "451:\tlearn: 0.5988175\ttest: 0.5777297\tbest: 0.5777297 (451)\ttotal: 11m 18s\tremaining: 1m 12s\n",
      "452:\tlearn: 0.5988705\ttest: 0.5777209\tbest: 0.5777297 (451)\ttotal: 11m 19s\tremaining: 1m 10s\n",
      "453:\tlearn: 0.5988728\ttest: 0.5775764\tbest: 0.5777297 (451)\ttotal: 11m 20s\tremaining: 1m 8s\n",
      "454:\tlearn: 0.5989394\ttest: 0.5777859\tbest: 0.5777859 (454)\ttotal: 11m 21s\tremaining: 1m 7s\n",
      "455:\tlearn: 0.5989369\ttest: 0.5778847\tbest: 0.5778847 (455)\ttotal: 11m 22s\tremaining: 1m 5s\n",
      "456:\tlearn: 0.5989316\ttest: 0.5777772\tbest: 0.5778847 (455)\ttotal: 11m 23s\tremaining: 1m 4s\n",
      "457:\tlearn: 0.5989571\ttest: 0.5778983\tbest: 0.5778983 (457)\ttotal: 11m 24s\tremaining: 1m 2s\n",
      "458:\tlearn: 0.5989695\ttest: 0.5777985\tbest: 0.5778983 (457)\ttotal: 11m 25s\tremaining: 1m 1s\n",
      "459:\tlearn: 0.5991569\ttest: 0.5778743\tbest: 0.5778983 (457)\ttotal: 11m 26s\tremaining: 59.7s\n",
      "460:\tlearn: 0.5991348\ttest: 0.5777494\tbest: 0.5778983 (457)\ttotal: 11m 27s\tremaining: 58.1s\n",
      "461:\tlearn: 0.5993825\ttest: 0.5777880\tbest: 0.5778983 (457)\ttotal: 11m 28s\tremaining: 56.6s\n",
      "462:\tlearn: 0.5993522\ttest: 0.5777916\tbest: 0.5778983 (457)\ttotal: 11m 29s\tremaining: 55.1s\n",
      "463:\tlearn: 0.5993544\ttest: 0.5778037\tbest: 0.5778983 (457)\ttotal: 11m 30s\tremaining: 53.6s\n",
      "464:\tlearn: 0.5994454\ttest: 0.5777943\tbest: 0.5778983 (457)\ttotal: 11m 31s\tremaining: 52s\n",
      "465:\tlearn: 0.5993565\ttest: 0.5779276\tbest: 0.5779276 (465)\ttotal: 11m 32s\tremaining: 50.5s\n",
      "466:\tlearn: 0.5993789\ttest: 0.5778506\tbest: 0.5779276 (465)\ttotal: 11m 33s\tremaining: 49s\n",
      "467:\tlearn: 0.5993637\ttest: 0.5779297\tbest: 0.5779297 (467)\ttotal: 11m 34s\tremaining: 47.5s\n",
      "468:\tlearn: 0.5995951\ttest: 0.5777804\tbest: 0.5779297 (467)\ttotal: 11m 35s\tremaining: 46s\n",
      "469:\tlearn: 0.5996746\ttest: 0.5778929\tbest: 0.5779297 (467)\ttotal: 11m 36s\tremaining: 44.5s\n",
      "470:\tlearn: 0.5997838\ttest: 0.5779557\tbest: 0.5779557 (470)\ttotal: 11m 37s\tremaining: 42.9s\n",
      "471:\tlearn: 0.5997960\ttest: 0.5779704\tbest: 0.5779704 (471)\ttotal: 11m 38s\tremaining: 41.4s\n",
      "472:\tlearn: 0.5999798\ttest: 0.5778892\tbest: 0.5779704 (471)\ttotal: 11m 39s\tremaining: 39.9s\n",
      "473:\tlearn: 0.6000845\ttest: 0.5779830\tbest: 0.5779830 (473)\ttotal: 11m 40s\tremaining: 38.4s\n",
      "474:\tlearn: 0.6000992\ttest: 0.5779801\tbest: 0.5779830 (473)\ttotal: 11m 41s\tremaining: 36.9s\n",
      "475:\tlearn: 0.6001169\ttest: 0.5781142\tbest: 0.5781142 (475)\ttotal: 11m 42s\tremaining: 35.4s\n",
      "476:\tlearn: 0.6001235\ttest: 0.5780693\tbest: 0.5781142 (475)\ttotal: 11m 43s\tremaining: 33.9s\n",
      "477:\tlearn: 0.6000407\ttest: 0.5781742\tbest: 0.5781742 (477)\ttotal: 11m 44s\tremaining: 32.4s\n",
      "478:\tlearn: 0.6000804\ttest: 0.5780100\tbest: 0.5781742 (477)\ttotal: 11m 45s\tremaining: 30.9s\n",
      "479:\tlearn: 0.6001110\ttest: 0.5779432\tbest: 0.5781742 (477)\ttotal: 11m 46s\tremaining: 29.4s\n",
      "480:\tlearn: 0.6001841\ttest: 0.5780136\tbest: 0.5781742 (477)\ttotal: 11m 47s\tremaining: 27.9s\n",
      "481:\tlearn: 0.6002021\ttest: 0.5778739\tbest: 0.5781742 (477)\ttotal: 11m 48s\tremaining: 26.5s\n",
      "482:\tlearn: 0.6003272\ttest: 0.5778447\tbest: 0.5781742 (477)\ttotal: 11m 49s\tremaining: 25s\n",
      "483:\tlearn: 0.6003882\ttest: 0.5777113\tbest: 0.5781742 (477)\ttotal: 11m 50s\tremaining: 23.5s\n",
      "484:\tlearn: 0.6004251\ttest: 0.5777153\tbest: 0.5781742 (477)\ttotal: 11m 51s\tremaining: 22s\n",
      "485:\tlearn: 0.6004170\ttest: 0.5776146\tbest: 0.5781742 (477)\ttotal: 11m 52s\tremaining: 20.5s\n",
      "486:\tlearn: 0.6005367\ttest: 0.5777468\tbest: 0.5781742 (477)\ttotal: 11m 53s\tremaining: 19.1s\n",
      "487:\tlearn: 0.6006061\ttest: 0.5776806\tbest: 0.5781742 (477)\ttotal: 11m 54s\tremaining: 17.6s\n",
      "488:\tlearn: 0.6006273\ttest: 0.5777285\tbest: 0.5781742 (477)\ttotal: 11m 55s\tremaining: 16.1s\n",
      "489:\tlearn: 0.6005375\ttest: 0.5776684\tbest: 0.5781742 (477)\ttotal: 11m 56s\tremaining: 14.6s\n",
      "490:\tlearn: 0.6003760\ttest: 0.5777637\tbest: 0.5781742 (477)\ttotal: 11m 57s\tremaining: 13.2s\n",
      "491:\tlearn: 0.6004065\ttest: 0.5777017\tbest: 0.5781742 (477)\ttotal: 11m 58s\tremaining: 11.7s\n",
      "492:\tlearn: 0.6005103\ttest: 0.5777352\tbest: 0.5781742 (477)\ttotal: 11m 59s\tremaining: 10.2s\n",
      "493:\tlearn: 0.6006148\ttest: 0.5776690\tbest: 0.5781742 (477)\ttotal: 12m\tremaining: 8.76s\n",
      "494:\tlearn: 0.6007073\ttest: 0.5778502\tbest: 0.5781742 (477)\ttotal: 12m 1s\tremaining: 7.29s\n",
      "495:\tlearn: 0.6007521\ttest: 0.5777584\tbest: 0.5781742 (477)\ttotal: 12m 2s\tremaining: 5.83s\n",
      "496:\tlearn: 0.6008567\ttest: 0.5777603\tbest: 0.5781742 (477)\ttotal: 12m 4s\tremaining: 4.37s\n",
      "497:\tlearn: 0.6007874\ttest: 0.5779012\tbest: 0.5781742 (477)\ttotal: 12m 5s\tremaining: 2.91s\n",
      "498:\tlearn: 0.6009157\ttest: 0.5779943\tbest: 0.5781742 (477)\ttotal: 12m 6s\tremaining: 1.45s\n",
      "499:\tlearn: 0.6010089\ttest: 0.5780212\tbest: 0.5781742 (477)\ttotal: 12m 7s\tremaining: 0us\n",
      "\n",
      "bestTest = 0.5781742399\n",
      "bestIteration = 477\n",
      "\n",
      "Shrink model to first 478 iterations.\n"
     ]
    },
    {
     "data": {
      "text/plain": [
       "<catboost.core.CatBoostClassifier at 0x7f1cd40ca460>"
      ]
     },
     "execution_count": 52,
     "metadata": {},
     "output_type": "execute_result"
    }
   ],
   "source": [
    "# CatBoost\n",
    "train_dataset = Pool(X_train_vector, y_train.cv_encoded)\n",
    "test_dataset = Pool(X_test_vector, y_test.cv_encoded)\n",
    "\n",
    "cb = CatBoostClassifier(\n",
    "    # task_type='GPU',\n",
    "    iterations=500,\n",
    "    eval_metric='TotalF1',\n",
    "    loss_function='MultiClass',\n",
    "    early_stopping_rounds=50\n",
    "    #Learner parameters\n",
    "    # learning_rate=0.1,\n",
    "    # depth=10,\n",
    "    # l2_leaf_reg=1\n",
    "\n",
    ")\n",
    "\n",
    "# #Declare parameters to tune and values to try\n",
    "# grid = {\n",
    "#     'learning_rate': [0.03, 0.1],\n",
    "#     'depth': [4, 6, 10],\n",
    "#     'l2_leaf_reg': [1, 3, 5,]\n",
    "# }\n",
    "\n",
    "# #Find optimum parameters\n",
    "# grid_search_result = cb.grid_search(grid, train_dataset, plot=True)\n",
    "\n",
    "#Fit model with early stopping if improvement hasn't been made within 50 iterations\n",
    "cb.fit(\n",
    "    train_dataset, \n",
    "    eval_set=test_dataset\n",
    ")"
   ]
  },
  {
   "cell_type": "code",
   "execution_count": 53,
   "metadata": {
    "colab": {
     "base_uri": "https://localhost:8080/",
     "height": 282
    },
    "hidden": true,
    "id": "5MqDlLud1xTP",
    "outputId": "215e883a-17c7-4065-92b2-dae8600c487a"
   },
   "outputs": [
    {
     "data": {
      "text/plain": [
       "<matplotlib.legend.Legend at 0x7f1cd429fc10>"
      ]
     },
     "execution_count": 53,
     "metadata": {},
     "output_type": "execute_result"
    },
    {
     "data": {
      "image/png": "[encoded data removed]",
      "text/plain": [
       "<Figure size 576x288 with 1 Axes>"
      ]
     },
     "metadata": {
      "needs_background": "light"
     },
     "output_type": "display_data"
    }
   ],
   "source": [
    "results = cb.get_evals_result()\n",
    "\n",
    "fig, axes = plt.subplots(figsize=(8,4))\n",
    "plt.plot(results['learn']['TotalF1'], c='b', label='learn')\n",
    "plt.plot(results['validation']['TotalF1'], c='r', label='validation')\n",
    "axes.legend()"
   ]
  },
  {
   "cell_type": "code",
   "execution_count": 54,
   "metadata": {
    "colab": {
     "base_uri": "https://localhost:8080/"
    },
    "hidden": true,
    "id": "xx7ZIdbXj6WJ",
    "outputId": "5a380e4a-7e90-40cc-b6e0-182ce347f8d1"
   },
   "outputs": [
    {
     "name": "stdout",
     "output_type": "stream",
     "text": [
      "              precision    recall  f1-score   support\n",
      "\n",
      "           0       0.60      0.63      0.61     13238\n",
      "           1       0.54      0.40      0.46      4782\n",
      "           2       0.60      0.08      0.14      3471\n",
      "           3       0.42      0.08      0.13      3088\n",
      "           4       0.48      0.39      0.43      1243\n",
      "           5       0.63      0.77      0.69     28800\n",
      "\n",
      "    accuracy                           0.61     54622\n",
      "   macro avg       0.54      0.39      0.41     54622\n",
      "weighted avg       0.60      0.61      0.58     54622\n",
      "\n",
      "[[ 8289   267     0     6     0  4676]\n",
      " [  980  1931     0     2     0  1869]\n",
      " [   54    14   266     8     1  3128]\n",
      " [   41    57     6   236     0  2748]\n",
      " [   14     0     0     0   480   749]\n",
      " [ 4427  1301   173   306   521 22072]]\n",
      "\n",
      "F1 Score: 0.40960872378627505\n",
      "49.00% dos emails foram respondidos \n",
      " --------------------\n",
      "60.04% dos emails enviados como Classe 0 foram classificados corretamente\n",
      "54.09% dos emails enviados como Classe 1 foram classificados corretamente\n",
      "59.78% dos emails enviados como Classe 2 foram classificados corretamente\n",
      "42.29% dos emails enviados como Classe 3 foram classificados corretamente\n",
      "47.90% dos emails enviados como Classe 4 foram classificados corretamente\n",
      "62.63% dos emails enviados como Classe 5 foram classificados corretamente\n"
     ]
    }
   ],
   "source": [
    "y_pred_cb = cb.predict(X_test_vector)\n",
    "print(classification_report(y_test.cv_encoded, y_pred_cb))\n",
    "conf_matrix = confusion_matrix(y_test.cv_encoded, y_pred_cb)\n",
    "print(conf_matrix)\n",
    "print( \"\\nF1 Score:\" , f1_score(y_test.cv_encoded, y_pred_cb, average='macro' ) )\n",
    "\n",
    "conf_matrix = confusion_matrix(y_test.cv_encoded, y_pred_cb)\n",
    "\n",
    "print('{0:.2%} dos emails foram respondidos \\n --------------------'.format(conf_matrix[:-1, :-1].sum() / conf_matrix[:-1, :].sum()))\n",
    "print('{0:.2%} dos emails enviados como Classe 0 foram classificados corretamente'.format(conf_matrix[0, 0].sum() / conf_matrix[:, 0].sum()))\n",
    "print('{0:.2%} dos emails enviados como Classe 1 foram classificados corretamente'.format(conf_matrix[1, 1].sum() / conf_matrix[:, 1].sum()))\n",
    "print('{0:.2%} dos emails enviados como Classe 2 foram classificados corretamente'.format(conf_matrix[2, 2].sum() / conf_matrix[:, 2].sum()))\n",
    "print('{0:.2%} dos emails enviados como Classe 3 foram classificados corretamente'.format(conf_matrix[3, 3].sum() / conf_matrix[:, 3].sum()))\n",
    "print('{0:.2%} dos emails enviados como Classe 4 foram classificados corretamente'.format(conf_matrix[4, 4].sum() / conf_matrix[:, 4].sum()))\n",
    "print('{0:.2%} dos emails enviados como Classe 5 foram classificados corretamente'.format(conf_matrix[5, 5].sum() / conf_matrix[:, 5].sum()))"
   ]
  },
  {
   "cell_type": "code",
   "execution_count": null,
   "metadata": {
    "hidden": true,
    "id": "4aWMlC0DOzwI"
   },
   "outputs": [],
   "source": [
    "  "
   ]
  },
  {
   "cell_type": "markdown",
   "metadata": {
    "hidden": true,
    "id": "wa4O4u__O_d1"
   },
   "source": [
    "##### RandomForest"
   ]
  },
  {
   "cell_type": "code",
   "execution_count": 55,
   "metadata": {
    "colab": {
     "base_uri": "https://localhost:8080/"
    },
    "hidden": true,
    "id": "nVk5WnSVPEO4",
    "outputId": "d24ddd22-f09a-4692-e12b-266f17177154"
   },
   "outputs": [
    {
     "data": {
      "text/plain": [
       "RandomForestClassifier(random_state=42)"
      ]
     },
     "execution_count": 55,
     "metadata": {},
     "output_type": "execute_result"
    }
   ],
   "source": [
    "rf = RandomForestClassifier(random_state=42)\n",
    "rf.fit(X_train_vector, y_train.cv_encoded)"
   ]
  },
  {
   "cell_type": "code",
   "execution_count": 56,
   "metadata": {
    "colab": {
     "base_uri": "https://localhost:8080/"
    },
    "hidden": true,
    "id": "EpzBIyULOzYo",
    "outputId": "c2e2486f-0b22-4a43-d11a-b74128f985f3"
   },
   "outputs": [
    {
     "name": "stdout",
     "output_type": "stream",
     "text": [
      "              precision    recall  f1-score   support\n",
      "\n",
      "           0       0.59      0.61      0.60     13238\n",
      "           1       0.56      0.36      0.44      4782\n",
      "           2       0.54      0.08      0.13      3471\n",
      "           3       0.48      0.04      0.07      3088\n",
      "           4       0.49      0.25      0.33      1243\n",
      "           5       0.62      0.79      0.69     28800\n",
      "\n",
      "    accuracy                           0.61     54622\n",
      "   macro avg       0.55      0.35      0.38     54622\n",
      "weighted avg       0.59      0.61      0.57     54622\n",
      "\n",
      "[[ 8093   207     6     7     3  4922]\n",
      " [ 1014  1721     0     2     1  2044]\n",
      " [   71    14   261    13     0  3112]\n",
      " [   44    45     3   125     0  2871]\n",
      " [   19     0     0     1   306   917]\n",
      " [ 4432  1067   210   113   313 22665]]\n",
      "\n",
      "F1 Score: 0.3782186657805677\n",
      "46.30% dos emails foram respondidos \n",
      " --------------------\n",
      "59.19% dos emails enviados como Classe 0 foram classificados corretamente\n",
      "56.35% dos emails enviados como Classe 1 foram classificados corretamente\n",
      "54.37% dos emails enviados como Classe 2 foram classificados corretamente\n",
      "47.89% dos emails enviados como Classe 3 foram classificados corretamente\n",
      "49.12% dos emails enviados como Classe 4 foram classificados corretamente\n",
      "62.04% dos emails enviados como Classe 5 foram classificados corretamente\n"
     ]
    }
   ],
   "source": [
    "y_pred_rf = rf.predict(X_test_vector)\n",
    "print(classification_report(y_test.cv_encoded, y_pred_rf))\n",
    "conf_matrix = confusion_matrix(y_test.cv_encoded, y_pred_rf)\n",
    "print(conf_matrix)\n",
    "print( \"\\nF1 Score:\" , f1_score(y_test.cv_encoded, y_pred_rf, average='macro' ) )\n",
    "\n",
    "print('{0:.2%} dos emails foram respondidos \\n --------------------'.format(conf_matrix[:-1, :-1].sum() / conf_matrix[:-1, :].sum()))\n",
    "print('{0:.2%} dos emails enviados como Classe 0 foram classificados corretamente'.format(conf_matrix[0, 0].sum() / conf_matrix[:, 0].sum()))\n",
    "print('{0:.2%} dos emails enviados como Classe 1 foram classificados corretamente'.format(conf_matrix[1, 1].sum() / conf_matrix[:, 1].sum()))\n",
    "print('{0:.2%} dos emails enviados como Classe 2 foram classificados corretamente'.format(conf_matrix[2, 2].sum() / conf_matrix[:, 2].sum()))\n",
    "print('{0:.2%} dos emails enviados como Classe 3 foram classificados corretamente'.format(conf_matrix[3, 3].sum() / conf_matrix[:, 3].sum()))\n",
    "print('{0:.2%} dos emails enviados como Classe 4 foram classificados corretamente'.format(conf_matrix[4, 4].sum() / conf_matrix[:, 4].sum()))\n",
    "print('{0:.2%} dos emails enviados como Classe 5 foram classificados corretamente'.format(conf_matrix[5, 5].sum() / conf_matrix[:, 5].sum()))"
   ]
  },
  {
   "cell_type": "code",
   "execution_count": null,
   "metadata": {
    "hidden": true,
    "id": "RwReskUFNLlj"
   },
   "outputs": [],
   "source": []
  },
  {
   "cell_type": "code",
   "execution_count": null,
   "metadata": {
    "hidden": true,
    "id": "-IrFR9ceNNmY"
   },
   "outputs": [],
   "source": []
  },
  {
   "cell_type": "markdown",
   "metadata": {
    "hidden": true,
    "id": "v_-f9NXDNOKW"
   },
   "source": [
    "#### Validando Resultados"
   ]
  },
  {
   "cell_type": "code",
   "execution_count": 57,
   "metadata": {
    "hidden": true,
    "id": "KIvmOQkZNi-4"
   },
   "outputs": [],
   "source": [
    "predict_cb=[i[0] for i in y_pred_cb]\n",
    "# predict_rf=[i[0] for i in y_pred_rf]\n",
    "df_result = pd.DataFrame({'message':X_test.values, 'predict_cb':predict_cb, 'predict_rf':y_pred_rf, 'true':y_test.cv_encoded.values, 'original':y_test.sac_customer_voice.values})\n",
    "df_result.predict_cb = df_result.predict_cb.map(inv_map)\n",
    "df_result.predict_rf = df_result.predict_rf.map(inv_map)\n",
    "df_result.true = df_result.true.map(inv_map)\n",
    "\n",
    "df_result\n",
    "df_result.to_csv(f'{path}/data/validar2.csv')"
   ]
  },
  {
   "cell_type": "markdown",
   "metadata": {
    "hidden": true,
    "id": "eYZh7yOeyB8w"
   },
   "source": [
    "Uma analise no dataset acima mostrou que os resultados gerados pelo RandomForest estão um pouco melhores que o Catboost. Usaremos daqui pra frente apenas o primeiro modelo"
   ]
  },
  {
   "cell_type": "code",
   "execution_count": null,
   "metadata": {
    "colab": {
     "base_uri": "https://localhost:8080/"
    },
    "hidden": true,
    "id": "cXTVHTrEu_Xe",
    "outputId": "375c7862-66a5-448e-f844-805c6f5b72f5"
   },
   "outputs": [],
   "source": [
    "wrong_pred_df = df_result[(df_result.true == 'Outro') & (df_result.predict_rf != 'Outro')]\n",
    "wrong_class_list = wrong_pred_df.groupby('original')['message'].count().sort_values(ascending=False)[:10]\n",
    "wrong_class_list"
   ]
  },
  {
   "cell_type": "code",
   "execution_count": null,
   "metadata": {
    "colab": {
     "base_uri": "https://localhost:8080/",
     "height": 675
    },
    "hidden": true,
    "id": "TBJOW9Xwx_ab",
    "outputId": "0a48d170-902c-45fa-b40a-e67a59bba3db"
   },
   "outputs": [],
   "source": [
    "aux_df = []\n",
    "for cv in wrong_class_list.index.to_list():\n",
    "  words = ' '.join(wrong_pred_df[wrong_pred_df.original == cv].message).split()\n",
    "  ngram = [_ for _ in zip(words, words[1:], words[2:])]\n",
    "\n",
    "  c = Counter(ngram).most_common(10)\n",
    "\n",
    "  words = []\n",
    "  for i in c:\n",
    "    words.append(f'{i[0][0]} {i[0][1]} {i[0][2]}')\n",
    "\n",
    "  aux_df.append(pd.DataFrame(words, columns=[cv]))\n",
    "\n",
    "pd.concat(aux_df, axis=1)"
   ]
  },
  {
   "cell_type": "code",
   "execution_count": null,
   "metadata": {
    "hidden": true,
    "id": "a6h4Uytsx-_l"
   },
   "outputs": [],
   "source": []
  },
  {
   "cell_type": "markdown",
   "metadata": {
    "hidden": true,
    "id": "ITdG7X86-Ws2"
   },
   "source": [
    "#### Dicionario\n",
    "\n",
    "Emails com essas palavras não fazem parte da lista de classes que queremos predizer"
   ]
  },
  {
   "cell_type": "code",
   "execution_count": null,
   "metadata": {
    "hidden": true,
    "id": "uptsaHw4hxQG"
   },
   "outputs": [],
   "source": [
    "remove_grams = [\n",
    "  'nao recebi codigo',\n",
    "  'nao recebi email',\n",
    "  'recebi codigo postagem',\n",
    "  'codigo autorizacao postagem'\n",
    "]"
   ]
  },
  {
   "cell_type": "markdown",
   "metadata": {
    "hidden": true,
    "id": "4NlkUm3dkB8c"
   },
   "source": [
    "#### Aplicando Remocao usando o Dicionario"
   ]
  },
  {
   "cell_type": "code",
   "execution_count": null,
   "metadata": {
    "hidden": true,
    "id": "tgnhf3O1W_So"
   },
   "outputs": [],
   "source": [
    "df_result.loc[df_result.message.str.contains('|'.join(remove_grams)), 'predict_cb'] = 'Outro'"
   ]
  },
  {
   "cell_type": "code",
   "execution_count": null,
   "metadata": {
    "hidden": true,
    "id": "NY7Lnt5ver-6"
   },
   "outputs": [],
   "source": [
    "df_result"
   ]
  },
  {
   "cell_type": "markdown",
   "metadata": {
    "heading_collapsed": true,
    "hidden": true,
    "id": "hoyXuJ3CvUaS"
   },
   "source": [
    "#### Threshold"
   ]
  },
  {
   "cell_type": "code",
   "execution_count": null,
   "metadata": {
    "hidden": true,
    "id": "8B-jZciaLiud"
   },
   "outputs": [],
   "source": [
    "# predicoes menores que o valor definido serao classificadas como \"outro\"\n",
    "threshold_proba = 0.4\n",
    "y_pred_proba = cb.predict_proba(X_test_vector)\n",
    "y_pred_threshold = [map_cv['Outro'] if sum(p<threshold_proba)==4 else np.argmax(p) for p in y_pred_proba]\n",
    "y_pred_threshold = pd.DataFrame(y_pred_threshold, columns=['customer_voice'])['customer_voice']\n",
    "\n",
    "print(classification_report(y_test.cv_encoded, y_pred_threshold))\n",
    "print(confusion_matrix(y_test.cv_encoded, y_pred_threshold))\n",
    "\n",
    "conf_matrix = confusion_matrix(y_test.cv_encoded, y_pred_threshold)\n",
    "print('{0:.2%} dos emails foram respondidos \\n --------------------'.format(conf_matrix[:-1, :-1].sum() / conf_matrix[:-1, :].sum()))\n",
    "print('{0:.2%} dos emails enviados como Classe 0 foram classificados corretamente'.format(conf_matrix[0, 0].sum() / conf_matrix[:, 0].sum()))\n",
    "print('{0:.2%} dos emails enviados como Classe 1 foram classificados corretamente'.format(conf_matrix[1, 1].sum() / conf_matrix[:, 1].sum()))\n",
    "print('{0:.2%} dos emails enviados como Classe 2 foram classificados corretamente'.format(conf_matrix[2, 2].sum() / conf_matrix[:, 2].sum()))\n",
    "print('{0:.2%} dos emails enviados como Classe 3 foram classificados corretamente'.format(conf_matrix[3, 3].sum() / conf_matrix[:, 3].sum()))\n",
    "print('{0:.2%} dos emails enviados como Classe 4 foram classificados corretamente'.format(conf_matrix[4, 4].sum() / conf_matrix[:, 4].sum()))\n",
    "print('{0:.2%} dos emails enviados como Classe 5 foram classificados corretamente'.format(conf_matrix[5, 5].sum() / conf_matrix[:, 5].sum()))"
   ]
  },
  {
   "cell_type": "code",
   "execution_count": null,
   "metadata": {
    "hidden": true,
    "id": "fY7luMGikBBd"
   },
   "outputs": [],
   "source": []
  }
 ],
 "metadata": {
  "accelerator": "GPU",
  "colab": {
   "collapsed_sections": [
    "7dao_gfODfzI",
    "fJRjwdx9P-bs",
    "SzvWJ6_uQDkQ",
    "yEyBDn6F0YkP",
    "Gx9rlAQ01xTB",
    "3cQQecCsVaRY",
    "EXSsFuqOXCEc",
    "kM1pvqCp6FP4",
    "hGMA2jjf4r7I",
    "vLBYS5c4qd8w",
    "dSon854V1xTK",
    "BBv1QI3rNjRr",
    "26svF7WBeb4z",
    "Y3d5Qa-X1xTM",
    "6oaoT8PB7RsM",
    "WNDNjy8WViEW",
    "OpuAf7a4O2Fb",
    "wa4O4u__O_d1",
    "v_-f9NXDNOKW",
    "ITdG7X86-Ws2",
    "4NlkUm3dkB8c"
   ],
   "name": "supervisioned.ipynb",
   "provenance": []
  },
  "interpreter": {
   "hash": "31f2aee4e71d21fbe5cf8b01ff0e069b9275f58929596ceb00d14d90e3e16cd6"
  },
  "kernelspec": {
   "display_name": "Python 3 (ipykernel)",
   "language": "python",
   "name": "python3"
  },
  "language_info": {
   "codemirror_mode": {
    "name": "ipython",
    "version": 3
   },
   "file_extension": ".py",
   "mimetype": "text/x-python",
   "name": "python",
   "nbconvert_exporter": "python",
   "pygments_lexer": "ipython3",
   "version": "3.8.10"
  }
 },
 "nbformat": 4,
 "nbformat_minor": 1
}
